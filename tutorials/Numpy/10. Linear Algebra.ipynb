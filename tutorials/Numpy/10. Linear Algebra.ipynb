{
 "cells": [
  {
   "cell_type": "code",
   "execution_count": 1,
   "metadata": {
    "ExecuteTime": {
     "end_time": "2021-10-01T15:13:18.765730Z",
     "start_time": "2021-10-01T15:13:18.753763Z"
    }
   },
   "outputs": [],
   "source": [
    "import numpy as np"
   ]
  },
  {
   "cell_type": "code",
   "execution_count": 2,
   "metadata": {
    "ExecuteTime": {
     "end_time": "2021-10-01T15:13:34.264735Z",
     "start_time": "2021-10-01T15:13:34.252768Z"
    }
   },
   "outputs": [],
   "source": [
    "arr1 = np.random.rand(5,5)\n",
    "arr2 = np.random.rand(5,5)"
   ]
  },
  {
   "cell_type": "markdown",
   "metadata": {},
   "source": [
    "### matrix multiplication"
   ]
  },
  {
   "cell_type": "code",
   "execution_count": 3,
   "metadata": {
    "ExecuteTime": {
     "end_time": "2021-09-30T12:25:36.375042Z",
     "start_time": "2021-09-30T12:25:36.346036Z"
    }
   },
   "outputs": [
    {
     "name": "stdout",
     "output_type": "stream",
     "text": [
      "[[1.1323315  1.4871555  1.37449847 0.76084655 1.43381324]\n",
      " [0.74120733 1.88369104 1.30696804 1.37404845 0.81301393]\n",
      " [0.61785424 1.5775929  1.01666317 1.2917662  0.76733341]\n",
      " [0.75206867 1.20030851 0.869281   0.87378849 1.193709  ]\n",
      " [0.92494678 2.04286839 1.54019997 1.40407787 0.8767349 ]]\n",
      "\n",
      "[[1.1323315  1.4871555  1.37449847 0.76084655 1.43381324]\n",
      " [0.74120733 1.88369104 1.30696804 1.37404845 0.81301393]\n",
      " [0.61785424 1.5775929  1.01666317 1.2917662  0.76733341]\n",
      " [0.75206867 1.20030851 0.869281   0.87378849 1.193709  ]\n",
      " [0.92494678 2.04286839 1.54019997 1.40407787 0.8767349 ]]\n",
      "\n",
      "[[1.1323315  1.4871555  1.37449847 0.76084655 1.43381324]\n",
      " [0.74120733 1.88369104 1.30696804 1.37404845 0.81301393]\n",
      " [0.61785424 1.5775929  1.01666317 1.2917662  0.76733341]\n",
      " [0.75206867 1.20030851 0.869281   0.87378849 1.193709  ]\n",
      " [0.92494678 2.04286839 1.54019997 1.40407787 0.8767349 ]]\n"
     ]
    }
   ],
   "source": [
    "print(arr1.dot(arr2))\n",
    "# or\n",
    "print()\n",
    "print(np.dot(arr1, arr2))\n",
    "# or\n",
    "print()\n",
    "print(arr1 @ arr2)"
   ]
  },
  {
   "cell_type": "markdown",
   "metadata": {},
   "source": [
    "### QR factorization "
   ]
  },
  {
   "cell_type": "code",
   "execution_count": 5,
   "metadata": {
    "ExecuteTime": {
     "end_time": "2021-09-30T12:26:03.514918Z",
     "start_time": "2021-09-30T12:26:03.497963Z"
    }
   },
   "outputs": [
    {
     "name": "stdout",
     "output_type": "stream",
     "text": [
      "[[-0.16299107  0.68625716 -0.58669582  0.34979941  0.18950832]\n",
      " [-0.55068887  0.16763092  0.6558674   0.31027815  0.37710354]\n",
      " [-0.57095308 -0.64850834 -0.45751381  0.18642062  0.09683996]\n",
      " [-0.51112775  0.23923513  0.05614426 -0.17763146 -0.8042449 ]\n",
      " [-0.2879873   0.1521659  -0.11469486 -0.84561354  0.40705242]]\n",
      "[[-1.74673898 -1.17686217 -0.99607184 -0.87120603 -1.26176352]\n",
      " [ 0.          0.89077423  0.02318318 -0.04275573  0.36526156]\n",
      " [ 0.          0.         -0.75288309 -0.58553633 -0.25977118]\n",
      " [ 0.          0.          0.          0.03961789 -0.29277405]\n",
      " [ 0.          0.          0.          0.          0.39517443]]\n"
     ]
    }
   ],
   "source": [
    "arr = np.random.rand(5,5)\n",
    "\n",
    "q, r = np.linalg.qr(arr)\n",
    "print(q)\n",
    "print(r)"
   ]
  },
  {
   "cell_type": "markdown",
   "metadata": {},
   "source": [
    "### singular value decomposition (SVD)"
   ]
  },
  {
   "cell_type": "code",
   "execution_count": 5,
   "metadata": {},
   "outputs": [
    {
     "name": "stdout",
     "output_type": "stream",
     "text": [
      "[[-0.51582413  0.05340736 -0.69571428 -0.42334918  0.26044237]\n",
      " [-0.34775725 -0.842141    0.21629222  0.15550346  0.31448335]\n",
      " [-0.58401574  0.12177925  0.51003396 -0.4015491  -0.47193125]\n",
      " [-0.19493532  0.47928268  0.41313699  0.07759931  0.74537541]\n",
      " [-0.48364882  0.20833652 -0.19591453  0.79330374 -0.23444912]]\n",
      "[2.96018519 0.93273137 0.62401273 0.40194888 0.26704925]\n",
      "[[-0.48078664 -0.39309221 -0.42944155 -0.29921415 -0.58341544]\n",
      " [ 0.48711506 -0.50981326  0.52113532  0.06743482 -0.4761091 ]\n",
      " [-0.01840113  0.30579164 -0.20481209  0.81028409 -0.45568033]\n",
      " [ 0.00896271 -0.69463434 -0.31862447  0.44454422  0.46718486]\n",
      " [-0.7287964  -0.09769114  0.63287312  0.22747212  0.08390644]]\n"
     ]
    }
   ],
   "source": [
    "arr = np.random.rand(5,5)\n",
    "\n",
    "u, s, v = np.linalg.svd(arr)\n",
    "print(u)\n",
    "print(s)\n",
    "print(v)"
   ]
  },
  {
   "cell_type": "markdown",
   "metadata": {},
   "source": [
    "### compute eigen values"
   ]
  },
  {
   "cell_type": "code",
   "execution_count": 3,
   "metadata": {
    "ExecuteTime": {
     "end_time": "2021-05-26T19:00:44.334628Z",
     "start_time": "2021-05-26T19:00:44.321664Z"
    }
   },
   "outputs": [
    {
     "name": "stdout",
     "output_type": "stream",
     "text": [
      "[ 2.75947165+0.j          0.53460399+0.j         -0.14472386+0.53197177j\n",
      " -0.14472386-0.53197177j -0.38947526+0.j        ]\n"
     ]
    }
   ],
   "source": [
    "arr = np.random.rand(5,5)\n",
    "print(np.linalg.eigvals(arr))"
   ]
  },
  {
   "cell_type": "markdown",
   "metadata": {},
   "source": [
    "### eigen value decomposition"
   ]
  },
  {
   "cell_type": "code",
   "execution_count": 7,
   "metadata": {
    "ExecuteTime": {
     "end_time": "2021-09-06T11:41:05.379944Z",
     "start_time": "2021-09-06T11:41:05.356008Z"
    }
   },
   "outputs": [
    {
     "name": "stdout",
     "output_type": "stream",
     "text": [
      "[ 2.0705397 +0.j         -0.09856237+0.39940682j -0.09856237-0.39940682j\n",
      "  0.48908525+0.j          0.28863039+0.j        ]\n",
      "[[-0.31361687+0.j          0.35620334+0.32834851j  0.35620334-0.32834851j\n",
      "   0.51233624+0.j         -0.02518616+0.j        ]\n",
      " [-0.36777171+0.j         -0.09653469+0.26202164j -0.09653469-0.26202164j\n",
      "  -0.72771843+0.j          0.55066967+0.j        ]\n",
      " [-0.62159923+0.j          0.19652303-0.30937207j  0.19652303+0.30937207j\n",
      "  -0.3036553 +0.j          0.55726531+0.j        ]\n",
      " [-0.34511238+0.j          0.01968525-0.26925958j  0.01968525+0.26925958j\n",
      "   0.29933888+0.j         -0.5831596 +0.j        ]\n",
      " [-0.51078397+0.j         -0.69290081+0.j         -0.69290081-0.j\n",
      "   0.16163899+0.j         -0.21332796+0.j        ]]\n"
     ]
    }
   ],
   "source": [
    "arr = np.random.rand(5,5)\n",
    "\n",
    "w, v = np.linalg.eig(arr)\n",
    "print(w)    # eigen values\n",
    "print(v)    # eigen vectors"
   ]
  },
  {
   "cell_type": "markdown",
   "metadata": {},
   "source": [
    "### compute the trace & determinant"
   ]
  },
  {
   "cell_type": "code",
   "execution_count": 8,
   "metadata": {
    "ExecuteTime": {
     "end_time": "2021-09-06T11:41:06.543714Z",
     "start_time": "2021-09-06T11:41:06.535734Z"
    }
   },
   "outputs": [
    {
     "name": "stdout",
     "output_type": "stream",
     "text": [
      "2.651130601170305\n"
     ]
    }
   ],
   "source": [
    "# notice this is not a function in linalg!!!\n",
    "print(np.trace(arr))    "
   ]
  },
  {
   "cell_type": "code",
   "execution_count": 6,
   "metadata": {
    "ExecuteTime": {
     "end_time": "2021-09-30T12:26:08.189189Z",
     "start_time": "2021-09-30T12:26:08.178246Z"
    }
   },
   "outputs": [
    {
     "name": "stdout",
     "output_type": "stream",
     "text": [
      "0.018340168932605955\n"
     ]
    }
   ],
   "source": [
    "print(np.linalg.det(arr))"
   ]
  },
  {
   "cell_type": "markdown",
   "metadata": {},
   "source": [
    "### calculate the inverse/psedo-inverse of a matrix"
   ]
  },
  {
   "cell_type": "code",
   "execution_count": 7,
   "metadata": {
    "ExecuteTime": {
     "end_time": "2021-09-30T12:26:16.771577Z",
     "start_time": "2021-09-30T12:26:16.754622Z"
    }
   },
   "outputs": [],
   "source": [
    "arr = np.random.rand(5,5)"
   ]
  },
  {
   "cell_type": "code",
   "execution_count": 8,
   "metadata": {
    "ExecuteTime": {
     "end_time": "2021-09-30T12:26:21.780268Z",
     "start_time": "2021-09-30T12:26:21.772780Z"
    }
   },
   "outputs": [
    {
     "name": "stdout",
     "output_type": "stream",
     "text": [
      "[[ 11.95533897   7.43444569   6.70020593 -10.40085946 -15.82347925]\n",
      " [-18.73898506 -12.29929884  -9.55474973  15.12551606  26.55816614]\n",
      " [  8.14593402   4.87018744   6.12419815  -7.2549003  -12.37027716]\n",
      " [ -1.86689274   0.80949568  -2.00748791   2.16159669   1.24758553]\n",
      " [ -5.79874743  -4.38071287  -4.06485999   6.02284908   9.34564617]]\n"
     ]
    }
   ],
   "source": [
    "# compute the inverse of a matrix\n",
    "print(np.linalg.inv(arr))"
   ]
  },
  {
   "cell_type": "code",
   "execution_count": 9,
   "metadata": {
    "ExecuteTime": {
     "end_time": "2021-09-30T12:26:39.144575Z",
     "start_time": "2021-09-30T12:26:39.119650Z"
    }
   },
   "outputs": [
    {
     "name": "stdout",
     "output_type": "stream",
     "text": [
      "[[ 11.95533897   7.43444569   6.70020593 -10.40085946 -15.82347925]\n",
      " [-18.73898506 -12.29929884  -9.55474973  15.12551606  26.55816614]\n",
      " [  8.14593402   4.87018744   6.12419815  -7.2549003  -12.37027716]\n",
      " [ -1.86689274   0.80949568  -2.00748791   2.16159669   1.24758553]\n",
      " [ -5.79874743  -4.38071287  -4.06485999   6.02284908   9.34564617]]\n"
     ]
    }
   ],
   "source": [
    "# compute the psudo-inverse of a matrix\n",
    "print(np.linalg.pinv(arr))"
   ]
  },
  {
   "cell_type": "markdown",
   "metadata": {},
   "source": [
    "### solve a linear system"
   ]
  },
  {
   "cell_type": "code",
   "execution_count": 13,
   "metadata": {},
   "outputs": [
    {
     "name": "stdout",
     "output_type": "stream",
     "text": [
      "[ 2.80616855  4.25112878 -1.06728394  1.74226111 -1.34895981]\n"
     ]
    }
   ],
   "source": [
    "# solve a linear system in closed form\n",
    "y = [1,2,3,4,5]\n",
    "print(np.linalg.solve(arr, y))"
   ]
  },
  {
   "cell_type": "code",
   "execution_count": 14,
   "metadata": {},
   "outputs": [
    {
     "name": "stdout",
     "output_type": "stream",
     "text": [
      "[ 2.80616855  4.25112878 -1.06728394  1.74226111 -1.34895981]\n",
      "[]\n",
      "5\n",
      "[2.45425469 0.89773066 0.73143991 0.57608405 0.10952437]\n"
     ]
    },
    {
     "name": "stderr",
     "output_type": "stream",
     "text": [
      "C:\\Users\\ewang\\AppData\\Local\\Continuum\\miniconda3\\lib\\site-packages\\ipykernel_launcher.py:3: FutureWarning: `rcond` parameter will change to the default of machine precision times ``max(M, N)`` where M and N are the input matrix dimensions.\n",
      "To use the future default and silence this warning we advise to pass `rcond=None`, to keep using the old, explicitly pass `rcond=-1`.\n",
      "  This is separate from the ipykernel package so we can avoid doing imports until\n"
     ]
    }
   ],
   "source": [
    "# calculate the least-squares solution of a linear system\n",
    "y = [1,2,3,4,5]\n",
    "solution, residuals, rank, singular = np.linalg.lstsq(arr, y)\n",
    "print(solution)\n",
    "print(residuals)\n",
    "print(rank)\n",
    "print(singular)"
   ]
  }
 ],
 "metadata": {
  "kernelspec": {
   "display_name": "Python 3",
   "language": "python",
   "name": "python3"
  },
  "language_info": {
   "codemirror_mode": {
    "name": "ipython",
    "version": 3
   },
   "file_extension": ".py",
   "mimetype": "text/x-python",
   "name": "python",
   "nbconvert_exporter": "python",
   "pygments_lexer": "ipython3",
   "version": "3.8.5"
  },
  "toc": {
   "base_numbering": 1,
   "nav_menu": {},
   "number_sections": true,
   "sideBar": true,
   "skip_h1_title": false,
   "title_cell": "Table of Contents",
   "title_sidebar": "Contents",
   "toc_cell": false,
   "toc_position": {},
   "toc_section_display": true,
   "toc_window_display": false
  },
  "varInspector": {
   "cols": {
    "lenName": 16,
    "lenType": 16,
    "lenVar": 40
   },
   "kernels_config": {
    "python": {
     "delete_cmd_postfix": "",
     "delete_cmd_prefix": "del ",
     "library": "var_list.py",
     "varRefreshCmd": "print(var_dic_list())"
    },
    "r": {
     "delete_cmd_postfix": ") ",
     "delete_cmd_prefix": "rm(",
     "library": "var_list.r",
     "varRefreshCmd": "cat(var_dic_list()) "
    }
   },
   "types_to_exclude": [
    "module",
    "function",
    "builtin_function_or_method",
    "instance",
    "_Feature"
   ],
   "window_display": false
  }
 },
 "nbformat": 4,
 "nbformat_minor": 2
}
