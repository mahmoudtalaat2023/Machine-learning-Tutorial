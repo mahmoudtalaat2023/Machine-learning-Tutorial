{
 "cells": [
  {
   "cell_type": "markdown",
   "metadata": {},
   "source": [
    "<h2 style='color:blue' align='center'>Small Image Classification Using Convolutional Neural Network (CNN)</h2>"
   ]
  },
  {
   "cell_type": "markdown",
   "metadata": {},
   "source": [
    "In this notebook, we will classify small images cifar10 dataset from tensorflow keras datasets. There are total 10 classes as shown below. We will use CNN for classification"
   ]
  },
  {
   "cell_type": "markdown",
   "metadata": {},
   "source": [
    "<img src=\"small_images.jpg\" />"
   ]
  },
  {
   "cell_type": "markdown",
   "metadata": {},
   "source": [
    "**Deep learning Libs:** \n",
    "\n",
    "1. Tensorflow ( Google ) \n",
    "2. Pytorch  ( Facebook ) \n",
    "3. Keras\n",
    "4. Caffe\n",
    ".....\n",
    "\n",
    "**We will be Using Tensroflow**\n",
    "\n",
    "1. Easy to integrate\n",
    "2. Could be converted to multiple formats ( tflite -to work on smartphones, tfjs )\n",
    "3. Work in the background using C++ \n",
    "4. Open source, frequently updated by Google, Customizable\n",
    "\n",
    "\n",
    "**Keras** <br>\n",
    "an interface ( enable us to write simpler code ), work as an interface: tf, pytorch, CNTK "
   ]
  },
  {
   "cell_type": "code",
   "execution_count": 1,
   "metadata": {
    "ExecuteTime": {
     "end_time": "2022-08-27T09:32:31.481974Z",
     "start_time": "2022-08-27T09:32:26.929939Z"
    }
   },
   "outputs": [],
   "source": [
    "import tensorflow as tf\n",
    "from tensorflow.keras import datasets, layers, models\n",
    "import matplotlib.pyplot as plt\n",
    "import numpy as np"
   ]
  },
  {
   "cell_type": "markdown",
   "metadata": {},
   "source": [
    "<h4 style=\"color:purple\">Load the dataset</h4>"
   ]
  },
  {
   "cell_type": "code",
   "execution_count": 2,
   "metadata": {
    "ExecuteTime": {
     "end_time": "2022-08-27T09:33:09.724650Z",
     "start_time": "2022-08-27T09:33:09.011650Z"
    }
   },
   "outputs": [
    {
     "data": {
      "text/plain": [
       "(50000, 32, 32, 3)"
      ]
     },
     "execution_count": 2,
     "metadata": {},
     "output_type": "execute_result"
    }
   ],
   "source": [
    "(X_train, y_train), (X_test,y_test) = datasets.cifar10.load_data()\n",
    "X_train.shape"
   ]
  },
  {
   "cell_type": "code",
   "execution_count": 4,
   "metadata": {
    "ExecuteTime": {
     "end_time": "2022-08-27T09:33:36.360915Z",
     "start_time": "2022-08-27T09:33:36.357914Z"
    }
   },
   "outputs": [
    {
     "data": {
      "text/plain": [
       "(10000, 32, 32, 3)"
      ]
     },
     "execution_count": 4,
     "metadata": {},
     "output_type": "execute_result"
    }
   ],
   "source": [
    "X_test.shape"
   ]
  },
  {
   "cell_type": "code",
   "execution_count": 4,
   "metadata": {
    "ExecuteTime": {
     "end_time": "2022-08-22T17:36:58.323918Z",
     "start_time": "2022-08-22T17:36:58.318894Z"
    }
   },
   "outputs": [
    {
     "data": {
      "text/plain": [
       "3072"
      ]
     },
     "execution_count": 4,
     "metadata": {},
     "output_type": "execute_result"
    }
   ],
   "source": [
    "32*32*3"
   ]
  },
  {
   "cell_type": "markdown",
   "metadata": {},
   "source": [
    "Here we see there are 50000 training images and 1000 test images"
   ]
  },
  {
   "cell_type": "code",
   "execution_count": 5,
   "metadata": {
    "ExecuteTime": {
     "end_time": "2022-08-27T09:33:55.121564Z",
     "start_time": "2022-08-27T09:33:55.118562Z"
    }
   },
   "outputs": [
    {
     "data": {
      "text/plain": [
       "(50000, 1)"
      ]
     },
     "execution_count": 5,
     "metadata": {},
     "output_type": "execute_result"
    }
   ],
   "source": [
    "y_train.shape"
   ]
  },
  {
   "cell_type": "code",
   "execution_count": 6,
   "metadata": {
    "ExecuteTime": {
     "end_time": "2022-08-27T09:33:56.340626Z",
     "start_time": "2022-08-27T09:33:56.336626Z"
    }
   },
   "outputs": [
    {
     "data": {
      "text/plain": [
       "array([[6],\n",
       "       [9],\n",
       "       [9],\n",
       "       [4],\n",
       "       [1]], dtype=uint8)"
      ]
     },
     "execution_count": 6,
     "metadata": {},
     "output_type": "execute_result"
    }
   ],
   "source": [
    "y_train[:5]"
   ]
  },
  {
   "cell_type": "markdown",
   "metadata": {},
   "source": [
    "y_train is a 2D array, for our classification having 1D array is good enough. so we will convert this to now 1D array"
   ]
  },
  {
   "cell_type": "code",
   "execution_count": 7,
   "metadata": {
    "ExecuteTime": {
     "end_time": "2022-08-27T09:33:57.231628Z",
     "start_time": "2022-08-27T09:33:57.228626Z"
    },
    "scrolled": true
   },
   "outputs": [
    {
     "data": {
      "text/plain": [
       "array([6, 9, 9, 4, 1], dtype=uint8)"
      ]
     },
     "execution_count": 7,
     "metadata": {},
     "output_type": "execute_result"
    }
   ],
   "source": [
    "y_train = y_train.reshape(-1,)\n",
    "y_train[:5]"
   ]
  },
  {
   "cell_type": "code",
   "execution_count": 8,
   "metadata": {
    "ExecuteTime": {
     "end_time": "2022-08-27T09:34:01.994689Z",
     "start_time": "2022-08-27T09:34:01.992688Z"
    }
   },
   "outputs": [],
   "source": [
    "y_test = y_test.reshape(-1,)"
   ]
  },
  {
   "cell_type": "code",
   "execution_count": 9,
   "metadata": {
    "ExecuteTime": {
     "end_time": "2022-08-27T09:34:02.324691Z",
     "start_time": "2022-08-27T09:34:02.322689Z"
    }
   },
   "outputs": [],
   "source": [
    "classes = [\"airplane\",\"automobile\",\"bird\",\"cat\",\"deer\",\"dog\",\"frog\",\"horse\",\"ship\",\"truck\"]"
   ]
  },
  {
   "cell_type": "markdown",
   "metadata": {},
   "source": [
    "Let's plot some images to see what they are "
   ]
  },
  {
   "cell_type": "code",
   "execution_count": 10,
   "metadata": {
    "ExecuteTime": {
     "end_time": "2022-08-27T09:34:05.896813Z",
     "start_time": "2022-08-27T09:34:05.893812Z"
    }
   },
   "outputs": [],
   "source": [
    "def plot_sample(X, y, index):\n",
    "    plt.figure(figsize = (15,2))\n",
    "    plt.imshow(X[index])\n",
    "    plt.xlabel(classes[y[index]])"
   ]
  },
  {
   "cell_type": "code",
   "execution_count": 11,
   "metadata": {
    "ExecuteTime": {
     "end_time": "2022-08-27T09:34:07.126812Z",
     "start_time": "2022-08-27T09:34:07.004811Z"
    },
    "scrolled": true
   },
   "outputs": [
    {
     "data": {
      "image/png": "[encoded data removed]",
      "text/plain": [
       "<Figure size 1080x144 with 1 Axes>"
      ]
     },
     "metadata": {
      "needs_background": "light"
     },
     "output_type": "display_data"
    }
   ],
   "source": [
    "plot_sample(X_train, y_train, 19)"
   ]
  },
  {
   "cell_type": "code",
   "execution_count": 12,
   "metadata": {
    "ExecuteTime": {
     "end_time": "2022-08-22T17:37:17.184944Z",
     "start_time": "2022-08-22T17:37:17.095944Z"
    }
   },
   "outputs": [
    {
     "data": {
      "image/png": "[encoded data removed]",
      "text/plain": [
       "<Figure size 1080x144 with 1 Axes>"
      ]
     },
     "metadata": {
      "needs_background": "light"
     },
     "output_type": "display_data"
    }
   ],
   "source": [
    "plot_sample(X_train, y_train, 7)"
   ]
  },
  {
   "cell_type": "markdown",
   "metadata": {},
   "source": [
    "Normalize the images to a number from 0 to 1. Image has 3 channels (R,G,B) and each value in the channel can range from 0 to 255. Hence to normalize in 0-->1 range, we need to divide it by 255"
   ]
  },
  {
   "cell_type": "markdown",
   "metadata": {},
   "source": [
    "<h4 style=\"color:purple\">Normalizing the training data</h4>"
   ]
  },
  {
   "cell_type": "code",
   "execution_count": 12,
   "metadata": {
    "ExecuteTime": {
     "end_time": "2022-08-27T09:35:08.354204Z",
     "start_time": "2022-08-27T09:35:07.896205Z"
    }
   },
   "outputs": [],
   "source": [
    "X_train = X_train / 255.0\n",
    "X_test = X_test / 255.0"
   ]
  },
  {
   "cell_type": "markdown",
   "metadata": {},
   "source": [
    "<h4 style=\"color:purple\">Build simple artificial neural network for image classification</h4>"
   ]
  },
  {
   "cell_type": "code",
   "execution_count": 13,
   "metadata": {
    "ExecuteTime": {
     "end_time": "2022-08-20T11:13:00.663402Z",
     "start_time": "2022-08-20T11:13:00.659402Z"
    }
   },
   "outputs": [
    {
     "data": {
      "text/plain": [
       "3072"
      ]
     },
     "execution_count": 13,
     "metadata": {},
     "output_type": "execute_result"
    }
   ],
   "source": [
    "32*32*3"
   ]
  },
  {
   "cell_type": "markdown",
   "metadata": {},
   "source": [
    "**Activation functions** \n",
    "\n",
    "1. sigmoid \n",
    "2. relu \n",
    "3. tanh \n",
    "4. softmax \n",
    "5. leaky relu  "
   ]
  },
  {
   "cell_type": "markdown",
   "metadata": {},
   "source": [
    "Task 1: all types of activation function\n",
    "<br> Task 2: when to use softmax ? "
   ]
  },
  {
   "cell_type": "markdown",
   "metadata": {},
   "source": [
    "Optimizer \n",
    "\n",
    "<br>\n",
    "**Loss** <br>\n",
    "called error function ( calculate error value ) \n",
    "<br>goal : loss ~= 0 \n",
    "\n",
    "<br>\n",
    "Differ from problem to another: \n",
    "<br>\n",
    "1. binary classification                            \n",
    "2. categorical  classification                                           \n",
    "3. regression                                    \n",
    "4. clustering                           "
   ]
  },
  {
   "cell_type": "code",
   "execution_count": 14,
   "metadata": {
    "ExecuteTime": {
     "end_time": "2022-08-27T09:39:43.697254Z",
     "start_time": "2022-08-27T09:38:36.916253Z"
    },
    "scrolled": true
   },
   "outputs": [
    {
     "name": "stdout",
     "output_type": "stream",
     "text": [
      "Epoch 1/10\n",
      "1563/1563 [==============================] - 7s 4ms/step - loss: 1.9091 - accuracy: 0.3126\n",
      "Epoch 2/10\n",
      "1563/1563 [==============================] - 6s 4ms/step - loss: 1.7100 - accuracy: 0.3943\n",
      "Epoch 3/10\n",
      "1563/1563 [==============================] - 6s 4ms/step - loss: 1.6187 - accuracy: 0.4280\n",
      "Epoch 4/10\n",
      "1563/1563 [==============================] - 7s 4ms/step - loss: 1.5552 - accuracy: 0.4497\n",
      "Epoch 5/10\n",
      "1563/1563 [==============================] - 6s 4ms/step - loss: 1.5079 - accuracy: 0.4650\n",
      "Epoch 6/10\n",
      "1563/1563 [==============================] - 6s 4ms/step - loss: 1.4673 - accuracy: 0.4815\n",
      "Epoch 7/10\n",
      "1563/1563 [==============================] - 7s 4ms/step - loss: 1.4301 - accuracy: 0.4945\n",
      "Epoch 8/10\n",
      "1563/1563 [==============================] - 7s 4ms/step - loss: 1.3976 - accuracy: 0.5063\n",
      "Epoch 9/10\n",
      "1563/1563 [==============================] - 7s 4ms/step - loss: 1.3702 - accuracy: 0.5175\n",
      "Epoch 10/10\n",
      "1563/1563 [==============================] - 7s 4ms/step - loss: 1.3449 - accuracy: 0.5244\n"
     ]
    },
    {
     "data": {
      "text/plain": [
       "<tensorflow.python.keras.callbacks.History at 0x279068d1340>"
      ]
     },
     "execution_count": 14,
     "metadata": {},
     "output_type": "execute_result"
    }
   ],
   "source": [
    "ann = models.Sequential([\n",
    "        layers.Flatten(input_shape=(32,32,3)),\n",
    "        layers.Dense(500, activation='relu'),\n",
    "        layers.Dense(400, activation='relu'),\n",
    "        layers.Dense(10, activation='sigmoid')    \n",
    "    ])\n",
    "\n",
    "ann.compile(optimizer='SGD',\n",
    "              loss='sparse_categorical_crossentropy',\n",
    "              metrics=['accuracy'])\n",
    "\n",
    "ann.fit(X_train, y_train, epochs=10)"
   ]
  },
  {
   "cell_type": "markdown",
   "metadata": {},
   "source": [
    "**You can see that at the end of 5 epochs, accuracy is at around 48.48%**"
   ]
  },
  {
   "cell_type": "code",
   "execution_count": 15,
   "metadata": {
    "ExecuteTime": {
     "end_time": "2022-08-27T09:40:17.897022Z",
     "start_time": "2022-08-27T09:40:17.107021Z"
    }
   },
   "outputs": [
    {
     "name": "stdout",
     "output_type": "stream",
     "text": [
      "313/313 [==============================] - 1s 2ms/step - loss: 1.4734 - accuracy: 0.4759\n"
     ]
    },
    {
     "data": {
      "text/plain": [
       "[1.4733848571777344, 0.47589999437332153]"
      ]
     },
     "execution_count": 15,
     "metadata": {},
     "output_type": "execute_result"
    }
   ],
   "source": [
    "ann.evaluate(X_test, y_test)"
   ]
  },
  {
   "cell_type": "code",
   "execution_count": 16,
   "metadata": {
    "ExecuteTime": {
     "end_time": "2022-08-27T09:40:36.307438Z",
     "start_time": "2022-08-27T09:40:34.140442Z"
    }
   },
   "outputs": [
    {
     "name": "stdout",
     "output_type": "stream",
     "text": [
      "Classification Report: \n",
      "               precision    recall  f1-score   support\n",
      "\n",
      "           0       0.45      0.67      0.54      1000\n",
      "           1       0.52      0.63      0.57      1000\n",
      "           2       0.37      0.41      0.39      1000\n",
      "           3       0.40      0.12      0.18      1000\n",
      "           4       0.53      0.29      0.37      1000\n",
      "           5       0.39      0.44      0.41      1000\n",
      "           6       0.54      0.57      0.56      1000\n",
      "           7       0.62      0.49      0.55      1000\n",
      "           8       0.74      0.42      0.53      1000\n",
      "           9       0.40      0.71      0.51      1000\n",
      "\n",
      "    accuracy                           0.48     10000\n",
      "   macro avg       0.50      0.48      0.46     10000\n",
      "weighted avg       0.50      0.48      0.46     10000\n",
      "\n"
     ]
    }
   ],
   "source": [
    "from sklearn.metrics import confusion_matrix , classification_report\n",
    "import numpy as np\n",
    "y_pred = ann.predict(X_test)\n",
    "y_pred_classes = [np.argmax(element) for element in y_pred]\n",
    "\n",
    "print(\"Classification Report: \\n\", classification_report(y_test, y_pred_classes))"
   ]
  },
  {
   "cell_type": "markdown",
   "metadata": {},
   "source": [
    "<h4 style=\"color:purple\">Now let us build a convolutional neural network to train our images</h4>"
   ]
  },
  {
   "cell_type": "code",
   "execution_count": 20,
   "metadata": {
    "ExecuteTime": {
     "end_time": "2022-05-10T14:41:58.870892Z",
     "start_time": "2022-05-10T14:41:58.865893Z"
    }
   },
   "outputs": [],
   "source": [
    "filtersize =20"
   ]
  },
  {
   "cell_type": "code",
   "execution_count": 18,
   "metadata": {
    "ExecuteTime": {
     "end_time": "2022-08-27T09:45:50.877869Z",
     "start_time": "2022-08-27T09:45:50.838870Z"
    }
   },
   "outputs": [],
   "source": [
    "# convolution neural network \n",
    "cnn = models.Sequential([\n",
    "    layers.Conv2D(filters=64, kernel_size=(3, 3), activation='relu', input_shape=(32, 32, 3)),\n",
    "    layers.MaxPooling2D((2, 2)),\n",
    "    \n",
    "    layers.Conv2D(filters=64, kernel_size=(3, 3), activation='relu'),\n",
    "    layers.MaxPooling2D((2, 2)),\n",
    "    \n",
    "    layers.Flatten(),\n",
    "    layers.Dense(64, activation='relu'),\n",
    "    layers.Dense(10, activation='sigmoid')\n",
    "])"
   ]
  },
  {
   "cell_type": "code",
   "execution_count": 20,
   "metadata": {
    "ExecuteTime": {
     "end_time": "2022-08-27T09:47:03.885403Z",
     "start_time": "2022-08-27T09:47:03.876405Z"
    }
   },
   "outputs": [],
   "source": [
    "cnn.compile(optimizer='adam',\n",
    "              loss='sparse_categorical_crossentropy',\n",
    "              metrics=['accuracy'])"
   ]
  },
  {
   "cell_type": "code",
   "execution_count": 22,
   "metadata": {
    "ExecuteTime": {
     "end_time": "2022-08-27T09:55:14.475117Z",
     "start_time": "2022-08-27T09:50:08.034120Z"
    },
    "scrolled": false
   },
   "outputs": [
    {
     "name": "stdout",
     "output_type": "stream",
     "text": [
      "Epoch 1/10\n",
      "1563/1563 [==============================] - 30s 19ms/step - loss: 0.8061 - accuracy: 0.7203\n",
      "Epoch 2/10\n",
      "1563/1563 [==============================] - 30s 19ms/step - loss: 0.7634 - accuracy: 0.7351\n",
      "Epoch 3/10\n",
      "1563/1563 [==============================] - 31s 20ms/step - loss: 0.7261 - accuracy: 0.7479\n",
      "Epoch 4/10\n",
      "1563/1563 [==============================] - 31s 20ms/step - loss: 0.6881 - accuracy: 0.76090s - loss: 0\n",
      "Epoch 5/10\n",
      "1563/1563 [==============================] - 31s 20ms/step - loss: 0.6548 - accuracy: 0.7730\n",
      "Epoch 6/10\n",
      "1563/1563 [==============================] - 32s 20ms/step - loss: 0.6275 - accuracy: 0.7814\n",
      "Epoch 7/10\n",
      "1563/1563 [==============================] - 32s 20ms/step - loss: 0.5965 - accuracy: 0.7897\n",
      "Epoch 8/10\n",
      "1563/1563 [==============================] - 29s 19ms/step - loss: 0.5697 - accuracy: 0.8004\n",
      "Epoch 9/10\n",
      "1563/1563 [==============================] - 30s 19ms/step - loss: 0.5457 - accuracy: 0.8072\n",
      "Epoch 10/10\n",
      "1563/1563 [==============================] - 31s 20ms/step - loss: 0.5279 - accuracy: 0.8136\n"
     ]
    },
    {
     "data": {
      "text/plain": [
       "<tensorflow.python.keras.callbacks.History at 0x2790b4f7e50>"
      ]
     },
     "execution_count": 22,
     "metadata": {},
     "output_type": "execute_result"
    }
   ],
   "source": [
    "cnn.fit(X_train, y_train, epochs=10)"
   ]
  },
  {
   "cell_type": "markdown",
   "metadata": {},
   "source": [
    "**With CNN, at the end 5 epochs, accuracy was at around 70.28% which is a significant improvement over ANN. CNN's are best for image classification and gives superb accuracy. Also computation is much less compared to simple ANN as maxpooling reduces the image dimensions while still preserving the features**"
   ]
  },
  {
   "cell_type": "code",
   "execution_count": 23,
   "metadata": {
    "ExecuteTime": {
     "end_time": "2022-08-27T09:55:26.473022Z",
     "start_time": "2022-08-27T09:55:24.561021Z"
    },
    "scrolled": true
   },
   "outputs": [
    {
     "name": "stdout",
     "output_type": "stream",
     "text": [
      "313/313 [==============================] - 2s 5ms/step - loss: 0.9926 - accuracy: 0.6959\n"
     ]
    },
    {
     "data": {
      "text/plain": [
       "[0.9926320314407349, 0.695900022983551]"
      ]
     },
     "execution_count": 23,
     "metadata": {},
     "output_type": "execute_result"
    }
   ],
   "source": [
    "cnn.evaluate(X_test,y_test)"
   ]
  },
  {
   "cell_type": "code",
   "execution_count": 17,
   "metadata": {
    "ExecuteTime": {
     "end_time": "2022-08-05T16:41:32.496540Z",
     "start_time": "2022-08-05T16:41:31.059539Z"
    }
   },
   "outputs": [
    {
     "data": {
      "text/plain": [
       "array([[2.07336114e-07, 2.34376643e-07, 3.74015804e-06, 1.18819773e-02,\n",
       "        1.21963021e-05, 4.40716743e-04, 5.82605600e-04, 9.92430174e-08,\n",
       "        2.79992819e-04, 2.50296495e-07],\n",
       "       [1.33988261e-03, 1.79293752e-03, 5.97111480e-08, 4.99968422e-08,\n",
       "        6.52275123e-10, 9.93571225e-10, 7.00066782e-10, 1.83712295e-10,\n",
       "        2.43862271e-02, 5.02228737e-04],\n",
       "       [8.59379768e-04, 2.07155943e-04, 1.70819931e-05, 3.04087062e-05,\n",
       "        1.15899059e-06, 1.13470981e-06, 3.53342239e-06, 1.45151796e-06,\n",
       "        3.14314067e-02, 1.67947073e-05],\n",
       "       [1.93960667e-02, 6.20275736e-04, 6.25984467e-05, 4.17550691e-05,\n",
       "        9.58890887e-05, 4.29572310e-07, 3.64030639e-05, 7.87483259e-06,\n",
       "        4.11480665e-04, 2.05989236e-05],\n",
       "       [2.44283118e-08, 2.43518798e-06, 1.14578009e-03, 1.09854341e-03,\n",
       "        1.38368011e-02, 1.07421925e-04, 2.75087446e-01, 3.63854968e-09,\n",
       "        3.74746094e-07, 2.70530753e-09]], dtype=float32)"
      ]
     },
     "execution_count": 17,
     "metadata": {},
     "output_type": "execute_result"
    }
   ],
   "source": [
    "y_pred = cnn.predict(X_test)\n",
    "y_pred[:5]"
   ]
  },
  {
   "cell_type": "code",
   "execution_count": 24,
   "metadata": {
    "ExecuteTime": {
     "end_time": "2022-08-05T16:42:55.480539Z",
     "start_time": "2022-08-05T16:42:55.461538Z"
    }
   },
   "outputs": [
    {
     "data": {
      "text/plain": [
       "[3, 8, 8, 0, 6]"
      ]
     },
     "execution_count": 24,
     "metadata": {},
     "output_type": "execute_result"
    }
   ],
   "source": [
    "y_classes = [np.argmax(element) for element in y_pred]\n",
    "y_classes[:5]"
   ]
  },
  {
   "cell_type": "code",
   "execution_count": 25,
   "metadata": {
    "ExecuteTime": {
     "end_time": "2022-08-05T16:42:55.720542Z",
     "start_time": "2022-08-05T16:42:55.717539Z"
    }
   },
   "outputs": [
    {
     "data": {
      "text/plain": [
       "array([[3],\n",
       "       [8],\n",
       "       [8],\n",
       "       [0],\n",
       "       [6]], dtype=uint8)"
      ]
     },
     "execution_count": 25,
     "metadata": {},
     "output_type": "execute_result"
    }
   ],
   "source": [
    "y_test[:5]"
   ]
  },
  {
   "cell_type": "code",
   "execution_count": 29,
   "metadata": {
    "ExecuteTime": {
     "end_time": "2022-08-05T16:43:10.058539Z",
     "start_time": "2022-08-05T16:43:09.961538Z"
    }
   },
   "outputs": [
    {
     "ename": "TypeError",
     "evalue": "only integer scalar arrays can be converted to a scalar index",
     "output_type": "error",
     "traceback": [
      "\u001b[1;31m---------------------------------------------------------------------------\u001b[0m",
      "\u001b[1;31mTypeError\u001b[0m                                 Traceback (most recent call last)",
      "\u001b[1;32m<ipython-input-29-25b39c82e0d1>\u001b[0m in \u001b[0;36m<module>\u001b[1;34m\u001b[0m\n\u001b[1;32m----> 1\u001b[1;33m \u001b[0mplot_sample\u001b[0m\u001b[1;33m(\u001b[0m\u001b[0mX_test\u001b[0m\u001b[1;33m,\u001b[0m \u001b[0my_test\u001b[0m\u001b[1;33m,\u001b[0m\u001b[1;36m3\u001b[0m\u001b[1;33m)\u001b[0m\u001b[1;33m\u001b[0m\u001b[1;33m\u001b[0m\u001b[0m\n\u001b[0m",
      "\u001b[1;32m<ipython-input-8-73f4cf12957f>\u001b[0m in \u001b[0;36mplot_sample\u001b[1;34m(X, y, index)\u001b[0m\n\u001b[0;32m      2\u001b[0m     \u001b[0mplt\u001b[0m\u001b[1;33m.\u001b[0m\u001b[0mfigure\u001b[0m\u001b[1;33m(\u001b[0m\u001b[0mfigsize\u001b[0m \u001b[1;33m=\u001b[0m \u001b[1;33m(\u001b[0m\u001b[1;36m15\u001b[0m\u001b[1;33m,\u001b[0m\u001b[1;36m2\u001b[0m\u001b[1;33m)\u001b[0m\u001b[1;33m)\u001b[0m\u001b[1;33m\u001b[0m\u001b[1;33m\u001b[0m\u001b[0m\n\u001b[0;32m      3\u001b[0m     \u001b[0mplt\u001b[0m\u001b[1;33m.\u001b[0m\u001b[0mimshow\u001b[0m\u001b[1;33m(\u001b[0m\u001b[0mX\u001b[0m\u001b[1;33m[\u001b[0m\u001b[0mindex\u001b[0m\u001b[1;33m]\u001b[0m\u001b[1;33m)\u001b[0m\u001b[1;33m\u001b[0m\u001b[1;33m\u001b[0m\u001b[0m\n\u001b[1;32m----> 4\u001b[1;33m     \u001b[0mplt\u001b[0m\u001b[1;33m.\u001b[0m\u001b[0mxlabel\u001b[0m\u001b[1;33m(\u001b[0m\u001b[0mclasses\u001b[0m\u001b[1;33m[\u001b[0m\u001b[0my\u001b[0m\u001b[1;33m[\u001b[0m\u001b[0mindex\u001b[0m\u001b[1;33m]\u001b[0m\u001b[1;33m]\u001b[0m\u001b[1;33m)\u001b[0m\u001b[1;33m\u001b[0m\u001b[1;33m\u001b[0m\u001b[0m\n\u001b[0m",
      "\u001b[1;31mTypeError\u001b[0m: only integer scalar arrays can be converted to a scalar index"
     ]
    },
    {
     "data": {
      "image/png": "[encoded data removed]",
      "text/plain": [
       "<Figure size 1080x144 with 1 Axes>"
      ]
     },
     "metadata": {
      "needs_background": "light"
     },
     "output_type": "display_data"
    }
   ],
   "source": [
    "plot_sample(X_test, y_test,3)"
   ]
  },
  {
   "cell_type": "code",
   "execution_count": 27,
   "metadata": {
    "ExecuteTime": {
     "end_time": "2022-08-05T16:42:58.811538Z",
     "start_time": "2022-08-05T16:42:58.806540Z"
    }
   },
   "outputs": [
    {
     "data": {
      "text/plain": [
       "'airplane'"
      ]
     },
     "execution_count": 27,
     "metadata": {},
     "output_type": "execute_result"
    }
   ],
   "source": [
    "classes[y_classes[3]]"
   ]
  },
  {
   "cell_type": "code",
   "execution_count": 28,
   "metadata": {
    "ExecuteTime": {
     "end_time": "2022-08-05T16:42:59.572539Z",
     "start_time": "2022-08-05T16:42:59.568538Z"
    }
   },
   "outputs": [
    {
     "data": {
      "text/plain": [
       "'airplane'"
      ]
     },
     "execution_count": 28,
     "metadata": {},
     "output_type": "execute_result"
    }
   ],
   "source": [
    "classes[y_classes[3]]"
   ]
  },
  {
   "cell_type": "markdown",
   "metadata": {},
   "source": [
    "<h3 style='color:purple'>Exercise</h3>"
   ]
  },
  {
   "cell_type": "markdown",
   "metadata": {},
   "source": [
    "Use CNN to do handwritten digits classification using MNIST dataset. You can use this notebook as a reference:\n",
    "https://github.com/codebasics/py/blob/master/DeepLearningML/1_digits_recognition/digits_recognition_neural_network.ipynb\n",
    "\n",
    "Above we used ANN for digits classification. You need to modify this code to use CNN instead. Check how accuracy improves fast with CNN and figure out how CNN can be a better choice for doing image classification compared to ANN. Once you have worked on this problem on your own, you can check my solution by clicking on this link: [Solution](https://github.com/codebasics/py/blob/master/DeepLearningML/16_cnn_cifar10_small_image_classification/cnn_mnist_exercise_solution.ipynb)"
   ]
  }
 ],
 "metadata": {
  "kernelspec": {
   "display_name": "Python 3",
   "language": "python",
   "name": "python3"
  },
  "language_info": {
   "codemirror_mode": {
    "name": "ipython",
    "version": 3
   },
   "file_extension": ".py",
   "mimetype": "text/x-python",
   "name": "python",
   "nbconvert_exporter": "python",
   "pygments_lexer": "ipython3",
   "version": "3.8.5"
  },
  "toc": {
   "base_numbering": 1,
   "nav_menu": {},
   "number_sections": true,
   "sideBar": true,
   "skip_h1_title": false,
   "title_cell": "Table of Contents",
   "title_sidebar": "Contents",
   "toc_cell": false,
   "toc_position": {},
   "toc_section_display": true,
   "toc_window_display": false
  },
  "varInspector": {
   "cols": {
    "lenName": 16,
    "lenType": 16,
    "lenVar": 40
   },
   "kernels_config": {
    "python": {
     "delete_cmd_postfix": "",
     "delete_cmd_prefix": "del ",
     "library": "var_list.py",
     "varRefreshCmd": "print(var_dic_list())"
    },
    "r": {
     "delete_cmd_postfix": ") ",
     "delete_cmd_prefix": "rm(",
     "library": "var_list.r",
     "varRefreshCmd": "cat(var_dic_list()) "
    }
   },
   "types_to_exclude": [
    "module",
    "function",
    "builtin_function_or_method",
    "instance",
    "_Feature"
   ],
   "window_display": false
  }
 },
 "nbformat": 4,
 "nbformat_minor": 4
}
