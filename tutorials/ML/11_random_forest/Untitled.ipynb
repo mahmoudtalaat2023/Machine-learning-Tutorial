{
 "cells": [
  {
   "cell_type": "code",
   "execution_count": 4,
   "id": "ac97faa0",
   "metadata": {
    "ExecuteTime": {
     "end_time": "2022-04-05T13:46:34.546018Z",
     "start_time": "2022-04-05T13:46:34.529018Z"
    }
   },
   "outputs": [],
   "source": [
    "import pandas as pd\n",
    "from sklearn.datasets import load_iris\n",
    "digits = load_iris()"
   ]
  },
  {
   "cell_type": "code",
   "execution_count": 29,
   "id": "b9c7a14c",
   "metadata": {
    "ExecuteTime": {
     "end_time": "2022-04-05T14:11:03.252070Z",
     "start_time": "2022-04-05T14:11:03.230028Z"
    }
   },
   "outputs": [
    {
     "data": {
      "text/html": [
       "<div>\n",
       "<style scoped>\n",
       "    .dataframe tbody tr th:only-of-type {\n",
       "        vertical-align: middle;\n",
       "    }\n",
       "\n",
       "    .dataframe tbody tr th {\n",
       "        vertical-align: top;\n",
       "    }\n",
       "\n",
       "    .dataframe thead th {\n",
       "        text-align: right;\n",
       "    }\n",
       "</style>\n",
       "<table border=\"1\" class=\"dataframe\">\n",
       "  <thead>\n",
       "    <tr style=\"text-align: right;\">\n",
       "      <th></th>\n",
       "      <th>0</th>\n",
       "      <th>1</th>\n",
       "      <th>2</th>\n",
       "      <th>3</th>\n",
       "      <th>4</th>\n",
       "    </tr>\n",
       "  </thead>\n",
       "  <tbody>\n",
       "    <tr>\n",
       "      <th>0</th>\n",
       "      <td>0.803773</td>\n",
       "      <td>0.551609</td>\n",
       "      <td>0.220644</td>\n",
       "      <td>0.031521</td>\n",
       "      <td>0.000000</td>\n",
       "    </tr>\n",
       "    <tr>\n",
       "      <th>1</th>\n",
       "      <td>0.828133</td>\n",
       "      <td>0.507020</td>\n",
       "      <td>0.236609</td>\n",
       "      <td>0.033801</td>\n",
       "      <td>0.000000</td>\n",
       "    </tr>\n",
       "    <tr>\n",
       "      <th>2</th>\n",
       "      <td>0.805333</td>\n",
       "      <td>0.548312</td>\n",
       "      <td>0.222752</td>\n",
       "      <td>0.034269</td>\n",
       "      <td>0.000000</td>\n",
       "    </tr>\n",
       "    <tr>\n",
       "      <th>3</th>\n",
       "      <td>0.800030</td>\n",
       "      <td>0.539151</td>\n",
       "      <td>0.260879</td>\n",
       "      <td>0.034784</td>\n",
       "      <td>0.000000</td>\n",
       "    </tr>\n",
       "    <tr>\n",
       "      <th>4</th>\n",
       "      <td>0.790965</td>\n",
       "      <td>0.569495</td>\n",
       "      <td>0.221470</td>\n",
       "      <td>0.031639</td>\n",
       "      <td>0.000000</td>\n",
       "    </tr>\n",
       "    <tr>\n",
       "      <th>...</th>\n",
       "      <td>...</td>\n",
       "      <td>...</td>\n",
       "      <td>...</td>\n",
       "      <td>...</td>\n",
       "      <td>...</td>\n",
       "    </tr>\n",
       "    <tr>\n",
       "      <th>145</th>\n",
       "      <td>0.705380</td>\n",
       "      <td>0.315842</td>\n",
       "      <td>0.547459</td>\n",
       "      <td>0.242146</td>\n",
       "      <td>0.210561</td>\n",
       "    </tr>\n",
       "    <tr>\n",
       "      <th>146</th>\n",
       "      <td>0.710833</td>\n",
       "      <td>0.282077</td>\n",
       "      <td>0.564153</td>\n",
       "      <td>0.214378</td>\n",
       "      <td>0.225661</td>\n",
       "    </tr>\n",
       "    <tr>\n",
       "      <th>147</th>\n",
       "      <td>0.699734</td>\n",
       "      <td>0.322954</td>\n",
       "      <td>0.559787</td>\n",
       "      <td>0.215303</td>\n",
       "      <td>0.215303</td>\n",
       "    </tr>\n",
       "    <tr>\n",
       "      <th>148</th>\n",
       "      <td>0.659239</td>\n",
       "      <td>0.361518</td>\n",
       "      <td>0.574176</td>\n",
       "      <td>0.244556</td>\n",
       "      <td>0.212658</td>\n",
       "    </tr>\n",
       "    <tr>\n",
       "      <th>149</th>\n",
       "      <td>0.672106</td>\n",
       "      <td>0.341749</td>\n",
       "      <td>0.580973</td>\n",
       "      <td>0.205049</td>\n",
       "      <td>0.227832</td>\n",
       "    </tr>\n",
       "  </tbody>\n",
       "</table>\n",
       "<p>150 rows × 5 columns</p>\n",
       "</div>"
      ],
      "text/plain": [
       "            0         1         2         3         4\n",
       "0    0.803773  0.551609  0.220644  0.031521  0.000000\n",
       "1    0.828133  0.507020  0.236609  0.033801  0.000000\n",
       "2    0.805333  0.548312  0.222752  0.034269  0.000000\n",
       "3    0.800030  0.539151  0.260879  0.034784  0.000000\n",
       "4    0.790965  0.569495  0.221470  0.031639  0.000000\n",
       "..        ...       ...       ...       ...       ...\n",
       "145  0.705380  0.315842  0.547459  0.242146  0.210561\n",
       "146  0.710833  0.282077  0.564153  0.214378  0.225661\n",
       "147  0.699734  0.322954  0.559787  0.215303  0.215303\n",
       "148  0.659239  0.361518  0.574176  0.244556  0.212658\n",
       "149  0.672106  0.341749  0.580973  0.205049  0.227832\n",
       "\n",
       "[150 rows x 5 columns]"
      ]
     },
     "execution_count": 29,
     "metadata": {},
     "output_type": "execute_result"
    }
   ],
   "source": [
    "#df = pd.DataFrame(digits.data)\n",
    "from sklearn import preprocessing\n",
    "import numpy as np\n",
    "x_array = np.array(df.to_numpy())\n",
    "normalized_arr = preprocessing.normalize(x_array)\n",
    "#print(normalized_arr)\n",
    "df = pd.DataFrame(normalized_arr)\n",
    "df"
   ]
  },
  {
   "cell_type": "code",
   "execution_count": 30,
   "id": "2960233f",
   "metadata": {
    "ExecuteTime": {
     "end_time": "2022-04-05T14:11:11.745917Z",
     "start_time": "2022-04-05T14:11:11.736919Z"
    }
   },
   "outputs": [],
   "source": [
    "df['target'] = digits.target # target"
   ]
  },
  {
   "cell_type": "code",
   "execution_count": 31,
   "id": "0e5e1820",
   "metadata": {
    "ExecuteTime": {
     "end_time": "2022-04-05T14:11:12.446359Z",
     "start_time": "2022-04-05T14:11:12.442357Z"
    }
   },
   "outputs": [],
   "source": [
    "X = df.drop('target',axis='columns')\n",
    "y = df.target"
   ]
  },
  {
   "cell_type": "code",
   "execution_count": 32,
   "id": "dfd0ad5a",
   "metadata": {
    "ExecuteTime": {
     "end_time": "2022-04-05T14:11:13.275221Z",
     "start_time": "2022-04-05T14:11:13.259218Z"
    }
   },
   "outputs": [],
   "source": [
    "from sklearn.model_selection import train_test_split\n",
    "X_train, X_test, y_train, y_test = train_test_split(X,y,test_size=0.2)"
   ]
  },
  {
   "cell_type": "code",
   "execution_count": 36,
   "id": "e99b92e9",
   "metadata": {
    "ExecuteTime": {
     "end_time": "2022-04-05T14:11:43.961722Z",
     "start_time": "2022-04-05T14:11:43.932723Z"
    }
   },
   "outputs": [
    {
     "data": {
      "text/plain": [
       "RandomForestClassifier(n_estimators=10)"
      ]
     },
     "execution_count": 36,
     "metadata": {},
     "output_type": "execute_result"
    }
   ],
   "source": [
    "from sklearn.ensemble import RandomForestClassifier\n",
    "model = RandomForestClassifier(n_estimators=10) # the number of decision trees \n",
    "model.fit(X_train, y_train)"
   ]
  },
  {
   "cell_type": "code",
   "execution_count": 37,
   "id": "b6e0f304",
   "metadata": {
    "ExecuteTime": {
     "end_time": "2022-04-05T14:11:45.663281Z",
     "start_time": "2022-04-05T14:11:45.644280Z"
    }
   },
   "outputs": [
    {
     "data": {
      "text/plain": [
       "1.0"
      ]
     },
     "execution_count": 37,
     "metadata": {},
     "output_type": "execute_result"
    }
   ],
   "source": [
    "model.score(X_train, y_train)"
   ]
  },
  {
   "cell_type": "code",
   "execution_count": 38,
   "id": "04cc33fd",
   "metadata": {
    "ExecuteTime": {
     "end_time": "2022-04-05T14:11:46.646347Z",
     "start_time": "2022-04-05T14:11:46.626346Z"
    }
   },
   "outputs": [
    {
     "data": {
      "text/plain": [
       "1.0"
      ]
     },
     "execution_count": 38,
     "metadata": {},
     "output_type": "execute_result"
    }
   ],
   "source": [
    "model.score(X_test, y_test)"
   ]
  },
  {
   "cell_type": "code",
   "execution_count": 17,
   "id": "62f467f2",
   "metadata": {
    "ExecuteTime": {
     "end_time": "2022-04-05T13:56:35.220413Z",
     "start_time": "2022-04-05T13:56:35.206417Z"
    }
   },
   "outputs": [
    {
     "data": {
      "text/plain": [
       "array([2, 2, 0, 0, 1, 2, 2, 1, 1, 0, 0, 2, 2, 1, 0, 0, 2, 1, 1, 1, 1, 0,\n",
       "       2, 2, 0, 1, 0, 2, 1, 2])"
      ]
     },
     "execution_count": 17,
     "metadata": {},
     "output_type": "execute_result"
    }
   ],
   "source": [
    "y_predicted = model.predict(X_test)\n",
    "y_predicted"
   ]
  },
  {
   "cell_type": "code",
   "execution_count": 39,
   "id": "32052d1d",
   "metadata": {
    "ExecuteTime": {
     "end_time": "2022-04-05T14:12:17.290566Z",
     "start_time": "2022-04-05T14:12:17.275535Z"
    }
   },
   "outputs": [
    {
     "data": {
      "text/plain": [
       "['Radwan100']"
      ]
     },
     "execution_count": 39,
     "metadata": {},
     "output_type": "execute_result"
    }
   ],
   "source": [
    "import joblib\n",
    "joblib.dump(model, \"Radwan100\")"
   ]
  },
  {
   "cell_type": "code",
   "execution_count": null,
   "id": "135d411b",
   "metadata": {},
   "outputs": [],
   "source": []
  }
 ],
 "metadata": {
  "kernelspec": {
   "display_name": "Python 3",
   "language": "python",
   "name": "python3"
  },
  "language_info": {
   "codemirror_mode": {
    "name": "ipython",
    "version": 3
   },
   "file_extension": ".py",
   "mimetype": "text/x-python",
   "name": "python",
   "nbconvert_exporter": "python",
   "pygments_lexer": "ipython3",
   "version": "3.8.5"
  },
  "toc": {
   "base_numbering": 1,
   "nav_menu": {},
   "number_sections": true,
   "sideBar": true,
   "skip_h1_title": false,
   "title_cell": "Table of Contents",
   "title_sidebar": "Contents",
   "toc_cell": false,
   "toc_position": {},
   "toc_section_display": true,
   "toc_window_display": false
  },
  "varInspector": {
   "cols": {
    "lenName": 16,
    "lenType": 16,
    "lenVar": 40
   },
   "kernels_config": {
    "python": {
     "delete_cmd_postfix": "",
     "delete_cmd_prefix": "del ",
     "library": "var_list.py",
     "varRefreshCmd": "print(var_dic_list())"
    },
    "r": {
     "delete_cmd_postfix": ") ",
     "delete_cmd_prefix": "rm(",
     "library": "var_list.r",
     "varRefreshCmd": "cat(var_dic_list()) "
    }
   },
   "types_to_exclude": [
    "module",
    "function",
    "builtin_function_or_method",
    "instance",
    "_Feature"
   ],
   "window_display": false
  }
 },
 "nbformat": 4,
 "nbformat_minor": 5
}
