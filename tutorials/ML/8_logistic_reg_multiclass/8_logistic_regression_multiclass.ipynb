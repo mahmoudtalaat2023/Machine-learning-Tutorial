{
 "cells": [
  {
   "cell_type": "markdown",
   "metadata": {},
   "source": [
    "<h2 style='color:blue' align=\"center\">Logistic Regression: Multiclass Classification</h2>"
   ]
  },
  {
   "cell_type": "markdown",
   "metadata": {},
   "source": [
    "##### Binary classfication ( yes / no - 0  / 1 )          \n",
    "\n",
    "##### Categorical classfication"
   ]
  },
  {
   "cell_type": "markdown",
   "metadata": {},
   "source": [
    "In this tutorial we will see how to use logistic regression for multiclass classification. "
   ]
  },
  {
   "cell_type": "code",
   "execution_count": 1,
   "metadata": {
    "ExecuteTime": {
     "end_time": "2022-08-01T17:07:34.539739Z",
     "start_time": "2022-08-01T17:07:32.984713Z"
    }
   },
   "outputs": [],
   "source": [
    "from sklearn.datasets import load_digits\n",
    "import matplotlib.pyplot as plt\n",
    "digits = load_digits()\n",
    "import warnings\n",
    "#warnings.filterwarnings(\"ignore\")"
   ]
  },
  {
   "cell_type": "code",
   "execution_count": 3,
   "metadata": {
    "ExecuteTime": {
     "end_time": "2022-08-01T17:08:11.892726Z",
     "start_time": "2022-08-01T17:08:11.886726Z"
    }
   },
   "outputs": [
    {
     "data": {
      "text/plain": [
       "array([[ 0.,  0.,  5., ...,  0.,  0.,  0.],\n",
       "       [ 0.,  0.,  0., ..., 10.,  0.,  0.],\n",
       "       [ 0.,  0.,  0., ..., 16.,  9.,  0.],\n",
       "       ...,\n",
       "       [ 0.,  0.,  1., ...,  6.,  0.,  0.],\n",
       "       [ 0.,  0.,  2., ..., 12.,  0.,  0.],\n",
       "       [ 0.,  0., 10., ..., 12.,  1.,  0.]])"
      ]
     },
     "execution_count": 3,
     "metadata": {},
     "output_type": "execute_result"
    }
   ],
   "source": [
    "digits.data"
   ]
  },
  {
   "cell_type": "code",
   "execution_count": 4,
   "metadata": {
    "ExecuteTime": {
     "end_time": "2022-08-01T17:08:16.189731Z",
     "start_time": "2022-08-01T17:08:16.184728Z"
    }
   },
   "outputs": [
    {
     "data": {
      "text/plain": [
       "array([ 0.,  0.,  5., 13.,  9.,  1.,  0.,  0.,  0.,  0., 13., 15., 10.,\n",
       "       15.,  5.,  0.,  0.,  3., 15.,  2.,  0., 11.,  8.,  0.,  0.,  4.,\n",
       "       12.,  0.,  0.,  8.,  8.,  0.,  0.,  5.,  8.,  0.,  0.,  9.,  8.,\n",
       "        0.,  0.,  4., 11.,  0.,  1., 12.,  7.,  0.,  0.,  2., 14.,  5.,\n",
       "       10., 12.,  0.,  0.,  0.,  0.,  6., 13., 10.,  0.,  0.,  0.])"
      ]
     },
     "execution_count": 4,
     "metadata": {},
     "output_type": "execute_result"
    }
   ],
   "source": [
    "digits.data[0]"
   ]
  },
  {
   "cell_type": "code",
   "execution_count": null,
   "metadata": {},
   "outputs": [],
   "source": []
  },
  {
   "cell_type": "code",
   "execution_count": 5,
   "metadata": {
    "ExecuteTime": {
     "end_time": "2022-08-01T17:08:29.471726Z",
     "start_time": "2022-08-01T17:08:29.189731Z"
    }
   },
   "outputs": [
    {
     "data": {
      "text/html": [
       "<div>\n",
       "<style scoped>\n",
       "    .dataframe tbody tr th:only-of-type {\n",
       "        vertical-align: middle;\n",
       "    }\n",
       "\n",
       "    .dataframe tbody tr th {\n",
       "        vertical-align: top;\n",
       "    }\n",
       "\n",
       "    .dataframe thead th {\n",
       "        text-align: right;\n",
       "    }\n",
       "</style>\n",
       "<table border=\"1\" class=\"dataframe\">\n",
       "  <thead>\n",
       "    <tr style=\"text-align: right;\">\n",
       "      <th></th>\n",
       "      <th>0</th>\n",
       "      <th>1</th>\n",
       "      <th>2</th>\n",
       "      <th>3</th>\n",
       "      <th>4</th>\n",
       "      <th>5</th>\n",
       "      <th>6</th>\n",
       "      <th>7</th>\n",
       "      <th>8</th>\n",
       "      <th>9</th>\n",
       "      <th>...</th>\n",
       "      <th>55</th>\n",
       "      <th>56</th>\n",
       "      <th>57</th>\n",
       "      <th>58</th>\n",
       "      <th>59</th>\n",
       "      <th>60</th>\n",
       "      <th>61</th>\n",
       "      <th>62</th>\n",
       "      <th>63</th>\n",
       "      <th>target</th>\n",
       "    </tr>\n",
       "  </thead>\n",
       "  <tbody>\n",
       "    <tr>\n",
       "      <th>0</th>\n",
       "      <td>0.0</td>\n",
       "      <td>0.0</td>\n",
       "      <td>5.0</td>\n",
       "      <td>13.0</td>\n",
       "      <td>9.0</td>\n",
       "      <td>1.0</td>\n",
       "      <td>0.0</td>\n",
       "      <td>0.0</td>\n",
       "      <td>0.0</td>\n",
       "      <td>0.0</td>\n",
       "      <td>...</td>\n",
       "      <td>0.0</td>\n",
       "      <td>0.0</td>\n",
       "      <td>0.0</td>\n",
       "      <td>6.0</td>\n",
       "      <td>13.0</td>\n",
       "      <td>10.0</td>\n",
       "      <td>0.0</td>\n",
       "      <td>0.0</td>\n",
       "      <td>0.0</td>\n",
       "      <td>0</td>\n",
       "    </tr>\n",
       "    <tr>\n",
       "      <th>1</th>\n",
       "      <td>0.0</td>\n",
       "      <td>0.0</td>\n",
       "      <td>0.0</td>\n",
       "      <td>12.0</td>\n",
       "      <td>13.0</td>\n",
       "      <td>5.0</td>\n",
       "      <td>0.0</td>\n",
       "      <td>0.0</td>\n",
       "      <td>0.0</td>\n",
       "      <td>0.0</td>\n",
       "      <td>...</td>\n",
       "      <td>0.0</td>\n",
       "      <td>0.0</td>\n",
       "      <td>0.0</td>\n",
       "      <td>0.0</td>\n",
       "      <td>11.0</td>\n",
       "      <td>16.0</td>\n",
       "      <td>10.0</td>\n",
       "      <td>0.0</td>\n",
       "      <td>0.0</td>\n",
       "      <td>1</td>\n",
       "    </tr>\n",
       "    <tr>\n",
       "      <th>2</th>\n",
       "      <td>0.0</td>\n",
       "      <td>0.0</td>\n",
       "      <td>0.0</td>\n",
       "      <td>4.0</td>\n",
       "      <td>15.0</td>\n",
       "      <td>12.0</td>\n",
       "      <td>0.0</td>\n",
       "      <td>0.0</td>\n",
       "      <td>0.0</td>\n",
       "      <td>0.0</td>\n",
       "      <td>...</td>\n",
       "      <td>0.0</td>\n",
       "      <td>0.0</td>\n",
       "      <td>0.0</td>\n",
       "      <td>0.0</td>\n",
       "      <td>3.0</td>\n",
       "      <td>11.0</td>\n",
       "      <td>16.0</td>\n",
       "      <td>9.0</td>\n",
       "      <td>0.0</td>\n",
       "      <td>2</td>\n",
       "    </tr>\n",
       "    <tr>\n",
       "      <th>3</th>\n",
       "      <td>0.0</td>\n",
       "      <td>0.0</td>\n",
       "      <td>7.0</td>\n",
       "      <td>15.0</td>\n",
       "      <td>13.0</td>\n",
       "      <td>1.0</td>\n",
       "      <td>0.0</td>\n",
       "      <td>0.0</td>\n",
       "      <td>0.0</td>\n",
       "      <td>8.0</td>\n",
       "      <td>...</td>\n",
       "      <td>0.0</td>\n",
       "      <td>0.0</td>\n",
       "      <td>0.0</td>\n",
       "      <td>7.0</td>\n",
       "      <td>13.0</td>\n",
       "      <td>13.0</td>\n",
       "      <td>9.0</td>\n",
       "      <td>0.0</td>\n",
       "      <td>0.0</td>\n",
       "      <td>3</td>\n",
       "    </tr>\n",
       "    <tr>\n",
       "      <th>4</th>\n",
       "      <td>0.0</td>\n",
       "      <td>0.0</td>\n",
       "      <td>0.0</td>\n",
       "      <td>1.0</td>\n",
       "      <td>11.0</td>\n",
       "      <td>0.0</td>\n",
       "      <td>0.0</td>\n",
       "      <td>0.0</td>\n",
       "      <td>0.0</td>\n",
       "      <td>0.0</td>\n",
       "      <td>...</td>\n",
       "      <td>0.0</td>\n",
       "      <td>0.0</td>\n",
       "      <td>0.0</td>\n",
       "      <td>0.0</td>\n",
       "      <td>2.0</td>\n",
       "      <td>16.0</td>\n",
       "      <td>4.0</td>\n",
       "      <td>0.0</td>\n",
       "      <td>0.0</td>\n",
       "      <td>4</td>\n",
       "    </tr>\n",
       "    <tr>\n",
       "      <th>...</th>\n",
       "      <td>...</td>\n",
       "      <td>...</td>\n",
       "      <td>...</td>\n",
       "      <td>...</td>\n",
       "      <td>...</td>\n",
       "      <td>...</td>\n",
       "      <td>...</td>\n",
       "      <td>...</td>\n",
       "      <td>...</td>\n",
       "      <td>...</td>\n",
       "      <td>...</td>\n",
       "      <td>...</td>\n",
       "      <td>...</td>\n",
       "      <td>...</td>\n",
       "      <td>...</td>\n",
       "      <td>...</td>\n",
       "      <td>...</td>\n",
       "      <td>...</td>\n",
       "      <td>...</td>\n",
       "      <td>...</td>\n",
       "      <td>...</td>\n",
       "    </tr>\n",
       "    <tr>\n",
       "      <th>1792</th>\n",
       "      <td>0.0</td>\n",
       "      <td>0.0</td>\n",
       "      <td>4.0</td>\n",
       "      <td>10.0</td>\n",
       "      <td>13.0</td>\n",
       "      <td>6.0</td>\n",
       "      <td>0.0</td>\n",
       "      <td>0.0</td>\n",
       "      <td>0.0</td>\n",
       "      <td>1.0</td>\n",
       "      <td>...</td>\n",
       "      <td>0.0</td>\n",
       "      <td>0.0</td>\n",
       "      <td>0.0</td>\n",
       "      <td>2.0</td>\n",
       "      <td>14.0</td>\n",
       "      <td>15.0</td>\n",
       "      <td>9.0</td>\n",
       "      <td>0.0</td>\n",
       "      <td>0.0</td>\n",
       "      <td>9</td>\n",
       "    </tr>\n",
       "    <tr>\n",
       "      <th>1793</th>\n",
       "      <td>0.0</td>\n",
       "      <td>0.0</td>\n",
       "      <td>6.0</td>\n",
       "      <td>16.0</td>\n",
       "      <td>13.0</td>\n",
       "      <td>11.0</td>\n",
       "      <td>1.0</td>\n",
       "      <td>0.0</td>\n",
       "      <td>0.0</td>\n",
       "      <td>0.0</td>\n",
       "      <td>...</td>\n",
       "      <td>0.0</td>\n",
       "      <td>0.0</td>\n",
       "      <td>0.0</td>\n",
       "      <td>6.0</td>\n",
       "      <td>16.0</td>\n",
       "      <td>14.0</td>\n",
       "      <td>6.0</td>\n",
       "      <td>0.0</td>\n",
       "      <td>0.0</td>\n",
       "      <td>0</td>\n",
       "    </tr>\n",
       "    <tr>\n",
       "      <th>1794</th>\n",
       "      <td>0.0</td>\n",
       "      <td>0.0</td>\n",
       "      <td>1.0</td>\n",
       "      <td>11.0</td>\n",
       "      <td>15.0</td>\n",
       "      <td>1.0</td>\n",
       "      <td>0.0</td>\n",
       "      <td>0.0</td>\n",
       "      <td>0.0</td>\n",
       "      <td>0.0</td>\n",
       "      <td>...</td>\n",
       "      <td>0.0</td>\n",
       "      <td>0.0</td>\n",
       "      <td>0.0</td>\n",
       "      <td>2.0</td>\n",
       "      <td>9.0</td>\n",
       "      <td>13.0</td>\n",
       "      <td>6.0</td>\n",
       "      <td>0.0</td>\n",
       "      <td>0.0</td>\n",
       "      <td>8</td>\n",
       "    </tr>\n",
       "    <tr>\n",
       "      <th>1795</th>\n",
       "      <td>0.0</td>\n",
       "      <td>0.0</td>\n",
       "      <td>2.0</td>\n",
       "      <td>10.0</td>\n",
       "      <td>7.0</td>\n",
       "      <td>0.0</td>\n",
       "      <td>0.0</td>\n",
       "      <td>0.0</td>\n",
       "      <td>0.0</td>\n",
       "      <td>0.0</td>\n",
       "      <td>...</td>\n",
       "      <td>0.0</td>\n",
       "      <td>0.0</td>\n",
       "      <td>0.0</td>\n",
       "      <td>5.0</td>\n",
       "      <td>12.0</td>\n",
       "      <td>16.0</td>\n",
       "      <td>12.0</td>\n",
       "      <td>0.0</td>\n",
       "      <td>0.0</td>\n",
       "      <td>9</td>\n",
       "    </tr>\n",
       "    <tr>\n",
       "      <th>1796</th>\n",
       "      <td>0.0</td>\n",
       "      <td>0.0</td>\n",
       "      <td>10.0</td>\n",
       "      <td>14.0</td>\n",
       "      <td>8.0</td>\n",
       "      <td>1.0</td>\n",
       "      <td>0.0</td>\n",
       "      <td>0.0</td>\n",
       "      <td>0.0</td>\n",
       "      <td>2.0</td>\n",
       "      <td>...</td>\n",
       "      <td>0.0</td>\n",
       "      <td>0.0</td>\n",
       "      <td>1.0</td>\n",
       "      <td>8.0</td>\n",
       "      <td>12.0</td>\n",
       "      <td>14.0</td>\n",
       "      <td>12.0</td>\n",
       "      <td>1.0</td>\n",
       "      <td>0.0</td>\n",
       "      <td>8</td>\n",
       "    </tr>\n",
       "  </tbody>\n",
       "</table>\n",
       "<p>1797 rows × 65 columns</p>\n",
       "</div>"
      ],
      "text/plain": [
       "        0    1     2     3     4     5    6    7    8    9  ...   55   56  \\\n",
       "0     0.0  0.0   5.0  13.0   9.0   1.0  0.0  0.0  0.0  0.0  ...  0.0  0.0   \n",
       "1     0.0  0.0   0.0  12.0  13.0   5.0  0.0  0.0  0.0  0.0  ...  0.0  0.0   \n",
       "2     0.0  0.0   0.0   4.0  15.0  12.0  0.0  0.0  0.0  0.0  ...  0.0  0.0   \n",
       "3     0.0  0.0   7.0  15.0  13.0   1.0  0.0  0.0  0.0  8.0  ...  0.0  0.0   \n",
       "4     0.0  0.0   0.0   1.0  11.0   0.0  0.0  0.0  0.0  0.0  ...  0.0  0.0   \n",
       "...   ...  ...   ...   ...   ...   ...  ...  ...  ...  ...  ...  ...  ...   \n",
       "1792  0.0  0.0   4.0  10.0  13.0   6.0  0.0  0.0  0.0  1.0  ...  0.0  0.0   \n",
       "1793  0.0  0.0   6.0  16.0  13.0  11.0  1.0  0.0  0.0  0.0  ...  0.0  0.0   \n",
       "1794  0.0  0.0   1.0  11.0  15.0   1.0  0.0  0.0  0.0  0.0  ...  0.0  0.0   \n",
       "1795  0.0  0.0   2.0  10.0   7.0   0.0  0.0  0.0  0.0  0.0  ...  0.0  0.0   \n",
       "1796  0.0  0.0  10.0  14.0   8.0   1.0  0.0  0.0  0.0  2.0  ...  0.0  0.0   \n",
       "\n",
       "       57   58    59    60    61   62   63  target  \n",
       "0     0.0  6.0  13.0  10.0   0.0  0.0  0.0       0  \n",
       "1     0.0  0.0  11.0  16.0  10.0  0.0  0.0       1  \n",
       "2     0.0  0.0   3.0  11.0  16.0  9.0  0.0       2  \n",
       "3     0.0  7.0  13.0  13.0   9.0  0.0  0.0       3  \n",
       "4     0.0  0.0   2.0  16.0   4.0  0.0  0.0       4  \n",
       "...   ...  ...   ...   ...   ...  ...  ...     ...  \n",
       "1792  0.0  2.0  14.0  15.0   9.0  0.0  0.0       9  \n",
       "1793  0.0  6.0  16.0  14.0   6.0  0.0  0.0       0  \n",
       "1794  0.0  2.0   9.0  13.0   6.0  0.0  0.0       8  \n",
       "1795  0.0  5.0  12.0  16.0  12.0  0.0  0.0       9  \n",
       "1796  1.0  8.0  12.0  14.0  12.0  1.0  0.0       8  \n",
       "\n",
       "[1797 rows x 65 columns]"
      ]
     },
     "execution_count": 5,
     "metadata": {},
     "output_type": "execute_result"
    }
   ],
   "source": [
    "import pandas as pd\n",
    "df = pd.DataFrame(digits.data)\n",
    "df[\"target\"] = digits.target\n",
    "df"
   ]
  },
  {
   "cell_type": "code",
   "execution_count": 19,
   "metadata": {
    "ExecuteTime": {
     "end_time": "2022-03-22T18:25:30.864982Z",
     "start_time": "2022-03-22T18:25:30.848984Z"
    },
    "scrolled": true
   },
   "outputs": [
    {
     "data": {
      "text/plain": [
       "['DESCR', 'data', 'feature_names', 'frame', 'images', 'target', 'target_names']"
      ]
     },
     "execution_count": 19,
     "metadata": {},
     "output_type": "execute_result"
    }
   ],
   "source": [
    "dir(digits)"
   ]
  },
  {
   "cell_type": "code",
   "execution_count": 20,
   "metadata": {
    "ExecuteTime": {
     "end_time": "2022-03-22T18:25:39.323103Z",
     "start_time": "2022-03-22T18:25:39.306075Z"
    }
   },
   "outputs": [
    {
     "data": {
      "text/plain": [
       "\".. _digits_dataset:\\n\\nOptical recognition of handwritten digits dataset\\n--------------------------------------------------\\n\\n**Data Set Characteristics:**\\n\\n    :Number of Instances: 1797\\n    :Number of Attributes: 64\\n    :Attribute Information: 8x8 image of integer pixels in the range 0..16.\\n    :Missing Attribute Values: None\\n    :Creator: E. Alpaydin (alpaydin '@' boun.edu.tr)\\n    :Date: July; 1998\\n\\nThis is a copy of the test set of the UCI ML hand-written digits datasets\\nhttps://archive.ics.uci.edu/ml/datasets/Optical+Recognition+of+Handwritten+Digits\\n\\nThe data set contains images of hand-written digits: 10 classes where\\neach class refers to a digit.\\n\\nPreprocessing programs made available by NIST were used to extract\\nnormalized bitmaps of handwritten digits from a preprinted form. From a\\ntotal of 43 people, 30 contributed to the training set and different 13\\nto the test set. 32x32 bitmaps are divided into nonoverlapping blocks of\\n4x4 and the number of on pixels are counted in each block. This generates\\nan input matrix of 8x8 where each element is an integer in the range\\n0..16. This reduces dimensionality and gives invariance to small\\ndistortions.\\n\\nFor info on NIST preprocessing routines, see M. D. Garris, J. L. Blue, G.\\nT. Candela, D. L. Dimmick, J. Geist, P. J. Grother, S. A. Janet, and C.\\nL. Wilson, NIST Form-Based Handprint Recognition System, NISTIR 5469,\\n1994.\\n\\n.. topic:: References\\n\\n  - C. Kaynak (1995) Methods of Combining Multiple Classifiers and Their\\n    Applications to Handwritten Digit Recognition, MSc Thesis, Institute of\\n    Graduate Studies in Science and Engineering, Bogazici University.\\n  - E. Alpaydin, C. Kaynak (1998) Cascading Classifiers, Kybernetika.\\n  - Ken Tang and Ponnuthurai N. Suganthan and Xi Yao and A. Kai Qin.\\n    Linear dimensionalityreduction using relevance weighted LDA. School of\\n    Electrical and Electronic Engineering Nanyang Technological University.\\n    2005.\\n  - Claudio Gentile. A New Approximate Maximal Margin Classification\\n    Algorithm. NIPS. 2000.\\n\""
      ]
     },
     "execution_count": 20,
     "metadata": {},
     "output_type": "execute_result"
    }
   ],
   "source": [
    "digits.DESCR"
   ]
  },
  {
   "cell_type": "code",
   "execution_count": 6,
   "metadata": {
    "ExecuteTime": {
     "end_time": "2022-08-01T17:09:07.994730Z",
     "start_time": "2022-08-01T17:09:07.978727Z"
    }
   },
   "outputs": [
    {
     "name": "stdout",
     "output_type": "stream",
     "text": [
      "<class 'pandas.core.frame.DataFrame'>\n",
      "RangeIndex: 1797 entries, 0 to 1796\n",
      "Data columns (total 65 columns):\n",
      " #   Column  Non-Null Count  Dtype  \n",
      "---  ------  --------------  -----  \n",
      " 0   0       1797 non-null   float64\n",
      " 1   1       1797 non-null   float64\n",
      " 2   2       1797 non-null   float64\n",
      " 3   3       1797 non-null   float64\n",
      " 4   4       1797 non-null   float64\n",
      " 5   5       1797 non-null   float64\n",
      " 6   6       1797 non-null   float64\n",
      " 7   7       1797 non-null   float64\n",
      " 8   8       1797 non-null   float64\n",
      " 9   9       1797 non-null   float64\n",
      " 10  10      1797 non-null   float64\n",
      " 11  11      1797 non-null   float64\n",
      " 12  12      1797 non-null   float64\n",
      " 13  13      1797 non-null   float64\n",
      " 14  14      1797 non-null   float64\n",
      " 15  15      1797 non-null   float64\n",
      " 16  16      1797 non-null   float64\n",
      " 17  17      1797 non-null   float64\n",
      " 18  18      1797 non-null   float64\n",
      " 19  19      1797 non-null   float64\n",
      " 20  20      1797 non-null   float64\n",
      " 21  21      1797 non-null   float64\n",
      " 22  22      1797 non-null   float64\n",
      " 23  23      1797 non-null   float64\n",
      " 24  24      1797 non-null   float64\n",
      " 25  25      1797 non-null   float64\n",
      " 26  26      1797 non-null   float64\n",
      " 27  27      1797 non-null   float64\n",
      " 28  28      1797 non-null   float64\n",
      " 29  29      1797 non-null   float64\n",
      " 30  30      1797 non-null   float64\n",
      " 31  31      1797 non-null   float64\n",
      " 32  32      1797 non-null   float64\n",
      " 33  33      1797 non-null   float64\n",
      " 34  34      1797 non-null   float64\n",
      " 35  35      1797 non-null   float64\n",
      " 36  36      1797 non-null   float64\n",
      " 37  37      1797 non-null   float64\n",
      " 38  38      1797 non-null   float64\n",
      " 39  39      1797 non-null   float64\n",
      " 40  40      1797 non-null   float64\n",
      " 41  41      1797 non-null   float64\n",
      " 42  42      1797 non-null   float64\n",
      " 43  43      1797 non-null   float64\n",
      " 44  44      1797 non-null   float64\n",
      " 45  45      1797 non-null   float64\n",
      " 46  46      1797 non-null   float64\n",
      " 47  47      1797 non-null   float64\n",
      " 48  48      1797 non-null   float64\n",
      " 49  49      1797 non-null   float64\n",
      " 50  50      1797 non-null   float64\n",
      " 51  51      1797 non-null   float64\n",
      " 52  52      1797 non-null   float64\n",
      " 53  53      1797 non-null   float64\n",
      " 54  54      1797 non-null   float64\n",
      " 55  55      1797 non-null   float64\n",
      " 56  56      1797 non-null   float64\n",
      " 57  57      1797 non-null   float64\n",
      " 58  58      1797 non-null   float64\n",
      " 59  59      1797 non-null   float64\n",
      " 60  60      1797 non-null   float64\n",
      " 61  61      1797 non-null   float64\n",
      " 62  62      1797 non-null   float64\n",
      " 63  63      1797 non-null   float64\n",
      " 64  target  1797 non-null   int32  \n",
      "dtypes: float64(64), int32(1)\n",
      "memory usage: 905.6 KB\n"
     ]
    }
   ],
   "source": [
    "df.info()"
   ]
  },
  {
   "cell_type": "code",
   "execution_count": 7,
   "metadata": {
    "ExecuteTime": {
     "end_time": "2022-08-01T17:09:20.899668Z",
     "start_time": "2022-08-01T17:09:20.895665Z"
    },
    "scrolled": true
   },
   "outputs": [
    {
     "data": {
      "text/plain": [
       "1797"
      ]
     },
     "execution_count": 7,
     "metadata": {},
     "output_type": "execute_result"
    }
   ],
   "source": [
    "len(digits.images)"
   ]
  },
  {
   "cell_type": "code",
   "execution_count": 6,
   "metadata": {
    "ExecuteTime": {
     "end_time": "2022-07-30T10:54:52.412631Z",
     "start_time": "2022-07-30T10:54:52.408632Z"
    }
   },
   "outputs": [
    {
     "data": {
      "text/plain": [
       "4"
      ]
     },
     "execution_count": 6,
     "metadata": {},
     "output_type": "execute_result"
    }
   ],
   "source": [
    "digits.target[100]"
   ]
  },
  {
   "cell_type": "code",
   "execution_count": 8,
   "metadata": {
    "ExecuteTime": {
     "end_time": "2022-08-01T17:10:37.199800Z",
     "start_time": "2022-08-01T17:10:37.052795Z"
    }
   },
   "outputs": [
    {
     "data": {
      "text/plain": [
       "<matplotlib.image.AxesImage at 0x2419f610d30>"
      ]
     },
     "execution_count": 8,
     "metadata": {},
     "output_type": "execute_result"
    },
    {
     "data": {
      "image/png": "[encoded data removed]",
      "text/plain": [
       "<Figure size 432x288 with 1 Axes>"
      ]
     },
     "metadata": {
      "needs_background": "light"
     },
     "output_type": "display_data"
    }
   ],
   "source": [
    "plt.imshow(digits.images[100])"
   ]
  },
  {
   "cell_type": "code",
   "execution_count": 9,
   "metadata": {
    "ExecuteTime": {
     "end_time": "2022-08-01T17:11:06.820884Z",
     "start_time": "2022-08-01T17:11:06.654886Z"
    },
    "scrolled": true
   },
   "outputs": [
    {
     "data": {
      "text/plain": [
       "<matplotlib.image.AxesImage at 0x2419fd8d220>"
      ]
     },
     "execution_count": 9,
     "metadata": {},
     "output_type": "execute_result"
    },
    {
     "data": {
      "text/plain": [
       "<Figure size 432x288 with 0 Axes>"
      ]
     },
     "metadata": {},
     "output_type": "display_data"
    },
    {
     "data": {
      "image/png": "[encoded data removed]",
      "text/plain": [
       "<Figure size 288x288 with 1 Axes>"
      ]
     },
     "metadata": {
      "needs_background": "light"
     },
     "output_type": "display_data"
    }
   ],
   "source": [
    "plt.gray()\n",
    "plt.matshow(digits.images[100])"
   ]
  },
  {
   "cell_type": "code",
   "execution_count": 10,
   "metadata": {
    "ExecuteTime": {
     "end_time": "2022-08-01T17:11:08.796883Z",
     "start_time": "2022-08-01T17:11:08.791885Z"
    }
   },
   "outputs": [
    {
     "data": {
      "text/plain": [
       "array([ 0.,  0.,  5., 13.,  9.,  1.,  0.,  0.,  0.,  0., 13., 15., 10.,\n",
       "       15.,  5.,  0.,  0.,  3., 15.,  2.,  0., 11.,  8.,  0.,  0.,  4.,\n",
       "       12.,  0.,  0.,  8.,  8.,  0.,  0.,  5.,  8.,  0.,  0.,  9.,  8.,\n",
       "        0.,  0.,  4., 11.,  0.,  1., 12.,  7.,  0.,  0.,  2., 14.,  5.,\n",
       "       10., 12.,  0.,  0.,  0.,  0.,  6., 13., 10.,  0.,  0.,  0.])"
      ]
     },
     "execution_count": 10,
     "metadata": {},
     "output_type": "execute_result"
    }
   ],
   "source": [
    "digits.data[0]"
   ]
  },
  {
   "cell_type": "code",
   "execution_count": 11,
   "metadata": {
    "ExecuteTime": {
     "end_time": "2022-08-01T17:11:09.081883Z",
     "start_time": "2022-08-01T17:11:09.077883Z"
    }
   },
   "outputs": [
    {
     "data": {
      "text/plain": [
       "1797"
      ]
     },
     "execution_count": 11,
     "metadata": {},
     "output_type": "execute_result"
    }
   ],
   "source": [
    "len(digits.images)"
   ]
  },
  {
   "cell_type": "code",
   "execution_count": 12,
   "metadata": {
    "ExecuteTime": {
     "end_time": "2022-08-01T17:11:10.481959Z",
     "start_time": "2022-08-01T17:11:10.479959Z"
    }
   },
   "outputs": [
    {
     "data": {
      "text/plain": [
       "1797"
      ]
     },
     "execution_count": 12,
     "metadata": {},
     "output_type": "execute_result"
    }
   ],
   "source": [
    "len(digits.data)"
   ]
  },
  {
   "cell_type": "code",
   "execution_count": 13,
   "metadata": {
    "ExecuteTime": {
     "end_time": "2022-08-01T17:11:10.713961Z",
     "start_time": "2022-08-01T17:11:10.710962Z"
    }
   },
   "outputs": [
    {
     "data": {
      "text/plain": [
       "array([ 0.,  0.,  5., 13.,  9.,  1.,  0.,  0.,  0.,  0., 13., 15., 10.,\n",
       "       15.,  5.,  0.,  0.,  3., 15.,  2.,  0., 11.,  8.,  0.,  0.,  4.,\n",
       "       12.,  0.,  0.,  8.,  8.,  0.,  0.,  5.,  8.,  0.,  0.,  9.,  8.,\n",
       "        0.,  0.,  4., 11.,  0.,  1., 12.,  7.,  0.,  0.,  2., 14.,  5.,\n",
       "       10., 12.,  0.,  0.,  0.,  0.,  6., 13., 10.,  0.,  0.,  0.])"
      ]
     },
     "execution_count": 13,
     "metadata": {},
     "output_type": "execute_result"
    }
   ],
   "source": [
    "digits.data[0]"
   ]
  },
  {
   "cell_type": "code",
   "execution_count": 14,
   "metadata": {
    "ExecuteTime": {
     "end_time": "2022-08-01T17:11:13.183989Z",
     "start_time": "2022-08-01T17:11:12.373960Z"
    }
   },
   "outputs": [
    {
     "data": {
      "text/plain": [
       "<Figure size 432x288 with 0 Axes>"
      ]
     },
     "metadata": {},
     "output_type": "display_data"
    },
    {
     "data": {
      "image/png": "[encoded data removed]",
      "text/plain": [
       "<Figure size 288x288 with 1 Axes>"
      ]
     },
     "metadata": {
      "needs_background": "light"
     },
     "output_type": "display_data"
    },
    {
     "data": {
      "image/png": "[encoded data removed]",
      "text/plain": [
       "<Figure size 288x288 with 1 Axes>"
      ]
     },
     "metadata": {
      "needs_background": "light"
     },
     "output_type": "display_data"
    },
    {
     "data": {
      "image/png": "[encoded data removed]",
      "text/plain": [
       "<Figure size 288x288 with 1 Axes>"
      ]
     },
     "metadata": {
      "needs_background": "light"
     },
     "output_type": "display_data"
    },
    {
     "data": {
      "image/png": "[encoded data removed]",
      "text/plain": [
       "<Figure size 288x288 with 1 Axes>"
      ]
     },
     "metadata": {
      "needs_background": "light"
     },
     "output_type": "display_data"
    },
    {
     "data": {
      "image/png": "[encoded data removed]",
      "text/plain": [
       "<Figure size 288x288 with 1 Axes>"
      ]
     },
     "metadata": {
      "needs_background": "light"
     },
     "output_type": "display_data"
    }
   ],
   "source": [
    "plt.gray() \n",
    "for i in range(5):\n",
    "    plt.matshow(digits.images[i]) "
   ]
  },
  {
   "cell_type": "code",
   "execution_count": 14,
   "metadata": {
    "ExecuteTime": {
     "end_time": "2021-07-18T18:11:59.424265Z",
     "start_time": "2021-07-18T18:11:59.416286Z"
    }
   },
   "outputs": [
    {
     "data": {
      "text/plain": [
       "['DESCR', 'data', 'feature_names', 'frame', 'images', 'target', 'target_names']"
      ]
     },
     "execution_count": 14,
     "metadata": {},
     "output_type": "execute_result"
    }
   ],
   "source": [
    "dir(digits)"
   ]
  },
  {
   "cell_type": "code",
   "execution_count": 5,
   "metadata": {
    "ExecuteTime": {
     "end_time": "2021-07-13T18:57:45.519226Z",
     "start_time": "2021-07-13T18:57:45.500277Z"
    }
   },
   "outputs": [
    {
     "data": {
      "text/plain": [
       "array([ 0.,  0.,  5., 13.,  9.,  1.,  0.,  0.,  0.,  0., 13., 15., 10.,\n",
       "       15.,  5.,  0.,  0.,  3., 15.,  2.,  0., 11.,  8.,  0.,  0.,  4.,\n",
       "       12.,  0.,  0.,  8.,  8.,  0.,  0.,  5.,  8.,  0.,  0.,  9.,  8.,\n",
       "        0.,  0.,  4., 11.,  0.,  1., 12.,  7.,  0.,  0.,  2., 14.,  5.,\n",
       "       10., 12.,  0.,  0.,  0.,  0.,  6., 13., 10.,  0.,  0.,  0.])"
      ]
     },
     "execution_count": 5,
     "metadata": {},
     "output_type": "execute_result"
    }
   ],
   "source": [
    "digits.data[0]"
   ]
  },
  {
   "cell_type": "code",
   "execution_count": 30,
   "metadata": {
    "ExecuteTime": {
     "end_time": "2022-03-22T18:26:16.627822Z",
     "start_time": "2022-03-22T18:26:16.473823Z"
    }
   },
   "outputs": [
    {
     "data": {
      "text/plain": [
       "0"
      ]
     },
     "execution_count": 30,
     "metadata": {},
     "output_type": "execute_result"
    },
    {
     "data": {
      "image/png": "[encoded data removed]",
      "text/plain": [
       "<Figure size 288x288 with 1 Axes>"
      ]
     },
     "metadata": {
      "needs_background": "light"
     },
     "output_type": "display_data"
    }
   ],
   "source": [
    "plt.matshow(digits.images[150])\n",
    "digits.target[150] # real value "
   ]
  },
  {
   "cell_type": "code",
   "execution_count": 19,
   "metadata": {
    "ExecuteTime": {
     "end_time": "2021-10-18T17:13:48.114451Z",
     "start_time": "2021-10-18T17:13:48.095503Z"
    }
   },
   "outputs": [
    {
     "data": {
      "text/plain": [
       "array([ 0.,  0.,  5., 13.,  9.,  1.,  0.,  0.,  0.,  0., 13., 15., 10.,\n",
       "       15.,  5.,  0.,  0.,  3., 15.,  2.,  0., 11.,  8.,  0.,  0.,  4.,\n",
       "       12.,  0.,  0.,  8.,  8.,  0.,  0.,  5.,  8.,  0.,  0.,  9.,  8.,\n",
       "        0.,  0.,  4., 11.,  0.,  1., 12.,  7.,  0.,  0.,  2., 14.,  5.,\n",
       "       10., 12.,  0.,  0.,  0.,  0.,  6., 13., 10.,  0.,  0.,  0.])"
      ]
     },
     "execution_count": 19,
     "metadata": {},
     "output_type": "execute_result"
    }
   ],
   "source": [
    "digits.data[0]"
   ]
  },
  {
   "cell_type": "markdown",
   "metadata": {},
   "source": [
    "<h4 style='color:purple'>Create and train logistic regression model</h4>"
   ]
  },
  {
   "cell_type": "code",
   "execution_count": 34,
   "metadata": {
    "ExecuteTime": {
     "end_time": "2022-07-30T11:12:56.820493Z",
     "start_time": "2022-07-30T11:12:56.815493Z"
    }
   },
   "outputs": [
    {
     "data": {
      "text/plain": [
       "1797"
      ]
     },
     "execution_count": 34,
     "metadata": {},
     "output_type": "execute_result"
    }
   ],
   "source": [
    "len(digits.target)"
   ]
  },
  {
   "cell_type": "code",
   "execution_count": 10,
   "metadata": {
    "ExecuteTime": {
     "end_time": "2022-04-10T20:48:58.524359Z",
     "start_time": "2022-04-10T20:48:58.511361Z"
    }
   },
   "outputs": [
    {
     "data": {
      "text/plain": [
       "numpy.ndarray"
      ]
     },
     "execution_count": 10,
     "metadata": {},
     "output_type": "execute_result"
    }
   ],
   "source": [
    "type(digits.data)"
   ]
  },
  {
   "cell_type": "code",
   "execution_count": 15,
   "metadata": {
    "ExecuteTime": {
     "end_time": "2022-08-01T17:11:27.201108Z",
     "start_time": "2022-08-01T17:11:27.199109Z"
    }
   },
   "outputs": [],
   "source": [
    "x = digits.data #pixel values of images\n",
    "y = digits.target"
   ]
  },
  {
   "cell_type": "code",
   "execution_count": 25,
   "metadata": {
    "ExecuteTime": {
     "end_time": "2022-08-01T17:14:20.166776Z",
     "start_time": "2022-08-01T17:14:20.162773Z"
    }
   },
   "outputs": [],
   "source": [
    "from sklearn.linear_model import LogisticRegression\n",
    "model = LogisticRegression(max_iter=10000)"
   ]
  },
  {
   "cell_type": "code",
   "execution_count": 26,
   "metadata": {
    "ExecuteTime": {
     "end_time": "2022-08-01T17:14:20.462773Z",
     "start_time": "2022-08-01T17:14:20.458773Z"
    }
   },
   "outputs": [],
   "source": [
    "from sklearn.model_selection import train_test_split"
   ]
  },
  {
   "cell_type": "code",
   "execution_count": 18,
   "metadata": {
    "ExecuteTime": {
     "end_time": "2022-08-01T17:11:39.988191Z",
     "start_time": "2022-08-01T17:11:39.875191Z"
    }
   },
   "outputs": [
    {
     "name": "stdout",
     "output_type": "stream",
     "text": [
      "0\n",
      "1\n",
      "2\n",
      "3\n",
      "4\n",
      "5\n",
      "6\n",
      "7\n",
      "8\n",
      "9\n",
      "0\n",
      "1\n",
      "2\n",
      "3\n",
      "4\n",
      "5\n",
      "6\n",
      "7\n",
      "8\n",
      "9\n",
      "0\n",
      "1\n",
      "2\n",
      "3\n",
      "4\n",
      "5\n",
      "6\n",
      "7\n",
      "8\n",
      "9\n",
      "0\n",
      "9\n",
      "5\n",
      "5\n",
      "6\n",
      "5\n",
      "0\n",
      "9\n",
      "8\n",
      "9\n",
      "8\n",
      "4\n",
      "1\n",
      "7\n",
      "7\n",
      "3\n",
      "5\n",
      "1\n",
      "0\n",
      "0\n",
      "2\n",
      "2\n",
      "7\n",
      "8\n",
      "2\n",
      "0\n",
      "1\n",
      "2\n",
      "6\n",
      "3\n",
      "3\n",
      "7\n",
      "3\n",
      "3\n",
      "4\n",
      "6\n",
      "6\n",
      "6\n",
      "4\n",
      "9\n",
      "1\n",
      "5\n",
      "0\n",
      "9\n",
      "5\n",
      "2\n",
      "8\n",
      "2\n",
      "0\n",
      "0\n",
      "1\n",
      "7\n",
      "6\n",
      "3\n",
      "2\n",
      "1\n",
      "7\n",
      "4\n",
      "6\n",
      "3\n",
      "1\n",
      "3\n",
      "9\n",
      "1\n",
      "7\n",
      "6\n",
      "8\n",
      "4\n",
      "3\n",
      "1\n",
      "4\n",
      "0\n",
      "5\n",
      "3\n",
      "6\n",
      "9\n",
      "6\n",
      "1\n",
      "7\n",
      "5\n",
      "4\n",
      "4\n",
      "7\n",
      "2\n",
      "8\n",
      "2\n",
      "2\n",
      "5\n",
      "7\n",
      "9\n",
      "5\n",
      "4\n",
      "8\n",
      "8\n",
      "4\n",
      "9\n",
      "0\n",
      "8\n",
      "9\n",
      "8\n",
      "0\n",
      "1\n",
      "2\n",
      "3\n",
      "4\n",
      "5\n",
      "6\n",
      "7\n",
      "8\n",
      "9\n",
      "0\n",
      "1\n",
      "2\n",
      "3\n",
      "4\n",
      "5\n",
      "6\n",
      "7\n",
      "8\n",
      "9\n",
      "0\n",
      "1\n",
      "2\n",
      "3\n",
      "4\n",
      "5\n",
      "6\n",
      "7\n",
      "8\n",
      "9\n",
      "0\n",
      "9\n",
      "5\n",
      "5\n",
      "6\n",
      "5\n",
      "0\n",
      "9\n",
      "8\n",
      "9\n",
      "8\n",
      "4\n",
      "1\n",
      "7\n",
      "7\n",
      "3\n",
      "5\n",
      "1\n",
      "0\n",
      "0\n",
      "2\n",
      "2\n",
      "7\n",
      "8\n",
      "2\n",
      "0\n",
      "1\n",
      "2\n",
      "6\n",
      "3\n",
      "3\n",
      "7\n",
      "3\n",
      "3\n",
      "4\n",
      "6\n",
      "6\n",
      "6\n",
      "4\n",
      "9\n",
      "1\n",
      "5\n",
      "0\n",
      "9\n",
      "5\n",
      "2\n",
      "8\n",
      "2\n",
      "0\n",
      "0\n",
      "1\n",
      "7\n",
      "6\n",
      "3\n",
      "2\n",
      "1\n",
      "7\n",
      "3\n",
      "1\n",
      "3\n",
      "9\n",
      "1\n",
      "7\n",
      "6\n",
      "8\n",
      "4\n",
      "3\n",
      "1\n",
      "4\n",
      "0\n",
      "5\n",
      "3\n",
      "6\n",
      "9\n",
      "6\n",
      "1\n",
      "7\n",
      "5\n",
      "4\n",
      "4\n",
      "7\n",
      "2\n",
      "8\n",
      "2\n",
      "2\n",
      "5\n",
      "5\n",
      "4\n",
      "8\n",
      "8\n",
      "4\n",
      "9\n",
      "0\n",
      "8\n",
      "9\n",
      "8\n",
      "0\n",
      "1\n",
      "2\n",
      "3\n",
      "4\n",
      "5\n",
      "6\n",
      "7\n",
      "8\n",
      "9\n",
      "0\n",
      "1\n",
      "2\n",
      "3\n",
      "4\n",
      "5\n",
      "6\n",
      "7\n",
      "8\n",
      "9\n",
      "0\n",
      "1\n",
      "2\n",
      "3\n",
      "4\n",
      "5\n",
      "6\n",
      "7\n",
      "8\n",
      "9\n",
      "0\n",
      "9\n",
      "5\n",
      "5\n",
      "6\n",
      "5\n",
      "0\n",
      "9\n",
      "8\n",
      "9\n",
      "8\n",
      "4\n",
      "1\n",
      "7\n",
      "7\n",
      "3\n",
      "5\n",
      "1\n",
      "0\n",
      "0\n",
      "2\n",
      "2\n",
      "7\n",
      "8\n",
      "2\n",
      "0\n",
      "1\n",
      "2\n",
      "6\n",
      "3\n",
      "3\n",
      "7\n",
      "3\n",
      "3\n",
      "4\n",
      "6\n",
      "6\n",
      "6\n",
      "4\n",
      "9\n",
      "1\n",
      "5\n",
      "0\n",
      "9\n",
      "5\n",
      "2\n",
      "8\n",
      "2\n",
      "0\n",
      "0\n",
      "1\n",
      "7\n",
      "6\n",
      "3\n",
      "2\n",
      "1\n",
      "7\n",
      "4\n",
      "6\n",
      "3\n",
      "1\n",
      "3\n",
      "9\n",
      "1\n",
      "7\n",
      "6\n",
      "8\n",
      "4\n",
      "3\n",
      "1\n",
      "4\n",
      "0\n",
      "5\n",
      "3\n",
      "6\n",
      "9\n",
      "6\n",
      "1\n",
      "7\n",
      "5\n",
      "4\n",
      "4\n",
      "7\n",
      "2\n",
      "8\n",
      "2\n",
      "2\n",
      "5\n",
      "7\n",
      "9\n",
      "5\n",
      "4\n",
      "8\n",
      "8\n",
      "4\n",
      "9\n",
      "0\n",
      "8\n",
      "9\n",
      "3\n",
      "0\n",
      "1\n",
      "2\n",
      "3\n",
      "4\n",
      "5\n",
      "6\n",
      "7\n",
      "8\n",
      "9\n",
      "0\n",
      "1\n",
      "2\n",
      "3\n",
      "4\n",
      "5\n",
      "6\n",
      "7\n",
      "8\n",
      "9\n",
      "0\n",
      "1\n",
      "2\n",
      "3\n",
      "4\n",
      "5\n",
      "6\n",
      "7\n",
      "8\n",
      "9\n",
      "0\n",
      "9\n",
      "5\n",
      "5\n",
      "6\n",
      "5\n",
      "0\n",
      "9\n",
      "8\n",
      "9\n",
      "8\n",
      "4\n",
      "1\n",
      "7\n",
      "7\n",
      "3\n",
      "5\n",
      "1\n",
      "0\n",
      "0\n",
      "2\n",
      "2\n",
      "7\n",
      "8\n",
      "2\n",
      "0\n",
      "1\n",
      "2\n",
      "6\n",
      "3\n",
      "3\n",
      "7\n",
      "3\n",
      "3\n",
      "4\n",
      "6\n",
      "6\n",
      "6\n",
      "4\n",
      "9\n",
      "1\n",
      "5\n",
      "0\n",
      "9\n",
      "5\n",
      "2\n",
      "8\n",
      "2\n",
      "0\n",
      "0\n",
      "1\n",
      "7\n",
      "6\n",
      "3\n",
      "2\n",
      "1\n",
      "7\n",
      "4\n",
      "6\n",
      "3\n",
      "1\n",
      "3\n",
      "9\n",
      "1\n",
      "7\n",
      "6\n",
      "8\n",
      "4\n",
      "3\n",
      "1\n",
      "4\n",
      "0\n",
      "5\n",
      "3\n",
      "6\n",
      "9\n",
      "6\n",
      "1\n",
      "7\n",
      "5\n",
      "4\n",
      "4\n",
      "7\n",
      "2\n",
      "8\n",
      "2\n",
      "2\n",
      "5\n",
      "7\n",
      "9\n",
      "5\n",
      "4\n",
      "8\n",
      "8\n",
      "4\n",
      "9\n",
      "0\n",
      "8\n",
      "9\n",
      "8\n",
      "0\n",
      "1\n",
      "2\n",
      "3\n",
      "4\n",
      "5\n",
      "6\n",
      "7\n",
      "8\n",
      "9\n",
      "0\n",
      "1\n",
      "2\n",
      "3\n",
      "4\n",
      "5\n",
      "6\n",
      "7\n",
      "8\n",
      "9\n",
      "0\n",
      "1\n",
      "2\n",
      "3\n",
      "4\n",
      "5\n",
      "6\n",
      "7\n",
      "8\n",
      "9\n",
      "0\n",
      "9\n",
      "5\n",
      "5\n",
      "6\n",
      "5\n",
      "0\n",
      "9\n",
      "8\n",
      "9\n",
      "8\n",
      "4\n",
      "1\n",
      "7\n",
      "7\n",
      "3\n",
      "5\n",
      "1\n",
      "0\n",
      "0\n",
      "2\n",
      "2\n",
      "7\n",
      "8\n",
      "2\n",
      "0\n",
      "1\n",
      "2\n",
      "6\n",
      "3\n",
      "3\n",
      "7\n",
      "3\n",
      "3\n",
      "4\n",
      "6\n",
      "6\n",
      "6\n",
      "4\n",
      "9\n",
      "1\n",
      "5\n",
      "0\n",
      "9\n",
      "5\n",
      "2\n",
      "8\n",
      "2\n",
      "0\n",
      "0\n",
      "1\n",
      "7\n",
      "6\n",
      "3\n",
      "2\n",
      "1\n",
      "7\n",
      "4\n",
      "6\n",
      "3\n",
      "1\n",
      "3\n",
      "9\n",
      "1\n",
      "7\n",
      "6\n",
      "8\n",
      "4\n",
      "3\n",
      "1\n",
      "4\n",
      "0\n",
      "5\n",
      "3\n",
      "6\n",
      "9\n",
      "6\n",
      "1\n",
      "7\n",
      "5\n",
      "4\n",
      "4\n",
      "7\n",
      "2\n",
      "8\n",
      "2\n",
      "2\n",
      "5\n",
      "7\n",
      "9\n",
      "5\n",
      "4\n",
      "8\n",
      "8\n",
      "4\n",
      "9\n",
      "0\n",
      "8\n",
      "9\n",
      "8\n",
      "0\n",
      "1\n",
      "2\n",
      "3\n",
      "4\n",
      "5\n",
      "6\n",
      "7\n",
      "8\n",
      "9\n",
      "0\n",
      "1\n",
      "2\n",
      "3\n",
      "4\n",
      "5\n",
      "6\n",
      "7\n",
      "8\n",
      "9\n",
      "0\n",
      "1\n",
      "2\n",
      "3\n",
      "4\n",
      "5\n",
      "6\n",
      "7\n",
      "8\n",
      "9\n",
      "0\n",
      "9\n",
      "5\n",
      "5\n",
      "6\n",
      "5\n",
      "0\n",
      "9\n",
      "8\n",
      "9\n",
      "8\n",
      "4\n",
      "1\n",
      "7\n",
      "7\n",
      "3\n",
      "5\n",
      "1\n",
      "0\n",
      "0\n",
      "2\n",
      "2\n",
      "7\n",
      "8\n",
      "2\n",
      "0\n",
      "1\n",
      "2\n",
      "6\n",
      "3\n",
      "3\n",
      "7\n",
      "3\n",
      "3\n",
      "4\n",
      "6\n",
      "6\n",
      "6\n",
      "4\n",
      "9\n",
      "1\n",
      "5\n",
      "0\n",
      "9\n",
      "5\n",
      "2\n",
      "8\n",
      "2\n",
      "0\n",
      "0\n",
      "1\n",
      "7\n",
      "6\n",
      "3\n",
      "2\n",
      "1\n",
      "7\n",
      "4\n",
      "6\n",
      "3\n",
      "1\n",
      "3\n",
      "9\n",
      "1\n",
      "7\n",
      "6\n",
      "8\n",
      "4\n",
      "3\n",
      "1\n",
      "4\n",
      "0\n",
      "5\n",
      "3\n",
      "6\n",
      "9\n",
      "6\n",
      "1\n",
      "7\n",
      "5\n",
      "4\n",
      "4\n",
      "7\n",
      "2\n",
      "8\n",
      "2\n",
      "2\n",
      "5\n",
      "7\n",
      "9\n",
      "5\n",
      "4\n",
      "8\n",
      "8\n",
      "4\n",
      "9\n",
      "0\n",
      "8\n",
      "9\n",
      "8\n",
      "0\n",
      "1\n",
      "2\n",
      "3\n",
      "4\n",
      "5\n",
      "6\n",
      "7\n",
      "8\n",
      "9\n",
      "0\n",
      "1\n",
      "2\n",
      "3\n",
      "4\n",
      "5\n",
      "6\n",
      "7\n",
      "8\n",
      "9\n",
      "0\n",
      "1\n",
      "2\n",
      "3\n",
      "4\n",
      "5\n",
      "6\n",
      "7\n",
      "8\n",
      "9\n",
      "0\n",
      "9\n",
      "5\n",
      "5\n",
      "6\n",
      "5\n",
      "0\n",
      "9\n",
      "8\n",
      "9\n",
      "8\n",
      "4\n",
      "1\n",
      "7\n",
      "7\n",
      "3\n",
      "5\n",
      "1\n",
      "0\n",
      "0\n",
      "2\n",
      "2\n",
      "7\n",
      "8\n",
      "2\n",
      "0\n",
      "1\n",
      "2\n",
      "6\n",
      "3\n",
      "3\n",
      "7\n",
      "3\n",
      "3\n",
      "4\n",
      "6\n",
      "6\n",
      "6\n",
      "4\n",
      "9\n",
      "1\n",
      "5\n",
      "0\n",
      "9\n",
      "5\n",
      "2\n",
      "8\n",
      "2\n",
      "0\n",
      "0\n",
      "1\n",
      "7\n",
      "6\n",
      "3\n",
      "2\n",
      "1\n",
      "7\n",
      "4\n",
      "6\n",
      "3\n",
      "1\n",
      "3\n",
      "9\n",
      "1\n",
      "7\n",
      "6\n",
      "8\n",
      "4\n",
      "3\n",
      "1\n",
      "4\n",
      "0\n",
      "5\n",
      "3\n",
      "6\n",
      "9\n",
      "6\n",
      "1\n",
      "7\n",
      "5\n",
      "4\n",
      "4\n",
      "7\n",
      "2\n",
      "8\n",
      "2\n",
      "2\n",
      "5\n",
      "7\n",
      "9\n",
      "5\n",
      "4\n",
      "8\n",
      "8\n",
      "4\n",
      "9\n",
      "0\n",
      "8\n",
      "9\n",
      "8\n",
      "1\n",
      "2\n",
      "3\n",
      "4\n",
      "5\n",
      "6\n",
      "7\n",
      "8\n",
      "9\n",
      "0\n",
      "1\n",
      "2\n",
      "3\n",
      "4\n",
      "5\n",
      "6\n",
      "7\n",
      "8\n",
      "9\n",
      "0\n",
      "1\n",
      "2\n",
      "3\n",
      "4\n",
      "5\n",
      "6\n",
      "7\n",
      "8\n",
      "9\n",
      "0\n",
      "9\n",
      "5\n",
      "5\n",
      "6\n",
      "5\n",
      "0\n",
      "9\n",
      "8\n",
      "9\n",
      "8\n",
      "4\n",
      "1\n",
      "7\n",
      "7\n",
      "3\n",
      "5\n",
      "1\n",
      "2\n",
      "7\n",
      "8\n",
      "2\n",
      "0\n",
      "1\n",
      "2\n",
      "6\n",
      "3\n",
      "3\n",
      "7\n",
      "3\n",
      "3\n",
      "4\n",
      "6\n",
      "6\n",
      "6\n",
      "4\n",
      "9\n",
      "1\n",
      "5\n",
      "0\n",
      "9\n",
      "5\n",
      "2\n",
      "8\n",
      "2\n",
      "0\n",
      "0\n",
      "1\n",
      "7\n",
      "6\n",
      "3\n",
      "2\n",
      "1\n",
      "4\n",
      "6\n",
      "3\n",
      "1\n",
      "3\n",
      "9\n",
      "1\n",
      "7\n",
      "6\n",
      "8\n",
      "4\n",
      "3\n",
      "1\n",
      "4\n",
      "0\n",
      "5\n",
      "3\n",
      "6\n",
      "9\n",
      "6\n",
      "1\n",
      "7\n",
      "5\n",
      "4\n",
      "4\n",
      "7\n",
      "2\n",
      "8\n",
      "2\n",
      "2\n",
      "5\n",
      "7\n",
      "9\n",
      "5\n",
      "4\n",
      "4\n",
      "9\n",
      "0\n",
      "8\n",
      "9\n",
      "8\n",
      "0\n",
      "1\n",
      "2\n",
      "3\n",
      "4\n",
      "5\n",
      "6\n",
      "7\n",
      "8\n",
      "9\n",
      "0\n",
      "1\n",
      "2\n",
      "3\n",
      "4\n",
      "5\n",
      "6\n",
      "7\n",
      "8\n",
      "9\n",
      "0\n",
      "1\n",
      "2\n",
      "3\n",
      "4\n",
      "5\n",
      "6\n",
      "7\n",
      "8\n",
      "9\n",
      "0\n",
      "9\n",
      "5\n",
      "5\n",
      "6\n",
      "5\n",
      "0\n",
      "9\n",
      "8\n",
      "9\n",
      "8\n",
      "4\n",
      "1\n",
      "7\n",
      "7\n",
      "3\n",
      "5\n",
      "1\n",
      "0\n",
      "0\n",
      "7\n",
      "8\n",
      "2\n",
      "0\n",
      "1\n",
      "2\n",
      "6\n",
      "3\n",
      "3\n",
      "7\n",
      "3\n",
      "3\n",
      "4\n",
      "6\n",
      "6\n",
      "6\n",
      "4\n",
      "9\n",
      "1\n",
      "5\n",
      "0\n",
      "9\n",
      "5\n",
      "2\n",
      "8\n",
      "2\n",
      "0\n",
      "0\n",
      "1\n",
      "7\n",
      "6\n",
      "3\n",
      "2\n",
      "1\n",
      "7\n",
      "4\n",
      "6\n",
      "3\n",
      "1\n",
      "3\n",
      "9\n",
      "1\n",
      "7\n",
      "6\n",
      "8\n",
      "4\n",
      "3\n",
      "1\n",
      "4\n",
      "0\n",
      "5\n",
      "3\n",
      "6\n",
      "9\n",
      "6\n",
      "1\n",
      "7\n",
      "5\n",
      "4\n",
      "4\n",
      "7\n",
      "2\n",
      "8\n",
      "2\n",
      "2\n",
      "5\n",
      "7\n",
      "9\n",
      "5\n",
      "4\n",
      "8\n",
      "8\n",
      "4\n",
      "9\n",
      "0\n",
      "8\n",
      "9\n",
      "8\n",
      "0\n",
      "1\n",
      "2\n",
      "3\n",
      "4\n",
      "5\n",
      "6\n",
      "7\n",
      "8\n",
      "9\n",
      "0\n",
      "1\n",
      "2\n",
      "3\n",
      "4\n",
      "5\n",
      "6\n",
      "7\n",
      "8\n",
      "9\n",
      "0\n",
      "1\n",
      "2\n",
      "3\n",
      "4\n",
      "5\n",
      "6\n",
      "7\n",
      "8\n",
      "9\n",
      "0\n",
      "9\n",
      "5\n",
      "5\n",
      "6\n",
      "5\n",
      "0\n",
      "9\n",
      "8\n",
      "9\n",
      "8\n",
      "4\n",
      "1\n",
      "7\n",
      "7\n",
      "3\n",
      "5\n",
      "1\n",
      "0\n",
      "0\n",
      "2\n",
      "2\n",
      "7\n",
      "8\n",
      "2\n",
      "0\n",
      "1\n",
      "2\n",
      "6\n",
      "3\n",
      "3\n",
      "7\n",
      "3\n",
      "3\n",
      "4\n",
      "6\n",
      "6\n",
      "6\n",
      "4\n",
      "9\n",
      "1\n",
      "5\n",
      "0\n",
      "9\n",
      "5\n",
      "2\n",
      "8\n",
      "2\n",
      "0\n",
      "0\n",
      "1\n",
      "7\n",
      "6\n",
      "3\n",
      "2\n",
      "1\n",
      "7\n",
      "4\n",
      "6\n",
      "3\n",
      "1\n",
      "3\n",
      "9\n",
      "1\n",
      "7\n",
      "6\n",
      "8\n",
      "4\n",
      "3\n",
      "1\n",
      "4\n",
      "0\n",
      "5\n",
      "3\n",
      "6\n",
      "9\n",
      "6\n",
      "1\n",
      "7\n",
      "5\n",
      "4\n",
      "4\n",
      "7\n",
      "2\n",
      "8\n",
      "2\n",
      "2\n",
      "5\n",
      "7\n",
      "9\n",
      "5\n",
      "4\n",
      "8\n",
      "8\n",
      "4\n",
      "9\n",
      "0\n",
      "8\n",
      "9\n",
      "8\n",
      "0\n",
      "1\n",
      "2\n",
      "3\n",
      "4\n",
      "5\n",
      "6\n",
      "7\n",
      "8\n",
      "9\n",
      "0\n",
      "1\n",
      "2\n",
      "3\n",
      "4\n",
      "5\n",
      "6\n",
      "7\n",
      "8\n",
      "9\n",
      "0\n",
      "1\n",
      "2\n",
      "3\n",
      "4\n",
      "5\n",
      "6\n",
      "7\n",
      "8\n",
      "9\n",
      "0\n",
      "9\n",
      "5\n",
      "5\n",
      "6\n",
      "5\n",
      "0\n",
      "9\n",
      "8\n",
      "9\n",
      "8\n",
      "4\n",
      "1\n",
      "7\n",
      "7\n",
      "3\n",
      "5\n",
      "1\n",
      "0\n",
      "0\n",
      "2\n",
      "2\n",
      "7\n",
      "8\n",
      "2\n",
      "0\n",
      "1\n",
      "2\n",
      "6\n",
      "3\n",
      "3\n",
      "7\n",
      "3\n",
      "3\n",
      "4\n",
      "6\n",
      "6\n",
      "6\n",
      "4\n",
      "9\n",
      "1\n",
      "5\n",
      "0\n",
      "9\n",
      "5\n",
      "2\n",
      "8\n",
      "2\n",
      "0\n",
      "0\n",
      "1\n",
      "7\n",
      "6\n",
      "3\n",
      "2\n",
      "1\n",
      "7\n",
      "4\n",
      "6\n",
      "3\n",
      "1\n",
      "3\n",
      "9\n",
      "1\n",
      "7\n",
      "6\n",
      "8\n",
      "4\n",
      "3\n",
      "1\n",
      "4\n",
      "0\n",
      "5\n",
      "3\n",
      "6\n",
      "9\n",
      "6\n",
      "1\n",
      "7\n",
      "5\n",
      "4\n",
      "4\n",
      "7\n",
      "2\n",
      "8\n",
      "2\n",
      "2\n",
      "5\n",
      "7\n",
      "9\n",
      "5\n",
      "4\n",
      "8\n",
      "8\n",
      "4\n",
      "9\n",
      "0\n",
      "8\n",
      "0\n",
      "1\n",
      "2\n",
      "3\n",
      "4\n",
      "5\n",
      "6\n",
      "7\n",
      "8\n",
      "9\n",
      "0\n",
      "1\n",
      "2\n",
      "3\n",
      "4\n",
      "5\n",
      "6\n",
      "7\n",
      "8\n",
      "9\n",
      "0\n",
      "1\n",
      "2\n",
      "3\n",
      "4\n",
      "5\n",
      "6\n",
      "7\n",
      "8\n",
      "9\n",
      "0\n",
      "9\n",
      "5\n",
      "5\n",
      "6\n",
      "5\n",
      "0\n",
      "9\n",
      "8\n",
      "9\n",
      "8\n",
      "4\n",
      "1\n",
      "7\n",
      "7\n",
      "3\n",
      "5\n",
      "1\n",
      "0\n",
      "0\n",
      "2\n",
      "2\n",
      "7\n",
      "8\n",
      "2\n",
      "0\n",
      "1\n",
      "2\n",
      "6\n",
      "3\n",
      "3\n",
      "7\n",
      "3\n",
      "3\n",
      "4\n",
      "6\n",
      "6\n",
      "6\n",
      "4\n",
      "9\n",
      "1\n",
      "5\n",
      "0\n",
      "9\n",
      "5\n",
      "2\n",
      "8\n",
      "2\n",
      "0\n",
      "0\n",
      "1\n",
      "7\n",
      "6\n",
      "3\n",
      "2\n",
      "1\n",
      "7\n",
      "4\n",
      "6\n",
      "3\n",
      "1\n",
      "3\n",
      "9\n",
      "1\n",
      "7\n",
      "6\n",
      "8\n",
      "4\n",
      "3\n",
      "1\n",
      "4\n",
      "0\n",
      "5\n",
      "3\n",
      "6\n",
      "9\n",
      "6\n",
      "1\n",
      "7\n",
      "5\n",
      "4\n",
      "4\n",
      "7\n",
      "2\n",
      "8\n",
      "2\n",
      "2\n",
      "5\n",
      "7\n",
      "9\n",
      "5\n",
      "4\n",
      "8\n",
      "8\n",
      "4\n",
      "9\n",
      "0\n",
      "8\n",
      "9\n",
      "8\n",
      "0\n",
      "1\n",
      "2\n",
      "3\n",
      "4\n",
      "5\n",
      "6\n",
      "7\n",
      "8\n",
      "9\n",
      "0\n",
      "1\n",
      "2\n",
      "3\n",
      "4\n",
      "5\n",
      "6\n",
      "9\n",
      "0\n",
      "1\n",
      "2\n",
      "3\n",
      "4\n",
      "5\n",
      "6\n",
      "7\n",
      "8\n",
      "9\n",
      "0\n",
      "9\n",
      "5\n",
      "5\n",
      "6\n",
      "5\n",
      "0\n",
      "9\n",
      "8\n",
      "9\n",
      "8\n",
      "4\n",
      "1\n",
      "7\n",
      "7\n",
      "3\n",
      "5\n",
      "1\n",
      "0\n",
      "0\n",
      "2\n",
      "2\n",
      "7\n",
      "8\n",
      "2\n",
      "0\n",
      "1\n",
      "2\n",
      "6\n",
      "3\n",
      "3\n",
      "7\n",
      "3\n",
      "3\n",
      "4\n",
      "6\n",
      "6\n",
      "6\n",
      "4\n",
      "9\n",
      "1\n",
      "5\n",
      "0\n",
      "9\n",
      "5\n",
      "2\n",
      "8\n",
      "0\n",
      "1\n",
      "7\n",
      "6\n",
      "3\n",
      "2\n",
      "1\n",
      "7\n",
      "4\n",
      "6\n",
      "3\n",
      "1\n",
      "3\n",
      "9\n",
      "1\n",
      "7\n",
      "6\n",
      "8\n",
      "4\n",
      "3\n",
      "1\n",
      "4\n",
      "0\n",
      "5\n",
      "3\n",
      "6\n",
      "9\n",
      "6\n",
      "1\n",
      "7\n",
      "5\n",
      "4\n",
      "4\n",
      "7\n",
      "2\n",
      "2\n",
      "5\n",
      "7\n",
      "9\n",
      "5\n",
      "4\n",
      "4\n",
      "9\n",
      "0\n",
      "8\n",
      "9\n",
      "8\n",
      "0\n",
      "1\n",
      "2\n",
      "3\n",
      "4\n",
      "5\n",
      "6\n",
      "7\n",
      "8\n",
      "9\n",
      "0\n",
      "1\n",
      "2\n",
      "3\n",
      "4\n",
      "5\n",
      "6\n",
      "7\n",
      "8\n",
      "9\n",
      "0\n",
      "1\n",
      "2\n",
      "3\n",
      "4\n",
      "5\n",
      "6\n",
      "7\n",
      "8\n",
      "9\n",
      "0\n",
      "9\n",
      "5\n",
      "5\n",
      "6\n",
      "5\n",
      "0\n",
      "9\n",
      "8\n",
      "9\n",
      "8\n",
      "4\n",
      "1\n",
      "7\n",
      "7\n",
      "3\n",
      "5\n",
      "1\n",
      "0\n",
      "0\n",
      "2\n",
      "2\n",
      "7\n",
      "8\n",
      "2\n",
      "0\n",
      "1\n",
      "2\n",
      "6\n",
      "3\n",
      "3\n",
      "7\n",
      "3\n",
      "3\n",
      "4\n",
      "6\n",
      "6\n",
      "6\n",
      "4\n",
      "9\n",
      "1\n",
      "5\n",
      "0\n",
      "9\n",
      "5\n",
      "2\n",
      "8\n",
      "2\n",
      "0\n",
      "0\n",
      "1\n",
      "7\n",
      "6\n",
      "3\n",
      "2\n",
      "1\n",
      "7\n",
      "4\n",
      "6\n",
      "3\n",
      "1\n",
      "3\n",
      "9\n",
      "1\n",
      "7\n",
      "6\n",
      "8\n",
      "4\n",
      "3\n",
      "1\n",
      "4\n",
      "0\n",
      "5\n",
      "3\n",
      "6\n",
      "9\n",
      "6\n",
      "1\n",
      "7\n",
      "5\n",
      "4\n",
      "4\n",
      "7\n",
      "2\n",
      "8\n",
      "2\n",
      "2\n",
      "5\n",
      "7\n",
      "9\n",
      "5\n",
      "4\n",
      "8\n",
      "8\n",
      "4\n",
      "9\n",
      "0\n",
      "8\n",
      "9\n",
      "8\n"
     ]
    }
   ],
   "source": [
    "for i in digits.target:\n",
    "    print(i)"
   ]
  },
  {
   "cell_type": "code",
   "execution_count": 27,
   "metadata": {
    "ExecuteTime": {
     "end_time": "2022-08-01T17:14:23.841776Z",
     "start_time": "2022-08-01T17:14:23.837773Z"
    }
   },
   "outputs": [],
   "source": [
    "X_train, X_test, y_train, y_test = train_test_split(x,y, test_size=0.2)"
   ]
  },
  {
   "cell_type": "code",
   "execution_count": 28,
   "metadata": {
    "ExecuteTime": {
     "end_time": "2022-08-01T17:14:27.687773Z",
     "start_time": "2022-08-01T17:14:24.170774Z"
    }
   },
   "outputs": [
    {
     "data": {
      "text/plain": [
       "LogisticRegression(max_iter=10000)"
      ]
     },
     "execution_count": 28,
     "metadata": {},
     "output_type": "execute_result"
    }
   ],
   "source": [
    "model.fit(X_train, y_train)"
   ]
  },
  {
   "cell_type": "markdown",
   "metadata": {},
   "source": [
    "<h4 style='color:purple'>Measure accuracy of our model</h4>"
   ]
  },
  {
   "cell_type": "code",
   "execution_count": 29,
   "metadata": {
    "ExecuteTime": {
     "end_time": "2022-08-01T17:14:37.915513Z",
     "start_time": "2022-08-01T17:14:37.910516Z"
    }
   },
   "outputs": [
    {
     "data": {
      "text/plain": [
       "1.0"
      ]
     },
     "execution_count": 29,
     "metadata": {},
     "output_type": "execute_result"
    }
   ],
   "source": [
    "model.score(X_train, y_train) # no overfitting"
   ]
  },
  {
   "cell_type": "code",
   "execution_count": 30,
   "metadata": {
    "ExecuteTime": {
     "end_time": "2022-08-01T17:14:40.642548Z",
     "start_time": "2022-08-01T17:14:40.638550Z"
    }
   },
   "outputs": [
    {
     "data": {
      "text/plain": [
       "0.9805555555555555"
      ]
     },
     "execution_count": 30,
     "metadata": {},
     "output_type": "execute_result"
    }
   ],
   "source": [
    "model.score(X_test, y_test)"
   ]
  },
  {
   "cell_type": "code",
   "execution_count": 20,
   "metadata": {
    "ExecuteTime": {
     "end_time": "2021-09-13T13:51:38.480466Z",
     "start_time": "2021-09-13T13:51:38.467502Z"
    }
   },
   "outputs": [
    {
     "name": "stdout",
     "output_type": "stream",
     "text": [
      "0\n",
      "1\n",
      "2\n",
      "3\n",
      "4\n"
     ]
    }
   ],
   "source": [
    "for i in range(5):\n",
    "    print(digits.target[i])"
   ]
  },
  {
   "cell_type": "code",
   "execution_count": 24,
   "metadata": {
    "ExecuteTime": {
     "end_time": "2022-07-30T11:05:07.973636Z",
     "start_time": "2022-07-30T11:05:07.969632Z"
    }
   },
   "outputs": [
    {
     "data": {
      "text/plain": [
       "array([0, 1, 2, 3, 4])"
      ]
     },
     "execution_count": 24,
     "metadata": {},
     "output_type": "execute_result"
    }
   ],
   "source": [
    "model.predict(digits.data[0:5])"
   ]
  },
  {
   "cell_type": "code",
   "execution_count": 25,
   "metadata": {
    "ExecuteTime": {
     "end_time": "2022-07-30T11:05:08.271632Z",
     "start_time": "2022-07-30T11:05:08.267632Z"
    }
   },
   "outputs": [
    {
     "data": {
      "text/plain": [
       "array([0, 1, 2, 3, 4])"
      ]
     },
     "execution_count": 25,
     "metadata": {},
     "output_type": "execute_result"
    }
   ],
   "source": [
    "digits.target[0:5]"
   ]
  },
  {
   "cell_type": "markdown",
   "metadata": {},
   "source": [
    "<h4 style='color:purple'>Confusion Matrix</h4>"
   ]
  },
  {
   "cell_type": "code",
   "execution_count": 26,
   "metadata": {
    "ExecuteTime": {
     "end_time": "2022-07-30T11:05:09.588633Z",
     "start_time": "2022-07-30T11:05:09.585632Z"
    }
   },
   "outputs": [
    {
     "data": {
      "text/plain": [
       "1437"
      ]
     },
     "execution_count": 26,
     "metadata": {},
     "output_type": "execute_result"
    }
   ],
   "source": [
    "len(X_train)"
   ]
  },
  {
   "cell_type": "code",
   "execution_count": 27,
   "metadata": {
    "ExecuteTime": {
     "end_time": "2022-07-30T11:05:09.799632Z",
     "start_time": "2022-07-30T11:05:09.795633Z"
    }
   },
   "outputs": [
    {
     "data": {
      "text/plain": [
       "360"
      ]
     },
     "execution_count": 27,
     "metadata": {},
     "output_type": "execute_result"
    }
   ],
   "source": [
    "len(X_test)"
   ]
  },
  {
   "cell_type": "code",
   "execution_count": 32,
   "metadata": {
    "ExecuteTime": {
     "end_time": "2022-08-01T17:18:48.827000Z",
     "start_time": "2022-08-01T17:18:48.824000Z"
    }
   },
   "outputs": [],
   "source": [
    "y_predicted = model.predict(X_test)"
   ]
  },
  {
   "cell_type": "code",
   "execution_count": 33,
   "metadata": {
    "ExecuteTime": {
     "end_time": "2022-08-01T17:18:49.087001Z",
     "start_time": "2022-08-01T17:18:49.082997Z"
    },
    "scrolled": true
   },
   "outputs": [
    {
     "data": {
      "text/plain": [
       "array([3, 5, 9, 8, 9, 6, 9, 6, 6, 5, 6, 6, 9, 7, 9, 1, 5, 8, 6, 0, 9, 5,\n",
       "       6, 0, 2, 6, 0, 6, 5, 9, 9, 6, 1, 7, 5, 6, 6, 0, 9, 4, 8, 1, 1, 9,\n",
       "       9, 8, 1, 9, 4, 3, 5, 4, 0, 6, 4, 3, 1, 5, 0, 5, 6, 8, 9, 7, 5, 4,\n",
       "       1, 7, 3, 5, 7, 2, 4, 0, 0, 4, 7, 6, 9, 1, 7, 4, 1, 7, 9, 5, 5, 3,\n",
       "       4, 4, 3, 7, 9, 2, 6, 5, 5, 0, 2, 6, 2, 4, 9, 0, 9, 6, 8, 3, 6, 4,\n",
       "       6, 9, 7, 7, 7, 6, 7, 8, 8, 7, 1, 4, 7, 5, 3, 0, 9, 0, 0, 5, 0, 0,\n",
       "       2, 5, 6, 7, 2, 6, 6, 6, 2, 0, 2, 4, 1, 1, 8, 7, 2, 0, 6, 0, 0, 3,\n",
       "       8, 1, 9, 3, 0, 2, 4, 6, 3, 3, 5, 1, 2, 8, 0, 6, 2, 0, 5, 8, 6, 7,\n",
       "       5, 5, 2, 5, 1, 4, 9, 8, 2, 3, 6, 0, 9, 0, 9, 8, 6, 1, 1, 0, 6, 8,\n",
       "       5, 9, 9, 7, 5, 9, 6, 3, 1, 7, 8, 4, 5, 3, 6, 8, 4, 1, 2, 7, 9, 5,\n",
       "       9, 4, 9, 8, 1, 6, 7, 5, 5, 5, 7, 6, 3, 1, 1, 5, 1, 5, 1, 3, 3, 7,\n",
       "       4, 2, 6, 1, 5, 2, 1, 9, 0, 3, 0, 2, 4, 2, 2, 4, 8, 6, 1, 8, 4, 4,\n",
       "       0, 6, 2, 8, 9, 7, 4, 4, 3, 8, 1, 7, 2, 0, 2, 5, 9, 7, 9, 8, 8, 3,\n",
       "       3, 5, 9, 3, 0, 7, 3, 6, 0, 4, 4, 2, 1, 5, 5, 7, 3, 8, 3, 7, 9, 0,\n",
       "       6, 8, 2, 6, 2, 5, 1, 3, 5, 6, 1, 4, 1, 4, 7, 2, 2, 6, 4, 9, 3, 4,\n",
       "       5, 4, 6, 1, 8, 4, 6, 2, 8, 4, 0, 9, 1, 9, 8, 3, 7, 6, 8, 0, 4, 6,\n",
       "       2, 6, 2, 2, 6, 1, 5, 3])"
      ]
     },
     "execution_count": 33,
     "metadata": {},
     "output_type": "execute_result"
    }
   ],
   "source": [
    "y_predicted"
   ]
  },
  {
   "cell_type": "code",
   "execution_count": 34,
   "metadata": {
    "ExecuteTime": {
     "end_time": "2022-08-01T17:19:35.288215Z",
     "start_time": "2022-08-01T17:19:35.284212Z"
    }
   },
   "outputs": [
    {
     "data": {
      "text/plain": [
       "360"
      ]
     },
     "execution_count": 34,
     "metadata": {},
     "output_type": "execute_result"
    }
   ],
   "source": [
    "len(y_predicted)"
   ]
  },
  {
   "cell_type": "code",
   "execution_count": 35,
   "metadata": {
    "ExecuteTime": {
     "end_time": "2022-08-01T17:19:35.900212Z",
     "start_time": "2022-08-01T17:19:35.896212Z"
    }
   },
   "outputs": [
    {
     "data": {
      "text/plain": [
       "5"
      ]
     },
     "execution_count": 35,
     "metadata": {},
     "output_type": "execute_result"
    }
   ],
   "source": [
    "y_test[1]"
   ]
  },
  {
   "cell_type": "code",
   "execution_count": 36,
   "metadata": {
    "ExecuteTime": {
     "end_time": "2022-08-01T17:20:03.011421Z",
     "start_time": "2022-08-01T17:20:03.006419Z"
    }
   },
   "outputs": [
    {
     "data": {
      "text/plain": [
       "array([[34,  0,  0,  0,  0,  0,  0,  0,  0,  0],\n",
       "       [ 0, 35,  0,  0,  0,  0,  0,  0,  0,  0],\n",
       "       [ 0,  0, 32,  0,  0,  0,  0,  0,  0,  0],\n",
       "       [ 0,  0,  1, 28,  0,  0,  0,  0,  0,  0],\n",
       "       [ 0,  0,  0,  0, 35,  0,  0,  0,  0,  0],\n",
       "       [ 0,  0,  0,  0,  1, 41,  0,  0,  0,  0],\n",
       "       [ 0,  0,  0,  0,  0,  0, 49,  0,  1,  0],\n",
       "       [ 0,  0,  0,  0,  0,  0,  0, 32,  0,  0],\n",
       "       [ 0,  0,  0,  0,  0,  0,  1,  0, 29,  1],\n",
       "       [ 0,  0,  0,  2,  0,  0,  0,  0,  0, 38]], dtype=int64)"
      ]
     },
     "execution_count": 36,
     "metadata": {},
     "output_type": "execute_result"
    }
   ],
   "source": [
    "from sklearn.metrics import confusion_matrix\n",
    "cm = confusion_matrix(y_test, y_predicted) # compare between predicted values, actual values \n",
    "cm"
   ]
  },
  {
   "cell_type": "code",
   "execution_count": 37,
   "metadata": {
    "ExecuteTime": {
     "end_time": "2022-08-01T17:20:14.933489Z",
     "start_time": "2022-08-01T17:20:13.838489Z"
    }
   },
   "outputs": [
    {
     "data": {
      "text/plain": [
       "Text(69.0, 0.5, 'Truth')"
      ]
     },
     "execution_count": 37,
     "metadata": {},
     "output_type": "execute_result"
    },
    {
     "data": {
      "image/png": "[encoded data removed]",
      "text/plain": [
       "<Figure size 720x504 with 2 Axes>"
      ]
     },
     "metadata": {
      "needs_background": "light"
     },
     "output_type": "display_data"
    }
   ],
   "source": [
    "#%matplotlib notebook\n",
    "import seaborn as sn\n",
    "plt.figure(figsize = (10,7))\n",
    "sn.heatmap(cm, annot = True)\n",
    "plt.xlabel('Predicted')\n",
    "plt.ylabel('Truth')"
   ]
  },
  {
   "cell_type": "markdown",
   "metadata": {},
   "source": [
    "**Exercise**"
   ]
  },
  {
   "cell_type": "markdown",
   "metadata": {},
   "source": [
    "Use sklearn.datasets iris flower dataset to train your model using logistic regression. You need to figure out accuracy \n",
    "of your model and use that to predict different samples in your test dataset. In iris dataset there are 150 samples containing following features,\n",
    "\n",
    "1. Sepal Length\n",
    "2. Sepal Width \n",
    "3. Petal Length \n",
    "4. Petal Width\n",
    "\n",
    "Using above 4 features you will clasify a flower in one of the three categories,\n",
    "\n",
    "1. Setosa\n",
    "2. Versicolour\n",
    "3. Virginica"
   ]
  },
  {
   "cell_type": "markdown",
   "metadata": {},
   "source": [
    "<img height=300 width=300 src=\"iris_petal_sepal.png\" />"
   ]
  },
  {
   "cell_type": "code",
   "execution_count": 35,
   "metadata": {
    "ExecuteTime": {
     "end_time": "2022-07-30T11:15:32.880947Z",
     "start_time": "2022-07-30T11:15:32.878945Z"
    }
   },
   "outputs": [],
   "source": [
    "from sklearn.datasets import load_iris"
   ]
  },
  {
   "cell_type": "code",
   "execution_count": 36,
   "metadata": {
    "ExecuteTime": {
     "end_time": "2022-07-30T11:15:33.171944Z",
     "start_time": "2022-07-30T11:15:33.167945Z"
    }
   },
   "outputs": [],
   "source": [
    "data = load_iris()"
   ]
  },
  {
   "cell_type": "code",
   "execution_count": 37,
   "metadata": {
    "ExecuteTime": {
     "end_time": "2022-07-30T11:15:33.380945Z",
     "start_time": "2022-07-30T11:15:33.376944Z"
    }
   },
   "outputs": [
    {
     "data": {
      "text/plain": [
       "['DESCR',\n",
       " 'data',\n",
       " 'feature_names',\n",
       " 'filename',\n",
       " 'frame',\n",
       " 'target',\n",
       " 'target_names']"
      ]
     },
     "execution_count": 37,
     "metadata": {},
     "output_type": "execute_result"
    }
   ],
   "source": [
    "dir(data)"
   ]
  },
  {
   "cell_type": "code",
   "execution_count": 40,
   "metadata": {
    "ExecuteTime": {
     "end_time": "2022-07-30T11:16:01.406944Z",
     "start_time": "2022-07-30T11:16:01.393946Z"
    }
   },
   "outputs": [
    {
     "data": {
      "text/html": [
       "<div>\n",
       "<style scoped>\n",
       "    .dataframe tbody tr th:only-of-type {\n",
       "        vertical-align: middle;\n",
       "    }\n",
       "\n",
       "    .dataframe tbody tr th {\n",
       "        vertical-align: top;\n",
       "    }\n",
       "\n",
       "    .dataframe thead th {\n",
       "        text-align: right;\n",
       "    }\n",
       "</style>\n",
       "<table border=\"1\" class=\"dataframe\">\n",
       "  <thead>\n",
       "    <tr style=\"text-align: right;\">\n",
       "      <th></th>\n",
       "      <th>sepal length (cm)</th>\n",
       "      <th>sepal width (cm)</th>\n",
       "      <th>petal length (cm)</th>\n",
       "      <th>petal width (cm)</th>\n",
       "    </tr>\n",
       "  </thead>\n",
       "  <tbody>\n",
       "    <tr>\n",
       "      <th>0</th>\n",
       "      <td>5.1</td>\n",
       "      <td>3.5</td>\n",
       "      <td>1.4</td>\n",
       "      <td>0.2</td>\n",
       "    </tr>\n",
       "    <tr>\n",
       "      <th>1</th>\n",
       "      <td>4.9</td>\n",
       "      <td>3.0</td>\n",
       "      <td>1.4</td>\n",
       "      <td>0.2</td>\n",
       "    </tr>\n",
       "    <tr>\n",
       "      <th>2</th>\n",
       "      <td>4.7</td>\n",
       "      <td>3.2</td>\n",
       "      <td>1.3</td>\n",
       "      <td>0.2</td>\n",
       "    </tr>\n",
       "    <tr>\n",
       "      <th>3</th>\n",
       "      <td>4.6</td>\n",
       "      <td>3.1</td>\n",
       "      <td>1.5</td>\n",
       "      <td>0.2</td>\n",
       "    </tr>\n",
       "    <tr>\n",
       "      <th>4</th>\n",
       "      <td>5.0</td>\n",
       "      <td>3.6</td>\n",
       "      <td>1.4</td>\n",
       "      <td>0.2</td>\n",
       "    </tr>\n",
       "    <tr>\n",
       "      <th>...</th>\n",
       "      <td>...</td>\n",
       "      <td>...</td>\n",
       "      <td>...</td>\n",
       "      <td>...</td>\n",
       "    </tr>\n",
       "    <tr>\n",
       "      <th>145</th>\n",
       "      <td>6.7</td>\n",
       "      <td>3.0</td>\n",
       "      <td>5.2</td>\n",
       "      <td>2.3</td>\n",
       "    </tr>\n",
       "    <tr>\n",
       "      <th>146</th>\n",
       "      <td>6.3</td>\n",
       "      <td>2.5</td>\n",
       "      <td>5.0</td>\n",
       "      <td>1.9</td>\n",
       "    </tr>\n",
       "    <tr>\n",
       "      <th>147</th>\n",
       "      <td>6.5</td>\n",
       "      <td>3.0</td>\n",
       "      <td>5.2</td>\n",
       "      <td>2.0</td>\n",
       "    </tr>\n",
       "    <tr>\n",
       "      <th>148</th>\n",
       "      <td>6.2</td>\n",
       "      <td>3.4</td>\n",
       "      <td>5.4</td>\n",
       "      <td>2.3</td>\n",
       "    </tr>\n",
       "    <tr>\n",
       "      <th>149</th>\n",
       "      <td>5.9</td>\n",
       "      <td>3.0</td>\n",
       "      <td>5.1</td>\n",
       "      <td>1.8</td>\n",
       "    </tr>\n",
       "  </tbody>\n",
       "</table>\n",
       "<p>150 rows × 4 columns</p>\n",
       "</div>"
      ],
      "text/plain": [
       "     sepal length (cm)  sepal width (cm)  petal length (cm)  petal width (cm)\n",
       "0                  5.1               3.5                1.4               0.2\n",
       "1                  4.9               3.0                1.4               0.2\n",
       "2                  4.7               3.2                1.3               0.2\n",
       "3                  4.6               3.1                1.5               0.2\n",
       "4                  5.0               3.6                1.4               0.2\n",
       "..                 ...               ...                ...               ...\n",
       "145                6.7               3.0                5.2               2.3\n",
       "146                6.3               2.5                5.0               1.9\n",
       "147                6.5               3.0                5.2               2.0\n",
       "148                6.2               3.4                5.4               2.3\n",
       "149                5.9               3.0                5.1               1.8\n",
       "\n",
       "[150 rows x 4 columns]"
      ]
     },
     "execution_count": 40,
     "metadata": {},
     "output_type": "execute_result"
    }
   ],
   "source": [
    "import pandas as pd\n",
    "df = pd.DataFrame(data.data , columns= data.feature_names)\n",
    "df"
   ]
  },
  {
   "cell_type": "code",
   "execution_count": 41,
   "metadata": {
    "ExecuteTime": {
     "end_time": "2022-07-30T11:16:07.015946Z",
     "start_time": "2022-07-30T11:16:07.012944Z"
    }
   },
   "outputs": [
    {
     "data": {
      "text/plain": [
       "array([0, 0, 0, 0, 0, 0, 0, 0, 0, 0, 0, 0, 0, 0, 0, 0, 0, 0, 0, 0, 0, 0,\n",
       "       0, 0, 0, 0, 0, 0, 0, 0, 0, 0, 0, 0, 0, 0, 0, 0, 0, 0, 0, 0, 0, 0,\n",
       "       0, 0, 0, 0, 0, 0, 1, 1, 1, 1, 1, 1, 1, 1, 1, 1, 1, 1, 1, 1, 1, 1,\n",
       "       1, 1, 1, 1, 1, 1, 1, 1, 1, 1, 1, 1, 1, 1, 1, 1, 1, 1, 1, 1, 1, 1,\n",
       "       1, 1, 1, 1, 1, 1, 1, 1, 1, 1, 1, 1, 2, 2, 2, 2, 2, 2, 2, 2, 2, 2,\n",
       "       2, 2, 2, 2, 2, 2, 2, 2, 2, 2, 2, 2, 2, 2, 2, 2, 2, 2, 2, 2, 2, 2,\n",
       "       2, 2, 2, 2, 2, 2, 2, 2, 2, 2, 2, 2, 2, 2, 2, 2, 2, 2])"
      ]
     },
     "execution_count": 41,
     "metadata": {},
     "output_type": "execute_result"
    }
   ],
   "source": [
    "y = data.target\n",
    "y"
   ]
  },
  {
   "cell_type": "code",
   "execution_count": 47,
   "metadata": {
    "ExecuteTime": {
     "end_time": "2022-04-15T11:11:22.997820Z",
     "start_time": "2022-04-15T11:11:22.992837Z"
    }
   },
   "outputs": [
    {
     "data": {
      "text/plain": [
       "array(['setosa', 'versicolor', 'virginica'], dtype='<U10')"
      ]
     },
     "execution_count": 47,
     "metadata": {},
     "output_type": "execute_result"
    }
   ],
   "source": [
    "data.target_names"
   ]
  },
  {
   "cell_type": "code",
   "execution_count": 48,
   "metadata": {
    "ExecuteTime": {
     "end_time": "2022-04-15T11:11:27.538467Z",
     "start_time": "2022-04-15T11:11:27.530467Z"
    }
   },
   "outputs": [
    {
     "data": {
      "text/plain": [
       "array([0, 0, 0, 0, 0, 0, 0, 0, 0, 0, 0, 0, 0, 0, 0, 0, 0, 0, 0, 0, 0, 0,\n",
       "       0, 0, 0, 0, 0, 0, 0, 0, 0, 0, 0, 0, 0, 0, 0, 0, 0, 0, 0, 0, 0, 0,\n",
       "       0, 0, 0, 0, 0, 0, 1, 1, 1, 1, 1, 1, 1, 1, 1, 1, 1, 1, 1, 1, 1, 1,\n",
       "       1, 1, 1, 1, 1, 1, 1, 1, 1, 1, 1, 1, 1, 1, 1, 1, 1, 1, 1, 1, 1, 1,\n",
       "       1, 1, 1, 1, 1, 1, 1, 1, 1, 1, 1, 1, 2, 2, 2, 2, 2, 2, 2, 2, 2, 2,\n",
       "       2, 2, 2, 2, 2, 2, 2, 2, 2, 2, 2, 2, 2, 2, 2, 2, 2, 2, 2, 2, 2, 2,\n",
       "       2, 2, 2, 2, 2, 2, 2, 2, 2, 2, 2, 2, 2, 2, 2, 2, 2, 2])"
      ]
     },
     "execution_count": 48,
     "metadata": {},
     "output_type": "execute_result"
    }
   ],
   "source": [
    "data.target"
   ]
  },
  {
   "cell_type": "code",
   "execution_count": 42,
   "metadata": {
    "ExecuteTime": {
     "end_time": "2022-07-30T11:16:11.271944Z",
     "start_time": "2022-07-30T11:16:11.267943Z"
    }
   },
   "outputs": [],
   "source": [
    "X_train, X_test, y_train, y_test = train_test_split(df,y, test_size=0.2)"
   ]
  },
  {
   "cell_type": "code",
   "execution_count": 45,
   "metadata": {
    "ExecuteTime": {
     "end_time": "2022-07-30T11:16:59.966945Z",
     "start_time": "2022-07-30T11:16:59.963945Z"
    }
   },
   "outputs": [],
   "source": [
    "from sklearn.linear_model import LogisticRegression\n",
    "model = LogisticRegression(max_iter=1000)"
   ]
  },
  {
   "cell_type": "code",
   "execution_count": 46,
   "metadata": {
    "ExecuteTime": {
     "end_time": "2022-07-30T11:17:00.372944Z",
     "start_time": "2022-07-30T11:17:00.334945Z"
    }
   },
   "outputs": [
    {
     "data": {
      "text/plain": [
       "LogisticRegression(max_iter=1000)"
      ]
     },
     "execution_count": 46,
     "metadata": {},
     "output_type": "execute_result"
    }
   ],
   "source": [
    "model.fit(X_train, y_train)"
   ]
  },
  {
   "cell_type": "code",
   "execution_count": 47,
   "metadata": {
    "ExecuteTime": {
     "end_time": "2022-07-30T11:17:10.303949Z",
     "start_time": "2022-07-30T11:17:10.298948Z"
    }
   },
   "outputs": [
    {
     "data": {
      "text/plain": [
       "0.9666666666666667"
      ]
     },
     "execution_count": 47,
     "metadata": {},
     "output_type": "execute_result"
    }
   ],
   "source": [
    "model.score(X_test, y_test)"
   ]
  },
  {
   "cell_type": "code",
   "execution_count": null,
   "metadata": {},
   "outputs": [],
   "source": []
  }
 ],
 "metadata": {
  "kernelspec": {
   "display_name": "Python 3",
   "language": "python",
   "name": "python3"
  },
  "language_info": {
   "codemirror_mode": {
    "name": "ipython",
    "version": 3
   },
   "file_extension": ".py",
   "mimetype": "text/x-python",
   "name": "python",
   "nbconvert_exporter": "python",
   "pygments_lexer": "ipython3",
   "version": "3.8.5"
  },
  "toc": {
   "base_numbering": 1,
   "nav_menu": {},
   "number_sections": true,
   "sideBar": true,
   "skip_h1_title": false,
   "title_cell": "Table of Contents",
   "title_sidebar": "Contents",
   "toc_cell": false,
   "toc_position": {},
   "toc_section_display": true,
   "toc_window_display": false
  },
  "varInspector": {
   "cols": {
    "lenName": 16,
    "lenType": 16,
    "lenVar": 40
   },
   "kernels_config": {
    "python": {
     "delete_cmd_postfix": "",
     "delete_cmd_prefix": "del ",
     "library": "var_list.py",
     "varRefreshCmd": "print(var_dic_list())"
    },
    "r": {
     "delete_cmd_postfix": ") ",
     "delete_cmd_prefix": "rm(",
     "library": "var_list.r",
     "varRefreshCmd": "cat(var_dic_list()) "
    }
   },
   "types_to_exclude": [
    "module",
    "function",
    "builtin_function_or_method",
    "instance",
    "_Feature"
   ],
   "window_display": false
  }
 },
 "nbformat": 4,
 "nbformat_minor": 2
}
