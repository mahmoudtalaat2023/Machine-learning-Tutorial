{
 "cells": [
  {
   "cell_type": "code",
   "execution_count": null,
   "id": "3fde5b26",
   "metadata": {},
   "outputs": [],
   "source": [
    "libs for ml:\n",
    "    \n",
    "    sklearn \n",
    "    pyspark \n",
    "    clearml \n",
    "    topot\n",
    "    h2o \n",
    "    "
   ]
  },
  {
   "cell_type": "code",
   "execution_count": 1,
   "id": "70697bbf",
   "metadata": {
    "ExecuteTime": {
     "end_time": "2022-07-02T09:46:54.044738Z",
     "start_time": "2022-07-02T09:46:53.714985Z"
    }
   },
   "outputs": [],
   "source": [
    "import pandas as pd "
   ]
  },
  {
   "cell_type": "code",
   "execution_count": 2,
   "id": "9b6bed22",
   "metadata": {
    "ExecuteTime": {
     "end_time": "2022-07-02T09:47:00.415016Z",
     "start_time": "2022-07-02T09:47:00.384126Z"
    }
   },
   "outputs": [],
   "source": [
    "df = pd.read_csv(\"homeprices.csv\")"
   ]
  },
  {
   "cell_type": "code",
   "execution_count": 3,
   "id": "05288426",
   "metadata": {
    "ExecuteTime": {
     "end_time": "2022-07-02T09:47:01.830091Z",
     "start_time": "2022-07-02T09:47:01.799285Z"
    }
   },
   "outputs": [
    {
     "data": {
      "text/html": [
       "<div>\n",
       "<style scoped>\n",
       "    .dataframe tbody tr th:only-of-type {\n",
       "        vertical-align: middle;\n",
       "    }\n",
       "\n",
       "    .dataframe tbody tr th {\n",
       "        vertical-align: top;\n",
       "    }\n",
       "\n",
       "    .dataframe thead th {\n",
       "        text-align: right;\n",
       "    }\n",
       "</style>\n",
       "<table border=\"1\" class=\"dataframe\">\n",
       "  <thead>\n",
       "    <tr style=\"text-align: right;\">\n",
       "      <th></th>\n",
       "      <th>area</th>\n",
       "      <th>price</th>\n",
       "    </tr>\n",
       "  </thead>\n",
       "  <tbody>\n",
       "    <tr>\n",
       "      <th>0</th>\n",
       "      <td>2600</td>\n",
       "      <td>550000</td>\n",
       "    </tr>\n",
       "    <tr>\n",
       "      <th>1</th>\n",
       "      <td>3000</td>\n",
       "      <td>565000</td>\n",
       "    </tr>\n",
       "    <tr>\n",
       "      <th>2</th>\n",
       "      <td>3200</td>\n",
       "      <td>610000</td>\n",
       "    </tr>\n",
       "    <tr>\n",
       "      <th>3</th>\n",
       "      <td>3600</td>\n",
       "      <td>680000</td>\n",
       "    </tr>\n",
       "    <tr>\n",
       "      <th>4</th>\n",
       "      <td>4000</td>\n",
       "      <td>725000</td>\n",
       "    </tr>\n",
       "  </tbody>\n",
       "</table>\n",
       "</div>"
      ],
      "text/plain": [
       "   area   price\n",
       "0  2600  550000\n",
       "1  3000  565000\n",
       "2  3200  610000\n",
       "3  3600  680000\n",
       "4  4000  725000"
      ]
     },
     "execution_count": 3,
     "metadata": {},
     "output_type": "execute_result"
    }
   ],
   "source": [
    "df"
   ]
  },
  {
   "cell_type": "code",
   "execution_count": 4,
   "id": "fd96dcfc",
   "metadata": {
    "ExecuteTime": {
     "end_time": "2022-07-02T09:48:15.028398Z",
     "start_time": "2022-07-02T09:48:14.997600Z"
    }
   },
   "outputs": [
    {
     "data": {
      "text/plain": [
       "211.53846153846155"
      ]
     },
     "execution_count": 4,
     "metadata": {},
     "output_type": "execute_result"
    }
   ],
   "source": [
    "550000 / 2600"
   ]
  },
  {
   "cell_type": "code",
   "execution_count": 5,
   "id": "d5e70ada",
   "metadata": {
    "ExecuteTime": {
     "end_time": "2022-07-02T09:48:35.903349Z",
     "start_time": "2022-07-02T09:48:35.887713Z"
    }
   },
   "outputs": [
    {
     "data": {
      "text/plain": [
       "188.33333333333334"
      ]
     },
     "execution_count": 5,
     "metadata": {},
     "output_type": "execute_result"
    }
   ],
   "source": [
    "565000 /3000 "
   ]
  },
  {
   "cell_type": "code",
   "execution_count": 6,
   "id": "4f9e9436",
   "metadata": {
    "ExecuteTime": {
     "end_time": "2022-07-02T09:55:01.208264Z",
     "start_time": "2022-07-02T09:55:01.035882Z"
    }
   },
   "outputs": [
    {
     "data": {
      "image/png": "[encoded data removed]",
      "text/plain": [
       "<Figure size 432x288 with 1 Axes>"
      ]
     },
     "metadata": {
      "needs_background": "light"
     },
     "output_type": "display_data"
    }
   ],
   "source": [
    "import matplotlib.pyplot as plt\n",
    "plt.scatter(df.area, df.price)\n",
    "plt.show()"
   ]
  },
  {
   "cell_type": "code",
   "execution_count": 13,
   "id": "49a118a3",
   "metadata": {
    "ExecuteTime": {
     "end_time": "2022-07-02T10:06:54.607735Z",
     "start_time": "2022-07-02T10:06:54.592107Z"
    }
   },
   "outputs": [],
   "source": [
    "from sklearn.linear_model import LinearRegression\n",
    "model = LinearRegression().fit(df.drop(\"price\", axis = 1) , df.price)"
   ]
  },
  {
   "cell_type": "code",
   "execution_count": 14,
   "id": "07daa843",
   "metadata": {
    "ExecuteTime": {
     "end_time": "2022-07-02T10:06:55.315864Z",
     "start_time": "2022-07-02T10:06:55.300238Z"
    }
   },
   "outputs": [
    {
     "data": {
      "text/plain": [
       "array([452191.78082192])"
      ]
     },
     "execution_count": 14,
     "metadata": {},
     "output_type": "execute_result"
    }
   ],
   "source": [
    "model.predict([[2000]])"
   ]
  },
  {
   "cell_type": "code",
   "execution_count": 15,
   "id": "f8e6e3bc",
   "metadata": {
    "ExecuteTime": {
     "end_time": "2022-07-02T10:06:55.708254Z",
     "start_time": "2022-07-02T10:06:55.692646Z"
    }
   },
   "outputs": [
    {
     "data": {
      "text/plain": [
       "0.9584301138199486"
      ]
     },
     "execution_count": 15,
     "metadata": {},
     "output_type": "execute_result"
    }
   ],
   "source": [
    "model.score(df.drop(\"price\", axis = 1) , df.price)"
   ]
  },
  {
   "cell_type": "code",
   "execution_count": 16,
   "id": "e8d85e5c",
   "metadata": {
    "ExecuteTime": {
     "end_time": "2022-07-02T10:06:56.697390Z",
     "start_time": "2022-07-02T10:06:56.681758Z"
    }
   },
   "outputs": [
    {
     "data": {
      "text/plain": [
       "array([533664.38356164])"
      ]
     },
     "execution_count": 16,
     "metadata": {},
     "output_type": "execute_result"
    }
   ],
   "source": [
    "model.predict([[2600]])"
   ]
  },
  {
   "cell_type": "code",
   "execution_count": null,
   "id": "a6b7edad",
   "metadata": {},
   "outputs": [],
   "source": []
  }
 ],
 "metadata": {
  "kernelspec": {
   "display_name": "Python 3",
   "language": "python",
   "name": "python3"
  },
  "language_info": {
   "codemirror_mode": {
    "name": "ipython",
    "version": 3
   },
   "file_extension": ".py",
   "mimetype": "text/x-python",
   "name": "python",
   "nbconvert_exporter": "python",
   "pygments_lexer": "ipython3",
   "version": "3.8.5"
  },
  "toc": {
   "base_numbering": 1,
   "nav_menu": {},
   "number_sections": true,
   "sideBar": true,
   "skip_h1_title": false,
   "title_cell": "Table of Contents",
   "title_sidebar": "Contents",
   "toc_cell": false,
   "toc_position": {},
   "toc_section_display": true,
   "toc_window_display": false
  },
  "varInspector": {
   "cols": {
    "lenName": 16,
    "lenType": 16,
    "lenVar": 40
   },
   "kernels_config": {
    "python": {
     "delete_cmd_postfix": "",
     "delete_cmd_prefix": "del ",
     "library": "var_list.py",
     "varRefreshCmd": "print(var_dic_list())"
    },
    "r": {
     "delete_cmd_postfix": ") ",
     "delete_cmd_prefix": "rm(",
     "library": "var_list.r",
     "varRefreshCmd": "cat(var_dic_list()) "
    }
   },
   "types_to_exclude": [
    "module",
    "function",
    "builtin_function_or_method",
    "instance",
    "_Feature"
   ],
   "window_display": false
  }
 },
 "nbformat": 4,
 "nbformat_minor": 5
}
