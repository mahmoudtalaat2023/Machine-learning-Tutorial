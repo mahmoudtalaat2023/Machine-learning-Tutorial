{
 "cells": [
  {
   "cell_type": "markdown",
   "metadata": {},
   "source": [
    "### Today's Content"
   ]
  },
  {
   "cell_type": "markdown",
   "metadata": {},
   "source": [
    "#### Regular Expressions \n",
    "#### Getting started with kaggle\n",
    "#### More questions and answers"
   ]
  },
  {
   "cell_type": "code",
   "execution_count": 92,
   "metadata": {
    "ExecuteTime": {
     "end_time": "2021-04-22T12:38:05.386281Z",
     "start_time": "2021-04-22T12:38:05.374318Z"
    }
   },
   "outputs": [],
   "source": [
    "def displayname(name):\n",
    "    print (name)\n",
    "\n"
   ]
  },
  {
   "cell_type": "code",
   "execution_count": 95,
   "metadata": {
    "ExecuteTime": {
     "end_time": "2021-04-22T12:42:42.297402Z",
     "start_time": "2021-04-22T12:42:42.288439Z"
    }
   },
   "outputs": [],
   "source": [
    "class Human:\n",
    "    def __init__(this, name, passw, humanage):\n",
    "        \n",
    "        #attributes\n",
    "        this.username = name\n",
    "        this.__password = passw\n",
    "        this.age = humanage\n",
    "        this.__creditCard = 111111\n",
    "    \n",
    "    def printName(this):\n",
    "        print (\"my name is: \", this.username)\n",
    "    \n",
    "    def SetPassword(self, oldpassword, newpassword):\n",
    "        if (oldpassword == self.__password):\n",
    "            self.__password = newpassword\n",
    "    \n",
    "    def GetPassword(self):\n",
    "        print(self.__password)\n",
    "    \n",
    "    def addnewfunction(self):\n",
    "        displayname(self.username)\n",
    "        "
   ]
  },
  {
   "cell_type": "code",
   "execution_count": 183,
   "metadata": {
    "ExecuteTime": {
     "end_time": "2021-04-17T21:54:44.077291Z",
     "start_time": "2021-04-17T21:54:44.067291Z"
    }
   },
   "outputs": [
    {
     "name": "stdout",
     "output_type": "stream",
     "text": [
      "Ahmed\n"
     ]
    }
   ],
   "source": [
    "Ahmed= Human(\"Ahmed\", 123, 23)\n",
    "Ahmed.addnewfunction()"
   ]
  },
  {
   "cell_type": "code",
   "execution_count": 168,
   "metadata": {
    "ExecuteTime": {
     "end_time": "2021-04-17T21:37:23.158230Z",
     "start_time": "2021-04-17T21:37:23.147231Z"
    }
   },
   "outputs": [
    {
     "name": "stdout",
     "output_type": "stream",
     "text": [
      "my name is:  Ahmed\n"
     ]
    }
   ],
   "source": [
    "Ahmed.printName()"
   ]
  },
  {
   "cell_type": "code",
   "execution_count": 104,
   "metadata": {
    "ExecuteTime": {
     "end_time": "2021-04-22T12:46:47.686854Z",
     "start_time": "2021-04-22T12:46:47.674842Z"
    }
   },
   "outputs": [],
   "source": [
    "class Employee(Human):\n",
    "    def __init__(self): #Constructor \n",
    "        print (\"Hi, you're so bad , so you take 1500LE. \")\n",
    "        Human.__init__(self, \"Ahmed\", 123, 245)\n",
    "    \n",
    "    \n",
    "    def printprive(self):\n",
    "        Human.__privateFunction()"
   ]
  },
  {
   "cell_type": "code",
   "execution_count": 105,
   "metadata": {
    "ExecuteTime": {
     "end_time": "2021-04-22T12:46:49.690952Z",
     "start_time": "2021-04-22T12:46:49.680978Z"
    }
   },
   "outputs": [
    {
     "name": "stdout",
     "output_type": "stream",
     "text": [
      "Hi, you're so bad , so you take 1500LE. \n"
     ]
    },
    {
     "data": {
      "text/plain": [
       "245"
      ]
     },
     "execution_count": 105,
     "metadata": {},
     "output_type": "execute_result"
    }
   ],
   "source": [
    "employee1 = Employee()\n",
    "employee1.age"
   ]
  },
  {
   "cell_type": "code",
   "execution_count": 106,
   "metadata": {
    "ExecuteTime": {
     "end_time": "2021-04-22T12:46:59.552170Z",
     "start_time": "2021-04-22T12:46:59.544161Z"
    }
   },
   "outputs": [
    {
     "name": "stdout",
     "output_type": "stream",
     "text": [
      "my name is:  Ahmed\n"
     ]
    }
   ],
   "source": [
    "employee1.printName()"
   ]
  },
  {
   "cell_type": "code",
   "execution_count": 94,
   "metadata": {
    "ExecuteTime": {
     "end_time": "2021-04-17T19:55:46.718637Z",
     "start_time": "2021-04-17T19:55:46.711637Z"
    }
   },
   "outputs": [
    {
     "data": {
      "text/plain": [
       "'ahmedtronic@gmial.com'"
      ]
     },
     "execution_count": 94,
     "metadata": {},
     "output_type": "execute_result"
    }
   ],
   "source": [
    "a.email"
   ]
  },
  {
   "cell_type": "code",
   "execution_count": 72,
   "metadata": {
    "ExecuteTime": {
     "end_time": "2021-04-17T19:49:00.983129Z",
     "start_time": "2021-04-17T19:49:00.965129Z"
    }
   },
   "outputs": [
    {
     "ename": "AttributeError",
     "evalue": "'Human' object has no attribute 'email'",
     "output_type": "error",
     "traceback": [
      "\u001b[1;31m---------------------------------------------------------------------------\u001b[0m",
      "\u001b[1;31mAttributeError\u001b[0m                            Traceback (most recent call last)",
      "\u001b[1;32m<ipython-input-72-6f8e93ffb531>\u001b[0m in \u001b[0;36m<module>\u001b[1;34m\u001b[0m\n\u001b[1;32m----> 1\u001b[1;33m \u001b[0ma\u001b[0m\u001b[1;33m.\u001b[0m\u001b[0memail\u001b[0m\u001b[1;33m\u001b[0m\u001b[1;33m\u001b[0m\u001b[0m\n\u001b[0m",
      "\u001b[1;31mAttributeError\u001b[0m: 'Human' object has no attribute 'email'"
     ]
    }
   ],
   "source": [
    "a.email"
   ]
  },
  {
   "cell_type": "code",
   "execution_count": 162,
   "metadata": {
    "ExecuteTime": {
     "end_time": "2021-04-17T21:20:31.427460Z",
     "start_time": "2021-04-17T21:20:31.421459Z"
    }
   },
   "outputs": [],
   "source": [
    "class Helper:\n",
    "    def __init__(self):\n",
    "        self.name = \"Ahmed\"\n",
    "        self.age = 23\n",
    "    def speak(self):\n",
    "        print(\"I'm a human and I'm talking\")\n",
    "#task 1 : search for : how to make our class abstract"
   ]
  },
  {
   "cell_type": "code",
   "execution_count": 165,
   "metadata": {
    "ExecuteTime": {
     "end_time": "2021-04-17T21:21:42.122349Z",
     "start_time": "2021-04-17T21:21:42.115351Z"
    }
   },
   "outputs": [],
   "source": [
    "class Human(Helper):\n",
    "    def __init__(self):\n",
    "        Helper.__init__(self)\n",
    "        self.gender = \"pure evil\"\n",
    "    \n",
    "    def printage(self):\n",
    "        print(self.age)        "
   ]
  },
  {
   "cell_type": "code",
   "execution_count": 164,
   "metadata": {
    "ExecuteTime": {
     "end_time": "2021-04-17T21:20:36.465259Z",
     "start_time": "2021-04-17T21:20:36.455259Z"
    }
   },
   "outputs": [],
   "source": [
    "class Employee(Helper):\n",
    "    def __init__(self):\n",
    "        Helper.__init__(self)\n",
    "        \n",
    "class Player(Helper):\n",
    "    def __init__(self):\n",
    "        Helper.__init__(self)"
   ]
  },
  {
   "cell_type": "code",
   "execution_count": 161,
   "metadata": {
    "ExecuteTime": {
     "end_time": "2021-04-17T21:17:51.944023Z",
     "start_time": "2021-04-17T21:17:51.934023Z"
    }
   },
   "outputs": [
    {
     "data": {
      "text/plain": [
       "'pure evil'"
      ]
     },
     "execution_count": 161,
     "metadata": {},
     "output_type": "execute_result"
    }
   ],
   "source": []
  },
  {
   "cell_type": "code",
   "execution_count": 187,
   "metadata": {
    "ExecuteTime": {
     "end_time": "2021-04-17T22:08:52.182929Z",
     "start_time": "2021-04-17T22:08:52.165922Z"
    }
   },
   "outputs": [],
   "source": [
    "import Ramadan"
   ]
  },
  {
   "cell_type": "code",
   "execution_count": 188,
   "metadata": {
    "ExecuteTime": {
     "end_time": "2021-04-17T22:09:01.362154Z",
     "start_time": "2021-04-17T22:09:01.353150Z"
    }
   },
   "outputs": [
    {
     "data": {
      "text/plain": [
       "5"
      ]
     },
     "execution_count": 188,
     "metadata": {},
     "output_type": "execute_result"
    }
   ],
   "source": [
    "Ramadan.x"
   ]
  },
  {
   "cell_type": "code",
   "execution_count": 189,
   "metadata": {
    "ExecuteTime": {
     "end_time": "2021-04-17T22:09:11.351561Z",
     "start_time": "2021-04-17T22:09:11.335549Z"
    }
   },
   "outputs": [
    {
     "name": "stdout",
     "output_type": "stream",
     "text": [
      "this is ramadan\n"
     ]
    }
   ],
   "source": [
    "Ramadan.RamdanSession()"
   ]
  },
  {
   "cell_type": "code",
   "execution_count": 193,
   "metadata": {
    "ExecuteTime": {
     "end_time": "2021-04-17T22:13:34.090762Z",
     "start_time": "2021-04-17T22:13:34.075763Z"
    }
   },
   "outputs": [],
   "source": [
    "from Ramadan import * # all "
   ]
  },
  {
   "cell_type": "code",
   "execution_count": 196,
   "metadata": {
    "ExecuteTime": {
     "end_time": "2021-04-17T22:14:37.840279Z",
     "start_time": "2021-04-17T22:14:37.829285Z"
    }
   },
   "outputs": [
    {
     "name": "stdout",
     "output_type": "stream",
     "text": [
      "mazen is Awesome, malizia is not\n"
     ]
    }
   ],
   "source": [
    "Person = Mazen()"
   ]
  },
  {
   "cell_type": "code",
   "execution_count": null,
   "metadata": {},
   "outputs": [],
   "source": []
  },
  {
   "cell_type": "code",
   "execution_count": null,
   "metadata": {},
   "outputs": [],
   "source": []
  },
  {
   "cell_type": "code",
   "execution_count": 94,
   "metadata": {
    "ExecuteTime": {
     "end_time": "2021-04-14T20:51:38.982751Z",
     "start_time": "2021-04-14T20:51:38.963753Z"
    }
   },
   "outputs": [
    {
     "data": {
      "text/plain": [
       "'Ahmed'"
      ]
     },
     "execution_count": 94,
     "metadata": {},
     "output_type": "execute_result"
    }
   ],
   "source": [
    "newobject = Human(\"Ahmed\", 23, \"ahmed@gmail.com\")\n",
    "newobject2 = Human(\"Ahmed\", 22, \"ahmed@gmail.com\")\n",
    "newobject.name"
   ]
  },
  {
   "cell_type": "code",
   "execution_count": 90,
   "metadata": {
    "ExecuteTime": {
     "end_time": "2021-04-14T20:49:32.428520Z",
     "start_time": "2021-04-14T20:49:28.345280Z"
    }
   },
   "outputs": [
    {
     "name": "stdout",
     "output_type": "stream",
     "text": [
      "please enter your password: 234\n"
     ]
    }
   ],
   "source": [
    "newobject.creatpassword()"
   ]
  },
  {
   "cell_type": "code",
   "execution_count": 85,
   "metadata": {
    "ExecuteTime": {
     "end_time": "2021-04-14T20:45:01.796904Z",
     "start_time": "2021-04-14T20:45:01.780906Z"
    }
   },
   "outputs": [
    {
     "name": "stdout",
     "output_type": "stream",
     "text": [
      "12321\n"
     ]
    }
   ],
   "source": [
    "newobject.showcredit(\"1231\")"
   ]
  },
  {
   "cell_type": "code",
   "execution_count": 143,
   "metadata": {
    "ExecuteTime": {
     "end_time": "2021-04-14T21:20:42.966869Z",
     "start_time": "2021-04-14T21:20:42.961868Z"
    }
   },
   "outputs": [],
   "source": [
    "def sum4(x):\n",
    "    return (x+4)"
   ]
  },
  {
   "cell_type": "code",
   "execution_count": 158,
   "metadata": {
    "ExecuteTime": {
     "end_time": "2021-04-14T21:45:45.756909Z",
     "start_time": "2021-04-14T21:45:45.737880Z"
    }
   },
   "outputs": [],
   "source": [
    "class Employee(Human):\n",
    "    \n",
    "    def __init__(self): # concustructor override \n",
    "        print(\"hello\")\n",
    "        Human.__init__(self, \"Ahmed\", 23, \"a@a\")\n",
    "        \n",
    "    def printName(self):\n",
    "        print(\"this is \", self.name) #override ( polymorphism )\n",
    "    \n",
    "    #Encapsulation \n",
    "    \n",
    "    def setEmpSalary(self):\n",
    "        self.__empSalary = 2000\n",
    "     \n",
    "    def getEmpSalary(self):\n",
    "        print (self.__empSalary)\n",
    "    \n",
    "    \n",
    "    #Abstraction: #make it eaiser for access functions and data in class \n",
    "    \n",
    "    def __printFname(self):\n",
    "        print (\"first name is :\" , \"Ahmed\")\n",
    "    \n",
    "    def __printSname(self):\n",
    "        print (\"Second name is :\" , \"Hafez\")\n",
    "    \n",
    "    def __printTname(self):\n",
    "        print (\"Third name is : \", \"Ahmed\")\n",
    "        \n",
    "    def printAll(self):\n",
    "        self.__printFname()\n",
    "        self.__printSname()\n",
    "        self.__printTname()\n",
    "    \n",
    "    \n",
    "    def addvalue(self):\n",
    "        print (sum4(5))\n",
    "    "
   ]
  },
  {
   "cell_type": "code",
   "execution_count": 159,
   "metadata": {
    "ExecuteTime": {
     "end_time": "2021-04-14T21:45:55.877700Z",
     "start_time": "2021-04-14T21:45:55.866721Z"
    }
   },
   "outputs": [
    {
     "name": "stdout",
     "output_type": "stream",
     "text": [
      "hello\n"
     ]
    },
    {
     "data": {
      "text/plain": [
       "'Ahmed'"
      ]
     },
     "execution_count": 159,
     "metadata": {},
     "output_type": "execute_result"
    }
   ],
   "source": []
  },
  {
   "cell_type": "code",
   "execution_count": 154,
   "metadata": {
    "ExecuteTime": {
     "end_time": "2021-04-14T21:22:13.592011Z",
     "start_time": "2021-04-14T21:22:13.587013Z"
    }
   },
   "outputs": [],
   "source": [
    "#Taks : how to make function overloading in class in python "
   ]
  },
  {
   "cell_type": "code",
   "execution_count": null,
   "metadata": {},
   "outputs": [],
   "source": []
  },
  {
   "cell_type": "code",
   "execution_count": 197,
   "metadata": {
    "ExecuteTime": {
     "end_time": "2021-04-17T22:26:26.180491Z",
     "start_time": "2021-04-17T22:26:26.174492Z"
    }
   },
   "outputs": [],
   "source": [
    "# Regular Expressions ? \n",
    "\n"
   ]
  },
  {
   "cell_type": "code",
   "execution_count": 198,
   "metadata": {
    "ExecuteTime": {
     "end_time": "2021-04-17T22:27:12.526407Z",
     "start_time": "2021-04-17T22:27:12.518408Z"
    }
   },
   "outputs": [],
   "source": [
    "import re # ( Regular expression )"
   ]
  },
  {
   "cell_type": "code",
   "execution_count": 2,
   "metadata": {
    "ExecuteTime": {
     "end_time": "2021-04-29T08:52:55.787065Z",
     "start_time": "2021-04-29T08:52:55.785064Z"
    }
   },
   "outputs": [],
   "source": [
    "text_to_search = '''abcdefghijklmnopqurtuvwxyz\n",
    "ABCDEFGHIJKLMNOPQRSTUVWXYZ\n",
    "123456789010\n",
    "Ha HaHa\n",
    "MetaCharacters (Need to be escaped):\n",
    ". ^ $ * + ? { } [ ] \\ | ( )\n",
    "abc\n",
    "cat\n",
    "mat \n",
    "hat\n",
    "bat\n",
    "fat\n",
    "sat\n",
    "01092329340\n",
    "coreyms-com\n",
    "321-555-4321\n",
    "123.555.1234\n",
    "123*555*1234\n",
    "800-555-1234\n",
    "900-555-1234\n",
    "Mr. Schafer\n",
    "Mr Smith\n",
    "Ms Davis\n",
    "Mrs. Robinson\n",
    "Mr. T\n",
    "'''\n",
    "\n",
    "sentence = 'Start a sentence and then bring it to an end'"
   ]
  },
  {
   "cell_type": "markdown",
   "metadata": {},
   "source": [
    "### Rules:\n",
    "\n",
    ".       - Any Character Except New Line <br>\n",
    "\\d      - Digit (0-9)<br>\n",
    "\\D      - Not a Digit (0-9)<br>\n",
    "\\w      - Word Character (a-z, A-Z, 0-9, _) <br>\n",
    "\\W      - Not a Word Character<br>\n",
    "\\s      - Whitespace (space, tab, newline) <br>\n",
    "\\S      - Not Whitespace (space, tab, newline)<br>\n",
    "\n",
    "\\b      - Word Boundary <br>\n",
    "\\B      - Not a Word Boundary <br>\n",
    "^       - Beginning of a String <br>\n",
    "$       - End of a String <br>\n",
    "\n",
    "[]      - Matches Characters in brackets <br>\n",
    "[^ ]    - Matches Characters NOT in brackets <br>\n",
    "|       - Either Or <br>\n",
    "( )     - Group <br>\n",
    "\n",
    "Quantifiers:\n",
    "<br>\n",
    " {*}       - 0 or More <br>\n",
    " {+}       - 1 or More <br>\n",
    " ?       - 0 or One <br>\n",
    "{3}     - Exact Number <br>\n",
    "{3,4}   - Range of Numbers (Minimum, Maximum) <br>\n",
    "\n",
    "\n",
    "#### Sample Regexs ####\n",
    "\n",
    "[a-zA-Z0-9_.+-]+@[a-zA-Z0-9-]+\\.[a-zA-Z0-9-.]+\n"
   ]
  },
  {
   "cell_type": "code",
   "execution_count": 7,
   "metadata": {
    "ExecuteTime": {
     "end_time": "2021-04-29T08:55:59.432664Z",
     "start_time": "2021-04-29T08:55:59.424662Z"
    }
   },
   "outputs": [
    {
     "name": "stdout",
     "output_type": "stream",
     "text": [
      "\tTab\n",
      "tab\n",
      "\\tTab \tTab\n"
     ]
    }
   ],
   "source": [
    "print (\"\\tTab\")\n",
    "print (\"tab\")\n",
    "print (r\"\\tTab\", \"\\tTab\")"
   ]
  },
  {
   "cell_type": "code",
   "execution_count": 8,
   "metadata": {
    "ExecuteTime": {
     "end_time": "2021-04-29T08:59:15.118138Z",
     "start_time": "2021-04-29T08:59:15.109137Z"
    }
   },
   "outputs": [
    {
     "name": "stdout",
     "output_type": "stream",
     "text": [
      "<re.Match object; span=(0, 3), match='abc'>\n",
      "<re.Match object; span=(140, 143), match='abc'>\n"
     ]
    }
   ],
   "source": [
    "import re\n",
    "pattern = re.compile(r\"abc\")\n",
    "matches = pattern.finditer(text_to_search)\n",
    "for match in matches:\n",
    "    print(match)"
   ]
  },
  {
   "cell_type": "code",
   "execution_count": 9,
   "metadata": {
    "ExecuteTime": {
     "end_time": "2021-04-29T09:00:10.701950Z",
     "start_time": "2021-04-29T09:00:10.691950Z"
    }
   },
   "outputs": [],
   "source": [
    "pattern = re.compile(r\"bca\")\n",
    "matches = pattern.finditer(text_to_search)\n",
    "for match in matches:\n",
    "    print(match)"
   ]
  },
  {
   "cell_type": "code",
   "execution_count": 11,
   "metadata": {
    "ExecuteTime": {
     "end_time": "2021-04-29T09:01:40.577766Z",
     "start_time": "2021-04-29T09:01:40.506768Z"
    },
    "scrolled": true
   },
   "outputs": [
    {
     "name": "stdout",
     "output_type": "stream",
     "text": [
      "<re.Match object; span=(0, 2), match='ab'>\n",
      "<re.Match object; span=(2, 4), match='cd'>\n",
      "<re.Match object; span=(4, 6), match='ef'>\n",
      "<re.Match object; span=(6, 8), match='gh'>\n",
      "<re.Match object; span=(8, 10), match='ij'>\n",
      "<re.Match object; span=(10, 12), match='kl'>\n",
      "<re.Match object; span=(12, 14), match='mn'>\n",
      "<re.Match object; span=(14, 16), match='op'>\n",
      "<re.Match object; span=(16, 18), match='qu'>\n",
      "<re.Match object; span=(18, 20), match='rt'>\n",
      "<re.Match object; span=(20, 22), match='uv'>\n",
      "<re.Match object; span=(22, 24), match='wx'>\n",
      "<re.Match object; span=(24, 26), match='yz'>\n",
      "<re.Match object; span=(27, 29), match='AB'>\n",
      "<re.Match object; span=(29, 31), match='CD'>\n",
      "<re.Match object; span=(31, 33), match='EF'>\n",
      "<re.Match object; span=(33, 35), match='GH'>\n",
      "<re.Match object; span=(35, 37), match='IJ'>\n",
      "<re.Match object; span=(37, 39), match='KL'>\n",
      "<re.Match object; span=(39, 41), match='MN'>\n",
      "<re.Match object; span=(41, 43), match='OP'>\n",
      "<re.Match object; span=(43, 45), match='QR'>\n",
      "<re.Match object; span=(45, 47), match='ST'>\n",
      "<re.Match object; span=(47, 49), match='UV'>\n",
      "<re.Match object; span=(49, 51), match='WX'>\n",
      "<re.Match object; span=(51, 53), match='YZ'>\n",
      "<re.Match object; span=(54, 56), match='12'>\n",
      "<re.Match object; span=(56, 58), match='34'>\n",
      "<re.Match object; span=(58, 60), match='56'>\n",
      "<re.Match object; span=(60, 62), match='78'>\n",
      "<re.Match object; span=(62, 64), match='90'>\n",
      "<re.Match object; span=(64, 66), match='10'>\n",
      "<re.Match object; span=(67, 69), match='Ha'>\n",
      "<re.Match object; span=(69, 71), match=' H'>\n",
      "<re.Match object; span=(71, 73), match='aH'>\n",
      "<re.Match object; span=(75, 77), match='Me'>\n",
      "<re.Match object; span=(77, 79), match='ta'>\n",
      "<re.Match object; span=(79, 81), match='Ch'>\n",
      "<re.Match object; span=(81, 83), match='ar'>\n",
      "<re.Match object; span=(83, 85), match='ac'>\n",
      "<re.Match object; span=(85, 87), match='te'>\n",
      "<re.Match object; span=(87, 89), match='rs'>\n",
      "<re.Match object; span=(89, 91), match=' ('>\n",
      "<re.Match object; span=(91, 93), match='Ne'>\n",
      "<re.Match object; span=(93, 95), match='ed'>\n",
      "<re.Match object; span=(95, 97), match=' t'>\n",
      "<re.Match object; span=(97, 99), match='o '>\n",
      "<re.Match object; span=(99, 101), match='be'>\n",
      "<re.Match object; span=(101, 103), match=' e'>\n",
      "<re.Match object; span=(103, 105), match='sc'>\n",
      "<re.Match object; span=(105, 107), match='ap'>\n",
      "<re.Match object; span=(107, 109), match='ed'>\n",
      "<re.Match object; span=(109, 111), match='):'>\n",
      "<re.Match object; span=(112, 114), match='. '>\n",
      "<re.Match object; span=(114, 116), match='^ '>\n",
      "<re.Match object; span=(116, 118), match='$ '>\n",
      "<re.Match object; span=(118, 120), match='* '>\n",
      "<re.Match object; span=(120, 122), match='+ '>\n",
      "<re.Match object; span=(122, 124), match='? '>\n",
      "<re.Match object; span=(124, 126), match='{ '>\n",
      "<re.Match object; span=(126, 128), match='} '>\n",
      "<re.Match object; span=(128, 130), match='[ '>\n",
      "<re.Match object; span=(130, 132), match='] '>\n",
      "<re.Match object; span=(132, 134), match='\\\\ '>\n",
      "<re.Match object; span=(134, 136), match='| '>\n",
      "<re.Match object; span=(136, 138), match='( '>\n",
      "<re.Match object; span=(140, 142), match='ab'>\n",
      "<re.Match object; span=(144, 146), match='ca'>\n",
      "<re.Match object; span=(148, 150), match='ma'>\n",
      "<re.Match object; span=(150, 152), match='t '>\n",
      "<re.Match object; span=(153, 155), match='ha'>\n",
      "<re.Match object; span=(157, 159), match='ba'>\n",
      "<re.Match object; span=(161, 163), match='fa'>\n",
      "<re.Match object; span=(165, 167), match='sa'>\n",
      "<re.Match object; span=(169, 171), match='01'>\n",
      "<re.Match object; span=(171, 173), match='09'>\n",
      "<re.Match object; span=(173, 175), match='23'>\n",
      "<re.Match object; span=(175, 177), match='29'>\n",
      "<re.Match object; span=(177, 179), match='34'>\n",
      "<re.Match object; span=(181, 183), match='co'>\n",
      "<re.Match object; span=(183, 185), match='re'>\n",
      "<re.Match object; span=(185, 187), match='ym'>\n",
      "<re.Match object; span=(187, 189), match='s-'>\n",
      "<re.Match object; span=(189, 191), match='co'>\n",
      "<re.Match object; span=(193, 195), match='32'>\n",
      "<re.Match object; span=(195, 197), match='1-'>\n",
      "<re.Match object; span=(197, 199), match='55'>\n",
      "<re.Match object; span=(199, 201), match='5-'>\n",
      "<re.Match object; span=(201, 203), match='43'>\n",
      "<re.Match object; span=(203, 205), match='21'>\n",
      "<re.Match object; span=(206, 208), match='12'>\n",
      "<re.Match object; span=(208, 210), match='3.'>\n",
      "<re.Match object; span=(210, 212), match='55'>\n",
      "<re.Match object; span=(212, 214), match='5.'>\n",
      "<re.Match object; span=(214, 216), match='12'>\n",
      "<re.Match object; span=(216, 218), match='34'>\n",
      "<re.Match object; span=(219, 221), match='12'>\n",
      "<re.Match object; span=(221, 223), match='3*'>\n",
      "<re.Match object; span=(223, 225), match='55'>\n",
      "<re.Match object; span=(225, 227), match='5*'>\n",
      "<re.Match object; span=(227, 229), match='12'>\n",
      "<re.Match object; span=(229, 231), match='34'>\n",
      "<re.Match object; span=(232, 234), match='80'>\n",
      "<re.Match object; span=(234, 236), match='0-'>\n",
      "<re.Match object; span=(236, 238), match='55'>\n",
      "<re.Match object; span=(238, 240), match='5-'>\n",
      "<re.Match object; span=(240, 242), match='12'>\n",
      "<re.Match object; span=(242, 244), match='34'>\n",
      "<re.Match object; span=(245, 247), match='90'>\n",
      "<re.Match object; span=(247, 249), match='0-'>\n",
      "<re.Match object; span=(249, 251), match='55'>\n",
      "<re.Match object; span=(251, 253), match='5-'>\n",
      "<re.Match object; span=(253, 255), match='12'>\n",
      "<re.Match object; span=(255, 257), match='34'>\n",
      "<re.Match object; span=(258, 260), match='Mr'>\n",
      "<re.Match object; span=(260, 262), match='. '>\n",
      "<re.Match object; span=(262, 264), match='Sc'>\n",
      "<re.Match object; span=(264, 266), match='ha'>\n",
      "<re.Match object; span=(266, 268), match='fe'>\n",
      "<re.Match object; span=(270, 272), match='Mr'>\n",
      "<re.Match object; span=(272, 274), match=' S'>\n",
      "<re.Match object; span=(274, 276), match='mi'>\n",
      "<re.Match object; span=(276, 278), match='th'>\n",
      "<re.Match object; span=(279, 281), match='Ms'>\n",
      "<re.Match object; span=(281, 283), match=' D'>\n",
      "<re.Match object; span=(283, 285), match='av'>\n",
      "<re.Match object; span=(285, 287), match='is'>\n",
      "<re.Match object; span=(288, 290), match='Mr'>\n",
      "<re.Match object; span=(290, 292), match='s.'>\n",
      "<re.Match object; span=(292, 294), match=' R'>\n",
      "<re.Match object; span=(294, 296), match='ob'>\n",
      "<re.Match object; span=(296, 298), match='in'>\n",
      "<re.Match object; span=(298, 300), match='so'>\n",
      "<re.Match object; span=(302, 304), match='Mr'>\n",
      "<re.Match object; span=(304, 306), match='. '>\n"
     ]
    }
   ],
   "source": [
    "pattern = re.compile(r\"..\") #matches everything ( excpet new lines )\n",
    "matches = pattern.finditer(text_to_search)\n",
    "for match in matches:\n",
    "    print(match)"
   ]
  },
  {
   "cell_type": "code",
   "execution_count": 19,
   "metadata": {
    "ExecuteTime": {
     "end_time": "2021-04-29T09:04:19.631428Z",
     "start_time": "2021-04-29T09:04:19.618429Z"
    }
   },
   "outputs": [
    {
     "name": "stdout",
     "output_type": "stream",
     "text": [
      "start index: 112 and end index is:  112\n",
      "start index: 209 and end index is:  209\n",
      "start index: 213 and end index is:  213\n",
      "start index: 260 and end index is:  260\n",
      "start index: 291 and end index is:  291\n",
      "start index: 304 and end index is:  304\n"
     ]
    }
   ],
   "source": [
    "pattern = re.compile(r\"\\.\") #matches only dots \n",
    "matches = pattern.finditer(text_to_search)\n",
    "\n",
    "for match in matches:\n",
    "    print(\"start index:\", match.span()[0] , \"and end index is: \", (match.span()[1])-1) "
   ]
  },
  {
   "cell_type": "code",
   "execution_count": 22,
   "metadata": {
    "ExecuteTime": {
     "end_time": "2021-04-29T09:05:48.948624Z",
     "start_time": "2021-04-29T09:05:48.932619Z"
    }
   },
   "outputs": [
    {
     "name": "stdout",
     "output_type": "stream",
     "text": [
      "<re.Match object; span=(181, 192), match='coreyms-com'>\n"
     ]
    }
   ],
   "source": [
    "pattern = re.compile(r\"coreyms.com\") #matches only dots \n",
    "matches = pattern.finditer(text_to_search)\n",
    "l = [ ]\n",
    "for match in matches:\n",
    "    print(match)"
   ]
  },
  {
   "cell_type": "code",
   "execution_count": 24,
   "metadata": {
    "ExecuteTime": {
     "end_time": "2021-04-29T09:06:55.252035Z",
     "start_time": "2021-04-29T09:06:55.246035Z"
    }
   },
   "outputs": [
    {
     "name": "stdout",
     "output_type": "stream",
     "text": [
      "<re.Match object; span=(54, 56), match='12'>\n",
      "<re.Match object; span=(56, 58), match='34'>\n",
      "<re.Match object; span=(58, 60), match='56'>\n",
      "<re.Match object; span=(60, 62), match='78'>\n",
      "<re.Match object; span=(62, 64), match='90'>\n",
      "<re.Match object; span=(64, 66), match='10'>\n",
      "<re.Match object; span=(169, 171), match='01'>\n",
      "<re.Match object; span=(171, 173), match='09'>\n",
      "<re.Match object; span=(173, 175), match='23'>\n",
      "<re.Match object; span=(175, 177), match='29'>\n",
      "<re.Match object; span=(177, 179), match='34'>\n",
      "<re.Match object; span=(193, 195), match='32'>\n",
      "<re.Match object; span=(197, 199), match='55'>\n",
      "<re.Match object; span=(201, 203), match='43'>\n",
      "<re.Match object; span=(203, 205), match='21'>\n",
      "<re.Match object; span=(206, 208), match='12'>\n",
      "<re.Match object; span=(210, 212), match='55'>\n",
      "<re.Match object; span=(214, 216), match='12'>\n",
      "<re.Match object; span=(216, 218), match='34'>\n",
      "<re.Match object; span=(219, 221), match='12'>\n",
      "<re.Match object; span=(223, 225), match='55'>\n",
      "<re.Match object; span=(227, 229), match='12'>\n",
      "<re.Match object; span=(229, 231), match='34'>\n",
      "<re.Match object; span=(232, 234), match='80'>\n",
      "<re.Match object; span=(236, 238), match='55'>\n",
      "<re.Match object; span=(240, 242), match='12'>\n",
      "<re.Match object; span=(242, 244), match='34'>\n",
      "<re.Match object; span=(245, 247), match='90'>\n",
      "<re.Match object; span=(249, 251), match='55'>\n",
      "<re.Match object; span=(253, 255), match='12'>\n",
      "<re.Match object; span=(255, 257), match='34'>\n"
     ]
    }
   ],
   "source": [
    "pattern = re.compile(r\"\\d\\d\") #matches only digits  \n",
    "matches = pattern.finditer(text_to_search)\n",
    "for match in matches:\n",
    "    print(match)"
   ]
  },
  {
   "cell_type": "code",
   "execution_count": 25,
   "metadata": {
    "ExecuteTime": {
     "end_time": "2021-04-29T09:07:31.980228Z",
     "start_time": "2021-04-29T09:07:31.958229Z"
    }
   },
   "outputs": [
    {
     "name": "stdout",
     "output_type": "stream",
     "text": [
      "<re.Match object; span=(0, 1), match='a'>\n",
      "<re.Match object; span=(1, 2), match='b'>\n",
      "<re.Match object; span=(2, 3), match='c'>\n",
      "<re.Match object; span=(3, 4), match='d'>\n",
      "<re.Match object; span=(4, 5), match='e'>\n",
      "<re.Match object; span=(5, 6), match='f'>\n",
      "<re.Match object; span=(6, 7), match='g'>\n",
      "<re.Match object; span=(7, 8), match='h'>\n",
      "<re.Match object; span=(8, 9), match='i'>\n",
      "<re.Match object; span=(9, 10), match='j'>\n",
      "<re.Match object; span=(10, 11), match='k'>\n",
      "<re.Match object; span=(11, 12), match='l'>\n",
      "<re.Match object; span=(12, 13), match='m'>\n",
      "<re.Match object; span=(13, 14), match='n'>\n",
      "<re.Match object; span=(14, 15), match='o'>\n",
      "<re.Match object; span=(15, 16), match='p'>\n",
      "<re.Match object; span=(16, 17), match='q'>\n",
      "<re.Match object; span=(17, 18), match='u'>\n",
      "<re.Match object; span=(18, 19), match='r'>\n",
      "<re.Match object; span=(19, 20), match='t'>\n",
      "<re.Match object; span=(20, 21), match='u'>\n",
      "<re.Match object; span=(21, 22), match='v'>\n",
      "<re.Match object; span=(22, 23), match='w'>\n",
      "<re.Match object; span=(23, 24), match='x'>\n",
      "<re.Match object; span=(24, 25), match='y'>\n",
      "<re.Match object; span=(25, 26), match='z'>\n",
      "<re.Match object; span=(26, 27), match='\\n'>\n",
      "<re.Match object; span=(27, 28), match='A'>\n",
      "<re.Match object; span=(28, 29), match='B'>\n",
      "<re.Match object; span=(29, 30), match='C'>\n",
      "<re.Match object; span=(30, 31), match='D'>\n",
      "<re.Match object; span=(31, 32), match='E'>\n",
      "<re.Match object; span=(32, 33), match='F'>\n",
      "<re.Match object; span=(33, 34), match='G'>\n",
      "<re.Match object; span=(34, 35), match='H'>\n",
      "<re.Match object; span=(35, 36), match='I'>\n",
      "<re.Match object; span=(36, 37), match='J'>\n",
      "<re.Match object; span=(37, 38), match='K'>\n",
      "<re.Match object; span=(38, 39), match='L'>\n",
      "<re.Match object; span=(39, 40), match='M'>\n",
      "<re.Match object; span=(40, 41), match='N'>\n",
      "<re.Match object; span=(41, 42), match='O'>\n",
      "<re.Match object; span=(42, 43), match='P'>\n",
      "<re.Match object; span=(43, 44), match='Q'>\n",
      "<re.Match object; span=(44, 45), match='R'>\n",
      "<re.Match object; span=(45, 46), match='S'>\n",
      "<re.Match object; span=(46, 47), match='T'>\n",
      "<re.Match object; span=(47, 48), match='U'>\n",
      "<re.Match object; span=(48, 49), match='V'>\n",
      "<re.Match object; span=(49, 50), match='W'>\n",
      "<re.Match object; span=(50, 51), match='X'>\n",
      "<re.Match object; span=(51, 52), match='Y'>\n",
      "<re.Match object; span=(52, 53), match='Z'>\n",
      "<re.Match object; span=(53, 54), match='\\n'>\n",
      "<re.Match object; span=(66, 67), match='\\n'>\n",
      "<re.Match object; span=(67, 68), match='H'>\n",
      "<re.Match object; span=(68, 69), match='a'>\n",
      "<re.Match object; span=(69, 70), match=' '>\n",
      "<re.Match object; span=(70, 71), match='H'>\n",
      "<re.Match object; span=(71, 72), match='a'>\n",
      "<re.Match object; span=(72, 73), match='H'>\n",
      "<re.Match object; span=(73, 74), match='a'>\n",
      "<re.Match object; span=(74, 75), match='\\n'>\n",
      "<re.Match object; span=(75, 76), match='M'>\n",
      "<re.Match object; span=(76, 77), match='e'>\n",
      "<re.Match object; span=(77, 78), match='t'>\n",
      "<re.Match object; span=(78, 79), match='a'>\n",
      "<re.Match object; span=(79, 80), match='C'>\n",
      "<re.Match object; span=(80, 81), match='h'>\n",
      "<re.Match object; span=(81, 82), match='a'>\n",
      "<re.Match object; span=(82, 83), match='r'>\n",
      "<re.Match object; span=(83, 84), match='a'>\n",
      "<re.Match object; span=(84, 85), match='c'>\n",
      "<re.Match object; span=(85, 86), match='t'>\n",
      "<re.Match object; span=(86, 87), match='e'>\n",
      "<re.Match object; span=(87, 88), match='r'>\n",
      "<re.Match object; span=(88, 89), match='s'>\n",
      "<re.Match object; span=(89, 90), match=' '>\n",
      "<re.Match object; span=(90, 91), match='('>\n",
      "<re.Match object; span=(91, 92), match='N'>\n",
      "<re.Match object; span=(92, 93), match='e'>\n",
      "<re.Match object; span=(93, 94), match='e'>\n",
      "<re.Match object; span=(94, 95), match='d'>\n",
      "<re.Match object; span=(95, 96), match=' '>\n",
      "<re.Match object; span=(96, 97), match='t'>\n",
      "<re.Match object; span=(97, 98), match='o'>\n",
      "<re.Match object; span=(98, 99), match=' '>\n",
      "<re.Match object; span=(99, 100), match='b'>\n",
      "<re.Match object; span=(100, 101), match='e'>\n",
      "<re.Match object; span=(101, 102), match=' '>\n",
      "<re.Match object; span=(102, 103), match='e'>\n",
      "<re.Match object; span=(103, 104), match='s'>\n",
      "<re.Match object; span=(104, 105), match='c'>\n",
      "<re.Match object; span=(105, 106), match='a'>\n",
      "<re.Match object; span=(106, 107), match='p'>\n",
      "<re.Match object; span=(107, 108), match='e'>\n",
      "<re.Match object; span=(108, 109), match='d'>\n",
      "<re.Match object; span=(109, 110), match=')'>\n",
      "<re.Match object; span=(110, 111), match=':'>\n",
      "<re.Match object; span=(111, 112), match='\\n'>\n",
      "<re.Match object; span=(112, 113), match='.'>\n",
      "<re.Match object; span=(113, 114), match=' '>\n",
      "<re.Match object; span=(114, 115), match='^'>\n",
      "<re.Match object; span=(115, 116), match=' '>\n",
      "<re.Match object; span=(116, 117), match='$'>\n",
      "<re.Match object; span=(117, 118), match=' '>\n",
      "<re.Match object; span=(118, 119), match='*'>\n",
      "<re.Match object; span=(119, 120), match=' '>\n",
      "<re.Match object; span=(120, 121), match='+'>\n",
      "<re.Match object; span=(121, 122), match=' '>\n",
      "<re.Match object; span=(122, 123), match='?'>\n",
      "<re.Match object; span=(123, 124), match=' '>\n",
      "<re.Match object; span=(124, 125), match='{'>\n",
      "<re.Match object; span=(125, 126), match=' '>\n",
      "<re.Match object; span=(126, 127), match='}'>\n",
      "<re.Match object; span=(127, 128), match=' '>\n",
      "<re.Match object; span=(128, 129), match='['>\n",
      "<re.Match object; span=(129, 130), match=' '>\n",
      "<re.Match object; span=(130, 131), match=']'>\n",
      "<re.Match object; span=(131, 132), match=' '>\n",
      "<re.Match object; span=(132, 133), match='\\\\'>\n",
      "<re.Match object; span=(133, 134), match=' '>\n",
      "<re.Match object; span=(134, 135), match='|'>\n",
      "<re.Match object; span=(135, 136), match=' '>\n",
      "<re.Match object; span=(136, 137), match='('>\n",
      "<re.Match object; span=(137, 138), match=' '>\n",
      "<re.Match object; span=(138, 139), match=')'>\n",
      "<re.Match object; span=(139, 140), match='\\n'>\n",
      "<re.Match object; span=(140, 141), match='a'>\n",
      "<re.Match object; span=(141, 142), match='b'>\n",
      "<re.Match object; span=(142, 143), match='c'>\n",
      "<re.Match object; span=(143, 144), match='\\n'>\n",
      "<re.Match object; span=(144, 145), match='c'>\n",
      "<re.Match object; span=(145, 146), match='a'>\n",
      "<re.Match object; span=(146, 147), match='t'>\n",
      "<re.Match object; span=(147, 148), match='\\n'>\n",
      "<re.Match object; span=(148, 149), match='m'>\n",
      "<re.Match object; span=(149, 150), match='a'>\n",
      "<re.Match object; span=(150, 151), match='t'>\n",
      "<re.Match object; span=(151, 152), match=' '>\n",
      "<re.Match object; span=(152, 153), match='\\n'>\n",
      "<re.Match object; span=(153, 154), match='h'>\n",
      "<re.Match object; span=(154, 155), match='a'>\n",
      "<re.Match object; span=(155, 156), match='t'>\n",
      "<re.Match object; span=(156, 157), match='\\n'>\n",
      "<re.Match object; span=(157, 158), match='b'>\n",
      "<re.Match object; span=(158, 159), match='a'>\n",
      "<re.Match object; span=(159, 160), match='t'>\n",
      "<re.Match object; span=(160, 161), match='\\n'>\n",
      "<re.Match object; span=(161, 162), match='f'>\n",
      "<re.Match object; span=(162, 163), match='a'>\n",
      "<re.Match object; span=(163, 164), match='t'>\n",
      "<re.Match object; span=(164, 165), match='\\n'>\n",
      "<re.Match object; span=(165, 166), match='s'>\n",
      "<re.Match object; span=(166, 167), match='a'>\n",
      "<re.Match object; span=(167, 168), match='t'>\n",
      "<re.Match object; span=(168, 169), match='\\n'>\n",
      "<re.Match object; span=(180, 181), match='\\n'>\n",
      "<re.Match object; span=(181, 182), match='c'>\n",
      "<re.Match object; span=(182, 183), match='o'>\n",
      "<re.Match object; span=(183, 184), match='r'>\n",
      "<re.Match object; span=(184, 185), match='e'>\n",
      "<re.Match object; span=(185, 186), match='y'>\n",
      "<re.Match object; span=(186, 187), match='m'>\n",
      "<re.Match object; span=(187, 188), match='s'>\n",
      "<re.Match object; span=(188, 189), match='-'>\n",
      "<re.Match object; span=(189, 190), match='c'>\n",
      "<re.Match object; span=(190, 191), match='o'>\n",
      "<re.Match object; span=(191, 192), match='m'>\n",
      "<re.Match object; span=(192, 193), match='\\n'>\n",
      "<re.Match object; span=(196, 197), match='-'>\n",
      "<re.Match object; span=(200, 201), match='-'>\n",
      "<re.Match object; span=(205, 206), match='\\n'>\n",
      "<re.Match object; span=(209, 210), match='.'>\n",
      "<re.Match object; span=(213, 214), match='.'>\n",
      "<re.Match object; span=(218, 219), match='\\n'>\n",
      "<re.Match object; span=(222, 223), match='*'>\n",
      "<re.Match object; span=(226, 227), match='*'>\n",
      "<re.Match object; span=(231, 232), match='\\n'>\n",
      "<re.Match object; span=(235, 236), match='-'>\n",
      "<re.Match object; span=(239, 240), match='-'>\n",
      "<re.Match object; span=(244, 245), match='\\n'>\n",
      "<re.Match object; span=(248, 249), match='-'>\n",
      "<re.Match object; span=(252, 253), match='-'>\n",
      "<re.Match object; span=(257, 258), match='\\n'>\n",
      "<re.Match object; span=(258, 259), match='M'>\n",
      "<re.Match object; span=(259, 260), match='r'>\n",
      "<re.Match object; span=(260, 261), match='.'>\n",
      "<re.Match object; span=(261, 262), match=' '>\n",
      "<re.Match object; span=(262, 263), match='S'>\n",
      "<re.Match object; span=(263, 264), match='c'>\n",
      "<re.Match object; span=(264, 265), match='h'>\n",
      "<re.Match object; span=(265, 266), match='a'>\n",
      "<re.Match object; span=(266, 267), match='f'>\n",
      "<re.Match object; span=(267, 268), match='e'>\n",
      "<re.Match object; span=(268, 269), match='r'>\n",
      "<re.Match object; span=(269, 270), match='\\n'>\n",
      "<re.Match object; span=(270, 271), match='M'>\n",
      "<re.Match object; span=(271, 272), match='r'>\n",
      "<re.Match object; span=(272, 273), match=' '>\n",
      "<re.Match object; span=(273, 274), match='S'>\n",
      "<re.Match object; span=(274, 275), match='m'>\n",
      "<re.Match object; span=(275, 276), match='i'>\n",
      "<re.Match object; span=(276, 277), match='t'>\n",
      "<re.Match object; span=(277, 278), match='h'>\n",
      "<re.Match object; span=(278, 279), match='\\n'>\n",
      "<re.Match object; span=(279, 280), match='M'>\n",
      "<re.Match object; span=(280, 281), match='s'>\n",
      "<re.Match object; span=(281, 282), match=' '>\n",
      "<re.Match object; span=(282, 283), match='D'>\n",
      "<re.Match object; span=(283, 284), match='a'>\n",
      "<re.Match object; span=(284, 285), match='v'>\n",
      "<re.Match object; span=(285, 286), match='i'>\n",
      "<re.Match object; span=(286, 287), match='s'>\n",
      "<re.Match object; span=(287, 288), match='\\n'>\n",
      "<re.Match object; span=(288, 289), match='M'>\n",
      "<re.Match object; span=(289, 290), match='r'>\n",
      "<re.Match object; span=(290, 291), match='s'>\n",
      "<re.Match object; span=(291, 292), match='.'>\n",
      "<re.Match object; span=(292, 293), match=' '>\n",
      "<re.Match object; span=(293, 294), match='R'>\n",
      "<re.Match object; span=(294, 295), match='o'>\n",
      "<re.Match object; span=(295, 296), match='b'>\n",
      "<re.Match object; span=(296, 297), match='i'>\n",
      "<re.Match object; span=(297, 298), match='n'>\n",
      "<re.Match object; span=(298, 299), match='s'>\n",
      "<re.Match object; span=(299, 300), match='o'>\n",
      "<re.Match object; span=(300, 301), match='n'>\n",
      "<re.Match object; span=(301, 302), match='\\n'>\n",
      "<re.Match object; span=(302, 303), match='M'>\n",
      "<re.Match object; span=(303, 304), match='r'>\n",
      "<re.Match object; span=(304, 305), match='.'>\n",
      "<re.Match object; span=(305, 306), match=' '>\n",
      "<re.Match object; span=(306, 307), match='T'>\n",
      "<re.Match object; span=(307, 308), match='\\n'>\n"
     ]
    }
   ],
   "source": [
    "pattern = re.compile(r\"\\D\") #matches only not a digit  \n",
    "matches = pattern.finditer(text_to_search)\n",
    "for match in matches:\n",
    "    print(match)"
   ]
  },
  {
   "cell_type": "code",
   "execution_count": 26,
   "metadata": {
    "ExecuteTime": {
     "end_time": "2021-04-29T09:08:18.026736Z",
     "start_time": "2021-04-29T09:08:18.012739Z"
    }
   },
   "outputs": [
    {
     "name": "stdout",
     "output_type": "stream",
     "text": [
      "<re.Match object; span=(0, 1), match='a'>\n",
      "<re.Match object; span=(1, 2), match='b'>\n",
      "<re.Match object; span=(2, 3), match='c'>\n",
      "<re.Match object; span=(3, 4), match='d'>\n",
      "<re.Match object; span=(4, 5), match='e'>\n",
      "<re.Match object; span=(5, 6), match='f'>\n",
      "<re.Match object; span=(6, 7), match='g'>\n",
      "<re.Match object; span=(7, 8), match='h'>\n",
      "<re.Match object; span=(8, 9), match='i'>\n",
      "<re.Match object; span=(9, 10), match='j'>\n",
      "<re.Match object; span=(10, 11), match='k'>\n",
      "<re.Match object; span=(11, 12), match='l'>\n",
      "<re.Match object; span=(12, 13), match='m'>\n",
      "<re.Match object; span=(13, 14), match='n'>\n",
      "<re.Match object; span=(14, 15), match='o'>\n",
      "<re.Match object; span=(15, 16), match='p'>\n",
      "<re.Match object; span=(16, 17), match='q'>\n",
      "<re.Match object; span=(17, 18), match='u'>\n",
      "<re.Match object; span=(18, 19), match='r'>\n",
      "<re.Match object; span=(19, 20), match='t'>\n",
      "<re.Match object; span=(20, 21), match='u'>\n",
      "<re.Match object; span=(21, 22), match='v'>\n",
      "<re.Match object; span=(22, 23), match='w'>\n",
      "<re.Match object; span=(23, 24), match='x'>\n",
      "<re.Match object; span=(24, 25), match='y'>\n",
      "<re.Match object; span=(25, 26), match='z'>\n",
      "<re.Match object; span=(27, 28), match='A'>\n",
      "<re.Match object; span=(28, 29), match='B'>\n",
      "<re.Match object; span=(29, 30), match='C'>\n",
      "<re.Match object; span=(30, 31), match='D'>\n",
      "<re.Match object; span=(31, 32), match='E'>\n",
      "<re.Match object; span=(32, 33), match='F'>\n",
      "<re.Match object; span=(33, 34), match='G'>\n",
      "<re.Match object; span=(34, 35), match='H'>\n",
      "<re.Match object; span=(35, 36), match='I'>\n",
      "<re.Match object; span=(36, 37), match='J'>\n",
      "<re.Match object; span=(37, 38), match='K'>\n",
      "<re.Match object; span=(38, 39), match='L'>\n",
      "<re.Match object; span=(39, 40), match='M'>\n",
      "<re.Match object; span=(40, 41), match='N'>\n",
      "<re.Match object; span=(41, 42), match='O'>\n",
      "<re.Match object; span=(42, 43), match='P'>\n",
      "<re.Match object; span=(43, 44), match='Q'>\n",
      "<re.Match object; span=(44, 45), match='R'>\n",
      "<re.Match object; span=(45, 46), match='S'>\n",
      "<re.Match object; span=(46, 47), match='T'>\n",
      "<re.Match object; span=(47, 48), match='U'>\n",
      "<re.Match object; span=(48, 49), match='V'>\n",
      "<re.Match object; span=(49, 50), match='W'>\n",
      "<re.Match object; span=(50, 51), match='X'>\n",
      "<re.Match object; span=(51, 52), match='Y'>\n",
      "<re.Match object; span=(52, 53), match='Z'>\n",
      "<re.Match object; span=(54, 55), match='1'>\n",
      "<re.Match object; span=(55, 56), match='2'>\n",
      "<re.Match object; span=(56, 57), match='3'>\n",
      "<re.Match object; span=(57, 58), match='4'>\n",
      "<re.Match object; span=(58, 59), match='5'>\n",
      "<re.Match object; span=(59, 60), match='6'>\n",
      "<re.Match object; span=(60, 61), match='7'>\n",
      "<re.Match object; span=(61, 62), match='8'>\n",
      "<re.Match object; span=(62, 63), match='9'>\n",
      "<re.Match object; span=(63, 64), match='0'>\n",
      "<re.Match object; span=(64, 65), match='1'>\n",
      "<re.Match object; span=(65, 66), match='0'>\n",
      "<re.Match object; span=(67, 68), match='H'>\n",
      "<re.Match object; span=(68, 69), match='a'>\n",
      "<re.Match object; span=(70, 71), match='H'>\n",
      "<re.Match object; span=(71, 72), match='a'>\n",
      "<re.Match object; span=(72, 73), match='H'>\n",
      "<re.Match object; span=(73, 74), match='a'>\n",
      "<re.Match object; span=(75, 76), match='M'>\n",
      "<re.Match object; span=(76, 77), match='e'>\n",
      "<re.Match object; span=(77, 78), match='t'>\n",
      "<re.Match object; span=(78, 79), match='a'>\n",
      "<re.Match object; span=(79, 80), match='C'>\n",
      "<re.Match object; span=(80, 81), match='h'>\n",
      "<re.Match object; span=(81, 82), match='a'>\n",
      "<re.Match object; span=(82, 83), match='r'>\n",
      "<re.Match object; span=(83, 84), match='a'>\n",
      "<re.Match object; span=(84, 85), match='c'>\n",
      "<re.Match object; span=(85, 86), match='t'>\n",
      "<re.Match object; span=(86, 87), match='e'>\n",
      "<re.Match object; span=(87, 88), match='r'>\n",
      "<re.Match object; span=(88, 89), match='s'>\n",
      "<re.Match object; span=(91, 92), match='N'>\n",
      "<re.Match object; span=(92, 93), match='e'>\n",
      "<re.Match object; span=(93, 94), match='e'>\n",
      "<re.Match object; span=(94, 95), match='d'>\n",
      "<re.Match object; span=(96, 97), match='t'>\n",
      "<re.Match object; span=(97, 98), match='o'>\n",
      "<re.Match object; span=(99, 100), match='b'>\n",
      "<re.Match object; span=(100, 101), match='e'>\n",
      "<re.Match object; span=(102, 103), match='e'>\n",
      "<re.Match object; span=(103, 104), match='s'>\n",
      "<re.Match object; span=(104, 105), match='c'>\n",
      "<re.Match object; span=(105, 106), match='a'>\n",
      "<re.Match object; span=(106, 107), match='p'>\n",
      "<re.Match object; span=(107, 108), match='e'>\n",
      "<re.Match object; span=(108, 109), match='d'>\n",
      "<re.Match object; span=(140, 141), match='a'>\n",
      "<re.Match object; span=(141, 142), match='b'>\n",
      "<re.Match object; span=(142, 143), match='c'>\n",
      "<re.Match object; span=(144, 145), match='c'>\n",
      "<re.Match object; span=(145, 146), match='a'>\n",
      "<re.Match object; span=(146, 147), match='t'>\n",
      "<re.Match object; span=(148, 149), match='m'>\n",
      "<re.Match object; span=(149, 150), match='a'>\n",
      "<re.Match object; span=(150, 151), match='t'>\n",
      "<re.Match object; span=(153, 154), match='h'>\n",
      "<re.Match object; span=(154, 155), match='a'>\n",
      "<re.Match object; span=(155, 156), match='t'>\n",
      "<re.Match object; span=(157, 158), match='b'>\n",
      "<re.Match object; span=(158, 159), match='a'>\n",
      "<re.Match object; span=(159, 160), match='t'>\n",
      "<re.Match object; span=(161, 162), match='f'>\n",
      "<re.Match object; span=(162, 163), match='a'>\n",
      "<re.Match object; span=(163, 164), match='t'>\n",
      "<re.Match object; span=(165, 166), match='s'>\n",
      "<re.Match object; span=(166, 167), match='a'>\n",
      "<re.Match object; span=(167, 168), match='t'>\n",
      "<re.Match object; span=(169, 170), match='0'>\n",
      "<re.Match object; span=(170, 171), match='1'>\n",
      "<re.Match object; span=(171, 172), match='0'>\n",
      "<re.Match object; span=(172, 173), match='9'>\n",
      "<re.Match object; span=(173, 174), match='2'>\n",
      "<re.Match object; span=(174, 175), match='3'>\n",
      "<re.Match object; span=(175, 176), match='2'>\n",
      "<re.Match object; span=(176, 177), match='9'>\n",
      "<re.Match object; span=(177, 178), match='3'>\n",
      "<re.Match object; span=(178, 179), match='4'>\n",
      "<re.Match object; span=(179, 180), match='0'>\n",
      "<re.Match object; span=(181, 182), match='c'>\n",
      "<re.Match object; span=(182, 183), match='o'>\n",
      "<re.Match object; span=(183, 184), match='r'>\n",
      "<re.Match object; span=(184, 185), match='e'>\n",
      "<re.Match object; span=(185, 186), match='y'>\n",
      "<re.Match object; span=(186, 187), match='m'>\n",
      "<re.Match object; span=(187, 188), match='s'>\n",
      "<re.Match object; span=(189, 190), match='c'>\n",
      "<re.Match object; span=(190, 191), match='o'>\n",
      "<re.Match object; span=(191, 192), match='m'>\n",
      "<re.Match object; span=(193, 194), match='3'>\n",
      "<re.Match object; span=(194, 195), match='2'>\n",
      "<re.Match object; span=(195, 196), match='1'>\n",
      "<re.Match object; span=(197, 198), match='5'>\n",
      "<re.Match object; span=(198, 199), match='5'>\n",
      "<re.Match object; span=(199, 200), match='5'>\n",
      "<re.Match object; span=(201, 202), match='4'>\n",
      "<re.Match object; span=(202, 203), match='3'>\n",
      "<re.Match object; span=(203, 204), match='2'>\n",
      "<re.Match object; span=(204, 205), match='1'>\n",
      "<re.Match object; span=(206, 207), match='1'>\n",
      "<re.Match object; span=(207, 208), match='2'>\n",
      "<re.Match object; span=(208, 209), match='3'>\n",
      "<re.Match object; span=(210, 211), match='5'>\n",
      "<re.Match object; span=(211, 212), match='5'>\n",
      "<re.Match object; span=(212, 213), match='5'>\n",
      "<re.Match object; span=(214, 215), match='1'>\n",
      "<re.Match object; span=(215, 216), match='2'>\n",
      "<re.Match object; span=(216, 217), match='3'>\n",
      "<re.Match object; span=(217, 218), match='4'>\n",
      "<re.Match object; span=(219, 220), match='1'>\n",
      "<re.Match object; span=(220, 221), match='2'>\n",
      "<re.Match object; span=(221, 222), match='3'>\n",
      "<re.Match object; span=(223, 224), match='5'>\n",
      "<re.Match object; span=(224, 225), match='5'>\n",
      "<re.Match object; span=(225, 226), match='5'>\n",
      "<re.Match object; span=(227, 228), match='1'>\n",
      "<re.Match object; span=(228, 229), match='2'>\n",
      "<re.Match object; span=(229, 230), match='3'>\n",
      "<re.Match object; span=(230, 231), match='4'>\n",
      "<re.Match object; span=(232, 233), match='8'>\n",
      "<re.Match object; span=(233, 234), match='0'>\n",
      "<re.Match object; span=(234, 235), match='0'>\n",
      "<re.Match object; span=(236, 237), match='5'>\n",
      "<re.Match object; span=(237, 238), match='5'>\n",
      "<re.Match object; span=(238, 239), match='5'>\n",
      "<re.Match object; span=(240, 241), match='1'>\n",
      "<re.Match object; span=(241, 242), match='2'>\n",
      "<re.Match object; span=(242, 243), match='3'>\n",
      "<re.Match object; span=(243, 244), match='4'>\n",
      "<re.Match object; span=(245, 246), match='9'>\n",
      "<re.Match object; span=(246, 247), match='0'>\n",
      "<re.Match object; span=(247, 248), match='0'>\n",
      "<re.Match object; span=(249, 250), match='5'>\n",
      "<re.Match object; span=(250, 251), match='5'>\n",
      "<re.Match object; span=(251, 252), match='5'>\n",
      "<re.Match object; span=(253, 254), match='1'>\n",
      "<re.Match object; span=(254, 255), match='2'>\n",
      "<re.Match object; span=(255, 256), match='3'>\n",
      "<re.Match object; span=(256, 257), match='4'>\n",
      "<re.Match object; span=(258, 259), match='M'>\n",
      "<re.Match object; span=(259, 260), match='r'>\n",
      "<re.Match object; span=(262, 263), match='S'>\n",
      "<re.Match object; span=(263, 264), match='c'>\n",
      "<re.Match object; span=(264, 265), match='h'>\n",
      "<re.Match object; span=(265, 266), match='a'>\n",
      "<re.Match object; span=(266, 267), match='f'>\n",
      "<re.Match object; span=(267, 268), match='e'>\n",
      "<re.Match object; span=(268, 269), match='r'>\n",
      "<re.Match object; span=(270, 271), match='M'>\n",
      "<re.Match object; span=(271, 272), match='r'>\n",
      "<re.Match object; span=(273, 274), match='S'>\n",
      "<re.Match object; span=(274, 275), match='m'>\n",
      "<re.Match object; span=(275, 276), match='i'>\n",
      "<re.Match object; span=(276, 277), match='t'>\n",
      "<re.Match object; span=(277, 278), match='h'>\n",
      "<re.Match object; span=(279, 280), match='M'>\n",
      "<re.Match object; span=(280, 281), match='s'>\n",
      "<re.Match object; span=(282, 283), match='D'>\n",
      "<re.Match object; span=(283, 284), match='a'>\n",
      "<re.Match object; span=(284, 285), match='v'>\n",
      "<re.Match object; span=(285, 286), match='i'>\n",
      "<re.Match object; span=(286, 287), match='s'>\n",
      "<re.Match object; span=(288, 289), match='M'>\n",
      "<re.Match object; span=(289, 290), match='r'>\n",
      "<re.Match object; span=(290, 291), match='s'>\n",
      "<re.Match object; span=(293, 294), match='R'>\n",
      "<re.Match object; span=(294, 295), match='o'>\n",
      "<re.Match object; span=(295, 296), match='b'>\n",
      "<re.Match object; span=(296, 297), match='i'>\n",
      "<re.Match object; span=(297, 298), match='n'>\n",
      "<re.Match object; span=(298, 299), match='s'>\n",
      "<re.Match object; span=(299, 300), match='o'>\n",
      "<re.Match object; span=(300, 301), match='n'>\n",
      "<re.Match object; span=(302, 303), match='M'>\n",
      "<re.Match object; span=(303, 304), match='r'>\n",
      "<re.Match object; span=(306, 307), match='T'>\n"
     ]
    }
   ],
   "source": [
    "pattern = re.compile(r\"\\w\") #matches only lower, uppercase, digits, underscore  \n",
    "matches = pattern.finditer(text_to_search)\n",
    "for match in matches:\n",
    "    print(match)"
   ]
  },
  {
   "cell_type": "code",
   "execution_count": 39,
   "metadata": {
    "ExecuteTime": {
     "end_time": "2021-04-29T09:16:14.742150Z",
     "start_time": "2021-04-29T09:16:14.731152Z"
    }
   },
   "outputs": [
    {
     "name": "stdout",
     "output_type": "stream",
     "text": [
      "<re.Match object; span=(41, 44), match='end'>\n",
      "wrong email address\n"
     ]
    }
   ],
   "source": [
    "pattern = re.compile(r\"end$\")   \n",
    "matches = pattern.finditer(sentence)\n",
    "\n",
    "for match in matches:\n",
    "    print(match)\n",
    "\n",
    "def getIterLength(iterator):\n",
    "    temp = list(iterator)\n",
    "    result = len(temp)\n",
    "    return result\n",
    "\n",
    "if  (getIterLength(matches) == 0) :\n",
    "    print (\"wrong email address\")\n",
    "else:\n",
    "    print ('zy el fol')\n"
   ]
  },
  {
   "cell_type": "code",
   "execution_count": 40,
   "metadata": {
    "ExecuteTime": {
     "end_time": "2021-04-29T09:16:41.813323Z",
     "start_time": "2021-04-29T09:16:41.802324Z"
    }
   },
   "outputs": [
    {
     "name": "stdout",
     "output_type": "stream",
     "text": [
      "<re.Match object; span=(54, 57), match='123'>\n",
      "<re.Match object; span=(57, 60), match='456'>\n",
      "<re.Match object; span=(60, 63), match='789'>\n",
      "<re.Match object; span=(63, 66), match='010'>\n",
      "<re.Match object; span=(169, 172), match='010'>\n",
      "<re.Match object; span=(172, 175), match='923'>\n",
      "<re.Match object; span=(175, 178), match='293'>\n",
      "<re.Match object; span=(193, 196), match='321'>\n",
      "<re.Match object; span=(197, 200), match='555'>\n",
      "<re.Match object; span=(201, 204), match='432'>\n",
      "<re.Match object; span=(206, 209), match='123'>\n",
      "<re.Match object; span=(210, 213), match='555'>\n",
      "<re.Match object; span=(214, 217), match='123'>\n",
      "<re.Match object; span=(219, 222), match='123'>\n",
      "<re.Match object; span=(223, 226), match='555'>\n",
      "<re.Match object; span=(227, 230), match='123'>\n",
      "<re.Match object; span=(232, 235), match='800'>\n",
      "<re.Match object; span=(236, 239), match='555'>\n",
      "<re.Match object; span=(240, 243), match='123'>\n",
      "<re.Match object; span=(245, 248), match='900'>\n",
      "<re.Match object; span=(249, 252), match='555'>\n",
      "<re.Match object; span=(253, 256), match='123'>\n"
     ]
    }
   ],
   "source": [
    "#match line numbers \n",
    "pattern = re.compile(r\"\\d\\d\\d\")\n",
    "matches = pattern.finditer(text_to_search)\n",
    "for match in matches:\n",
    "    print(match)"
   ]
  },
  {
   "cell_type": "code",
   "execution_count": 42,
   "metadata": {
    "ExecuteTime": {
     "end_time": "2021-04-29T09:18:09.085760Z",
     "start_time": "2021-04-29T09:18:09.073758Z"
    }
   },
   "outputs": [
    {
     "name": "stdout",
     "output_type": "stream",
     "text": [
      "<re.Match object; span=(54, 66), match='123456789010'>\n",
      "<re.Match object; span=(193, 205), match='321-555-4321'>\n",
      "<re.Match object; span=(206, 218), match='123.555.1234'>\n",
      "<re.Match object; span=(219, 231), match='123*555*1234'>\n",
      "<re.Match object; span=(232, 244), match='800-555-1234'>\n",
      "<re.Match object; span=(245, 257), match='900-555-1234'>\n"
     ]
    }
   ],
   "source": [
    "pattern = re.compile(r\"\\d\\d\\d.\\d\\d\\d.\\d\\d\\d\\d\")\n",
    "matches = pattern.finditer(text_to_search)\n",
    "for match in matches:\n",
    "    print(match)\n",
    "    "
   ]
  },
  {
   "cell_type": "code",
   "execution_count": 44,
   "metadata": {
    "ExecuteTime": {
     "end_time": "2021-04-29T09:19:19.155287Z",
     "start_time": "2021-04-29T09:19:19.152286Z"
    }
   },
   "outputs": [
    {
     "name": "stdout",
     "output_type": "stream",
     "text": [
      "<re.Match object; span=(193, 205), match='321-555-4321'>\n",
      "<re.Match object; span=(206, 218), match='123.555.1234'>\n",
      "<re.Match object; span=(232, 244), match='800-555-1234'>\n",
      "<re.Match object; span=(245, 257), match='900-555-1234'>\n"
     ]
    }
   ],
   "source": [
    "#character set \n",
    "pattern = re.compile(r\"\\d\\d\\d[-.]\\d\\d\\d[-.]\\d\\d\\d\\d\")\n",
    "matches = pattern.finditer(text_to_search)\n",
    "for match in matches:\n",
    "    print(match)\n"
   ]
  },
  {
   "cell_type": "code",
   "execution_count": 45,
   "metadata": {
    "ExecuteTime": {
     "end_time": "2021-04-29T09:20:52.117078Z",
     "start_time": "2021-04-29T09:20:52.103078Z"
    }
   },
   "outputs": [
    {
     "name": "stdout",
     "output_type": "stream",
     "text": [
      "<re.Match object; span=(232, 244), match='800-555-1234'>\n",
      "<re.Match object; span=(245, 257), match='900-555-1234'>\n"
     ]
    }
   ],
   "source": [
    "#character set \n",
    "pattern = re.compile(r\"[89]00[-.]\\d\\d\\d[-.]\\d\\d\\d\\d\")\n",
    "matches = pattern.finditer(text_to_search)\n",
    "for match in matches:\n",
    "    print(match)"
   ]
  },
  {
   "cell_type": "code",
   "execution_count": 46,
   "metadata": {
    "ExecuteTime": {
     "end_time": "2021-04-29T09:27:07.602074Z",
     "start_time": "2021-04-29T09:27:07.585578Z"
    }
   },
   "outputs": [
    {
     "name": "stdout",
     "output_type": "stream",
     "text": [
      "<re.Match object; span=(169, 173), match='0109'>\n"
     ]
    }
   ],
   "source": [
    "#character set \n",
    "pattern = re.compile(r\"0109\")\n",
    "matches = pattern.finditer(text_to_search)\n",
    "for match in matches:\n",
    "    print(match)"
   ]
  },
  {
   "cell_type": "code",
   "execution_count": 48,
   "metadata": {
    "ExecuteTime": {
     "end_time": "2021-04-29T09:28:58.860575Z",
     "start_time": "2021-04-29T09:28:58.841576Z"
    }
   },
   "outputs": [
    {
     "name": "stdout",
     "output_type": "stream",
     "text": [
      "<re.Match object; span=(54, 55), match='1'>\n",
      "<re.Match object; span=(55, 56), match='2'>\n",
      "<re.Match object; span=(56, 57), match='3'>\n",
      "<re.Match object; span=(57, 58), match='4'>\n",
      "<re.Match object; span=(58, 59), match='5'>\n",
      "<re.Match object; span=(64, 65), match='1'>\n",
      "<re.Match object; span=(170, 171), match='1'>\n",
      "<re.Match object; span=(173, 174), match='2'>\n",
      "<re.Match object; span=(174, 175), match='3'>\n",
      "<re.Match object; span=(175, 176), match='2'>\n",
      "<re.Match object; span=(177, 178), match='3'>\n",
      "<re.Match object; span=(178, 179), match='4'>\n",
      "<re.Match object; span=(188, 189), match='-'>\n",
      "<re.Match object; span=(193, 194), match='3'>\n",
      "<re.Match object; span=(194, 195), match='2'>\n",
      "<re.Match object; span=(195, 196), match='1'>\n",
      "<re.Match object; span=(196, 197), match='-'>\n",
      "<re.Match object; span=(197, 198), match='5'>\n",
      "<re.Match object; span=(198, 199), match='5'>\n",
      "<re.Match object; span=(199, 200), match='5'>\n",
      "<re.Match object; span=(200, 201), match='-'>\n",
      "<re.Match object; span=(201, 202), match='4'>\n",
      "<re.Match object; span=(202, 203), match='3'>\n",
      "<re.Match object; span=(203, 204), match='2'>\n",
      "<re.Match object; span=(204, 205), match='1'>\n",
      "<re.Match object; span=(206, 207), match='1'>\n",
      "<re.Match object; span=(207, 208), match='2'>\n",
      "<re.Match object; span=(208, 209), match='3'>\n",
      "<re.Match object; span=(210, 211), match='5'>\n",
      "<re.Match object; span=(211, 212), match='5'>\n",
      "<re.Match object; span=(212, 213), match='5'>\n",
      "<re.Match object; span=(214, 215), match='1'>\n",
      "<re.Match object; span=(215, 216), match='2'>\n",
      "<re.Match object; span=(216, 217), match='3'>\n",
      "<re.Match object; span=(217, 218), match='4'>\n",
      "<re.Match object; span=(219, 220), match='1'>\n",
      "<re.Match object; span=(220, 221), match='2'>\n",
      "<re.Match object; span=(221, 222), match='3'>\n",
      "<re.Match object; span=(223, 224), match='5'>\n",
      "<re.Match object; span=(224, 225), match='5'>\n",
      "<re.Match object; span=(225, 226), match='5'>\n",
      "<re.Match object; span=(227, 228), match='1'>\n",
      "<re.Match object; span=(228, 229), match='2'>\n",
      "<re.Match object; span=(229, 230), match='3'>\n",
      "<re.Match object; span=(230, 231), match='4'>\n",
      "<re.Match object; span=(235, 236), match='-'>\n",
      "<re.Match object; span=(236, 237), match='5'>\n",
      "<re.Match object; span=(237, 238), match='5'>\n",
      "<re.Match object; span=(238, 239), match='5'>\n",
      "<re.Match object; span=(239, 240), match='-'>\n",
      "<re.Match object; span=(240, 241), match='1'>\n",
      "<re.Match object; span=(241, 242), match='2'>\n",
      "<re.Match object; span=(242, 243), match='3'>\n",
      "<re.Match object; span=(243, 244), match='4'>\n",
      "<re.Match object; span=(248, 249), match='-'>\n",
      "<re.Match object; span=(249, 250), match='5'>\n",
      "<re.Match object; span=(250, 251), match='5'>\n",
      "<re.Match object; span=(251, 252), match='5'>\n",
      "<re.Match object; span=(252, 253), match='-'>\n",
      "<re.Match object; span=(253, 254), match='1'>\n",
      "<re.Match object; span=(254, 255), match='2'>\n",
      "<re.Match object; span=(255, 256), match='3'>\n",
      "<re.Match object; span=(256, 257), match='4'>\n"
     ]
    }
   ],
   "source": [
    "#character set \n",
    "pattern = re.compile(r\"[1-5-]\")\n",
    "matches = pattern.finditer(text_to_search)\n",
    "for match in matches:\n",
    "    print(match)\n"
   ]
  },
  {
   "cell_type": "code",
   "execution_count": 49,
   "metadata": {
    "ExecuteTime": {
     "end_time": "2021-04-29T09:30:15.338908Z",
     "start_time": "2021-04-29T09:30:15.330910Z"
    }
   },
   "outputs": [
    {
     "name": "stdout",
     "output_type": "stream",
     "text": [
      "<re.Match object; span=(0, 1), match='a'>\n",
      "<re.Match object; span=(1, 2), match='b'>\n",
      "<re.Match object; span=(2, 3), match='c'>\n",
      "<re.Match object; span=(3, 4), match='d'>\n",
      "<re.Match object; span=(4, 5), match='e'>\n",
      "<re.Match object; span=(5, 6), match='f'>\n",
      "<re.Match object; span=(6, 7), match='g'>\n",
      "<re.Match object; span=(7, 8), match='h'>\n",
      "<re.Match object; span=(8, 9), match='i'>\n",
      "<re.Match object; span=(9, 10), match='j'>\n",
      "<re.Match object; span=(10, 11), match='k'>\n",
      "<re.Match object; span=(11, 12), match='l'>\n",
      "<re.Match object; span=(12, 13), match='m'>\n",
      "<re.Match object; span=(13, 14), match='n'>\n",
      "<re.Match object; span=(14, 15), match='o'>\n",
      "<re.Match object; span=(15, 16), match='p'>\n",
      "<re.Match object; span=(16, 17), match='q'>\n",
      "<re.Match object; span=(17, 18), match='u'>\n",
      "<re.Match object; span=(18, 19), match='r'>\n",
      "<re.Match object; span=(19, 20), match='t'>\n",
      "<re.Match object; span=(20, 21), match='u'>\n",
      "<re.Match object; span=(21, 22), match='v'>\n",
      "<re.Match object; span=(22, 23), match='w'>\n",
      "<re.Match object; span=(23, 24), match='x'>\n",
      "<re.Match object; span=(24, 25), match='y'>\n",
      "<re.Match object; span=(25, 26), match='z'>\n",
      "<re.Match object; span=(27, 28), match='A'>\n",
      "<re.Match object; span=(28, 29), match='B'>\n",
      "<re.Match object; span=(29, 30), match='C'>\n",
      "<re.Match object; span=(30, 31), match='D'>\n",
      "<re.Match object; span=(31, 32), match='E'>\n",
      "<re.Match object; span=(32, 33), match='F'>\n",
      "<re.Match object; span=(33, 34), match='G'>\n",
      "<re.Match object; span=(34, 35), match='H'>\n",
      "<re.Match object; span=(35, 36), match='I'>\n",
      "<re.Match object; span=(36, 37), match='J'>\n",
      "<re.Match object; span=(37, 38), match='K'>\n",
      "<re.Match object; span=(38, 39), match='L'>\n",
      "<re.Match object; span=(39, 40), match='M'>\n",
      "<re.Match object; span=(40, 41), match='N'>\n",
      "<re.Match object; span=(41, 42), match='O'>\n",
      "<re.Match object; span=(42, 43), match='P'>\n",
      "<re.Match object; span=(43, 44), match='Q'>\n",
      "<re.Match object; span=(44, 45), match='R'>\n",
      "<re.Match object; span=(45, 46), match='S'>\n",
      "<re.Match object; span=(46, 47), match='T'>\n",
      "<re.Match object; span=(47, 48), match='U'>\n",
      "<re.Match object; span=(48, 49), match='V'>\n",
      "<re.Match object; span=(49, 50), match='W'>\n",
      "<re.Match object; span=(50, 51), match='X'>\n",
      "<re.Match object; span=(51, 52), match='Y'>\n",
      "<re.Match object; span=(52, 53), match='Z'>\n",
      "<re.Match object; span=(67, 68), match='H'>\n",
      "<re.Match object; span=(68, 69), match='a'>\n",
      "<re.Match object; span=(70, 71), match='H'>\n",
      "<re.Match object; span=(71, 72), match='a'>\n",
      "<re.Match object; span=(72, 73), match='H'>\n",
      "<re.Match object; span=(73, 74), match='a'>\n",
      "<re.Match object; span=(75, 76), match='M'>\n",
      "<re.Match object; span=(76, 77), match='e'>\n",
      "<re.Match object; span=(77, 78), match='t'>\n",
      "<re.Match object; span=(78, 79), match='a'>\n",
      "<re.Match object; span=(79, 80), match='C'>\n",
      "<re.Match object; span=(80, 81), match='h'>\n",
      "<re.Match object; span=(81, 82), match='a'>\n",
      "<re.Match object; span=(82, 83), match='r'>\n",
      "<re.Match object; span=(83, 84), match='a'>\n",
      "<re.Match object; span=(84, 85), match='c'>\n",
      "<re.Match object; span=(85, 86), match='t'>\n",
      "<re.Match object; span=(86, 87), match='e'>\n",
      "<re.Match object; span=(87, 88), match='r'>\n",
      "<re.Match object; span=(88, 89), match='s'>\n",
      "<re.Match object; span=(91, 92), match='N'>\n",
      "<re.Match object; span=(92, 93), match='e'>\n",
      "<re.Match object; span=(93, 94), match='e'>\n",
      "<re.Match object; span=(94, 95), match='d'>\n",
      "<re.Match object; span=(96, 97), match='t'>\n",
      "<re.Match object; span=(97, 98), match='o'>\n",
      "<re.Match object; span=(99, 100), match='b'>\n",
      "<re.Match object; span=(100, 101), match='e'>\n",
      "<re.Match object; span=(102, 103), match='e'>\n",
      "<re.Match object; span=(103, 104), match='s'>\n",
      "<re.Match object; span=(104, 105), match='c'>\n",
      "<re.Match object; span=(105, 106), match='a'>\n",
      "<re.Match object; span=(106, 107), match='p'>\n",
      "<re.Match object; span=(107, 108), match='e'>\n",
      "<re.Match object; span=(108, 109), match='d'>\n",
      "<re.Match object; span=(140, 141), match='a'>\n",
      "<re.Match object; span=(141, 142), match='b'>\n",
      "<re.Match object; span=(142, 143), match='c'>\n",
      "<re.Match object; span=(144, 145), match='c'>\n",
      "<re.Match object; span=(145, 146), match='a'>\n",
      "<re.Match object; span=(146, 147), match='t'>\n",
      "<re.Match object; span=(148, 149), match='m'>\n",
      "<re.Match object; span=(149, 150), match='a'>\n",
      "<re.Match object; span=(150, 151), match='t'>\n",
      "<re.Match object; span=(153, 154), match='h'>\n",
      "<re.Match object; span=(154, 155), match='a'>\n",
      "<re.Match object; span=(155, 156), match='t'>\n",
      "<re.Match object; span=(157, 158), match='b'>\n",
      "<re.Match object; span=(158, 159), match='a'>\n",
      "<re.Match object; span=(159, 160), match='t'>\n",
      "<re.Match object; span=(161, 162), match='f'>\n",
      "<re.Match object; span=(162, 163), match='a'>\n",
      "<re.Match object; span=(163, 164), match='t'>\n",
      "<re.Match object; span=(165, 166), match='s'>\n",
      "<re.Match object; span=(166, 167), match='a'>\n",
      "<re.Match object; span=(167, 168), match='t'>\n",
      "<re.Match object; span=(181, 182), match='c'>\n",
      "<re.Match object; span=(182, 183), match='o'>\n",
      "<re.Match object; span=(183, 184), match='r'>\n",
      "<re.Match object; span=(184, 185), match='e'>\n",
      "<re.Match object; span=(185, 186), match='y'>\n",
      "<re.Match object; span=(186, 187), match='m'>\n",
      "<re.Match object; span=(187, 188), match='s'>\n",
      "<re.Match object; span=(189, 190), match='c'>\n",
      "<re.Match object; span=(190, 191), match='o'>\n",
      "<re.Match object; span=(191, 192), match='m'>\n",
      "<re.Match object; span=(258, 259), match='M'>\n",
      "<re.Match object; span=(259, 260), match='r'>\n",
      "<re.Match object; span=(262, 263), match='S'>\n",
      "<re.Match object; span=(263, 264), match='c'>\n",
      "<re.Match object; span=(264, 265), match='h'>\n",
      "<re.Match object; span=(265, 266), match='a'>\n",
      "<re.Match object; span=(266, 267), match='f'>\n",
      "<re.Match object; span=(267, 268), match='e'>\n",
      "<re.Match object; span=(268, 269), match='r'>\n",
      "<re.Match object; span=(270, 271), match='M'>\n",
      "<re.Match object; span=(271, 272), match='r'>\n",
      "<re.Match object; span=(273, 274), match='S'>\n",
      "<re.Match object; span=(274, 275), match='m'>\n",
      "<re.Match object; span=(275, 276), match='i'>\n",
      "<re.Match object; span=(276, 277), match='t'>\n",
      "<re.Match object; span=(277, 278), match='h'>\n",
      "<re.Match object; span=(279, 280), match='M'>\n",
      "<re.Match object; span=(280, 281), match='s'>\n",
      "<re.Match object; span=(282, 283), match='D'>\n",
      "<re.Match object; span=(283, 284), match='a'>\n",
      "<re.Match object; span=(284, 285), match='v'>\n",
      "<re.Match object; span=(285, 286), match='i'>\n",
      "<re.Match object; span=(286, 287), match='s'>\n",
      "<re.Match object; span=(288, 289), match='M'>\n",
      "<re.Match object; span=(289, 290), match='r'>\n",
      "<re.Match object; span=(290, 291), match='s'>\n",
      "<re.Match object; span=(293, 294), match='R'>\n",
      "<re.Match object; span=(294, 295), match='o'>\n",
      "<re.Match object; span=(295, 296), match='b'>\n",
      "<re.Match object; span=(296, 297), match='i'>\n",
      "<re.Match object; span=(297, 298), match='n'>\n",
      "<re.Match object; span=(298, 299), match='s'>\n",
      "<re.Match object; span=(299, 300), match='o'>\n",
      "<re.Match object; span=(300, 301), match='n'>\n",
      "<re.Match object; span=(302, 303), match='M'>\n",
      "<re.Match object; span=(303, 304), match='r'>\n",
      "<re.Match object; span=(306, 307), match='T'>\n"
     ]
    }
   ],
   "source": [
    "#character set \n",
    "pattern = re.compile(r\"[a-zA-Z]\")\n",
    "matches = pattern.finditer(text_to_search)\n",
    "for match in matches:\n",
    "    print(match)\n"
   ]
  },
  {
   "cell_type": "code",
   "execution_count": 50,
   "metadata": {
    "ExecuteTime": {
     "end_time": "2021-04-29T09:30:58.583185Z",
     "start_time": "2021-04-29T09:30:58.574187Z"
    }
   },
   "outputs": [
    {
     "name": "stdout",
     "output_type": "stream",
     "text": [
      "<re.Match object; span=(26, 27), match='\\n'>\n",
      "<re.Match object; span=(53, 54), match='\\n'>\n",
      "<re.Match object; span=(54, 55), match='1'>\n",
      "<re.Match object; span=(55, 56), match='2'>\n",
      "<re.Match object; span=(56, 57), match='3'>\n",
      "<re.Match object; span=(57, 58), match='4'>\n",
      "<re.Match object; span=(58, 59), match='5'>\n",
      "<re.Match object; span=(59, 60), match='6'>\n",
      "<re.Match object; span=(60, 61), match='7'>\n",
      "<re.Match object; span=(61, 62), match='8'>\n",
      "<re.Match object; span=(62, 63), match='9'>\n",
      "<re.Match object; span=(63, 64), match='0'>\n",
      "<re.Match object; span=(64, 65), match='1'>\n",
      "<re.Match object; span=(65, 66), match='0'>\n",
      "<re.Match object; span=(66, 67), match='\\n'>\n",
      "<re.Match object; span=(69, 70), match=' '>\n",
      "<re.Match object; span=(74, 75), match='\\n'>\n",
      "<re.Match object; span=(89, 90), match=' '>\n",
      "<re.Match object; span=(90, 91), match='('>\n",
      "<re.Match object; span=(95, 96), match=' '>\n",
      "<re.Match object; span=(98, 99), match=' '>\n",
      "<re.Match object; span=(101, 102), match=' '>\n",
      "<re.Match object; span=(109, 110), match=')'>\n",
      "<re.Match object; span=(110, 111), match=':'>\n",
      "<re.Match object; span=(111, 112), match='\\n'>\n",
      "<re.Match object; span=(112, 113), match='.'>\n",
      "<re.Match object; span=(113, 114), match=' '>\n",
      "<re.Match object; span=(114, 115), match='^'>\n",
      "<re.Match object; span=(115, 116), match=' '>\n",
      "<re.Match object; span=(116, 117), match='$'>\n",
      "<re.Match object; span=(117, 118), match=' '>\n",
      "<re.Match object; span=(118, 119), match='*'>\n",
      "<re.Match object; span=(119, 120), match=' '>\n",
      "<re.Match object; span=(120, 121), match='+'>\n",
      "<re.Match object; span=(121, 122), match=' '>\n",
      "<re.Match object; span=(122, 123), match='?'>\n",
      "<re.Match object; span=(123, 124), match=' '>\n",
      "<re.Match object; span=(124, 125), match='{'>\n",
      "<re.Match object; span=(125, 126), match=' '>\n",
      "<re.Match object; span=(126, 127), match='}'>\n",
      "<re.Match object; span=(127, 128), match=' '>\n",
      "<re.Match object; span=(128, 129), match='['>\n",
      "<re.Match object; span=(129, 130), match=' '>\n",
      "<re.Match object; span=(130, 131), match=']'>\n",
      "<re.Match object; span=(131, 132), match=' '>\n",
      "<re.Match object; span=(132, 133), match='\\\\'>\n",
      "<re.Match object; span=(133, 134), match=' '>\n",
      "<re.Match object; span=(134, 135), match='|'>\n",
      "<re.Match object; span=(135, 136), match=' '>\n",
      "<re.Match object; span=(136, 137), match='('>\n",
      "<re.Match object; span=(137, 138), match=' '>\n",
      "<re.Match object; span=(138, 139), match=')'>\n",
      "<re.Match object; span=(139, 140), match='\\n'>\n",
      "<re.Match object; span=(143, 144), match='\\n'>\n",
      "<re.Match object; span=(147, 148), match='\\n'>\n",
      "<re.Match object; span=(151, 152), match=' '>\n",
      "<re.Match object; span=(152, 153), match='\\n'>\n",
      "<re.Match object; span=(156, 157), match='\\n'>\n",
      "<re.Match object; span=(160, 161), match='\\n'>\n",
      "<re.Match object; span=(164, 165), match='\\n'>\n",
      "<re.Match object; span=(168, 169), match='\\n'>\n",
      "<re.Match object; span=(169, 170), match='0'>\n",
      "<re.Match object; span=(170, 171), match='1'>\n",
      "<re.Match object; span=(171, 172), match='0'>\n",
      "<re.Match object; span=(172, 173), match='9'>\n",
      "<re.Match object; span=(173, 174), match='2'>\n",
      "<re.Match object; span=(174, 175), match='3'>\n",
      "<re.Match object; span=(175, 176), match='2'>\n",
      "<re.Match object; span=(176, 177), match='9'>\n",
      "<re.Match object; span=(177, 178), match='3'>\n",
      "<re.Match object; span=(178, 179), match='4'>\n",
      "<re.Match object; span=(179, 180), match='0'>\n",
      "<re.Match object; span=(180, 181), match='\\n'>\n",
      "<re.Match object; span=(188, 189), match='-'>\n",
      "<re.Match object; span=(192, 193), match='\\n'>\n",
      "<re.Match object; span=(193, 194), match='3'>\n",
      "<re.Match object; span=(194, 195), match='2'>\n",
      "<re.Match object; span=(195, 196), match='1'>\n",
      "<re.Match object; span=(196, 197), match='-'>\n",
      "<re.Match object; span=(197, 198), match='5'>\n",
      "<re.Match object; span=(198, 199), match='5'>\n",
      "<re.Match object; span=(199, 200), match='5'>\n",
      "<re.Match object; span=(200, 201), match='-'>\n",
      "<re.Match object; span=(201, 202), match='4'>\n",
      "<re.Match object; span=(202, 203), match='3'>\n",
      "<re.Match object; span=(203, 204), match='2'>\n",
      "<re.Match object; span=(204, 205), match='1'>\n",
      "<re.Match object; span=(205, 206), match='\\n'>\n",
      "<re.Match object; span=(206, 207), match='1'>\n",
      "<re.Match object; span=(207, 208), match='2'>\n",
      "<re.Match object; span=(208, 209), match='3'>\n",
      "<re.Match object; span=(209, 210), match='.'>\n",
      "<re.Match object; span=(210, 211), match='5'>\n",
      "<re.Match object; span=(211, 212), match='5'>\n",
      "<re.Match object; span=(212, 213), match='5'>\n",
      "<re.Match object; span=(213, 214), match='.'>\n",
      "<re.Match object; span=(214, 215), match='1'>\n",
      "<re.Match object; span=(215, 216), match='2'>\n",
      "<re.Match object; span=(216, 217), match='3'>\n",
      "<re.Match object; span=(217, 218), match='4'>\n",
      "<re.Match object; span=(218, 219), match='\\n'>\n",
      "<re.Match object; span=(219, 220), match='1'>\n",
      "<re.Match object; span=(220, 221), match='2'>\n",
      "<re.Match object; span=(221, 222), match='3'>\n",
      "<re.Match object; span=(222, 223), match='*'>\n",
      "<re.Match object; span=(223, 224), match='5'>\n",
      "<re.Match object; span=(224, 225), match='5'>\n",
      "<re.Match object; span=(225, 226), match='5'>\n",
      "<re.Match object; span=(226, 227), match='*'>\n",
      "<re.Match object; span=(227, 228), match='1'>\n",
      "<re.Match object; span=(228, 229), match='2'>\n",
      "<re.Match object; span=(229, 230), match='3'>\n",
      "<re.Match object; span=(230, 231), match='4'>\n",
      "<re.Match object; span=(231, 232), match='\\n'>\n",
      "<re.Match object; span=(232, 233), match='8'>\n",
      "<re.Match object; span=(233, 234), match='0'>\n",
      "<re.Match object; span=(234, 235), match='0'>\n",
      "<re.Match object; span=(235, 236), match='-'>\n",
      "<re.Match object; span=(236, 237), match='5'>\n",
      "<re.Match object; span=(237, 238), match='5'>\n",
      "<re.Match object; span=(238, 239), match='5'>\n",
      "<re.Match object; span=(239, 240), match='-'>\n",
      "<re.Match object; span=(240, 241), match='1'>\n",
      "<re.Match object; span=(241, 242), match='2'>\n",
      "<re.Match object; span=(242, 243), match='3'>\n",
      "<re.Match object; span=(243, 244), match='4'>\n",
      "<re.Match object; span=(244, 245), match='\\n'>\n",
      "<re.Match object; span=(245, 246), match='9'>\n",
      "<re.Match object; span=(246, 247), match='0'>\n",
      "<re.Match object; span=(247, 248), match='0'>\n",
      "<re.Match object; span=(248, 249), match='-'>\n",
      "<re.Match object; span=(249, 250), match='5'>\n",
      "<re.Match object; span=(250, 251), match='5'>\n",
      "<re.Match object; span=(251, 252), match='5'>\n",
      "<re.Match object; span=(252, 253), match='-'>\n",
      "<re.Match object; span=(253, 254), match='1'>\n",
      "<re.Match object; span=(254, 255), match='2'>\n",
      "<re.Match object; span=(255, 256), match='3'>\n",
      "<re.Match object; span=(256, 257), match='4'>\n",
      "<re.Match object; span=(257, 258), match='\\n'>\n",
      "<re.Match object; span=(260, 261), match='.'>\n",
      "<re.Match object; span=(261, 262), match=' '>\n",
      "<re.Match object; span=(269, 270), match='\\n'>\n",
      "<re.Match object; span=(272, 273), match=' '>\n",
      "<re.Match object; span=(278, 279), match='\\n'>\n",
      "<re.Match object; span=(281, 282), match=' '>\n",
      "<re.Match object; span=(287, 288), match='\\n'>\n",
      "<re.Match object; span=(291, 292), match='.'>\n",
      "<re.Match object; span=(292, 293), match=' '>\n",
      "<re.Match object; span=(301, 302), match='\\n'>\n",
      "<re.Match object; span=(304, 305), match='.'>\n",
      "<re.Match object; span=(305, 306), match=' '>\n",
      "<re.Match object; span=(307, 308), match='\\n'>\n"
     ]
    }
   ],
   "source": [
    "#character set \n",
    "pattern = re.compile(r\"[^a-zA-Z]\") # not a in a character set\n",
    "matches = pattern.finditer(text_to_search)\n",
    "for match in matches:\n",
    "    print(match)\n"
   ]
  },
  {
   "cell_type": "code",
   "execution_count": 55,
   "metadata": {
    "ExecuteTime": {
     "end_time": "2021-04-29T09:33:02.972678Z",
     "start_time": "2021-04-29T09:33:02.964678Z"
    }
   },
   "outputs": [
    {
     "name": "stdout",
     "output_type": "stream",
     "text": [
      "<re.Match object; span=(148, 151), match='mat'>\n",
      "<re.Match object; span=(153, 156), match='hat'>\n",
      "<re.Match object; span=(157, 160), match='bat'>\n",
      "<re.Match object; span=(161, 164), match='fat'>\n",
      "<re.Match object; span=(165, 168), match='sat'>\n"
     ]
    }
   ],
   "source": [
    "#character set \n",
    "pattern = re.compile(r\"[^c]at\")\n",
    "matches = pattern.finditer(text_to_search)\n",
    "for match in matches:\n",
    "    print(match)\n"
   ]
  },
  {
   "cell_type": "code",
   "execution_count": 57,
   "metadata": {
    "ExecuteTime": {
     "end_time": "2021-04-29T09:34:09.170304Z",
     "start_time": "2021-04-29T09:34:09.157304Z"
    }
   },
   "outputs": [
    {
     "name": "stdout",
     "output_type": "stream",
     "text": [
      "<re.Match object; span=(193, 205), match='321-555-4321'>\n",
      "<re.Match object; span=(232, 244), match='800-555-1234'>\n",
      "<re.Match object; span=(245, 257), match='900-555-1234'>\n"
     ]
    }
   ],
   "source": [
    "#character set ( Quantifier )\n",
    "pattern = re.compile(r\"\\d{3}-\\d{3}-\\d{4}\")\n",
    "matches = pattern.finditer(text_to_search)\n",
    "for match in matches:\n",
    "    print(match)\n"
   ]
  },
  {
   "cell_type": "code",
   "execution_count": 58,
   "metadata": {
    "ExecuteTime": {
     "end_time": "2021-04-29T09:35:02.806583Z",
     "start_time": "2021-04-29T09:35:02.791596Z"
    }
   },
   "outputs": [
    {
     "name": "stdout",
     "output_type": "stream",
     "text": [
      "<re.Match object; span=(258, 261), match='Mr.'>\n",
      "<re.Match object; span=(302, 305), match='Mr.'>\n"
     ]
    }
   ],
   "source": [
    "#character set ( Quantifier )\n",
    "pattern = re.compile(r\"Mr\\.\")\n",
    "matches = pattern.finditer(text_to_search)\n",
    "for match in matches:\n",
    "    print(match)\n"
   ]
  },
  {
   "cell_type": "code",
   "execution_count": 60,
   "metadata": {
    "ExecuteTime": {
     "end_time": "2021-04-29T09:36:48.339829Z",
     "start_time": "2021-04-29T09:36:48.333830Z"
    }
   },
   "outputs": [
    {
     "name": "stdout",
     "output_type": "stream",
     "text": [
      "<re.Match object; span=(258, 261), match='Mr.'>\n",
      "<re.Match object; span=(270, 272), match='Mr'>\n",
      "<re.Match object; span=(288, 290), match='Mr'>\n",
      "<re.Match object; span=(302, 305), match='Mr.'>\n"
     ]
    }
   ],
   "source": [
    "#character set ( Quantifier )\n",
    "pattern = re.compile(r\"Mr\\.?\")  # one or zero \n",
    "matches = pattern.finditer(text_to_search)\n",
    "for match in matches:\n",
    "    print(match)\n"
   ]
  },
  {
   "cell_type": "code",
   "execution_count": 65,
   "metadata": {
    "ExecuteTime": {
     "end_time": "2021-04-29T09:39:17.640216Z",
     "start_time": "2021-04-29T09:39:17.633218Z"
    },
    "scrolled": true
   },
   "outputs": [
    {
     "name": "stdout",
     "output_type": "stream",
     "text": [
      "<re.Match object; span=(258, 269), match='Mr. Schafer'>\n",
      "<re.Match object; span=(270, 278), match='Mr Smith'>\n",
      "<re.Match object; span=(302, 307), match='Mr. T'>\n"
     ]
    }
   ],
   "source": [
    "#character set ( Quantifier )\n",
    "pattern = re.compile(r\"Mr\\.?\\s[A-Z]?\\w+\")\n",
    "matches = pattern.finditer(text_to_search)\n",
    "for match in matches:\n",
    "    print(match)\n"
   ]
  },
  {
   "cell_type": "code",
   "execution_count": 66,
   "metadata": {
    "ExecuteTime": {
     "end_time": "2021-04-29T09:42:03.321280Z",
     "start_time": "2021-04-29T09:42:03.302539Z"
    }
   },
   "outputs": [
    {
     "name": "stdout",
     "output_type": "stream",
     "text": [
      "<re.Match object; span=(258, 269), match='Mr. Schafer'>\n",
      "<re.Match object; span=(270, 278), match='Mr Smith'>\n",
      "<re.Match object; span=(279, 287), match='Ms Davis'>\n",
      "<re.Match object; span=(288, 301), match='Mrs. Robinson'>\n",
      "<re.Match object; span=(302, 307), match='Mr. T'>\n"
     ]
    }
   ],
   "source": [
    "#character set ( Quantifier )\n",
    "pattern = re.compile(r\"M(r|s|rs)\\.?\\s[A-Z]?\\w+\")\n",
    "matches = pattern.finditer(text_to_search)\n",
    "for match in matches:\n",
    "    print(match)\n"
   ]
  },
  {
   "cell_type": "code",
   "execution_count": 67,
   "metadata": {
    "ExecuteTime": {
     "end_time": "2021-04-29T09:44:02.664607Z",
     "start_time": "2021-04-29T09:44:02.659605Z"
    }
   },
   "outputs": [
    {
     "name": "stdout",
     "output_type": "stream",
     "text": [
      "<re.Match object; span=(1, 24), match='CoreyMSchafer@gmail.com'>\n"
     ]
    }
   ],
   "source": [
    "emails = '''\n",
    "CoreyMSchafer@gmail.com\n",
    "corey.schafer@university.edu\n",
    "corey-321-schafer@my-work.net\n",
    "'''\n",
    "\n",
    "pattern = re.compile(r'[a-zA-Z]+@[a-zA-Z]+\\.com')\n",
    "\n",
    "matches = pattern.finditer(emails)\n",
    "\n",
    "for match in matches:\n",
    "    print(match)"
   ]
  },
  {
   "cell_type": "code",
   "execution_count": 68,
   "metadata": {
    "ExecuteTime": {
     "end_time": "2021-04-29T09:45:04.806579Z",
     "start_time": "2021-04-29T09:45:04.792580Z"
    }
   },
   "outputs": [
    {
     "name": "stdout",
     "output_type": "stream",
     "text": [
      "<re.Match object; span=(1, 24), match='CoreyMSchafer@gmail.com'>\n",
      "<re.Match object; span=(25, 53), match='corey.schafer@university.edu'>\n",
      "<re.Match object; span=(63, 83), match='-schafer@my-work.net'>\n"
     ]
    }
   ],
   "source": [
    "emails = '''\n",
    "CoreyMSchafer@gmail.com\n",
    "corey.schafer@university.edu\n",
    "corey-321-schafer@my-work.net\n",
    "'''\n",
    "\n",
    "pattern = re.compile(r'[a-zA-Z.-]+@[a-zA-Z-]+\\.(com|edu|net)')\n",
    "\n",
    "matches = pattern.finditer(emails)\n",
    "\n",
    "for match in matches:\n",
    "    print(match)"
   ]
  },
  {
   "cell_type": "code",
   "execution_count": 69,
   "metadata": {
    "ExecuteTime": {
     "end_time": "2021-04-29T09:46:46.730720Z",
     "start_time": "2021-04-29T09:46:46.711721Z"
    }
   },
   "outputs": [
    {
     "name": "stdout",
     "output_type": "stream",
     "text": [
      "<re.Match object; span=(1, 24), match='CoreyMSchafer@gmail.com'>\n",
      "<re.Match object; span=(25, 53), match='corey.schafer@university.edu'>\n",
      "<re.Match object; span=(54, 83), match='corey-321-schafer@my-work.net'>\n",
      "<re.Match object; span=(84, 99), match='ahmed@gmail.myw'>\n"
     ]
    }
   ],
   "source": [
    "emails = '''\n",
    "CoreyMSchafer@gmail.com\n",
    "corey.schafer@university.edu\n",
    "corey-321-schafer@my-work.net\n",
    "ahmed@gmail.mywork\n",
    "'''\n",
    "\n",
    "pattern = re.compile(r'[a-zA-Z0-9-.]+@[a-zA-Z-]+\\.\\w{3}')\n",
    "\n",
    "matches = pattern.finditer(emails)\n",
    "\n",
    "for match in matches:\n",
    "    print(match)"
   ]
  },
  {
   "cell_type": "code",
   "execution_count": null,
   "metadata": {},
   "outputs": [],
   "source": []
  },
  {
   "cell_type": "code",
   "execution_count": null,
   "metadata": {},
   "outputs": [],
   "source": []
  },
  {
   "cell_type": "code",
   "execution_count": null,
   "metadata": {},
   "outputs": [],
   "source": []
  },
  {
   "cell_type": "code",
   "execution_count": 29,
   "metadata": {
    "ExecuteTime": {
     "end_time": "2021-04-14T19:39:20.629994Z",
     "start_time": "2021-04-14T19:39:20.626993Z"
    }
   },
   "outputs": [
    {
     "name": "stdout",
     "output_type": "stream",
     "text": [
      "<re.Match object; span=(1, 24), match='CoreyMSchafer@gmail.com'>\n",
      "<re.Match object; span=(25, 53), match='corey.schafer@university.edu'>\n",
      "<re.Match object; span=(54, 83), match='corey-321-schafer@my-work.net'>\n"
     ]
    }
   ],
   "source": [
    "emails = '''\n",
    "CoreyMSchafer@gmail.com\n",
    "corey.schafer@university.edu\n",
    "corey-321-schafer@my-work.net\n",
    "'''\n",
    "\n",
    "pattern = re.compile(r'[a-zA-Z0-9_.+-]+@[a-zA-Z0-9-]+\\.[a-zA-Z0-9-.]+')\n",
    "\n",
    "matches = pattern.finditer(emails)\n",
    "\n",
    "for match in matches:\n",
    "    print(match)"
   ]
  },
  {
   "cell_type": "code",
   "execution_count": null,
   "metadata": {},
   "outputs": [],
   "source": []
  },
  {
   "cell_type": "code",
   "execution_count": 300,
   "metadata": {
    "ExecuteTime": {
     "end_time": "2021-04-14T23:23:51.631673Z",
     "start_time": "2021-04-14T23:23:51.627672Z"
    }
   },
   "outputs": [
    {
     "name": "stdout",
     "output_type": "stream",
     "text": [
      "<re.Match object; span=(0, 3), match='123'>\n"
     ]
    }
   ],
   "source": [
    "sentence = '1234'\n",
    "pattern = re.compile(r'\\d\\d\\d')\n",
    "\n",
    "matches = pattern.finditer(sentence)\n",
    "\n",
    "for match in matches:\n",
    "    print(match)"
   ]
  },
  {
   "cell_type": "code",
   "execution_count": null,
   "metadata": {},
   "outputs": [],
   "source": []
  },
  {
   "cell_type": "code",
   "execution_count": null,
   "metadata": {},
   "outputs": [],
   "source": []
  },
  {
   "cell_type": "code",
   "execution_count": null,
   "metadata": {},
   "outputs": [],
   "source": []
  },
  {
   "cell_type": "code",
   "execution_count": 160,
   "metadata": {
    "ExecuteTime": {
     "end_time": "2021-04-14T22:05:34.485291Z",
     "start_time": "2021-04-14T22:05:34.469258Z"
    }
   },
   "outputs": [
    {
     "data": {
      "text/plain": [
       "str"
      ]
     },
     "execution_count": 160,
     "metadata": {},
     "output_type": "execute_result"
    }
   ],
   "source": [
    "type(text_to_search)"
   ]
  },
  {
   "cell_type": "code",
   "execution_count": 239,
   "metadata": {
    "ExecuteTime": {
     "end_time": "2021-04-14T22:48:43.759259Z",
     "start_time": "2021-04-14T22:48:43.740260Z"
    }
   },
   "outputs": [
    {
     "data": {
      "text/plain": [
       "'Ahmed'"
      ]
     },
     "execution_count": 239,
     "metadata": {},
     "output_type": "execute_result"
    }
   ],
   "source": [
    "\"Ahmed\""
   ]
  },
  {
   "cell_type": "code",
   "execution_count": 240,
   "metadata": {
    "ExecuteTime": {
     "end_time": "2021-04-14T22:48:48.232766Z",
     "start_time": "2021-04-14T22:48:48.228764Z"
    }
   },
   "outputs": [
    {
     "data": {
      "text/plain": [
       "'Ahmed'"
      ]
     },
     "execution_count": 240,
     "metadata": {},
     "output_type": "execute_result"
    }
   ],
   "source": [
    "'Ahmed'"
   ]
  },
  {
   "cell_type": "code",
   "execution_count": 241,
   "metadata": {
    "ExecuteTime": {
     "end_time": "2021-04-14T22:48:51.450186Z",
     "start_time": "2021-04-14T22:48:51.444186Z"
    }
   },
   "outputs": [
    {
     "data": {
      "text/plain": [
       "'Ahmed'"
      ]
     },
     "execution_count": 241,
     "metadata": {},
     "output_type": "execute_result"
    }
   ],
   "source": [
    "'''Ahmed'''"
   ]
  },
  {
   "cell_type": "code",
   "execution_count": 242,
   "metadata": {
    "ExecuteTime": {
     "end_time": "2021-04-14T22:49:04.315039Z",
     "start_time": "2021-04-14T22:49:04.312040Z"
    }
   },
   "outputs": [],
   "source": [
    "# Ahmed "
   ]
  },
  {
   "cell_type": "markdown",
   "metadata": {
    "ExecuteTime": {
     "end_time": "2021-04-14T22:51:07.010424Z",
     "start_time": "2021-04-14T22:51:07.002426Z"
    }
   },
   "source": []
  },
  {
   "cell_type": "code",
   "execution_count": 11,
   "metadata": {
    "ExecuteTime": {
     "end_time": "2021-04-14T23:37:19.808631Z",
     "start_time": "2021-04-14T23:37:19.795634Z"
    }
   },
   "outputs": [],
   "source": [
    "from Instant import NewPrint"
   ]
  },
  {
   "cell_type": "code",
   "execution_count": 10,
   "metadata": {
    "ExecuteTime": {
     "end_time": "2021-04-14T23:37:04.561225Z",
     "start_time": "2021-04-14T23:37:04.554226Z"
    }
   },
   "outputs": [
    {
     "name": "stdout",
     "output_type": "stream",
     "text": [
      "x = :  4\n"
     ]
    }
   ],
   "source": [
    "st.NewPrint(4)"
   ]
  },
  {
   "cell_type": "code",
   "execution_count": 70,
   "metadata": {
    "ExecuteTime": {
     "end_time": "2021-04-15T12:57:36.985793Z",
     "start_time": "2021-04-15T12:57:36.975794Z"
    }
   },
   "outputs": [],
   "source": [
    "\n",
    "    "
   ]
  },
  {
   "cell_type": "code",
   "execution_count": 71,
   "metadata": {
    "ExecuteTime": {
     "end_time": "2021-04-15T12:57:40.572055Z",
     "start_time": "2021-04-15T12:57:38.470691Z"
    }
   },
   "outputs": [
    {
     "name": "stdout",
     "output_type": "stream",
     "text": [
      "please enter your name: ahmed\n",
      "please enter your age: 23\n"
     ]
    }
   ],
   "source": []
  },
  {
   "cell_type": "code",
   "execution_count": 72,
   "metadata": {
    "ExecuteTime": {
     "end_time": "2021-04-15T12:58:04.008567Z",
     "start_time": "2021-04-15T12:57:42.219512Z"
    }
   },
   "outputs": [
    {
     "name": "stdout",
     "output_type": "stream",
     "text": [
      "please enter your name: ali\n"
     ]
    }
   ],
   "source": []
  },
  {
   "cell_type": "code",
   "execution_count": 20,
   "metadata": {
    "ExecuteTime": {
     "end_time": "2021-04-15T12:27:18.722860Z",
     "start_time": "2021-04-15T12:27:18.705860Z"
    }
   },
   "outputs": [
    {
     "data": {
      "text/plain": [
       "23"
      ]
     },
     "execution_count": 20,
     "metadata": {},
     "output_type": "execute_result"
    }
   ],
   "source": []
  },
  {
   "cell_type": "code",
   "execution_count": 26,
   "metadata": {
    "ExecuteTime": {
     "end_time": "2021-04-15T12:30:34.204467Z",
     "start_time": "2021-04-15T12:30:34.191467Z"
    }
   },
   "outputs": [
    {
     "name": "stdout",
     "output_type": "stream",
     "text": [
      "welcome  Ali\n"
     ]
    }
   ],
   "source": [
    "Ali = Human(\"Ali\")"
   ]
  },
  {
   "cell_type": "code",
   "execution_count": 168,
   "metadata": {
    "ExecuteTime": {
     "end_time": "2021-04-15T13:46:48.058137Z",
     "start_time": "2021-04-15T13:46:48.044138Z"
    }
   },
   "outputs": [],
   "source": [
    "class Human:\n",
    "    \n",
    "    def __init__(self):\n",
    "        self.__name = \"Ahmed\"\n",
    "    \n",
    "    def getname(self):\n",
    "        print (self.__name)\n",
    "    \n",
    "    def setname (self, newname ):\n",
    "        self.__name = newname"
   ]
  },
  {
   "cell_type": "code",
   "execution_count": 169,
   "metadata": {
    "ExecuteTime": {
     "end_time": "2021-04-15T13:47:10.157070Z",
     "start_time": "2021-04-15T13:47:10.139070Z"
    }
   },
   "outputs": [],
   "source": [
    "class Employee(Human):\n",
    "    def __init__(self):\n",
    "        Human.__init__(self)\n",
    "    \n",
    "    \n",
    "    def welcome(self):\n",
    "        print (\"Welcome emp \")\n",
    "    "
   ]
  },
  {
   "cell_type": "code",
   "execution_count": 170,
   "metadata": {
    "ExecuteTime": {
     "end_time": "2021-04-15T13:47:12.397882Z",
     "start_time": "2021-04-15T13:47:12.384854Z"
    }
   },
   "outputs": [],
   "source": [
    "e1 = Employee()\n"
   ]
  },
  {
   "cell_type": "code",
   "execution_count": 171,
   "metadata": {
    "ExecuteTime": {
     "end_time": "2021-04-15T13:47:16.794296Z",
     "start_time": "2021-04-15T13:47:16.777299Z"
    }
   },
   "outputs": [
    {
     "data": {
      "text/plain": [
       "'Ahmed'"
      ]
     },
     "execution_count": 171,
     "metadata": {},
     "output_type": "execute_result"
    }
   ],
   "source": [
    "e1.name"
   ]
  },
  {
   "cell_type": "code",
   "execution_count": null,
   "metadata": {},
   "outputs": [],
   "source": []
  },
  {
   "cell_type": "code",
   "execution_count": null,
   "metadata": {},
   "outputs": [],
   "source": []
  },
  {
   "cell_type": "code",
   "execution_count": null,
   "metadata": {},
   "outputs": [],
   "source": []
  },
  {
   "cell_type": "code",
   "execution_count": null,
   "metadata": {},
   "outputs": [],
   "source": []
  }
 ],
 "metadata": {
  "kernelspec": {
   "display_name": "Python 3",
   "language": "python",
   "name": "python3"
  },
  "language_info": {
   "codemirror_mode": {
    "name": "ipython",
    "version": 3
   },
   "file_extension": ".py",
   "mimetype": "text/x-python",
   "name": "python",
   "nbconvert_exporter": "python",
   "pygments_lexer": "ipython3",
   "version": "3.8.5"
  },
  "toc": {
   "base_numbering": 1,
   "nav_menu": {},
   "number_sections": false,
   "sideBar": true,
   "skip_h1_title": false,
   "title_cell": "Table of Contents",
   "title_sidebar": "Contents",
   "toc_cell": false,
   "toc_position": {},
   "toc_section_display": true,
   "toc_window_display": false
  },
  "varInspector": {
   "cols": {
    "lenName": 16,
    "lenType": 16,
    "lenVar": 40
   },
   "kernels_config": {
    "python": {
     "delete_cmd_postfix": "",
     "delete_cmd_prefix": "del ",
     "library": "var_list.py",
     "varRefreshCmd": "print(var_dic_list())"
    },
    "r": {
     "delete_cmd_postfix": ") ",
     "delete_cmd_prefix": "rm(",
     "library": "var_list.r",
     "varRefreshCmd": "cat(var_dic_list()) "
    }
   },
   "types_to_exclude": [
    "module",
    "function",
    "builtin_function_or_method",
    "instance",
    "_Feature"
   ],
   "window_display": false
  }
 },
 "nbformat": 4,
 "nbformat_minor": 4
}
