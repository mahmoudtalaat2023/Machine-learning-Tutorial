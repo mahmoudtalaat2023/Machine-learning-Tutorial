{
 "cells": [
  {
   "cell_type": "markdown",
   "metadata": {},
   "source": [
    "### Today's Content"
   ]
  },
  {
   "cell_type": "markdown",
   "metadata": {},
   "source": [
    "#### Regular Expressions \n",
    "#### Getting started with kaggle\n",
    "#### More questions and answers"
   ]
  },
  {
   "cell_type": "code",
   "execution_count": 92,
   "metadata": {
    "ExecuteTime": {
     "end_time": "2021-04-22T12:38:05.386281Z",
     "start_time": "2021-04-22T12:38:05.374318Z"
    }
   },
   "outputs": [],
   "source": [
    "def displayname(name):\n",
    "    print (name)"
   ]
  },
  {
   "cell_type": "code",
   "execution_count": 95,
   "metadata": {
    "ExecuteTime": {
     "end_time": "2021-04-22T12:42:42.297402Z",
     "start_time": "2021-04-22T12:42:42.288439Z"
    }
   },
   "outputs": [],
   "source": [
    "class Human:\n",
    "    def __init__(this, name, passw, humanage):\n",
    "        \n",
    "        #attributes\n",
    "        this.username = name\n",
    "        this.__password = passw\n",
    "        this.age = humanage\n",
    "        this.__creditCard = 111111\n",
    "    \n",
    "    def printName(this):\n",
    "        print (\"my name is: \", this.username)\n",
    "    \n",
    "    def SetPassword(self, oldpassword, newpassword):\n",
    "        if (oldpassword == self.__password):\n",
    "            self.__password = newpassword\n",
    "    \n",
    "    def GetPassword(self):\n",
    "        print(self.__password)\n",
    "    \n",
    "    def addnewfunction(self):\n",
    "        displayname(self.username)\n",
    "        "
   ]
  },
  {
   "cell_type": "code",
   "execution_count": 183,
   "metadata": {
    "ExecuteTime": {
     "end_time": "2021-04-17T21:54:44.077291Z",
     "start_time": "2021-04-17T21:54:44.067291Z"
    }
   },
   "outputs": [
    {
     "name": "stdout",
     "output_type": "stream",
     "text": [
      "Ahmed\n"
     ]
    }
   ],
   "source": [
    "Ahmed= Human(\"Ahmed\", 123, 23)\n",
    "Ahmed.addnewfunction()"
   ]
  },
  {
   "cell_type": "code",
   "execution_count": 168,
   "metadata": {
    "ExecuteTime": {
     "end_time": "2021-04-17T21:37:23.158230Z",
     "start_time": "2021-04-17T21:37:23.147231Z"
    }
   },
   "outputs": [
    {
     "name": "stdout",
     "output_type": "stream",
     "text": [
      "my name is:  Ahmed\n"
     ]
    }
   ],
   "source": [
    "Ahmed.printName()"
   ]
  },
  {
   "cell_type": "code",
   "execution_count": 104,
   "metadata": {
    "ExecuteTime": {
     "end_time": "2021-04-22T12:46:47.686854Z",
     "start_time": "2021-04-22T12:46:47.674842Z"
    }
   },
   "outputs": [],
   "source": [
    "class Employee(Human):\n",
    "    def __init__(self): #Constructor \n",
    "        print (\"Hi, you're so bad , so you take 1500LE. \")\n",
    "        Human.__init__(self, \"Ahmed\", 123, 245)\n",
    "    \n",
    "    \n",
    "    def printprive(self):\n",
    "        Human.__privateFunction()"
   ]
  },
  {
   "cell_type": "code",
   "execution_count": 105,
   "metadata": {
    "ExecuteTime": {
     "end_time": "2021-04-22T12:46:49.690952Z",
     "start_time": "2021-04-22T12:46:49.680978Z"
    }
   },
   "outputs": [
    {
     "name": "stdout",
     "output_type": "stream",
     "text": [
      "Hi, you're so bad , so you take 1500LE. \n"
     ]
    },
    {
     "data": {
      "text/plain": [
       "245"
      ]
     },
     "execution_count": 105,
     "metadata": {},
     "output_type": "execute_result"
    }
   ],
   "source": [
    "employee1 = Employee()\n",
    "employee1.age"
   ]
  },
  {
   "cell_type": "code",
   "execution_count": 106,
   "metadata": {
    "ExecuteTime": {
     "end_time": "2021-04-22T12:46:59.552170Z",
     "start_time": "2021-04-22T12:46:59.544161Z"
    }
   },
   "outputs": [
    {
     "name": "stdout",
     "output_type": "stream",
     "text": [
      "my name is:  Ahmed\n"
     ]
    }
   ],
   "source": [
    "employee1.printName()"
   ]
  },
  {
   "cell_type": "code",
   "execution_count": 94,
   "metadata": {
    "ExecuteTime": {
     "end_time": "2021-04-17T19:55:46.718637Z",
     "start_time": "2021-04-17T19:55:46.711637Z"
    }
   },
   "outputs": [
    {
     "data": {
      "text/plain": [
       "'ahmedtronic@gmial.com'"
      ]
     },
     "execution_count": 94,
     "metadata": {},
     "output_type": "execute_result"
    }
   ],
   "source": [
    "a.email"
   ]
  },
  {
   "cell_type": "code",
   "execution_count": 72,
   "metadata": {
    "ExecuteTime": {
     "end_time": "2021-04-17T19:49:00.983129Z",
     "start_time": "2021-04-17T19:49:00.965129Z"
    }
   },
   "outputs": [
    {
     "ename": "AttributeError",
     "evalue": "'Human' object has no attribute 'email'",
     "output_type": "error",
     "traceback": [
      "\u001b[1;31m---------------------------------------------------------------------------\u001b[0m",
      "\u001b[1;31mAttributeError\u001b[0m                            Traceback (most recent call last)",
      "\u001b[1;32m<ipython-input-72-6f8e93ffb531>\u001b[0m in \u001b[0;36m<module>\u001b[1;34m\u001b[0m\n\u001b[1;32m----> 1\u001b[1;33m \u001b[0ma\u001b[0m\u001b[1;33m.\u001b[0m\u001b[0memail\u001b[0m\u001b[1;33m\u001b[0m\u001b[1;33m\u001b[0m\u001b[0m\n\u001b[0m",
      "\u001b[1;31mAttributeError\u001b[0m: 'Human' object has no attribute 'email'"
     ]
    }
   ],
   "source": [
    "a.email"
   ]
  },
  {
   "cell_type": "code",
   "execution_count": 162,
   "metadata": {
    "ExecuteTime": {
     "end_time": "2021-04-17T21:20:31.427460Z",
     "start_time": "2021-04-17T21:20:31.421459Z"
    }
   },
   "outputs": [],
   "source": [
    "class Helper:\n",
    "    def __init__(self):\n",
    "        self.name = \"Ahmed\"\n",
    "        self.age = 23\n",
    "    def speak(self):\n",
    "        print(\"I'm a human and I'm talking\")\n",
    "#task 1 : search for : how to make our class abstract"
   ]
  },
  {
   "cell_type": "code",
   "execution_count": 165,
   "metadata": {
    "ExecuteTime": {
     "end_time": "2021-04-17T21:21:42.122349Z",
     "start_time": "2021-04-17T21:21:42.115351Z"
    }
   },
   "outputs": [],
   "source": [
    "class Human(Helper):\n",
    "    def __init__(self):\n",
    "        Helper.__init__(self)\n",
    "        self.gender = \"pure evil\"\n",
    "    \n",
    "    def printage(self):\n",
    "        print(self.age)        "
   ]
  },
  {
   "cell_type": "code",
   "execution_count": 164,
   "metadata": {
    "ExecuteTime": {
     "end_time": "2021-04-17T21:20:36.465259Z",
     "start_time": "2021-04-17T21:20:36.455259Z"
    }
   },
   "outputs": [],
   "source": [
    "class Employee(Helper):\n",
    "    def __init__(self):\n",
    "        Helper.__init__(self)\n",
    "        \n",
    "class Player(Helper):\n",
    "    def __init__(self):\n",
    "        Helper.__init__(self)"
   ]
  },
  {
   "cell_type": "code",
   "execution_count": 161,
   "metadata": {
    "ExecuteTime": {
     "end_time": "2021-04-17T21:17:51.944023Z",
     "start_time": "2021-04-17T21:17:51.934023Z"
    }
   },
   "outputs": [
    {
     "data": {
      "text/plain": [
       "'pure evil'"
      ]
     },
     "execution_count": 161,
     "metadata": {},
     "output_type": "execute_result"
    }
   ],
   "source": []
  },
  {
   "cell_type": "code",
   "execution_count": 187,
   "metadata": {
    "ExecuteTime": {
     "end_time": "2021-04-17T22:08:52.182929Z",
     "start_time": "2021-04-17T22:08:52.165922Z"
    }
   },
   "outputs": [],
   "source": [
    "import Ramadan"
   ]
  },
  {
   "cell_type": "code",
   "execution_count": 188,
   "metadata": {
    "ExecuteTime": {
     "end_time": "2021-04-17T22:09:01.362154Z",
     "start_time": "2021-04-17T22:09:01.353150Z"
    }
   },
   "outputs": [
    {
     "data": {
      "text/plain": [
       "5"
      ]
     },
     "execution_count": 188,
     "metadata": {},
     "output_type": "execute_result"
    }
   ],
   "source": [
    "Ramadan.x"
   ]
  },
  {
   "cell_type": "code",
   "execution_count": 189,
   "metadata": {
    "ExecuteTime": {
     "end_time": "2021-04-17T22:09:11.351561Z",
     "start_time": "2021-04-17T22:09:11.335549Z"
    }
   },
   "outputs": [
    {
     "name": "stdout",
     "output_type": "stream",
     "text": [
      "this is ramadan\n"
     ]
    }
   ],
   "source": [
    "Ramadan.RamdanSession()"
   ]
  },
  {
   "cell_type": "code",
   "execution_count": 193,
   "metadata": {
    "ExecuteTime": {
     "end_time": "2021-04-17T22:13:34.090762Z",
     "start_time": "2021-04-17T22:13:34.075763Z"
    }
   },
   "outputs": [],
   "source": [
    "from Ramadan import * # all "
   ]
  },
  {
   "cell_type": "code",
   "execution_count": 196,
   "metadata": {
    "ExecuteTime": {
     "end_time": "2021-04-17T22:14:37.840279Z",
     "start_time": "2021-04-17T22:14:37.829285Z"
    }
   },
   "outputs": [
    {
     "name": "stdout",
     "output_type": "stream",
     "text": [
      "mazen is Awesome, malizia is not\n"
     ]
    }
   ],
   "source": [
    "Person = Mazen()"
   ]
  },
  {
   "cell_type": "code",
   "execution_count": null,
   "metadata": {},
   "outputs": [],
   "source": []
  },
  {
   "cell_type": "code",
   "execution_count": null,
   "metadata": {},
   "outputs": [],
   "source": []
  },
  {
   "cell_type": "code",
   "execution_count": 94,
   "metadata": {
    "ExecuteTime": {
     "end_time": "2021-04-14T20:51:38.982751Z",
     "start_time": "2021-04-14T20:51:38.963753Z"
    }
   },
   "outputs": [
    {
     "data": {
      "text/plain": [
       "'Ahmed'"
      ]
     },
     "execution_count": 94,
     "metadata": {},
     "output_type": "execute_result"
    }
   ],
   "source": [
    "newobject = Human(\"Ahmed\", 23, \"ahmed@gmail.com\")\n",
    "newobject2 = Human(\"Ahmed\", 22, \"ahmed@gmail.com\")\n",
    "newobject.name"
   ]
  },
  {
   "cell_type": "code",
   "execution_count": 90,
   "metadata": {
    "ExecuteTime": {
     "end_time": "2021-04-14T20:49:32.428520Z",
     "start_time": "2021-04-14T20:49:28.345280Z"
    }
   },
   "outputs": [
    {
     "name": "stdout",
     "output_type": "stream",
     "text": [
      "please enter your password: 234\n"
     ]
    }
   ],
   "source": [
    "newobject.creatpassword()"
   ]
  },
  {
   "cell_type": "code",
   "execution_count": 85,
   "metadata": {
    "ExecuteTime": {
     "end_time": "2021-04-14T20:45:01.796904Z",
     "start_time": "2021-04-14T20:45:01.780906Z"
    }
   },
   "outputs": [
    {
     "name": "stdout",
     "output_type": "stream",
     "text": [
      "12321\n"
     ]
    }
   ],
   "source": [
    "newobject.showcredit(\"1231\")"
   ]
  },
  {
   "cell_type": "code",
   "execution_count": 143,
   "metadata": {
    "ExecuteTime": {
     "end_time": "2021-04-14T21:20:42.966869Z",
     "start_time": "2021-04-14T21:20:42.961868Z"
    }
   },
   "outputs": [],
   "source": [
    "def sum4(x):\n",
    "    return (x+4)"
   ]
  },
  {
   "cell_type": "code",
   "execution_count": 158,
   "metadata": {
    "ExecuteTime": {
     "end_time": "2021-04-14T21:45:45.756909Z",
     "start_time": "2021-04-14T21:45:45.737880Z"
    }
   },
   "outputs": [],
   "source": [
    "class Employee(Human):\n",
    "    \n",
    "    def __init__(self): # concustructor override \n",
    "        print(\"hello\")\n",
    "        Human.__init__(self, \"Ahmed\", 23, \"a@a\")\n",
    "        \n",
    "    def printName(self):\n",
    "        print(\"this is \", self.name) #override ( polymorphism )\n",
    "    \n",
    "    #Encapsulation \n",
    "    \n",
    "    def setEmpSalary(self):\n",
    "        self.__empSalary = 2000\n",
    "     \n",
    "    def getEmpSalary(self):\n",
    "        print (self.__empSalary)\n",
    "    \n",
    "    \n",
    "    #Abstraction: #make it eaiser for access functions and data in class \n",
    "    \n",
    "    def __printFname(self):\n",
    "        print (\"first name is :\" , \"Ahmed\")\n",
    "    \n",
    "    def __printSname(self):\n",
    "        print (\"Second name is :\" , \"Hafez\")\n",
    "    \n",
    "    def __printTname(self):\n",
    "        print (\"Third name is : \", \"Ahmed\")\n",
    "        \n",
    "    def printAll(self):\n",
    "        self.__printFname()\n",
    "        self.__printSname()\n",
    "        self.__printTname()\n",
    "    \n",
    "    \n",
    "    def addvalue(self):\n",
    "        print (sum4(5))\n",
    "    "
   ]
  },
  {
   "cell_type": "code",
   "execution_count": 159,
   "metadata": {
    "ExecuteTime": {
     "end_time": "2021-04-14T21:45:55.877700Z",
     "start_time": "2021-04-14T21:45:55.866721Z"
    }
   },
   "outputs": [
    {
     "name": "stdout",
     "output_type": "stream",
     "text": [
      "hello\n"
     ]
    },
    {
     "data": {
      "text/plain": [
       "'Ahmed'"
      ]
     },
     "execution_count": 159,
     "metadata": {},
     "output_type": "execute_result"
    }
   ],
   "source": [
    "single , Single, Signal , Divorced, divorced, مطلق , ارملة\n",
    "gender : 0 , 1 \n",
    "additional data: "
   ]
  },
  {
   "cell_type": "code",
   "execution_count": 154,
   "metadata": {
    "ExecuteTime": {
     "end_time": "2021-04-14T21:22:13.592011Z",
     "start_time": "2021-04-14T21:22:13.587013Z"
    }
   },
   "outputs": [],
   "source": [
    "#Taks : how to make function overloading in class in python "
   ]
  },
  {
   "cell_type": "code",
   "execution_count": 14,
   "metadata": {
    "ExecuteTime": {
     "end_time": "2022-04-21T20:26:53.068285Z",
     "start_time": "2022-04-21T20:26:53.050286Z"
    }
   },
   "outputs": [],
   "source": [
    "# Composition \n",
    "class Composition:\n",
    "    \n",
    "    def __init__(self): # constructor\n",
    "        self.__attributes = dict() # key : attname, value: att value\n",
    "        self.__methods= dict() # key : function name , value : function \n",
    "    \n",
    "    def addAttribute(self, attname, attvalue):\n",
    "        self.__attributes[attname] = attvalue\n",
    "    \n",
    "    def removeAttribute(self, attname):\n",
    "        del self.__attributes[attname]\n",
    "    \n",
    "    def setAttribute(self, attname, attvalue):\n",
    "        self.__attributes[attname] = attvalue\n",
    "        \n",
    "    def getAttribute(self, attname):\n",
    "        return self.__attributes[attname] # return value of attname \n",
    "        \n",
    "    def printallAtt(self):\n",
    "        for i in self.__attributes:\n",
    "            print(i)\n",
    "    \n",
    "    def addMethod(self, methodname, method):\n",
    "        self.__methods[methodname] = method\n",
    "    \n",
    "    def removeMethod(self, methodname):\n",
    "        del self.__methods[methodname]\n",
    "    \n",
    "    def callMethod(self, methodname):\n",
    "        self.__methods[methodname]()\n",
    "        # function_name() call function\n",
    "        \n",
    "    def printallMethods(self):\n",
    "        for i in self.__methods:\n",
    "            print(i)"
   ]
  },
  {
   "cell_type": "code",
   "execution_count": 27,
   "metadata": {
    "ExecuteTime": {
     "end_time": "2022-04-21T20:28:03.450080Z",
     "start_time": "2022-04-21T20:28:03.439081Z"
    }
   },
   "outputs": [],
   "source": [
    "y = Composition()"
   ]
  },
  {
   "cell_type": "code",
   "execution_count": 28,
   "metadata": {
    "ExecuteTime": {
     "end_time": "2022-04-21T20:28:11.461822Z",
     "start_time": "2022-04-21T20:28:11.451824Z"
    }
   },
   "outputs": [],
   "source": [
    "y.printallAtt()"
   ]
  },
  {
   "cell_type": "code",
   "execution_count": 29,
   "metadata": {
    "ExecuteTime": {
     "end_time": "2022-04-21T20:29:25.643223Z",
     "start_time": "2022-04-21T20:29:25.632223Z"
    }
   },
   "outputs": [],
   "source": [
    "def printsquare():\n",
    "    x = int(input(\"please enter any number: \"))\n",
    "    print(x*x)\n",
    "\n",
    "y.addMethod(\"square\", printsquare)"
   ]
  },
  {
   "cell_type": "code",
   "execution_count": 30,
   "metadata": {
    "ExecuteTime": {
     "end_time": "2022-04-21T20:29:46.990831Z",
     "start_time": "2022-04-21T20:29:44.592471Z"
    }
   },
   "outputs": [
    {
     "name": "stdout",
     "output_type": "stream",
     "text": [
      "please enter any number: 4\n",
      "16\n"
     ]
    }
   ],
   "source": [
    "y.callMethod(\"square\")"
   ]
  },
  {
   "cell_type": "code",
   "execution_count": null,
   "metadata": {},
   "outputs": [],
   "source": []
  },
  {
   "cell_type": "code",
   "execution_count": null,
   "metadata": {},
   "outputs": [],
   "source": []
  },
  {
   "cell_type": "code",
   "execution_count": null,
   "metadata": {},
   "outputs": [],
   "source": []
  },
  {
   "cell_type": "code",
   "execution_count": null,
   "metadata": {
    "ExecuteTime": {
     "end_time": "2021-08-09T16:49:45.841098Z",
     "start_time": "2021-08-09T16:49:45.834116Z"
    }
   },
   "outputs": [],
   "source": [
    "AI : \n",
    "    80% Data\n",
    "    20% Model (Actual AI)\n",
    "\n",
    "80% Data:\n",
    "    90% : Data Cleaning, Filtering\n",
    "    10% : Apply Data Analysis Algorithms (i.e. Understand Data )"
   ]
  },
  {
   "cell_type": "code",
   "execution_count": null,
   "metadata": {},
   "outputs": [],
   "source": [
    "31/3/1998 \n",
    "31/03/1998\n",
    "03/31/1998\n",
    "31.3.1998 \n",
    "3131998\n",
    "31st Mar. 1998"
   ]
  },
  {
   "cell_type": "code",
   "execution_count": null,
   "metadata": {
    "ExecuteTime": {
     "end_time": "2022-04-16T11:36:00.233352Z",
     "start_time": "2022-04-16T11:36:00.219352Z"
    }
   },
   "outputs": [],
   "source": [
    "# Regular Expressions ? (Advanced String manipulation)\n",
    "\n",
    "Data preprocessing \n",
    "Temprature : kelvin\n",
    "20 \n",
    "30  \n",
    "23  \n",
    "21 "
   ]
  },
  {
   "cell_type": "code",
   "execution_count": 2,
   "metadata": {
    "ExecuteTime": {
     "end_time": "2022-08-30T17:42:19.402561Z",
     "start_time": "2022-08-30T17:42:19.399561Z"
    }
   },
   "outputs": [],
   "source": [
    "import re # ( Regular expression )"
   ]
  },
  {
   "cell_type": "code",
   "execution_count": 51,
   "metadata": {
    "ExecuteTime": {
     "end_time": "2022-08-30T18:20:59.912639Z",
     "start_time": "2022-08-30T18:20:59.909636Z"
    }
   },
   "outputs": [],
   "source": [
    "text_to_search = '''abcdefghijklmnopqurtuvwxyz\n",
    "ABCDEFGHIJKLMNOPQRSTUVWXYZ\n",
    "123456789010\n",
    "Ha HaHa\n",
    "MetaCharacters (Need to be escaped):\n",
    ". ^ $ * + ? { } [ ] \\ | ( )\n",
    "abc\n",
    "cat\n",
    "mat \n",
    "hat\n",
    "bat\n",
    "fat\n",
    "sat\n",
    "01092329340\n",
    "01123234355\n",
    "01023455411\n",
    "01234567875\n",
    "01534567456\n",
    "01134567856\n",
    "coreyms-com\n",
    "321-555-4321\n",
    "123.555.1234\n",
    "123*555*1234\n",
    "800-555-1234\n",
    "900-555-1234\n",
    "100a121C4543\n",
    "Mr. Schafer\n",
    "Mr Smith\n",
    "Ms Davis\n",
    "Mrs. Robinson\n",
    "Mr. T\n",
    "'''\n",
    "\n",
    "sentence = 'Start a sentence and then bring it to an end'"
   ]
  },
  {
   "cell_type": "markdown",
   "metadata": {},
   "source": [
    "### Rules:\n",
    "\n",
    ".       - Any Character Except New Line <br>\n",
    "\\d      - Digit (0-9)<br>\n",
    "\\D      - Not a Digit (0-9)<br>\n",
    "\\w      - Word Character (a-z, A-Z, 0-9, _) <br>\n",
    "\\W      - Not a Word Character<br>\n",
    "\\s      - Whitespace (space, tab, newline) <br>\n",
    "\\S      - Not Whitespace (space, tab, newline)<br>\n",
    "\n",
    "\\b      - Word Boundary <br>\n",
    "\\B      - Not a Word Boundary <br>\n",
    "^       - Beginning of a String <br>\n",
    "$       - End of a String <br>\n",
    "\n",
    "[]      - Matches Characters in brackets <br>\n",
    "[^ ]    - Matches Characters NOT in brackets <br>\n",
    "|       - Either Or <br>\n",
    "( )     - Group <br>\n",
    "\n",
    "Quantifiers:\n",
    "<br>\n",
    " {*}       - 0 or More <br>\n",
    " {+}       - 1 or More <br>\n",
    " ?       - 0 or One <br>\n",
    "{3}     - Exact Number <br>\n",
    "{3,4}   - Range of Numbers (Minimum, Maximum) <br>\n",
    "\n",
    "\n",
    "#### Sample Regexs ####\n",
    "\n",
    "[a-zA-Z0-9_.+-]+@[a-zA-Z0-9-]+\\.[a-zA-Z0-9-.]+\n"
   ]
  },
  {
   "cell_type": "code",
   "execution_count": 4,
   "metadata": {
    "ExecuteTime": {
     "end_time": "2022-08-28T18:13:58.279026Z",
     "start_time": "2022-08-28T18:13:58.275028Z"
    }
   },
   "outputs": [
    {
     "name": "stdout",
     "output_type": "stream",
     "text": [
      "\tTab\n",
      "tab\n",
      "\\tTab\n"
     ]
    }
   ],
   "source": [
    "print (\"\\tTab\") # special character (\\t, \\n)\n",
    "print (\"tab\")\n",
    "print (r\"\\tTab\") # raw print"
   ]
  },
  {
   "cell_type": "code",
   "execution_count": 4,
   "metadata": {
    "ExecuteTime": {
     "end_time": "2022-08-30T17:45:32.635559Z",
     "start_time": "2022-08-30T17:45:32.633558Z"
    },
    "scrolled": true
   },
   "outputs": [
    {
     "name": "stdout",
     "output_type": "stream",
     "text": [
      "Ahmed\n",
      "Ahmed\n",
      "----------------\n",
      "Ahmed\\nAhmed\n"
     ]
    }
   ],
   "source": [
    "print(\"Ahmed\\nAhmed\") # new line \n",
    "print(\"----------------\")\n",
    "print(r\"Ahmed\\nAhmed\")"
   ]
  },
  {
   "cell_type": "code",
   "execution_count": 5,
   "metadata": {
    "ExecuteTime": {
     "end_time": "2022-08-30T17:46:02.102561Z",
     "start_time": "2022-08-30T17:46:02.094559Z"
    }
   },
   "outputs": [
    {
     "data": {
      "text/plain": [
       "6"
      ]
     },
     "execution_count": 5,
     "metadata": {},
     "output_type": "execute_result"
    }
   ],
   "source": [
    "string = \"ahmed amr ali hossam amr\" # string\n",
    "string.find(\"amr\") # Search substring: return index first substring"
   ]
  },
  {
   "cell_type": "code",
   "execution_count": 6,
   "metadata": {
    "ExecuteTime": {
     "end_time": "2022-08-30T17:46:53.855070Z",
     "start_time": "2022-08-30T17:46:53.851069Z"
    }
   },
   "outputs": [
    {
     "data": {
      "text/plain": [
       "-1"
      ]
     },
     "execution_count": 6,
     "metadata": {},
     "output_type": "execute_result"
    }
   ],
   "source": [
    "string = \"ahm5d\"\n",
    "string.find(\"med\") # -1 = not found"
   ]
  },
  {
   "cell_type": "code",
   "execution_count": 7,
   "metadata": {
    "ExecuteTime": {
     "end_time": "2022-08-30T17:49:22.153070Z",
     "start_time": "2022-08-30T17:49:22.150068Z"
    }
   },
   "outputs": [
    {
     "name": "stdout",
     "output_type": "stream",
     "text": [
      "<re.Match object; span=(0, 3), match='abc'>\n",
      "<re.Match object; span=(140, 143), match='abc'>\n"
     ]
    }
   ],
   "source": [
    "import re\n",
    "pattern = re.compile(r\"abc\") # search for abc \n",
    "matches = pattern.finditer(text_to_search) # store all the \"abc\" you found (could be a list )\n",
    "\n",
    "for match in matches: \n",
    "    print(match)"
   ]
  },
  {
   "cell_type": "code",
   "execution_count": 8,
   "metadata": {
    "ExecuteTime": {
     "end_time": "2022-08-30T17:50:21.042070Z",
     "start_time": "2022-08-30T17:50:21.039070Z"
    }
   },
   "outputs": [
    {
     "name": "stdout",
     "output_type": "stream",
     "text": [
      "0 3\n",
      "140 143\n",
      "number of matches:  2\n"
     ]
    }
   ],
   "source": [
    "import re\n",
    "pattern = re.compile(r\"abc\") # search for abc \n",
    "matches = pattern.finditer(text_to_search) # store all the \"abc\" you found (could be a list )\n",
    "counter = 0\n",
    "for elment in matches:\n",
    "    print(elment.span()[0] , elment.span()[1] )\n",
    "    counter+=1\n",
    "print(\"number of matches: \",counter)"
   ]
  },
  {
   "cell_type": "code",
   "execution_count": 9,
   "metadata": {
    "ExecuteTime": {
     "end_time": "2022-08-30T17:51:51.330548Z",
     "start_time": "2022-08-30T17:51:51.327548Z"
    },
    "scrolled": true
   },
   "outputs": [
    {
     "name": "stdout",
     "output_type": "stream",
     "text": [
      "Found 0 matches\n"
     ]
    }
   ],
   "source": [
    "pattern = re.compile(\"bca\")\n",
    "matches = pattern.finditer(text_to_search)\n",
    "counter = 0\n",
    "for match in matches:\n",
    "    print(match)\n",
    "    counter+=1\n",
    "print(f\"Found {counter} matches\")"
   ]
  },
  {
   "cell_type": "code",
   "execution_count": 10,
   "metadata": {
    "ExecuteTime": {
     "end_time": "2022-08-30T17:52:53.900549Z",
     "start_time": "2022-08-30T17:52:53.896548Z"
    }
   },
   "outputs": [
    {
     "name": "stdout",
     "output_type": "stream",
     "text": [
      "<callable_iterator object at 0x00000249662B06A0>\n"
     ]
    }
   ],
   "source": [
    "pattern = re.compile(r\"bca\")\n",
    "matches = pattern.finditer(text_to_search)\n",
    "print(matches)"
   ]
  },
  {
   "cell_type": "code",
   "execution_count": 11,
   "metadata": {
    "ExecuteTime": {
     "end_time": "2022-08-30T17:53:22.222547Z",
     "start_time": "2022-08-30T17:53:22.211548Z"
    }
   },
   "outputs": [
    {
     "name": "stdout",
     "output_type": "stream",
     "text": [
      "<re.Match object; span=(0, 1), match='a'>\n",
      "<re.Match object; span=(1, 2), match='b'>\n",
      "<re.Match object; span=(2, 3), match='c'>\n",
      "<re.Match object; span=(3, 4), match='d'>\n",
      "<re.Match object; span=(4, 5), match='e'>\n",
      "<re.Match object; span=(5, 6), match='f'>\n",
      "<re.Match object; span=(6, 7), match='g'>\n",
      "<re.Match object; span=(7, 8), match='h'>\n",
      "<re.Match object; span=(8, 9), match='i'>\n",
      "<re.Match object; span=(9, 10), match='j'>\n",
      "<re.Match object; span=(10, 11), match='k'>\n",
      "<re.Match object; span=(11, 12), match='l'>\n",
      "<re.Match object; span=(12, 13), match='m'>\n",
      "<re.Match object; span=(13, 14), match='n'>\n",
      "<re.Match object; span=(14, 15), match='o'>\n",
      "<re.Match object; span=(15, 16), match='p'>\n",
      "<re.Match object; span=(16, 17), match='q'>\n",
      "<re.Match object; span=(17, 18), match='u'>\n",
      "<re.Match object; span=(18, 19), match='r'>\n",
      "<re.Match object; span=(19, 20), match='t'>\n",
      "<re.Match object; span=(20, 21), match='u'>\n",
      "<re.Match object; span=(21, 22), match='v'>\n",
      "<re.Match object; span=(22, 23), match='w'>\n",
      "<re.Match object; span=(23, 24), match='x'>\n",
      "<re.Match object; span=(24, 25), match='y'>\n",
      "<re.Match object; span=(25, 26), match='z'>\n",
      "<re.Match object; span=(27, 28), match='A'>\n",
      "<re.Match object; span=(28, 29), match='B'>\n",
      "<re.Match object; span=(29, 30), match='C'>\n",
      "<re.Match object; span=(30, 31), match='D'>\n",
      "<re.Match object; span=(31, 32), match='E'>\n",
      "<re.Match object; span=(32, 33), match='F'>\n",
      "<re.Match object; span=(33, 34), match='G'>\n",
      "<re.Match object; span=(34, 35), match='H'>\n",
      "<re.Match object; span=(35, 36), match='I'>\n",
      "<re.Match object; span=(36, 37), match='J'>\n",
      "<re.Match object; span=(37, 38), match='K'>\n",
      "<re.Match object; span=(38, 39), match='L'>\n",
      "<re.Match object; span=(39, 40), match='M'>\n",
      "<re.Match object; span=(40, 41), match='N'>\n",
      "<re.Match object; span=(41, 42), match='O'>\n",
      "<re.Match object; span=(42, 43), match='P'>\n",
      "<re.Match object; span=(43, 44), match='Q'>\n",
      "<re.Match object; span=(44, 45), match='R'>\n",
      "<re.Match object; span=(45, 46), match='S'>\n",
      "<re.Match object; span=(46, 47), match='T'>\n",
      "<re.Match object; span=(47, 48), match='U'>\n",
      "<re.Match object; span=(48, 49), match='V'>\n",
      "<re.Match object; span=(49, 50), match='W'>\n",
      "<re.Match object; span=(50, 51), match='X'>\n",
      "<re.Match object; span=(51, 52), match='Y'>\n",
      "<re.Match object; span=(52, 53), match='Z'>\n",
      "<re.Match object; span=(54, 55), match='1'>\n",
      "<re.Match object; span=(55, 56), match='2'>\n",
      "<re.Match object; span=(56, 57), match='3'>\n",
      "<re.Match object; span=(57, 58), match='4'>\n",
      "<re.Match object; span=(58, 59), match='5'>\n",
      "<re.Match object; span=(59, 60), match='6'>\n",
      "<re.Match object; span=(60, 61), match='7'>\n",
      "<re.Match object; span=(61, 62), match='8'>\n",
      "<re.Match object; span=(62, 63), match='9'>\n",
      "<re.Match object; span=(63, 64), match='0'>\n",
      "<re.Match object; span=(64, 65), match='1'>\n",
      "<re.Match object; span=(65, 66), match='0'>\n",
      "<re.Match object; span=(67, 68), match='H'>\n",
      "<re.Match object; span=(68, 69), match='a'>\n",
      "<re.Match object; span=(69, 70), match=' '>\n",
      "<re.Match object; span=(70, 71), match='H'>\n",
      "<re.Match object; span=(71, 72), match='a'>\n",
      "<re.Match object; span=(72, 73), match='H'>\n",
      "<re.Match object; span=(73, 74), match='a'>\n",
      "<re.Match object; span=(75, 76), match='M'>\n",
      "<re.Match object; span=(76, 77), match='e'>\n",
      "<re.Match object; span=(77, 78), match='t'>\n",
      "<re.Match object; span=(78, 79), match='a'>\n",
      "<re.Match object; span=(79, 80), match='C'>\n",
      "<re.Match object; span=(80, 81), match='h'>\n",
      "<re.Match object; span=(81, 82), match='a'>\n",
      "<re.Match object; span=(82, 83), match='r'>\n",
      "<re.Match object; span=(83, 84), match='a'>\n",
      "<re.Match object; span=(84, 85), match='c'>\n",
      "<re.Match object; span=(85, 86), match='t'>\n",
      "<re.Match object; span=(86, 87), match='e'>\n",
      "<re.Match object; span=(87, 88), match='r'>\n",
      "<re.Match object; span=(88, 89), match='s'>\n",
      "<re.Match object; span=(89, 90), match=' '>\n",
      "<re.Match object; span=(90, 91), match='('>\n",
      "<re.Match object; span=(91, 92), match='N'>\n",
      "<re.Match object; span=(92, 93), match='e'>\n",
      "<re.Match object; span=(93, 94), match='e'>\n",
      "<re.Match object; span=(94, 95), match='d'>\n",
      "<re.Match object; span=(95, 96), match=' '>\n",
      "<re.Match object; span=(96, 97), match='t'>\n",
      "<re.Match object; span=(97, 98), match='o'>\n",
      "<re.Match object; span=(98, 99), match=' '>\n",
      "<re.Match object; span=(99, 100), match='b'>\n",
      "<re.Match object; span=(100, 101), match='e'>\n",
      "<re.Match object; span=(101, 102), match=' '>\n",
      "<re.Match object; span=(102, 103), match='e'>\n",
      "<re.Match object; span=(103, 104), match='s'>\n",
      "<re.Match object; span=(104, 105), match='c'>\n",
      "<re.Match object; span=(105, 106), match='a'>\n",
      "<re.Match object; span=(106, 107), match='p'>\n",
      "<re.Match object; span=(107, 108), match='e'>\n",
      "<re.Match object; span=(108, 109), match='d'>\n",
      "<re.Match object; span=(109, 110), match=')'>\n",
      "<re.Match object; span=(110, 111), match=':'>\n",
      "<re.Match object; span=(112, 113), match='.'>\n",
      "<re.Match object; span=(113, 114), match=' '>\n",
      "<re.Match object; span=(114, 115), match='^'>\n",
      "<re.Match object; span=(115, 116), match=' '>\n",
      "<re.Match object; span=(116, 117), match='$'>\n",
      "<re.Match object; span=(117, 118), match=' '>\n",
      "<re.Match object; span=(118, 119), match='*'>\n",
      "<re.Match object; span=(119, 120), match=' '>\n",
      "<re.Match object; span=(120, 121), match='+'>\n",
      "<re.Match object; span=(121, 122), match=' '>\n",
      "<re.Match object; span=(122, 123), match='?'>\n",
      "<re.Match object; span=(123, 124), match=' '>\n",
      "<re.Match object; span=(124, 125), match='{'>\n",
      "<re.Match object; span=(125, 126), match=' '>\n",
      "<re.Match object; span=(126, 127), match='}'>\n",
      "<re.Match object; span=(127, 128), match=' '>\n",
      "<re.Match object; span=(128, 129), match='['>\n",
      "<re.Match object; span=(129, 130), match=' '>\n",
      "<re.Match object; span=(130, 131), match=']'>\n",
      "<re.Match object; span=(131, 132), match=' '>\n",
      "<re.Match object; span=(132, 133), match='\\\\'>\n",
      "<re.Match object; span=(133, 134), match=' '>\n",
      "<re.Match object; span=(134, 135), match='|'>\n",
      "<re.Match object; span=(135, 136), match=' '>\n",
      "<re.Match object; span=(136, 137), match='('>\n",
      "<re.Match object; span=(137, 138), match=' '>\n",
      "<re.Match object; span=(138, 139), match=')'>\n",
      "<re.Match object; span=(140, 141), match='a'>\n",
      "<re.Match object; span=(141, 142), match='b'>\n",
      "<re.Match object; span=(142, 143), match='c'>\n",
      "<re.Match object; span=(144, 145), match='c'>\n",
      "<re.Match object; span=(145, 146), match='a'>\n",
      "<re.Match object; span=(146, 147), match='t'>\n",
      "<re.Match object; span=(148, 149), match='m'>\n",
      "<re.Match object; span=(149, 150), match='a'>\n",
      "<re.Match object; span=(150, 151), match='t'>\n",
      "<re.Match object; span=(151, 152), match=' '>\n",
      "<re.Match object; span=(153, 154), match='h'>\n",
      "<re.Match object; span=(154, 155), match='a'>\n",
      "<re.Match object; span=(155, 156), match='t'>\n",
      "<re.Match object; span=(157, 158), match='b'>\n",
      "<re.Match object; span=(158, 159), match='a'>\n",
      "<re.Match object; span=(159, 160), match='t'>\n",
      "<re.Match object; span=(161, 162), match='f'>\n",
      "<re.Match object; span=(162, 163), match='a'>\n",
      "<re.Match object; span=(163, 164), match='t'>\n",
      "<re.Match object; span=(165, 166), match='s'>\n",
      "<re.Match object; span=(166, 167), match='a'>\n",
      "<re.Match object; span=(167, 168), match='t'>\n",
      "<re.Match object; span=(169, 170), match='0'>\n",
      "<re.Match object; span=(170, 171), match='1'>\n",
      "<re.Match object; span=(171, 172), match='0'>\n",
      "<re.Match object; span=(172, 173), match='9'>\n",
      "<re.Match object; span=(173, 174), match='2'>\n",
      "<re.Match object; span=(174, 175), match='3'>\n",
      "<re.Match object; span=(175, 176), match='2'>\n",
      "<re.Match object; span=(176, 177), match='9'>\n",
      "<re.Match object; span=(177, 178), match='3'>\n",
      "<re.Match object; span=(178, 179), match='4'>\n",
      "<re.Match object; span=(179, 180), match='0'>\n",
      "<re.Match object; span=(181, 182), match='0'>\n",
      "<re.Match object; span=(182, 183), match='1'>\n",
      "<re.Match object; span=(183, 184), match='1'>\n",
      "<re.Match object; span=(184, 185), match='2'>\n",
      "<re.Match object; span=(185, 186), match='3'>\n",
      "<re.Match object; span=(186, 187), match='2'>\n",
      "<re.Match object; span=(187, 188), match='3'>\n",
      "<re.Match object; span=(188, 189), match='4'>\n",
      "<re.Match object; span=(189, 190), match='3'>\n",
      "<re.Match object; span=(190, 191), match='5'>\n",
      "<re.Match object; span=(191, 192), match='5'>\n",
      "<re.Match object; span=(193, 194), match='0'>\n",
      "<re.Match object; span=(194, 195), match='1'>\n",
      "<re.Match object; span=(195, 196), match='0'>\n",
      "<re.Match object; span=(196, 197), match='2'>\n",
      "<re.Match object; span=(197, 198), match='3'>\n",
      "<re.Match object; span=(198, 199), match='4'>\n",
      "<re.Match object; span=(199, 200), match='5'>\n",
      "<re.Match object; span=(200, 201), match='5'>\n",
      "<re.Match object; span=(201, 202), match='4'>\n",
      "<re.Match object; span=(202, 203), match='1'>\n",
      "<re.Match object; span=(203, 204), match='1'>\n",
      "<re.Match object; span=(205, 206), match='0'>\n",
      "<re.Match object; span=(206, 207), match='1'>\n",
      "<re.Match object; span=(207, 208), match='2'>\n",
      "<re.Match object; span=(208, 209), match='3'>\n",
      "<re.Match object; span=(209, 210), match='4'>\n",
      "<re.Match object; span=(210, 211), match='5'>\n",
      "<re.Match object; span=(211, 212), match='6'>\n",
      "<re.Match object; span=(212, 213), match='7'>\n",
      "<re.Match object; span=(213, 214), match='8'>\n",
      "<re.Match object; span=(214, 215), match='7'>\n",
      "<re.Match object; span=(215, 216), match='5'>\n",
      "<re.Match object; span=(217, 218), match='0'>\n",
      "<re.Match object; span=(218, 219), match='1'>\n",
      "<re.Match object; span=(219, 220), match='5'>\n",
      "<re.Match object; span=(220, 221), match='3'>\n",
      "<re.Match object; span=(221, 222), match='4'>\n",
      "<re.Match object; span=(222, 223), match='5'>\n",
      "<re.Match object; span=(223, 224), match='6'>\n",
      "<re.Match object; span=(224, 225), match='7'>\n",
      "<re.Match object; span=(225, 226), match='4'>\n",
      "<re.Match object; span=(226, 227), match='5'>\n",
      "<re.Match object; span=(227, 228), match='6'>\n",
      "<re.Match object; span=(229, 230), match='0'>\n",
      "<re.Match object; span=(230, 231), match='1'>\n",
      "<re.Match object; span=(231, 232), match='1'>\n",
      "<re.Match object; span=(232, 233), match='3'>\n",
      "<re.Match object; span=(233, 234), match='4'>\n",
      "<re.Match object; span=(234, 235), match='5'>\n",
      "<re.Match object; span=(235, 236), match='6'>\n",
      "<re.Match object; span=(236, 237), match='7'>\n",
      "<re.Match object; span=(237, 238), match='8'>\n",
      "<re.Match object; span=(238, 239), match='5'>\n",
      "<re.Match object; span=(239, 240), match='6'>\n",
      "<re.Match object; span=(241, 242), match='c'>\n",
      "<re.Match object; span=(242, 243), match='o'>\n",
      "<re.Match object; span=(243, 244), match='r'>\n",
      "<re.Match object; span=(244, 245), match='e'>\n",
      "<re.Match object; span=(245, 246), match='y'>\n",
      "<re.Match object; span=(246, 247), match='m'>\n",
      "<re.Match object; span=(247, 248), match='s'>\n",
      "<re.Match object; span=(248, 249), match='-'>\n",
      "<re.Match object; span=(249, 250), match='c'>\n",
      "<re.Match object; span=(250, 251), match='o'>\n",
      "<re.Match object; span=(251, 252), match='m'>\n",
      "<re.Match object; span=(253, 254), match='3'>\n",
      "<re.Match object; span=(254, 255), match='2'>\n",
      "<re.Match object; span=(255, 256), match='1'>\n",
      "<re.Match object; span=(256, 257), match='-'>\n",
      "<re.Match object; span=(257, 258), match='5'>\n",
      "<re.Match object; span=(258, 259), match='5'>\n",
      "<re.Match object; span=(259, 260), match='5'>\n",
      "<re.Match object; span=(260, 261), match='-'>\n",
      "<re.Match object; span=(261, 262), match='4'>\n",
      "<re.Match object; span=(262, 263), match='3'>\n",
      "<re.Match object; span=(263, 264), match='2'>\n",
      "<re.Match object; span=(264, 265), match='1'>\n",
      "<re.Match object; span=(266, 267), match='1'>\n",
      "<re.Match object; span=(267, 268), match='2'>\n",
      "<re.Match object; span=(268, 269), match='3'>\n",
      "<re.Match object; span=(269, 270), match='.'>\n",
      "<re.Match object; span=(270, 271), match='5'>\n",
      "<re.Match object; span=(271, 272), match='5'>\n",
      "<re.Match object; span=(272, 273), match='5'>\n",
      "<re.Match object; span=(273, 274), match='.'>\n",
      "<re.Match object; span=(274, 275), match='1'>\n",
      "<re.Match object; span=(275, 276), match='2'>\n",
      "<re.Match object; span=(276, 277), match='3'>\n",
      "<re.Match object; span=(277, 278), match='4'>\n",
      "<re.Match object; span=(279, 280), match='1'>\n",
      "<re.Match object; span=(280, 281), match='2'>\n",
      "<re.Match object; span=(281, 282), match='3'>\n",
      "<re.Match object; span=(282, 283), match='*'>\n",
      "<re.Match object; span=(283, 284), match='5'>\n",
      "<re.Match object; span=(284, 285), match='5'>\n",
      "<re.Match object; span=(285, 286), match='5'>\n",
      "<re.Match object; span=(286, 287), match='*'>\n",
      "<re.Match object; span=(287, 288), match='1'>\n",
      "<re.Match object; span=(288, 289), match='2'>\n",
      "<re.Match object; span=(289, 290), match='3'>\n",
      "<re.Match object; span=(290, 291), match='4'>\n",
      "<re.Match object; span=(292, 293), match='8'>\n",
      "<re.Match object; span=(293, 294), match='0'>\n",
      "<re.Match object; span=(294, 295), match='0'>\n",
      "<re.Match object; span=(295, 296), match='-'>\n",
      "<re.Match object; span=(296, 297), match='5'>\n",
      "<re.Match object; span=(297, 298), match='5'>\n",
      "<re.Match object; span=(298, 299), match='5'>\n",
      "<re.Match object; span=(299, 300), match='-'>\n",
      "<re.Match object; span=(300, 301), match='1'>\n",
      "<re.Match object; span=(301, 302), match='2'>\n",
      "<re.Match object; span=(302, 303), match='3'>\n",
      "<re.Match object; span=(303, 304), match='4'>\n",
      "<re.Match object; span=(305, 306), match='9'>\n",
      "<re.Match object; span=(306, 307), match='0'>\n",
      "<re.Match object; span=(307, 308), match='0'>\n",
      "<re.Match object; span=(308, 309), match='-'>\n",
      "<re.Match object; span=(309, 310), match='5'>\n",
      "<re.Match object; span=(310, 311), match='5'>\n",
      "<re.Match object; span=(311, 312), match='5'>\n",
      "<re.Match object; span=(312, 313), match='-'>\n",
      "<re.Match object; span=(313, 314), match='1'>\n",
      "<re.Match object; span=(314, 315), match='2'>\n",
      "<re.Match object; span=(315, 316), match='3'>\n",
      "<re.Match object; span=(316, 317), match='4'>\n",
      "<re.Match object; span=(318, 319), match='1'>\n",
      "<re.Match object; span=(319, 320), match='0'>\n",
      "<re.Match object; span=(320, 321), match='0'>\n",
      "<re.Match object; span=(321, 322), match='a'>\n",
      "<re.Match object; span=(322, 323), match='1'>\n",
      "<re.Match object; span=(323, 324), match='2'>\n",
      "<re.Match object; span=(324, 325), match='1'>\n",
      "<re.Match object; span=(325, 326), match='C'>\n",
      "<re.Match object; span=(326, 327), match='4'>\n",
      "<re.Match object; span=(327, 328), match='5'>\n",
      "<re.Match object; span=(328, 329), match='4'>\n",
      "<re.Match object; span=(329, 330), match='3'>\n",
      "<re.Match object; span=(331, 332), match='M'>\n",
      "<re.Match object; span=(332, 333), match='r'>\n",
      "<re.Match object; span=(333, 334), match='.'>\n",
      "<re.Match object; span=(334, 335), match=' '>\n",
      "<re.Match object; span=(335, 336), match='S'>\n",
      "<re.Match object; span=(336, 337), match='c'>\n",
      "<re.Match object; span=(337, 338), match='h'>\n",
      "<re.Match object; span=(338, 339), match='a'>\n",
      "<re.Match object; span=(339, 340), match='f'>\n",
      "<re.Match object; span=(340, 341), match='e'>\n",
      "<re.Match object; span=(341, 342), match='r'>\n",
      "<re.Match object; span=(343, 344), match='M'>\n",
      "<re.Match object; span=(344, 345), match='r'>\n",
      "<re.Match object; span=(345, 346), match=' '>\n",
      "<re.Match object; span=(346, 347), match='S'>\n",
      "<re.Match object; span=(347, 348), match='m'>\n",
      "<re.Match object; span=(348, 349), match='i'>\n",
      "<re.Match object; span=(349, 350), match='t'>\n",
      "<re.Match object; span=(350, 351), match='h'>\n",
      "<re.Match object; span=(352, 353), match='M'>\n",
      "<re.Match object; span=(353, 354), match='s'>\n",
      "<re.Match object; span=(354, 355), match=' '>\n",
      "<re.Match object; span=(355, 356), match='D'>\n",
      "<re.Match object; span=(356, 357), match='a'>\n",
      "<re.Match object; span=(357, 358), match='v'>\n",
      "<re.Match object; span=(358, 359), match='i'>\n",
      "<re.Match object; span=(359, 360), match='s'>\n",
      "<re.Match object; span=(361, 362), match='M'>\n",
      "<re.Match object; span=(362, 363), match='r'>\n",
      "<re.Match object; span=(363, 364), match='s'>\n",
      "<re.Match object; span=(364, 365), match='.'>\n",
      "<re.Match object; span=(365, 366), match=' '>\n",
      "<re.Match object; span=(366, 367), match='R'>\n",
      "<re.Match object; span=(367, 368), match='o'>\n",
      "<re.Match object; span=(368, 369), match='b'>\n",
      "<re.Match object; span=(369, 370), match='i'>\n",
      "<re.Match object; span=(370, 371), match='n'>\n",
      "<re.Match object; span=(371, 372), match='s'>\n",
      "<re.Match object; span=(372, 373), match='o'>\n",
      "<re.Match object; span=(373, 374), match='n'>\n",
      "<re.Match object; span=(375, 376), match='M'>\n",
      "<re.Match object; span=(376, 377), match='r'>\n",
      "<re.Match object; span=(377, 378), match='.'>\n",
      "<re.Match object; span=(378, 379), match=' '>\n",
      "<re.Match object; span=(379, 380), match='T'>\n"
     ]
    }
   ],
   "source": [
    "pattern = re.compile(\".\") # matches everything ( excpet new lines )\n",
    "matches = pattern.finditer(text_to_search)\n",
    "for match in matches:\n",
    "    print(match)"
   ]
  },
  {
   "cell_type": "code",
   "execution_count": 12,
   "metadata": {
    "ExecuteTime": {
     "end_time": "2022-08-30T17:53:48.801549Z",
     "start_time": "2022-08-30T17:53:48.790549Z"
    },
    "scrolled": true
   },
   "outputs": [
    {
     "name": "stdout",
     "output_type": "stream",
     "text": [
      "<re.Match object; span=(0, 1), match='a'>\n",
      "<re.Match object; span=(1, 2), match='b'>\n",
      "<re.Match object; span=(2, 3), match='c'>\n",
      "<re.Match object; span=(3, 4), match='d'>\n",
      "<re.Match object; span=(4, 5), match='e'>\n",
      "<re.Match object; span=(5, 6), match='f'>\n",
      "<re.Match object; span=(6, 7), match='g'>\n",
      "<re.Match object; span=(7, 8), match='h'>\n",
      "<re.Match object; span=(8, 9), match='i'>\n",
      "<re.Match object; span=(9, 10), match='j'>\n",
      "<re.Match object; span=(10, 11), match='k'>\n",
      "<re.Match object; span=(11, 12), match='l'>\n",
      "<re.Match object; span=(12, 13), match='m'>\n",
      "<re.Match object; span=(13, 14), match='n'>\n",
      "<re.Match object; span=(14, 15), match='o'>\n",
      "<re.Match object; span=(15, 16), match='p'>\n",
      "<re.Match object; span=(16, 17), match='q'>\n",
      "<re.Match object; span=(17, 18), match='u'>\n",
      "<re.Match object; span=(18, 19), match='r'>\n",
      "<re.Match object; span=(19, 20), match='t'>\n",
      "<re.Match object; span=(20, 21), match='u'>\n",
      "<re.Match object; span=(21, 22), match='v'>\n",
      "<re.Match object; span=(22, 23), match='w'>\n",
      "<re.Match object; span=(23, 24), match='x'>\n",
      "<re.Match object; span=(24, 25), match='y'>\n",
      "<re.Match object; span=(25, 26), match='z'>\n",
      "<re.Match object; span=(27, 28), match='A'>\n",
      "<re.Match object; span=(28, 29), match='B'>\n",
      "<re.Match object; span=(29, 30), match='C'>\n",
      "<re.Match object; span=(30, 31), match='D'>\n",
      "<re.Match object; span=(31, 32), match='E'>\n",
      "<re.Match object; span=(32, 33), match='F'>\n",
      "<re.Match object; span=(33, 34), match='G'>\n",
      "<re.Match object; span=(34, 35), match='H'>\n",
      "<re.Match object; span=(35, 36), match='I'>\n",
      "<re.Match object; span=(36, 37), match='J'>\n",
      "<re.Match object; span=(37, 38), match='K'>\n",
      "<re.Match object; span=(38, 39), match='L'>\n",
      "<re.Match object; span=(39, 40), match='M'>\n",
      "<re.Match object; span=(40, 41), match='N'>\n",
      "<re.Match object; span=(41, 42), match='O'>\n",
      "<re.Match object; span=(42, 43), match='P'>\n",
      "<re.Match object; span=(43, 44), match='Q'>\n",
      "<re.Match object; span=(44, 45), match='R'>\n",
      "<re.Match object; span=(45, 46), match='S'>\n",
      "<re.Match object; span=(46, 47), match='T'>\n",
      "<re.Match object; span=(47, 48), match='U'>\n",
      "<re.Match object; span=(48, 49), match='V'>\n",
      "<re.Match object; span=(49, 50), match='W'>\n",
      "<re.Match object; span=(50, 51), match='X'>\n",
      "<re.Match object; span=(51, 52), match='Y'>\n",
      "<re.Match object; span=(52, 53), match='Z'>\n",
      "<re.Match object; span=(54, 55), match='1'>\n",
      "<re.Match object; span=(55, 56), match='2'>\n",
      "<re.Match object; span=(56, 57), match='3'>\n",
      "<re.Match object; span=(57, 58), match='4'>\n",
      "<re.Match object; span=(58, 59), match='5'>\n",
      "<re.Match object; span=(59, 60), match='6'>\n",
      "<re.Match object; span=(60, 61), match='7'>\n",
      "<re.Match object; span=(61, 62), match='8'>\n",
      "<re.Match object; span=(62, 63), match='9'>\n",
      "<re.Match object; span=(63, 64), match='0'>\n",
      "<re.Match object; span=(64, 65), match='1'>\n",
      "<re.Match object; span=(65, 66), match='0'>\n",
      "<re.Match object; span=(67, 68), match='H'>\n",
      "<re.Match object; span=(68, 69), match='a'>\n",
      "<re.Match object; span=(69, 70), match=' '>\n",
      "<re.Match object; span=(70, 71), match='H'>\n",
      "<re.Match object; span=(71, 72), match='a'>\n",
      "<re.Match object; span=(72, 73), match='H'>\n",
      "<re.Match object; span=(73, 74), match='a'>\n",
      "<re.Match object; span=(75, 76), match='M'>\n",
      "<re.Match object; span=(76, 77), match='e'>\n",
      "<re.Match object; span=(77, 78), match='t'>\n",
      "<re.Match object; span=(78, 79), match='a'>\n",
      "<re.Match object; span=(79, 80), match='C'>\n",
      "<re.Match object; span=(80, 81), match='h'>\n",
      "<re.Match object; span=(81, 82), match='a'>\n",
      "<re.Match object; span=(82, 83), match='r'>\n",
      "<re.Match object; span=(83, 84), match='a'>\n",
      "<re.Match object; span=(84, 85), match='c'>\n",
      "<re.Match object; span=(85, 86), match='t'>\n",
      "<re.Match object; span=(86, 87), match='e'>\n",
      "<re.Match object; span=(87, 88), match='r'>\n",
      "<re.Match object; span=(88, 89), match='s'>\n",
      "<re.Match object; span=(89, 90), match=' '>\n",
      "<re.Match object; span=(90, 91), match='('>\n",
      "<re.Match object; span=(91, 92), match='N'>\n",
      "<re.Match object; span=(92, 93), match='e'>\n",
      "<re.Match object; span=(93, 94), match='e'>\n",
      "<re.Match object; span=(94, 95), match='d'>\n",
      "<re.Match object; span=(95, 96), match=' '>\n",
      "<re.Match object; span=(96, 97), match='t'>\n",
      "<re.Match object; span=(97, 98), match='o'>\n",
      "<re.Match object; span=(98, 99), match=' '>\n",
      "<re.Match object; span=(99, 100), match='b'>\n",
      "<re.Match object; span=(100, 101), match='e'>\n",
      "<re.Match object; span=(101, 102), match=' '>\n",
      "<re.Match object; span=(102, 103), match='e'>\n",
      "<re.Match object; span=(103, 104), match='s'>\n",
      "<re.Match object; span=(104, 105), match='c'>\n",
      "<re.Match object; span=(105, 106), match='a'>\n",
      "<re.Match object; span=(106, 107), match='p'>\n",
      "<re.Match object; span=(107, 108), match='e'>\n",
      "<re.Match object; span=(108, 109), match='d'>\n",
      "<re.Match object; span=(109, 110), match=')'>\n",
      "<re.Match object; span=(110, 111), match=':'>\n",
      "<re.Match object; span=(112, 113), match='.'>\n",
      "<re.Match object; span=(113, 114), match=' '>\n",
      "<re.Match object; span=(114, 115), match='^'>\n",
      "<re.Match object; span=(115, 116), match=' '>\n",
      "<re.Match object; span=(116, 117), match='$'>\n",
      "<re.Match object; span=(117, 118), match=' '>\n",
      "<re.Match object; span=(118, 119), match='*'>\n",
      "<re.Match object; span=(119, 120), match=' '>\n",
      "<re.Match object; span=(120, 121), match='+'>\n",
      "<re.Match object; span=(121, 122), match=' '>\n",
      "<re.Match object; span=(122, 123), match='?'>\n",
      "<re.Match object; span=(123, 124), match=' '>\n",
      "<re.Match object; span=(124, 125), match='{'>\n",
      "<re.Match object; span=(125, 126), match=' '>\n",
      "<re.Match object; span=(126, 127), match='}'>\n",
      "<re.Match object; span=(127, 128), match=' '>\n",
      "<re.Match object; span=(128, 129), match='['>\n",
      "<re.Match object; span=(129, 130), match=' '>\n",
      "<re.Match object; span=(130, 131), match=']'>\n",
      "<re.Match object; span=(131, 132), match=' '>\n",
      "<re.Match object; span=(132, 133), match='\\\\'>\n",
      "<re.Match object; span=(133, 134), match=' '>\n",
      "<re.Match object; span=(134, 135), match='|'>\n",
      "<re.Match object; span=(135, 136), match=' '>\n",
      "<re.Match object; span=(136, 137), match='('>\n",
      "<re.Match object; span=(137, 138), match=' '>\n",
      "<re.Match object; span=(138, 139), match=')'>\n",
      "<re.Match object; span=(140, 141), match='a'>\n",
      "<re.Match object; span=(141, 142), match='b'>\n",
      "<re.Match object; span=(142, 143), match='c'>\n",
      "<re.Match object; span=(144, 145), match='c'>\n",
      "<re.Match object; span=(145, 146), match='a'>\n",
      "<re.Match object; span=(146, 147), match='t'>\n",
      "<re.Match object; span=(148, 149), match='m'>\n",
      "<re.Match object; span=(149, 150), match='a'>\n",
      "<re.Match object; span=(150, 151), match='t'>\n",
      "<re.Match object; span=(151, 152), match=' '>\n",
      "<re.Match object; span=(153, 154), match='h'>\n",
      "<re.Match object; span=(154, 155), match='a'>\n",
      "<re.Match object; span=(155, 156), match='t'>\n",
      "<re.Match object; span=(157, 158), match='b'>\n",
      "<re.Match object; span=(158, 159), match='a'>\n",
      "<re.Match object; span=(159, 160), match='t'>\n",
      "<re.Match object; span=(161, 162), match='f'>\n",
      "<re.Match object; span=(162, 163), match='a'>\n",
      "<re.Match object; span=(163, 164), match='t'>\n",
      "<re.Match object; span=(165, 166), match='s'>\n",
      "<re.Match object; span=(166, 167), match='a'>\n",
      "<re.Match object; span=(167, 168), match='t'>\n",
      "<re.Match object; span=(169, 170), match='0'>\n",
      "<re.Match object; span=(170, 171), match='1'>\n",
      "<re.Match object; span=(171, 172), match='0'>\n",
      "<re.Match object; span=(172, 173), match='9'>\n",
      "<re.Match object; span=(173, 174), match='2'>\n",
      "<re.Match object; span=(174, 175), match='3'>\n",
      "<re.Match object; span=(175, 176), match='2'>\n",
      "<re.Match object; span=(176, 177), match='9'>\n",
      "<re.Match object; span=(177, 178), match='3'>\n",
      "<re.Match object; span=(178, 179), match='4'>\n",
      "<re.Match object; span=(179, 180), match='0'>\n",
      "<re.Match object; span=(181, 182), match='0'>\n",
      "<re.Match object; span=(182, 183), match='1'>\n",
      "<re.Match object; span=(183, 184), match='1'>\n",
      "<re.Match object; span=(184, 185), match='2'>\n",
      "<re.Match object; span=(185, 186), match='3'>\n",
      "<re.Match object; span=(186, 187), match='2'>\n",
      "<re.Match object; span=(187, 188), match='3'>\n",
      "<re.Match object; span=(188, 189), match='4'>\n",
      "<re.Match object; span=(189, 190), match='3'>\n",
      "<re.Match object; span=(190, 191), match='5'>\n",
      "<re.Match object; span=(191, 192), match='5'>\n",
      "<re.Match object; span=(193, 194), match='0'>\n",
      "<re.Match object; span=(194, 195), match='1'>\n",
      "<re.Match object; span=(195, 196), match='0'>\n",
      "<re.Match object; span=(196, 197), match='2'>\n",
      "<re.Match object; span=(197, 198), match='3'>\n",
      "<re.Match object; span=(198, 199), match='4'>\n",
      "<re.Match object; span=(199, 200), match='5'>\n",
      "<re.Match object; span=(200, 201), match='5'>\n",
      "<re.Match object; span=(201, 202), match='4'>\n",
      "<re.Match object; span=(202, 203), match='1'>\n",
      "<re.Match object; span=(203, 204), match='1'>\n",
      "<re.Match object; span=(205, 206), match='0'>\n",
      "<re.Match object; span=(206, 207), match='1'>\n",
      "<re.Match object; span=(207, 208), match='2'>\n",
      "<re.Match object; span=(208, 209), match='3'>\n",
      "<re.Match object; span=(209, 210), match='4'>\n",
      "<re.Match object; span=(210, 211), match='5'>\n",
      "<re.Match object; span=(211, 212), match='6'>\n",
      "<re.Match object; span=(212, 213), match='7'>\n",
      "<re.Match object; span=(213, 214), match='8'>\n",
      "<re.Match object; span=(214, 215), match='7'>\n",
      "<re.Match object; span=(215, 216), match='5'>\n",
      "<re.Match object; span=(217, 218), match='0'>\n",
      "<re.Match object; span=(218, 219), match='1'>\n",
      "<re.Match object; span=(219, 220), match='5'>\n",
      "<re.Match object; span=(220, 221), match='3'>\n",
      "<re.Match object; span=(221, 222), match='4'>\n",
      "<re.Match object; span=(222, 223), match='5'>\n",
      "<re.Match object; span=(223, 224), match='6'>\n",
      "<re.Match object; span=(224, 225), match='7'>\n",
      "<re.Match object; span=(225, 226), match='4'>\n",
      "<re.Match object; span=(226, 227), match='5'>\n",
      "<re.Match object; span=(227, 228), match='6'>\n",
      "<re.Match object; span=(229, 230), match='0'>\n",
      "<re.Match object; span=(230, 231), match='1'>\n",
      "<re.Match object; span=(231, 232), match='1'>\n",
      "<re.Match object; span=(232, 233), match='3'>\n",
      "<re.Match object; span=(233, 234), match='4'>\n",
      "<re.Match object; span=(234, 235), match='5'>\n",
      "<re.Match object; span=(235, 236), match='6'>\n",
      "<re.Match object; span=(236, 237), match='7'>\n",
      "<re.Match object; span=(237, 238), match='8'>\n",
      "<re.Match object; span=(238, 239), match='5'>\n",
      "<re.Match object; span=(239, 240), match='6'>\n",
      "<re.Match object; span=(241, 242), match='c'>\n",
      "<re.Match object; span=(242, 243), match='o'>\n",
      "<re.Match object; span=(243, 244), match='r'>\n",
      "<re.Match object; span=(244, 245), match='e'>\n",
      "<re.Match object; span=(245, 246), match='y'>\n",
      "<re.Match object; span=(246, 247), match='m'>\n",
      "<re.Match object; span=(247, 248), match='s'>\n",
      "<re.Match object; span=(248, 249), match='-'>\n",
      "<re.Match object; span=(249, 250), match='c'>\n",
      "<re.Match object; span=(250, 251), match='o'>\n",
      "<re.Match object; span=(251, 252), match='m'>\n",
      "<re.Match object; span=(253, 254), match='3'>\n",
      "<re.Match object; span=(254, 255), match='2'>\n",
      "<re.Match object; span=(255, 256), match='1'>\n",
      "<re.Match object; span=(256, 257), match='-'>\n",
      "<re.Match object; span=(257, 258), match='5'>\n",
      "<re.Match object; span=(258, 259), match='5'>\n",
      "<re.Match object; span=(259, 260), match='5'>\n",
      "<re.Match object; span=(260, 261), match='-'>\n",
      "<re.Match object; span=(261, 262), match='4'>\n",
      "<re.Match object; span=(262, 263), match='3'>\n",
      "<re.Match object; span=(263, 264), match='2'>\n",
      "<re.Match object; span=(264, 265), match='1'>\n",
      "<re.Match object; span=(266, 267), match='1'>\n",
      "<re.Match object; span=(267, 268), match='2'>\n",
      "<re.Match object; span=(268, 269), match='3'>\n",
      "<re.Match object; span=(269, 270), match='.'>\n",
      "<re.Match object; span=(270, 271), match='5'>\n",
      "<re.Match object; span=(271, 272), match='5'>\n",
      "<re.Match object; span=(272, 273), match='5'>\n",
      "<re.Match object; span=(273, 274), match='.'>\n",
      "<re.Match object; span=(274, 275), match='1'>\n",
      "<re.Match object; span=(275, 276), match='2'>\n",
      "<re.Match object; span=(276, 277), match='3'>\n",
      "<re.Match object; span=(277, 278), match='4'>\n",
      "<re.Match object; span=(279, 280), match='1'>\n",
      "<re.Match object; span=(280, 281), match='2'>\n",
      "<re.Match object; span=(281, 282), match='3'>\n",
      "<re.Match object; span=(282, 283), match='*'>\n",
      "<re.Match object; span=(283, 284), match='5'>\n",
      "<re.Match object; span=(284, 285), match='5'>\n",
      "<re.Match object; span=(285, 286), match='5'>\n",
      "<re.Match object; span=(286, 287), match='*'>\n",
      "<re.Match object; span=(287, 288), match='1'>\n",
      "<re.Match object; span=(288, 289), match='2'>\n",
      "<re.Match object; span=(289, 290), match='3'>\n",
      "<re.Match object; span=(290, 291), match='4'>\n",
      "<re.Match object; span=(292, 293), match='8'>\n",
      "<re.Match object; span=(293, 294), match='0'>\n",
      "<re.Match object; span=(294, 295), match='0'>\n",
      "<re.Match object; span=(295, 296), match='-'>\n",
      "<re.Match object; span=(296, 297), match='5'>\n",
      "<re.Match object; span=(297, 298), match='5'>\n",
      "<re.Match object; span=(298, 299), match='5'>\n",
      "<re.Match object; span=(299, 300), match='-'>\n",
      "<re.Match object; span=(300, 301), match='1'>\n",
      "<re.Match object; span=(301, 302), match='2'>\n",
      "<re.Match object; span=(302, 303), match='3'>\n",
      "<re.Match object; span=(303, 304), match='4'>\n",
      "<re.Match object; span=(305, 306), match='9'>\n",
      "<re.Match object; span=(306, 307), match='0'>\n",
      "<re.Match object; span=(307, 308), match='0'>\n",
      "<re.Match object; span=(308, 309), match='-'>\n",
      "<re.Match object; span=(309, 310), match='5'>\n",
      "<re.Match object; span=(310, 311), match='5'>\n",
      "<re.Match object; span=(311, 312), match='5'>\n",
      "<re.Match object; span=(312, 313), match='-'>\n",
      "<re.Match object; span=(313, 314), match='1'>\n",
      "<re.Match object; span=(314, 315), match='2'>\n",
      "<re.Match object; span=(315, 316), match='3'>\n",
      "<re.Match object; span=(316, 317), match='4'>\n",
      "<re.Match object; span=(318, 319), match='1'>\n",
      "<re.Match object; span=(319, 320), match='0'>\n",
      "<re.Match object; span=(320, 321), match='0'>\n",
      "<re.Match object; span=(321, 322), match='a'>\n",
      "<re.Match object; span=(322, 323), match='1'>\n",
      "<re.Match object; span=(323, 324), match='2'>\n",
      "<re.Match object; span=(324, 325), match='1'>\n",
      "<re.Match object; span=(325, 326), match='C'>\n",
      "<re.Match object; span=(326, 327), match='4'>\n",
      "<re.Match object; span=(327, 328), match='5'>\n",
      "<re.Match object; span=(328, 329), match='4'>\n",
      "<re.Match object; span=(329, 330), match='3'>\n",
      "<re.Match object; span=(331, 332), match='M'>\n",
      "<re.Match object; span=(332, 333), match='r'>\n",
      "<re.Match object; span=(333, 334), match='.'>\n",
      "<re.Match object; span=(334, 335), match=' '>\n",
      "<re.Match object; span=(335, 336), match='S'>\n",
      "<re.Match object; span=(336, 337), match='c'>\n",
      "<re.Match object; span=(337, 338), match='h'>\n",
      "<re.Match object; span=(338, 339), match='a'>\n",
      "<re.Match object; span=(339, 340), match='f'>\n",
      "<re.Match object; span=(340, 341), match='e'>\n",
      "<re.Match object; span=(341, 342), match='r'>\n",
      "<re.Match object; span=(343, 344), match='M'>\n",
      "<re.Match object; span=(344, 345), match='r'>\n",
      "<re.Match object; span=(345, 346), match=' '>\n",
      "<re.Match object; span=(346, 347), match='S'>\n",
      "<re.Match object; span=(347, 348), match='m'>\n",
      "<re.Match object; span=(348, 349), match='i'>\n",
      "<re.Match object; span=(349, 350), match='t'>\n",
      "<re.Match object; span=(350, 351), match='h'>\n",
      "<re.Match object; span=(352, 353), match='M'>\n",
      "<re.Match object; span=(353, 354), match='s'>\n",
      "<re.Match object; span=(354, 355), match=' '>\n",
      "<re.Match object; span=(355, 356), match='D'>\n",
      "<re.Match object; span=(356, 357), match='a'>\n",
      "<re.Match object; span=(357, 358), match='v'>\n",
      "<re.Match object; span=(358, 359), match='i'>\n",
      "<re.Match object; span=(359, 360), match='s'>\n",
      "<re.Match object; span=(361, 362), match='M'>\n",
      "<re.Match object; span=(362, 363), match='r'>\n",
      "<re.Match object; span=(363, 364), match='s'>\n",
      "<re.Match object; span=(364, 365), match='.'>\n",
      "<re.Match object; span=(365, 366), match=' '>\n",
      "<re.Match object; span=(366, 367), match='R'>\n",
      "<re.Match object; span=(367, 368), match='o'>\n",
      "<re.Match object; span=(368, 369), match='b'>\n",
      "<re.Match object; span=(369, 370), match='i'>\n",
      "<re.Match object; span=(370, 371), match='n'>\n",
      "<re.Match object; span=(371, 372), match='s'>\n",
      "<re.Match object; span=(372, 373), match='o'>\n",
      "<re.Match object; span=(373, 374), match='n'>\n",
      "<re.Match object; span=(375, 376), match='M'>\n",
      "<re.Match object; span=(376, 377), match='r'>\n",
      "<re.Match object; span=(377, 378), match='.'>\n",
      "<re.Match object; span=(378, 379), match=' '>\n",
      "<re.Match object; span=(379, 380), match='T'>\n"
     ]
    }
   ],
   "source": [
    "pattern = re.compile(r\".\") #matches everything ( excpet new lines )\n",
    "matches = pattern.finditer(text_to_search)\n",
    "for match in matches:\n",
    "    print(match)"
   ]
  },
  {
   "cell_type": "code",
   "execution_count": 13,
   "metadata": {
    "ExecuteTime": {
     "end_time": "2022-08-30T17:54:26.166551Z",
     "start_time": "2022-08-30T17:54:26.162549Z"
    }
   },
   "outputs": [
    {
     "name": "stdout",
     "output_type": "stream",
     "text": [
      "start index: 112 and end index is:  112\n",
      "start index: 269 and end index is:  269\n",
      "start index: 273 and end index is:  273\n",
      "start index: 333 and end index is:  333\n",
      "start index: 364 and end index is:  364\n",
      "start index: 377 and end index is:  377\n",
      ".\n",
      ".\n"
     ]
    }
   ],
   "source": [
    "pattern = re.compile(r\"\\.\") #matches only dots \n",
    "matches = pattern.finditer(text_to_search)\n",
    "\n",
    "for match in matches:\n",
    "    print(\"start index:\", match.span()[0] , \"and end index is: \", (match.span()[1])-1) \n",
    "    \n",
    "print(text_to_search[112])  \n",
    "print(text_to_search[269])  "
   ]
  },
  {
   "cell_type": "code",
   "execution_count": 16,
   "metadata": {
    "ExecuteTime": {
     "end_time": "2022-08-30T17:55:19.535548Z",
     "start_time": "2022-08-30T17:55:19.532548Z"
    }
   },
   "outputs": [
    {
     "name": "stdout",
     "output_type": "stream",
     "text": [
      "<re.Match object; span=(241, 252), match='coreyms-com'>\n"
     ]
    }
   ],
   "source": [
    "pattern = re.compile(r\"coreyms.com\") \n",
    "matches = pattern.finditer(text_to_search)\n",
    "l = [ ]\n",
    "for match in matches:\n",
    "    print(match)\n",
    "\n",
    "#print(text_to_search[181:193])"
   ]
  },
  {
   "cell_type": "code",
   "execution_count": 17,
   "metadata": {
    "ExecuteTime": {
     "end_time": "2022-08-30T17:55:43.812552Z",
     "start_time": "2022-08-30T17:55:43.809551Z"
    }
   },
   "outputs": [],
   "source": [
    "pattern = re.compile(r\"coreyms\\.com\") #matches only dots \n",
    "matches = pattern.finditer(text_to_search)\n",
    "for match in matches:\n",
    "    print(match)"
   ]
  },
  {
   "cell_type": "code",
   "execution_count": 18,
   "metadata": {
    "ExecuteTime": {
     "end_time": "2022-08-30T17:55:47.874548Z",
     "start_time": "2022-08-30T17:55:47.870549Z"
    }
   },
   "outputs": [
    {
     "name": "stdout",
     "output_type": "stream",
     "text": [
      "<re.Match object; span=(3, 4), match='d'>\n",
      "<re.Match object; span=(94, 95), match='d'>\n",
      "<re.Match object; span=(108, 109), match='d'>\n"
     ]
    }
   ],
   "source": [
    "pattern = re.compile(r\"d\")   \n",
    "matches = pattern.finditer(text_to_search)\n",
    "for match in matches:\n",
    "    print(match)"
   ]
  },
  {
   "cell_type": "code",
   "execution_count": 22,
   "metadata": {
    "ExecuteTime": {
     "end_time": "2021-09-11T15:05:25.687059Z",
     "start_time": "2021-09-11T15:05:25.670104Z"
    }
   },
   "outputs": [
    {
     "name": "stdout",
     "output_type": "stream",
     "text": [
      "<re.Match object; span=(0, 3), match='abc'>\n",
      "<re.Match object; span=(3, 6), match='def'>\n",
      "<re.Match object; span=(6, 9), match='ghi'>\n",
      "<re.Match object; span=(9, 12), match='jkl'>\n",
      "<re.Match object; span=(12, 15), match='mno'>\n",
      "<re.Match object; span=(15, 18), match='pqu'>\n",
      "<re.Match object; span=(18, 21), match='rtu'>\n",
      "<re.Match object; span=(21, 24), match='vwx'>\n",
      "<re.Match object; span=(24, 27), match='yz\\n'>\n",
      "<re.Match object; span=(27, 30), match='ABC'>\n",
      "<re.Match object; span=(30, 33), match='DEF'>\n",
      "<re.Match object; span=(33, 36), match='GHI'>\n",
      "<re.Match object; span=(36, 39), match='JKL'>\n",
      "<re.Match object; span=(39, 42), match='MNO'>\n",
      "<re.Match object; span=(42, 45), match='PQR'>\n",
      "<re.Match object; span=(45, 48), match='STU'>\n",
      "<re.Match object; span=(48, 51), match='VWX'>\n",
      "<re.Match object; span=(51, 54), match='YZ\\n'>\n",
      "<re.Match object; span=(66, 69), match='\\nHa'>\n",
      "<re.Match object; span=(69, 72), match=' Ha'>\n",
      "<re.Match object; span=(72, 75), match='Ha\\n'>\n",
      "<re.Match object; span=(75, 78), match='Met'>\n",
      "<re.Match object; span=(78, 81), match='aCh'>\n",
      "<re.Match object; span=(81, 84), match='ara'>\n",
      "<re.Match object; span=(84, 87), match='cte'>\n",
      "<re.Match object; span=(87, 90), match='rs '>\n",
      "<re.Match object; span=(90, 93), match='(Ne'>\n",
      "<re.Match object; span=(93, 96), match='ed '>\n",
      "<re.Match object; span=(96, 99), match='to '>\n",
      "<re.Match object; span=(99, 102), match='be '>\n",
      "<re.Match object; span=(102, 105), match='esc'>\n",
      "<re.Match object; span=(105, 108), match='ape'>\n",
      "<re.Match object; span=(108, 111), match='d):'>\n",
      "<re.Match object; span=(111, 114), match='\\n. '>\n",
      "<re.Match object; span=(114, 117), match='^ $'>\n",
      "<re.Match object; span=(117, 120), match=' * '>\n",
      "<re.Match object; span=(120, 123), match='+ ?'>\n",
      "<re.Match object; span=(123, 126), match=' { '>\n",
      "<re.Match object; span=(126, 129), match='} ['>\n",
      "<re.Match object; span=(129, 132), match=' ] '>\n",
      "<re.Match object; span=(132, 135), match='\\\\ |'>\n",
      "<re.Match object; span=(135, 138), match=' ( '>\n",
      "<re.Match object; span=(138, 141), match=')\\na'>\n",
      "<re.Match object; span=(141, 144), match='bc\\n'>\n",
      "<re.Match object; span=(144, 147), match='cat'>\n",
      "<re.Match object; span=(147, 150), match='\\nma'>\n",
      "<re.Match object; span=(150, 153), match='t \\n'>\n",
      "<re.Match object; span=(153, 156), match='hat'>\n",
      "<re.Match object; span=(156, 159), match='\\nba'>\n",
      "<re.Match object; span=(159, 162), match='t\\nf'>\n",
      "<re.Match object; span=(162, 165), match='at\\n'>\n",
      "<re.Match object; span=(165, 168), match='sat'>\n",
      "<re.Match object; span=(240, 243), match='\\nco'>\n",
      "<re.Match object; span=(243, 246), match='rey'>\n",
      "<re.Match object; span=(246, 249), match='ms-'>\n",
      "<re.Match object; span=(249, 252), match='com'>\n",
      "<re.Match object; span=(330, 333), match='\\nMr'>\n",
      "<re.Match object; span=(333, 336), match='. S'>\n",
      "<re.Match object; span=(336, 339), match='cha'>\n",
      "<re.Match object; span=(339, 342), match='fer'>\n",
      "<re.Match object; span=(342, 345), match='\\nMr'>\n",
      "<re.Match object; span=(345, 348), match=' Sm'>\n",
      "<re.Match object; span=(348, 351), match='ith'>\n",
      "<re.Match object; span=(351, 354), match='\\nMs'>\n",
      "<re.Match object; span=(354, 357), match=' Da'>\n",
      "<re.Match object; span=(357, 360), match='vis'>\n",
      "<re.Match object; span=(360, 363), match='\\nMr'>\n",
      "<re.Match object; span=(363, 366), match='s. '>\n",
      "<re.Match object; span=(366, 369), match='Rob'>\n",
      "<re.Match object; span=(369, 372), match='ins'>\n",
      "<re.Match object; span=(372, 375), match='on\\n'>\n",
      "<re.Match object; span=(375, 378), match='Mr.'>\n",
      "<re.Match object; span=(378, 381), match=' T\\n'>\n"
     ]
    }
   ],
   "source": [
    "pattern = re.compile(r\"\\D{3}\") #matches only digits  \n",
    "matches = pattern.finditer(text_to_search)\n",
    "for match in matches:\n",
    "    print(match)"
   ]
  },
  {
   "cell_type": "code",
   "execution_count": 19,
   "metadata": {
    "ExecuteTime": {
     "end_time": "2022-08-30T17:56:07.626548Z",
     "start_time": "2022-08-30T17:56:07.619548Z"
    }
   },
   "outputs": [
    {
     "name": "stdout",
     "output_type": "stream",
     "text": [
      "<re.Match object; span=(54, 55), match='1'>\n",
      "<re.Match object; span=(55, 56), match='2'>\n",
      "<re.Match object; span=(56, 57), match='3'>\n",
      "<re.Match object; span=(57, 58), match='4'>\n",
      "<re.Match object; span=(58, 59), match='5'>\n",
      "<re.Match object; span=(59, 60), match='6'>\n",
      "<re.Match object; span=(60, 61), match='7'>\n",
      "<re.Match object; span=(61, 62), match='8'>\n",
      "<re.Match object; span=(62, 63), match='9'>\n",
      "<re.Match object; span=(63, 64), match='0'>\n",
      "<re.Match object; span=(64, 65), match='1'>\n",
      "<re.Match object; span=(65, 66), match='0'>\n",
      "<re.Match object; span=(169, 170), match='0'>\n",
      "<re.Match object; span=(170, 171), match='1'>\n",
      "<re.Match object; span=(171, 172), match='0'>\n",
      "<re.Match object; span=(172, 173), match='9'>\n",
      "<re.Match object; span=(173, 174), match='2'>\n",
      "<re.Match object; span=(174, 175), match='3'>\n",
      "<re.Match object; span=(175, 176), match='2'>\n",
      "<re.Match object; span=(176, 177), match='9'>\n",
      "<re.Match object; span=(177, 178), match='3'>\n",
      "<re.Match object; span=(178, 179), match='4'>\n",
      "<re.Match object; span=(179, 180), match='0'>\n",
      "<re.Match object; span=(181, 182), match='0'>\n",
      "<re.Match object; span=(182, 183), match='1'>\n",
      "<re.Match object; span=(183, 184), match='1'>\n",
      "<re.Match object; span=(184, 185), match='2'>\n",
      "<re.Match object; span=(185, 186), match='3'>\n",
      "<re.Match object; span=(186, 187), match='2'>\n",
      "<re.Match object; span=(187, 188), match='3'>\n",
      "<re.Match object; span=(188, 189), match='4'>\n",
      "<re.Match object; span=(189, 190), match='3'>\n",
      "<re.Match object; span=(190, 191), match='5'>\n",
      "<re.Match object; span=(191, 192), match='5'>\n",
      "<re.Match object; span=(193, 194), match='0'>\n",
      "<re.Match object; span=(194, 195), match='1'>\n",
      "<re.Match object; span=(195, 196), match='0'>\n",
      "<re.Match object; span=(196, 197), match='2'>\n",
      "<re.Match object; span=(197, 198), match='3'>\n",
      "<re.Match object; span=(198, 199), match='4'>\n",
      "<re.Match object; span=(199, 200), match='5'>\n",
      "<re.Match object; span=(200, 201), match='5'>\n",
      "<re.Match object; span=(201, 202), match='4'>\n",
      "<re.Match object; span=(202, 203), match='1'>\n",
      "<re.Match object; span=(203, 204), match='1'>\n",
      "<re.Match object; span=(205, 206), match='0'>\n",
      "<re.Match object; span=(206, 207), match='1'>\n",
      "<re.Match object; span=(207, 208), match='2'>\n",
      "<re.Match object; span=(208, 209), match='3'>\n",
      "<re.Match object; span=(209, 210), match='4'>\n",
      "<re.Match object; span=(210, 211), match='5'>\n",
      "<re.Match object; span=(211, 212), match='6'>\n",
      "<re.Match object; span=(212, 213), match='7'>\n",
      "<re.Match object; span=(213, 214), match='8'>\n",
      "<re.Match object; span=(214, 215), match='7'>\n",
      "<re.Match object; span=(215, 216), match='5'>\n",
      "<re.Match object; span=(217, 218), match='0'>\n",
      "<re.Match object; span=(218, 219), match='1'>\n",
      "<re.Match object; span=(219, 220), match='5'>\n",
      "<re.Match object; span=(220, 221), match='3'>\n",
      "<re.Match object; span=(221, 222), match='4'>\n",
      "<re.Match object; span=(222, 223), match='5'>\n",
      "<re.Match object; span=(223, 224), match='6'>\n",
      "<re.Match object; span=(224, 225), match='7'>\n",
      "<re.Match object; span=(225, 226), match='4'>\n",
      "<re.Match object; span=(226, 227), match='5'>\n",
      "<re.Match object; span=(227, 228), match='6'>\n",
      "<re.Match object; span=(229, 230), match='0'>\n",
      "<re.Match object; span=(230, 231), match='1'>\n",
      "<re.Match object; span=(231, 232), match='1'>\n",
      "<re.Match object; span=(232, 233), match='3'>\n",
      "<re.Match object; span=(233, 234), match='4'>\n",
      "<re.Match object; span=(234, 235), match='5'>\n",
      "<re.Match object; span=(235, 236), match='6'>\n",
      "<re.Match object; span=(236, 237), match='7'>\n",
      "<re.Match object; span=(237, 238), match='8'>\n",
      "<re.Match object; span=(238, 239), match='5'>\n",
      "<re.Match object; span=(239, 240), match='6'>\n",
      "<re.Match object; span=(253, 254), match='3'>\n",
      "<re.Match object; span=(254, 255), match='2'>\n",
      "<re.Match object; span=(255, 256), match='1'>\n",
      "<re.Match object; span=(257, 258), match='5'>\n",
      "<re.Match object; span=(258, 259), match='5'>\n",
      "<re.Match object; span=(259, 260), match='5'>\n",
      "<re.Match object; span=(261, 262), match='4'>\n",
      "<re.Match object; span=(262, 263), match='3'>\n",
      "<re.Match object; span=(263, 264), match='2'>\n",
      "<re.Match object; span=(264, 265), match='1'>\n",
      "<re.Match object; span=(266, 267), match='1'>\n",
      "<re.Match object; span=(267, 268), match='2'>\n",
      "<re.Match object; span=(268, 269), match='3'>\n",
      "<re.Match object; span=(270, 271), match='5'>\n",
      "<re.Match object; span=(271, 272), match='5'>\n",
      "<re.Match object; span=(272, 273), match='5'>\n",
      "<re.Match object; span=(274, 275), match='1'>\n",
      "<re.Match object; span=(275, 276), match='2'>\n",
      "<re.Match object; span=(276, 277), match='3'>\n",
      "<re.Match object; span=(277, 278), match='4'>\n",
      "<re.Match object; span=(279, 280), match='1'>\n",
      "<re.Match object; span=(280, 281), match='2'>\n",
      "<re.Match object; span=(281, 282), match='3'>\n",
      "<re.Match object; span=(283, 284), match='5'>\n",
      "<re.Match object; span=(284, 285), match='5'>\n",
      "<re.Match object; span=(285, 286), match='5'>\n",
      "<re.Match object; span=(287, 288), match='1'>\n",
      "<re.Match object; span=(288, 289), match='2'>\n",
      "<re.Match object; span=(289, 290), match='3'>\n",
      "<re.Match object; span=(290, 291), match='4'>\n",
      "<re.Match object; span=(292, 293), match='8'>\n",
      "<re.Match object; span=(293, 294), match='0'>\n",
      "<re.Match object; span=(294, 295), match='0'>\n",
      "<re.Match object; span=(296, 297), match='5'>\n",
      "<re.Match object; span=(297, 298), match='5'>\n",
      "<re.Match object; span=(298, 299), match='5'>\n",
      "<re.Match object; span=(300, 301), match='1'>\n",
      "<re.Match object; span=(301, 302), match='2'>\n",
      "<re.Match object; span=(302, 303), match='3'>\n",
      "<re.Match object; span=(303, 304), match='4'>\n",
      "<re.Match object; span=(305, 306), match='9'>\n",
      "<re.Match object; span=(306, 307), match='0'>\n",
      "<re.Match object; span=(307, 308), match='0'>\n",
      "<re.Match object; span=(309, 310), match='5'>\n",
      "<re.Match object; span=(310, 311), match='5'>\n",
      "<re.Match object; span=(311, 312), match='5'>\n",
      "<re.Match object; span=(313, 314), match='1'>\n",
      "<re.Match object; span=(314, 315), match='2'>\n",
      "<re.Match object; span=(315, 316), match='3'>\n",
      "<re.Match object; span=(316, 317), match='4'>\n",
      "<re.Match object; span=(318, 319), match='1'>\n",
      "<re.Match object; span=(319, 320), match='0'>\n",
      "<re.Match object; span=(320, 321), match='0'>\n",
      "<re.Match object; span=(322, 323), match='1'>\n",
      "<re.Match object; span=(323, 324), match='2'>\n",
      "<re.Match object; span=(324, 325), match='1'>\n",
      "<re.Match object; span=(326, 327), match='4'>\n",
      "<re.Match object; span=(327, 328), match='5'>\n",
      "<re.Match object; span=(328, 329), match='4'>\n",
      "<re.Match object; span=(329, 330), match='3'>\n"
     ]
    }
   ],
   "source": [
    "pattern = re.compile(r\"\\d\") #matches only digits  \n",
    "matches = pattern.finditer(text_to_search)\n",
    "for match in matches:\n",
    "    print(match)"
   ]
  },
  {
   "cell_type": "code",
   "execution_count": 22,
   "metadata": {
    "ExecuteTime": {
     "end_time": "2022-08-28T18:28:23.909017Z",
     "start_time": "2022-08-28T18:28:23.894015Z"
    }
   },
   "outputs": [
    {
     "name": "stdout",
     "output_type": "stream",
     "text": [
      "Help on module re:\n",
      "\n",
      "NAME\n",
      "    re - Support for regular expressions (RE).\n",
      "\n",
      "MODULE REFERENCE\n",
      "    https://docs.python.org/3.8/library/re\n",
      "    \n",
      "    The following documentation is automatically generated from the Python\n",
      "    source files.  It may be incomplete, incorrect or include features that\n",
      "    are considered implementation detail and may vary between Python\n",
      "    implementations.  When in doubt, consult the module reference at the\n",
      "    location listed above.\n",
      "\n",
      "DESCRIPTION\n",
      "    This module provides regular expression matching operations similar to\n",
      "    those found in Perl.  It supports both 8-bit and Unicode strings; both\n",
      "    the pattern and the strings being processed can contain null bytes and\n",
      "    characters outside the US ASCII range.\n",
      "    \n",
      "    Regular expressions can contain both special and ordinary characters.\n",
      "    Most ordinary characters, like \"A\", \"a\", or \"0\", are the simplest\n",
      "    regular expressions; they simply match themselves.  You can\n",
      "    concatenate ordinary characters, so last matches the string 'last'.\n",
      "    \n",
      "    The special characters are:\n",
      "        \".\"      Matches any character except a newline.\n",
      "        \"^\"      Matches the start of the string.\n",
      "        \"$\"      Matches the end of the string or just before the newline at\n",
      "                 the end of the string.\n",
      "        \"*\"      Matches 0 or more (greedy) repetitions of the preceding RE.\n",
      "                 Greedy means that it will match as many repetitions as possible.\n",
      "        \"+\"      Matches 1 or more (greedy) repetitions of the preceding RE.\n",
      "        \"?\"      Matches 0 or 1 (greedy) of the preceding RE.\n",
      "        *?,+?,?? Non-greedy versions of the previous three special characters.\n",
      "        {m,n}    Matches from m to n repetitions of the preceding RE.\n",
      "        {m,n}?   Non-greedy version of the above.\n",
      "        \"\\\\\"     Either escapes special characters or signals a special sequence.\n",
      "        []       Indicates a set of characters.\n",
      "                 A \"^\" as the first character indicates a complementing set.\n",
      "        \"|\"      A|B, creates an RE that will match either A or B.\n",
      "        (...)    Matches the RE inside the parentheses.\n",
      "                 The contents can be retrieved or matched later in the string.\n",
      "        (?aiLmsux) The letters set the corresponding flags defined below.\n",
      "        (?:...)  Non-grouping version of regular parentheses.\n",
      "        (?P<name>...) The substring matched by the group is accessible by name.\n",
      "        (?P=name)     Matches the text matched earlier by the group named name.\n",
      "        (?#...)  A comment; ignored.\n",
      "        (?=...)  Matches if ... matches next, but doesn't consume the string.\n",
      "        (?!...)  Matches if ... doesn't match next.\n",
      "        (?<=...) Matches if preceded by ... (must be fixed length).\n",
      "        (?<!...) Matches if not preceded by ... (must be fixed length).\n",
      "        (?(id/name)yes|no) Matches yes pattern if the group with id/name matched,\n",
      "                           the (optional) no pattern otherwise.\n",
      "    \n",
      "    The special sequences consist of \"\\\\\" and a character from the list\n",
      "    below.  If the ordinary character is not on the list, then the\n",
      "    resulting RE will match the second character.\n",
      "        \\number  Matches the contents of the group of the same number.\n",
      "        \\A       Matches only at the start of the string.\n",
      "        \\Z       Matches only at the end of the string.\n",
      "        \\b       Matches the empty string, but only at the start or end of a word.\n",
      "        \\B       Matches the empty string, but not at the start or end of a word.\n",
      "        \\d       Matches any decimal digit; equivalent to the set [0-9] in\n",
      "                 bytes patterns or string patterns with the ASCII flag.\n",
      "                 In string patterns without the ASCII flag, it will match the whole\n",
      "                 range of Unicode digits.\n",
      "        \\D       Matches any non-digit character; equivalent to [^\\d].\n",
      "        \\s       Matches any whitespace character; equivalent to [ \\t\\n\\r\\f\\v] in\n",
      "                 bytes patterns or string patterns with the ASCII flag.\n",
      "                 In string patterns without the ASCII flag, it will match the whole\n",
      "                 range of Unicode whitespace characters.\n",
      "        \\S       Matches any non-whitespace character; equivalent to [^\\s].\n",
      "        \\w       Matches any alphanumeric character; equivalent to [a-zA-Z0-9_]\n",
      "                 in bytes patterns or string patterns with the ASCII flag.\n",
      "                 In string patterns without the ASCII flag, it will match the\n",
      "                 range of Unicode alphanumeric characters (letters plus digits\n",
      "                 plus underscore).\n",
      "                 With LOCALE, it will match the set [0-9_] plus characters defined\n",
      "                 as letters for the current locale.\n",
      "        \\W       Matches the complement of \\w.\n",
      "        \\\\       Matches a literal backslash.\n",
      "    \n",
      "    This module exports the following functions:\n",
      "        match     Match a regular expression pattern to the beginning of a string.\n",
      "        fullmatch Match a regular expression pattern to all of a string.\n",
      "        search    Search a string for the presence of a pattern.\n",
      "        sub       Substitute occurrences of a pattern found in a string.\n",
      "        subn      Same as sub, but also return the number of substitutions made.\n",
      "        split     Split a string by the occurrences of a pattern.\n",
      "        findall   Find all occurrences of a pattern in a string.\n",
      "        finditer  Return an iterator yielding a Match object for each match.\n",
      "        compile   Compile a pattern into a Pattern object.\n",
      "        purge     Clear the regular expression cache.\n",
      "        escape    Backslash all non-alphanumerics in a string.\n",
      "    \n",
      "    Each function other than purge and escape can take an optional 'flags' argument\n",
      "    consisting of one or more of the following module constants, joined by \"|\".\n",
      "    A, L, and U are mutually exclusive.\n",
      "        A  ASCII       For string patterns, make \\w, \\W, \\b, \\B, \\d, \\D\n",
      "                       match the corresponding ASCII character categories\n",
      "                       (rather than the whole Unicode categories, which is the\n",
      "                       default).\n",
      "                       For bytes patterns, this flag is the only available\n",
      "                       behaviour and needn't be specified.\n",
      "        I  IGNORECASE  Perform case-insensitive matching.\n",
      "        L  LOCALE      Make \\w, \\W, \\b, \\B, dependent on the current locale.\n",
      "        M  MULTILINE   \"^\" matches the beginning of lines (after a newline)\n",
      "                       as well as the string.\n",
      "                       \"$\" matches the end of lines (before a newline) as well\n",
      "                       as the end of the string.\n",
      "        S  DOTALL      \".\" matches any character at all, including the newline.\n",
      "        X  VERBOSE     Ignore whitespace and comments for nicer looking RE's.\n",
      "        U  UNICODE     For compatibility only. Ignored for string patterns (it\n",
      "                       is the default), and forbidden for bytes patterns.\n",
      "    \n",
      "    This module also defines an exception 'error'.\n",
      "\n",
      "CLASSES\n",
      "    builtins.Exception(builtins.BaseException)\n",
      "        error\n",
      "    builtins.object\n",
      "        Match\n",
      "        Pattern\n",
      "    \n",
      "    class Match(builtins.object)\n",
      "     |  The result of re.match() and re.search().\n",
      "     |  Match objects always have a boolean value of True.\n",
      "     |  \n",
      "     |  Methods defined here:\n",
      "     |  \n",
      "     |  __copy__(self, /)\n",
      "     |  \n",
      "     |  __deepcopy__(self, memo, /)\n",
      "     |  \n",
      "     |  __getitem__(self, key, /)\n",
      "     |      Return self[key].\n",
      "     |  \n",
      "     |  __repr__(self, /)\n",
      "     |      Return repr(self).\n",
      "     |  \n",
      "     |  end(self, group=0, /)\n",
      "     |      Return index of the end of the substring matched by group.\n",
      "     |  \n",
      "     |  expand(self, /, template)\n",
      "     |      Return the string obtained by doing backslash substitution on the string template, as done by the sub() method.\n",
      "     |  \n",
      "     |  group(...)\n",
      "     |      group([group1, ...]) -> str or tuple.\n",
      "     |      Return subgroup(s) of the match by indices or names.\n",
      "     |      For 0 returns the entire match.\n",
      "     |  \n",
      "     |  groupdict(self, /, default=None)\n",
      "     |      Return a dictionary containing all the named subgroups of the match, keyed by the subgroup name.\n",
      "     |      \n",
      "     |      default\n",
      "     |        Is used for groups that did not participate in the match.\n",
      "     |  \n",
      "     |  groups(self, /, default=None)\n",
      "     |      Return a tuple containing all the subgroups of the match, from 1.\n",
      "     |      \n",
      "     |      default\n",
      "     |        Is used for groups that did not participate in the match.\n",
      "     |  \n",
      "     |  span(self, group=0, /)\n",
      "     |      For match object m, return the 2-tuple (m.start(group), m.end(group)).\n",
      "     |  \n",
      "     |  start(self, group=0, /)\n",
      "     |      Return index of the start of the substring matched by group.\n",
      "     |  \n",
      "     |  ----------------------------------------------------------------------\n",
      "     |  Data descriptors defined here:\n",
      "     |  \n",
      "     |  endpos\n",
      "     |      The index into the string beyond which the RE engine will not go.\n",
      "     |  \n",
      "     |  lastgroup\n",
      "     |      The name of the last matched capturing group.\n",
      "     |  \n",
      "     |  lastindex\n",
      "     |      The integer index of the last matched capturing group.\n",
      "     |  \n",
      "     |  pos\n",
      "     |      The index into the string at which the RE engine started looking for a match.\n",
      "     |  \n",
      "     |  re\n",
      "     |      The regular expression object.\n",
      "     |  \n",
      "     |  regs\n",
      "     |  \n",
      "     |  string\n",
      "     |      The string passed to match() or search().\n",
      "    \n",
      "    class Pattern(builtins.object)\n",
      "     |  Compiled regular expression object.\n",
      "     |  \n",
      "     |  Methods defined here:\n",
      "     |  \n",
      "     |  __copy__(self, /)\n",
      "     |  \n",
      "     |  __deepcopy__(self, memo, /)\n",
      "     |  \n",
      "     |  __eq__(self, value, /)\n",
      "     |      Return self==value.\n",
      "     |  \n",
      "     |  __ge__(self, value, /)\n",
      "     |      Return self>=value.\n",
      "     |  \n",
      "     |  __gt__(self, value, /)\n",
      "     |      Return self>value.\n",
      "     |  \n",
      "     |  __hash__(self, /)\n",
      "     |      Return hash(self).\n",
      "     |  \n",
      "     |  __le__(self, value, /)\n",
      "     |      Return self<=value.\n",
      "     |  \n",
      "     |  __lt__(self, value, /)\n",
      "     |      Return self<value.\n",
      "     |  \n",
      "     |  __ne__(self, value, /)\n",
      "     |      Return self!=value.\n",
      "     |  \n",
      "     |  __repr__(self, /)\n",
      "     |      Return repr(self).\n",
      "     |  \n",
      "     |  findall(self, /, string, pos=0, endpos=9223372036854775807)\n",
      "     |      Return a list of all non-overlapping matches of pattern in string.\n",
      "     |  \n",
      "     |  finditer(self, /, string, pos=0, endpos=9223372036854775807)\n",
      "     |      Return an iterator over all non-overlapping matches for the RE pattern in string.\n",
      "     |      \n",
      "     |      For each match, the iterator returns a match object.\n",
      "     |  \n",
      "     |  fullmatch(self, /, string, pos=0, endpos=9223372036854775807)\n",
      "     |      Matches against all of the string.\n",
      "     |  \n",
      "     |  match(self, /, string, pos=0, endpos=9223372036854775807)\n",
      "     |      Matches zero or more characters at the beginning of the string.\n",
      "     |  \n",
      "     |  scanner(self, /, string, pos=0, endpos=9223372036854775807)\n",
      "     |  \n",
      "     |  search(self, /, string, pos=0, endpos=9223372036854775807)\n",
      "     |      Scan through string looking for a match, and return a corresponding match object instance.\n",
      "     |      \n",
      "     |      Return None if no position in the string matches.\n",
      "     |  \n",
      "     |  split(self, /, string, maxsplit=0)\n",
      "     |      Split string by the occurrences of pattern.\n",
      "     |  \n",
      "     |  sub(self, /, repl, string, count=0)\n",
      "     |      Return the string obtained by replacing the leftmost non-overlapping occurrences of pattern in string by the replacement repl.\n",
      "     |  \n",
      "     |  subn(self, /, repl, string, count=0)\n",
      "     |      Return the tuple (new_string, number_of_subs_made) found by replacing the leftmost non-overlapping occurrences of pattern with the replacement repl.\n",
      "     |  \n",
      "     |  ----------------------------------------------------------------------\n",
      "     |  Data descriptors defined here:\n",
      "     |  \n",
      "     |  flags\n",
      "     |      The regex matching flags.\n",
      "     |  \n",
      "     |  groupindex\n",
      "     |      A dictionary mapping group names to group numbers.\n",
      "     |  \n",
      "     |  groups\n",
      "     |      The number of capturing groups in the pattern.\n",
      "     |  \n",
      "     |  pattern\n",
      "     |      The pattern string from which the RE object was compiled.\n",
      "    \n",
      "    class error(builtins.Exception)\n",
      "     |  error(msg, pattern=None, pos=None)\n",
      "     |  \n",
      "     |  Exception raised for invalid regular expressions.\n",
      "     |  \n",
      "     |  Attributes:\n",
      "     |  \n",
      "     |      msg: The unformatted error message\n",
      "     |      pattern: The regular expression pattern\n",
      "     |      pos: The index in the pattern where compilation failed (may be None)\n",
      "     |      lineno: The line corresponding to pos (may be None)\n",
      "     |      colno: The column corresponding to pos (may be None)\n",
      "     |  \n",
      "     |  Method resolution order:\n",
      "     |      error\n",
      "     |      builtins.Exception\n",
      "     |      builtins.BaseException\n",
      "     |      builtins.object\n",
      "     |  \n",
      "     |  Methods defined here:\n",
      "     |  \n",
      "     |  __init__(self, msg, pattern=None, pos=None)\n",
      "     |      Initialize self.  See help(type(self)) for accurate signature.\n",
      "     |  \n",
      "     |  ----------------------------------------------------------------------\n",
      "     |  Data descriptors defined here:\n",
      "     |  \n",
      "     |  __weakref__\n",
      "     |      list of weak references to the object (if defined)\n",
      "     |  \n",
      "     |  ----------------------------------------------------------------------\n",
      "     |  Static methods inherited from builtins.Exception:\n",
      "     |  \n",
      "     |  __new__(*args, **kwargs) from builtins.type\n",
      "     |      Create and return a new object.  See help(type) for accurate signature.\n",
      "     |  \n",
      "     |  ----------------------------------------------------------------------\n",
      "     |  Methods inherited from builtins.BaseException:\n",
      "     |  \n",
      "     |  __delattr__(self, name, /)\n",
      "     |      Implement delattr(self, name).\n",
      "     |  \n",
      "     |  __getattribute__(self, name, /)\n",
      "     |      Return getattr(self, name).\n",
      "     |  \n",
      "     |  __reduce__(...)\n",
      "     |      Helper for pickle.\n",
      "     |  \n",
      "     |  __repr__(self, /)\n",
      "     |      Return repr(self).\n",
      "     |  \n",
      "     |  __setattr__(self, name, value, /)\n",
      "     |      Implement setattr(self, name, value).\n",
      "     |  \n",
      "     |  __setstate__(...)\n",
      "     |  \n",
      "     |  __str__(self, /)\n",
      "     |      Return str(self).\n",
      "     |  \n",
      "     |  with_traceback(...)\n",
      "     |      Exception.with_traceback(tb) --\n",
      "     |      set self.__traceback__ to tb and return self.\n",
      "     |  \n",
      "     |  ----------------------------------------------------------------------\n",
      "     |  Data descriptors inherited from builtins.BaseException:\n",
      "     |  \n",
      "     |  __cause__\n",
      "     |      exception cause\n",
      "     |  \n",
      "     |  __context__\n",
      "     |      exception context\n",
      "     |  \n",
      "     |  __dict__\n",
      "     |  \n",
      "     |  __suppress_context__\n",
      "     |  \n",
      "     |  __traceback__\n",
      "     |  \n",
      "     |  args\n",
      "\n",
      "FUNCTIONS\n",
      "    compile(pattern, flags=0)\n",
      "        Compile a regular expression pattern, returning a Pattern object.\n",
      "    \n",
      "    escape(pattern)\n",
      "        Escape special characters in a string.\n",
      "    \n",
      "    findall(pattern, string, flags=0)\n",
      "        Return a list of all non-overlapping matches in the string.\n",
      "        \n",
      "        If one or more capturing groups are present in the pattern, return\n",
      "        a list of groups; this will be a list of tuples if the pattern\n",
      "        has more than one group.\n",
      "        \n",
      "        Empty matches are included in the result.\n",
      "    \n",
      "    finditer(pattern, string, flags=0)\n",
      "        Return an iterator over all non-overlapping matches in the\n",
      "        string.  For each match, the iterator returns a Match object.\n",
      "        \n",
      "        Empty matches are included in the result.\n",
      "    \n",
      "    fullmatch(pattern, string, flags=0)\n",
      "        Try to apply the pattern to all of the string, returning\n",
      "        a Match object, or None if no match was found.\n",
      "    \n",
      "    match(pattern, string, flags=0)\n",
      "        Try to apply the pattern at the start of the string, returning\n",
      "        a Match object, or None if no match was found.\n",
      "    \n",
      "    purge()\n",
      "        Clear the regular expression caches\n",
      "    \n",
      "    search(pattern, string, flags=0)\n",
      "        Scan through string looking for a match to the pattern, returning\n",
      "        a Match object, or None if no match was found.\n",
      "    \n",
      "    split(pattern, string, maxsplit=0, flags=0)\n",
      "        Split the source string by the occurrences of the pattern,\n",
      "        returning a list containing the resulting substrings.  If\n",
      "        capturing parentheses are used in pattern, then the text of all\n",
      "        groups in the pattern are also returned as part of the resulting\n",
      "        list.  If maxsplit is nonzero, at most maxsplit splits occur,\n",
      "        and the remainder of the string is returned as the final element\n",
      "        of the list.\n",
      "    \n",
      "    sub(pattern, repl, string, count=0, flags=0)\n",
      "        Return the string obtained by replacing the leftmost\n",
      "        non-overlapping occurrences of the pattern in string by the\n",
      "        replacement repl.  repl can be either a string or a callable;\n",
      "        if a string, backslash escapes in it are processed.  If it is\n",
      "        a callable, it's passed the Match object and must return\n",
      "        a replacement string to be used.\n",
      "    \n",
      "    subn(pattern, repl, string, count=0, flags=0)\n",
      "        Return a 2-tuple containing (new_string, number).\n",
      "        new_string is the string obtained by replacing the leftmost\n",
      "        non-overlapping occurrences of the pattern in the source\n",
      "        string by the replacement repl.  number is the number of\n",
      "        substitutions that were made. repl can be either a string or a\n",
      "        callable; if a string, backslash escapes in it are processed.\n",
      "        If it is a callable, it's passed the Match object and must\n",
      "        return a replacement string to be used.\n",
      "    \n",
      "    template(pattern, flags=0)\n",
      "        Compile a template pattern, returning a Pattern object\n",
      "\n",
      "DATA\n",
      "    A = re.ASCII\n",
      "    ASCII = re.ASCII\n",
      "    DOTALL = re.DOTALL\n",
      "    I = re.IGNORECASE\n",
      "    IGNORECASE = re.IGNORECASE\n",
      "    L = re.LOCALE\n",
      "    LOCALE = re.LOCALE\n",
      "    M = re.MULTILINE\n",
      "    MULTILINE = re.MULTILINE\n",
      "    S = re.DOTALL\n",
      "    U = re.UNICODE\n",
      "    UNICODE = re.UNICODE\n",
      "    VERBOSE = re.VERBOSE\n",
      "    X = re.VERBOSE\n",
      "    __all__ = ['match', 'fullmatch', 'search', 'sub', 'subn', 'split', 'fi...\n",
      "\n",
      "VERSION\n",
      "    2.2.1\n",
      "\n",
      "FILE\n",
      "    c:\\users\\ahmed\\anaconda3\\lib\\re.py\n",
      "\n",
      "\n"
     ]
    }
   ],
   "source": [
    "help(re)"
   ]
  },
  {
   "cell_type": "code",
   "execution_count": 20,
   "metadata": {
    "ExecuteTime": {
     "end_time": "2022-08-30T17:57:35.919548Z",
     "start_time": "2022-08-30T17:57:35.914548Z"
    }
   },
   "outputs": [
    {
     "name": "stdout",
     "output_type": "stream",
     "text": [
      "<re.Match object; span=(54, 56), match='12'>\n",
      "<re.Match object; span=(56, 58), match='34'>\n",
      "<re.Match object; span=(58, 60), match='56'>\n",
      "<re.Match object; span=(60, 62), match='78'>\n",
      "<re.Match object; span=(62, 64), match='90'>\n",
      "<re.Match object; span=(64, 66), match='10'>\n",
      "<re.Match object; span=(169, 171), match='01'>\n",
      "<re.Match object; span=(171, 173), match='09'>\n",
      "<re.Match object; span=(173, 175), match='23'>\n",
      "<re.Match object; span=(175, 177), match='29'>\n",
      "<re.Match object; span=(177, 179), match='34'>\n",
      "<re.Match object; span=(181, 183), match='01'>\n",
      "<re.Match object; span=(183, 185), match='12'>\n",
      "<re.Match object; span=(185, 187), match='32'>\n",
      "<re.Match object; span=(187, 189), match='34'>\n",
      "<re.Match object; span=(189, 191), match='35'>\n",
      "<re.Match object; span=(193, 195), match='01'>\n",
      "<re.Match object; span=(195, 197), match='02'>\n",
      "<re.Match object; span=(197, 199), match='34'>\n",
      "<re.Match object; span=(199, 201), match='55'>\n",
      "<re.Match object; span=(201, 203), match='41'>\n",
      "<re.Match object; span=(205, 207), match='01'>\n",
      "<re.Match object; span=(207, 209), match='23'>\n",
      "<re.Match object; span=(209, 211), match='45'>\n",
      "<re.Match object; span=(211, 213), match='67'>\n",
      "<re.Match object; span=(213, 215), match='87'>\n",
      "<re.Match object; span=(217, 219), match='01'>\n",
      "<re.Match object; span=(219, 221), match='53'>\n",
      "<re.Match object; span=(221, 223), match='45'>\n",
      "<re.Match object; span=(223, 225), match='67'>\n",
      "<re.Match object; span=(225, 227), match='45'>\n",
      "<re.Match object; span=(229, 231), match='01'>\n",
      "<re.Match object; span=(231, 233), match='13'>\n",
      "<re.Match object; span=(233, 235), match='45'>\n",
      "<re.Match object; span=(235, 237), match='67'>\n",
      "<re.Match object; span=(237, 239), match='85'>\n",
      "<re.Match object; span=(253, 255), match='32'>\n",
      "<re.Match object; span=(257, 259), match='55'>\n",
      "<re.Match object; span=(261, 263), match='43'>\n",
      "<re.Match object; span=(263, 265), match='21'>\n",
      "<re.Match object; span=(266, 268), match='12'>\n",
      "<re.Match object; span=(270, 272), match='55'>\n",
      "<re.Match object; span=(274, 276), match='12'>\n",
      "<re.Match object; span=(276, 278), match='34'>\n",
      "<re.Match object; span=(279, 281), match='12'>\n",
      "<re.Match object; span=(283, 285), match='55'>\n",
      "<re.Match object; span=(287, 289), match='12'>\n",
      "<re.Match object; span=(289, 291), match='34'>\n",
      "<re.Match object; span=(292, 294), match='80'>\n",
      "<re.Match object; span=(296, 298), match='55'>\n",
      "<re.Match object; span=(300, 302), match='12'>\n",
      "<re.Match object; span=(302, 304), match='34'>\n",
      "<re.Match object; span=(305, 307), match='90'>\n",
      "<re.Match object; span=(309, 311), match='55'>\n",
      "<re.Match object; span=(313, 315), match='12'>\n",
      "<re.Match object; span=(315, 317), match='34'>\n",
      "<re.Match object; span=(318, 320), match='10'>\n",
      "<re.Match object; span=(322, 324), match='12'>\n",
      "<re.Match object; span=(326, 328), match='45'>\n",
      "<re.Match object; span=(328, 330), match='43'>\n"
     ]
    }
   ],
   "source": [
    "pattern = re.compile(r\"\\d\\d\") #matches only two digits  \n",
    "matches = pattern.finditer(text_to_search)\n",
    "for match in matches:\n",
    "    print(match)"
   ]
  },
  {
   "cell_type": "code",
   "execution_count": 21,
   "metadata": {
    "ExecuteTime": {
     "end_time": "2022-08-30T17:58:00.780550Z",
     "start_time": "2022-08-30T17:58:00.773548Z"
    }
   },
   "outputs": [
    {
     "name": "stdout",
     "output_type": "stream",
     "text": [
      "<re.Match object; span=(0, 1), match='a'>\n",
      "<re.Match object; span=(1, 2), match='b'>\n",
      "<re.Match object; span=(2, 3), match='c'>\n",
      "<re.Match object; span=(3, 4), match='d'>\n",
      "<re.Match object; span=(4, 5), match='e'>\n",
      "<re.Match object; span=(5, 6), match='f'>\n",
      "<re.Match object; span=(6, 7), match='g'>\n",
      "<re.Match object; span=(7, 8), match='h'>\n",
      "<re.Match object; span=(8, 9), match='i'>\n",
      "<re.Match object; span=(9, 10), match='j'>\n",
      "<re.Match object; span=(10, 11), match='k'>\n",
      "<re.Match object; span=(11, 12), match='l'>\n",
      "<re.Match object; span=(12, 13), match='m'>\n",
      "<re.Match object; span=(13, 14), match='n'>\n",
      "<re.Match object; span=(14, 15), match='o'>\n",
      "<re.Match object; span=(15, 16), match='p'>\n",
      "<re.Match object; span=(16, 17), match='q'>\n",
      "<re.Match object; span=(17, 18), match='u'>\n",
      "<re.Match object; span=(18, 19), match='r'>\n",
      "<re.Match object; span=(19, 20), match='t'>\n",
      "<re.Match object; span=(20, 21), match='u'>\n",
      "<re.Match object; span=(21, 22), match='v'>\n",
      "<re.Match object; span=(22, 23), match='w'>\n",
      "<re.Match object; span=(23, 24), match='x'>\n",
      "<re.Match object; span=(24, 25), match='y'>\n",
      "<re.Match object; span=(25, 26), match='z'>\n",
      "<re.Match object; span=(26, 27), match='\\n'>\n",
      "<re.Match object; span=(27, 28), match='A'>\n",
      "<re.Match object; span=(28, 29), match='B'>\n",
      "<re.Match object; span=(29, 30), match='C'>\n",
      "<re.Match object; span=(30, 31), match='D'>\n",
      "<re.Match object; span=(31, 32), match='E'>\n",
      "<re.Match object; span=(32, 33), match='F'>\n",
      "<re.Match object; span=(33, 34), match='G'>\n",
      "<re.Match object; span=(34, 35), match='H'>\n",
      "<re.Match object; span=(35, 36), match='I'>\n",
      "<re.Match object; span=(36, 37), match='J'>\n",
      "<re.Match object; span=(37, 38), match='K'>\n",
      "<re.Match object; span=(38, 39), match='L'>\n",
      "<re.Match object; span=(39, 40), match='M'>\n",
      "<re.Match object; span=(40, 41), match='N'>\n",
      "<re.Match object; span=(41, 42), match='O'>\n",
      "<re.Match object; span=(42, 43), match='P'>\n",
      "<re.Match object; span=(43, 44), match='Q'>\n",
      "<re.Match object; span=(44, 45), match='R'>\n",
      "<re.Match object; span=(45, 46), match='S'>\n",
      "<re.Match object; span=(46, 47), match='T'>\n",
      "<re.Match object; span=(47, 48), match='U'>\n",
      "<re.Match object; span=(48, 49), match='V'>\n",
      "<re.Match object; span=(49, 50), match='W'>\n",
      "<re.Match object; span=(50, 51), match='X'>\n",
      "<re.Match object; span=(51, 52), match='Y'>\n",
      "<re.Match object; span=(52, 53), match='Z'>\n",
      "<re.Match object; span=(53, 54), match='\\n'>\n",
      "<re.Match object; span=(66, 67), match='\\n'>\n",
      "<re.Match object; span=(67, 68), match='H'>\n",
      "<re.Match object; span=(68, 69), match='a'>\n",
      "<re.Match object; span=(69, 70), match=' '>\n",
      "<re.Match object; span=(70, 71), match='H'>\n",
      "<re.Match object; span=(71, 72), match='a'>\n",
      "<re.Match object; span=(72, 73), match='H'>\n",
      "<re.Match object; span=(73, 74), match='a'>\n",
      "<re.Match object; span=(74, 75), match='\\n'>\n",
      "<re.Match object; span=(75, 76), match='M'>\n",
      "<re.Match object; span=(76, 77), match='e'>\n",
      "<re.Match object; span=(77, 78), match='t'>\n",
      "<re.Match object; span=(78, 79), match='a'>\n",
      "<re.Match object; span=(79, 80), match='C'>\n",
      "<re.Match object; span=(80, 81), match='h'>\n",
      "<re.Match object; span=(81, 82), match='a'>\n",
      "<re.Match object; span=(82, 83), match='r'>\n",
      "<re.Match object; span=(83, 84), match='a'>\n",
      "<re.Match object; span=(84, 85), match='c'>\n",
      "<re.Match object; span=(85, 86), match='t'>\n",
      "<re.Match object; span=(86, 87), match='e'>\n",
      "<re.Match object; span=(87, 88), match='r'>\n",
      "<re.Match object; span=(88, 89), match='s'>\n",
      "<re.Match object; span=(89, 90), match=' '>\n",
      "<re.Match object; span=(90, 91), match='('>\n",
      "<re.Match object; span=(91, 92), match='N'>\n",
      "<re.Match object; span=(92, 93), match='e'>\n",
      "<re.Match object; span=(93, 94), match='e'>\n",
      "<re.Match object; span=(94, 95), match='d'>\n",
      "<re.Match object; span=(95, 96), match=' '>\n",
      "<re.Match object; span=(96, 97), match='t'>\n",
      "<re.Match object; span=(97, 98), match='o'>\n",
      "<re.Match object; span=(98, 99), match=' '>\n",
      "<re.Match object; span=(99, 100), match='b'>\n",
      "<re.Match object; span=(100, 101), match='e'>\n",
      "<re.Match object; span=(101, 102), match=' '>\n",
      "<re.Match object; span=(102, 103), match='e'>\n",
      "<re.Match object; span=(103, 104), match='s'>\n",
      "<re.Match object; span=(104, 105), match='c'>\n",
      "<re.Match object; span=(105, 106), match='a'>\n",
      "<re.Match object; span=(106, 107), match='p'>\n",
      "<re.Match object; span=(107, 108), match='e'>\n",
      "<re.Match object; span=(108, 109), match='d'>\n",
      "<re.Match object; span=(109, 110), match=')'>\n",
      "<re.Match object; span=(110, 111), match=':'>\n",
      "<re.Match object; span=(111, 112), match='\\n'>\n",
      "<re.Match object; span=(112, 113), match='.'>\n",
      "<re.Match object; span=(113, 114), match=' '>\n",
      "<re.Match object; span=(114, 115), match='^'>\n",
      "<re.Match object; span=(115, 116), match=' '>\n",
      "<re.Match object; span=(116, 117), match='$'>\n",
      "<re.Match object; span=(117, 118), match=' '>\n",
      "<re.Match object; span=(118, 119), match='*'>\n",
      "<re.Match object; span=(119, 120), match=' '>\n",
      "<re.Match object; span=(120, 121), match='+'>\n",
      "<re.Match object; span=(121, 122), match=' '>\n",
      "<re.Match object; span=(122, 123), match='?'>\n",
      "<re.Match object; span=(123, 124), match=' '>\n",
      "<re.Match object; span=(124, 125), match='{'>\n",
      "<re.Match object; span=(125, 126), match=' '>\n",
      "<re.Match object; span=(126, 127), match='}'>\n",
      "<re.Match object; span=(127, 128), match=' '>\n",
      "<re.Match object; span=(128, 129), match='['>\n",
      "<re.Match object; span=(129, 130), match=' '>\n",
      "<re.Match object; span=(130, 131), match=']'>\n",
      "<re.Match object; span=(131, 132), match=' '>\n",
      "<re.Match object; span=(132, 133), match='\\\\'>\n",
      "<re.Match object; span=(133, 134), match=' '>\n",
      "<re.Match object; span=(134, 135), match='|'>\n",
      "<re.Match object; span=(135, 136), match=' '>\n",
      "<re.Match object; span=(136, 137), match='('>\n",
      "<re.Match object; span=(137, 138), match=' '>\n",
      "<re.Match object; span=(138, 139), match=')'>\n",
      "<re.Match object; span=(139, 140), match='\\n'>\n",
      "<re.Match object; span=(140, 141), match='a'>\n",
      "<re.Match object; span=(141, 142), match='b'>\n",
      "<re.Match object; span=(142, 143), match='c'>\n",
      "<re.Match object; span=(143, 144), match='\\n'>\n",
      "<re.Match object; span=(144, 145), match='c'>\n",
      "<re.Match object; span=(145, 146), match='a'>\n",
      "<re.Match object; span=(146, 147), match='t'>\n",
      "<re.Match object; span=(147, 148), match='\\n'>\n",
      "<re.Match object; span=(148, 149), match='m'>\n",
      "<re.Match object; span=(149, 150), match='a'>\n",
      "<re.Match object; span=(150, 151), match='t'>\n",
      "<re.Match object; span=(151, 152), match=' '>\n",
      "<re.Match object; span=(152, 153), match='\\n'>\n",
      "<re.Match object; span=(153, 154), match='h'>\n",
      "<re.Match object; span=(154, 155), match='a'>\n",
      "<re.Match object; span=(155, 156), match='t'>\n",
      "<re.Match object; span=(156, 157), match='\\n'>\n",
      "<re.Match object; span=(157, 158), match='b'>\n",
      "<re.Match object; span=(158, 159), match='a'>\n",
      "<re.Match object; span=(159, 160), match='t'>\n",
      "<re.Match object; span=(160, 161), match='\\n'>\n",
      "<re.Match object; span=(161, 162), match='f'>\n",
      "<re.Match object; span=(162, 163), match='a'>\n",
      "<re.Match object; span=(163, 164), match='t'>\n",
      "<re.Match object; span=(164, 165), match='\\n'>\n",
      "<re.Match object; span=(165, 166), match='s'>\n",
      "<re.Match object; span=(166, 167), match='a'>\n",
      "<re.Match object; span=(167, 168), match='t'>\n",
      "<re.Match object; span=(168, 169), match='\\n'>\n",
      "<re.Match object; span=(180, 181), match='\\n'>\n",
      "<re.Match object; span=(192, 193), match='\\n'>\n",
      "<re.Match object; span=(204, 205), match='\\n'>\n",
      "<re.Match object; span=(216, 217), match='\\n'>\n",
      "<re.Match object; span=(228, 229), match='\\n'>\n",
      "<re.Match object; span=(240, 241), match='\\n'>\n",
      "<re.Match object; span=(241, 242), match='c'>\n",
      "<re.Match object; span=(242, 243), match='o'>\n",
      "<re.Match object; span=(243, 244), match='r'>\n",
      "<re.Match object; span=(244, 245), match='e'>\n",
      "<re.Match object; span=(245, 246), match='y'>\n",
      "<re.Match object; span=(246, 247), match='m'>\n",
      "<re.Match object; span=(247, 248), match='s'>\n",
      "<re.Match object; span=(248, 249), match='-'>\n",
      "<re.Match object; span=(249, 250), match='c'>\n",
      "<re.Match object; span=(250, 251), match='o'>\n",
      "<re.Match object; span=(251, 252), match='m'>\n",
      "<re.Match object; span=(252, 253), match='\\n'>\n",
      "<re.Match object; span=(256, 257), match='-'>\n",
      "<re.Match object; span=(260, 261), match='-'>\n",
      "<re.Match object; span=(265, 266), match='\\n'>\n",
      "<re.Match object; span=(269, 270), match='.'>\n",
      "<re.Match object; span=(273, 274), match='.'>\n",
      "<re.Match object; span=(278, 279), match='\\n'>\n",
      "<re.Match object; span=(282, 283), match='*'>\n",
      "<re.Match object; span=(286, 287), match='*'>\n",
      "<re.Match object; span=(291, 292), match='\\n'>\n",
      "<re.Match object; span=(295, 296), match='-'>\n",
      "<re.Match object; span=(299, 300), match='-'>\n",
      "<re.Match object; span=(304, 305), match='\\n'>\n",
      "<re.Match object; span=(308, 309), match='-'>\n",
      "<re.Match object; span=(312, 313), match='-'>\n",
      "<re.Match object; span=(317, 318), match='\\n'>\n",
      "<re.Match object; span=(321, 322), match='a'>\n",
      "<re.Match object; span=(325, 326), match='C'>\n",
      "<re.Match object; span=(330, 331), match='\\n'>\n",
      "<re.Match object; span=(331, 332), match='M'>\n",
      "<re.Match object; span=(332, 333), match='r'>\n",
      "<re.Match object; span=(333, 334), match='.'>\n",
      "<re.Match object; span=(334, 335), match=' '>\n",
      "<re.Match object; span=(335, 336), match='S'>\n",
      "<re.Match object; span=(336, 337), match='c'>\n",
      "<re.Match object; span=(337, 338), match='h'>\n",
      "<re.Match object; span=(338, 339), match='a'>\n",
      "<re.Match object; span=(339, 340), match='f'>\n",
      "<re.Match object; span=(340, 341), match='e'>\n",
      "<re.Match object; span=(341, 342), match='r'>\n",
      "<re.Match object; span=(342, 343), match='\\n'>\n",
      "<re.Match object; span=(343, 344), match='M'>\n",
      "<re.Match object; span=(344, 345), match='r'>\n",
      "<re.Match object; span=(345, 346), match=' '>\n",
      "<re.Match object; span=(346, 347), match='S'>\n",
      "<re.Match object; span=(347, 348), match='m'>\n",
      "<re.Match object; span=(348, 349), match='i'>\n",
      "<re.Match object; span=(349, 350), match='t'>\n",
      "<re.Match object; span=(350, 351), match='h'>\n",
      "<re.Match object; span=(351, 352), match='\\n'>\n",
      "<re.Match object; span=(352, 353), match='M'>\n",
      "<re.Match object; span=(353, 354), match='s'>\n",
      "<re.Match object; span=(354, 355), match=' '>\n",
      "<re.Match object; span=(355, 356), match='D'>\n",
      "<re.Match object; span=(356, 357), match='a'>\n",
      "<re.Match object; span=(357, 358), match='v'>\n",
      "<re.Match object; span=(358, 359), match='i'>\n",
      "<re.Match object; span=(359, 360), match='s'>\n",
      "<re.Match object; span=(360, 361), match='\\n'>\n",
      "<re.Match object; span=(361, 362), match='M'>\n",
      "<re.Match object; span=(362, 363), match='r'>\n",
      "<re.Match object; span=(363, 364), match='s'>\n",
      "<re.Match object; span=(364, 365), match='.'>\n",
      "<re.Match object; span=(365, 366), match=' '>\n",
      "<re.Match object; span=(366, 367), match='R'>\n",
      "<re.Match object; span=(367, 368), match='o'>\n",
      "<re.Match object; span=(368, 369), match='b'>\n",
      "<re.Match object; span=(369, 370), match='i'>\n",
      "<re.Match object; span=(370, 371), match='n'>\n",
      "<re.Match object; span=(371, 372), match='s'>\n",
      "<re.Match object; span=(372, 373), match='o'>\n",
      "<re.Match object; span=(373, 374), match='n'>\n",
      "<re.Match object; span=(374, 375), match='\\n'>\n",
      "<re.Match object; span=(375, 376), match='M'>\n",
      "<re.Match object; span=(376, 377), match='r'>\n",
      "<re.Match object; span=(377, 378), match='.'>\n",
      "<re.Match object; span=(378, 379), match=' '>\n",
      "<re.Match object; span=(379, 380), match='T'>\n",
      "<re.Match object; span=(380, 381), match='\\n'>\n"
     ]
    }
   ],
   "source": [
    "pattern = re.compile(r\"\\D\") #matches only not a digit  \n",
    "matches = pattern.finditer(text_to_search)\n",
    "for match in matches:\n",
    "    print(match)"
   ]
  },
  {
   "cell_type": "code",
   "execution_count": 22,
   "metadata": {
    "ExecuteTime": {
     "end_time": "2022-08-30T17:58:30.017547Z",
     "start_time": "2022-08-30T17:58:30.008548Z"
    }
   },
   "outputs": [
    {
     "name": "stdout",
     "output_type": "stream",
     "text": [
      "<re.Match object; span=(0, 1), match='a'>\n",
      "<re.Match object; span=(1, 2), match='b'>\n",
      "<re.Match object; span=(2, 3), match='c'>\n",
      "<re.Match object; span=(3, 4), match='d'>\n",
      "<re.Match object; span=(4, 5), match='e'>\n",
      "<re.Match object; span=(5, 6), match='f'>\n",
      "<re.Match object; span=(6, 7), match='g'>\n",
      "<re.Match object; span=(7, 8), match='h'>\n",
      "<re.Match object; span=(8, 9), match='i'>\n",
      "<re.Match object; span=(9, 10), match='j'>\n",
      "<re.Match object; span=(10, 11), match='k'>\n",
      "<re.Match object; span=(11, 12), match='l'>\n",
      "<re.Match object; span=(12, 13), match='m'>\n",
      "<re.Match object; span=(13, 14), match='n'>\n",
      "<re.Match object; span=(14, 15), match='o'>\n",
      "<re.Match object; span=(15, 16), match='p'>\n",
      "<re.Match object; span=(16, 17), match='q'>\n",
      "<re.Match object; span=(17, 18), match='u'>\n",
      "<re.Match object; span=(18, 19), match='r'>\n",
      "<re.Match object; span=(19, 20), match='t'>\n",
      "<re.Match object; span=(20, 21), match='u'>\n",
      "<re.Match object; span=(21, 22), match='v'>\n",
      "<re.Match object; span=(22, 23), match='w'>\n",
      "<re.Match object; span=(23, 24), match='x'>\n",
      "<re.Match object; span=(24, 25), match='y'>\n",
      "<re.Match object; span=(25, 26), match='z'>\n",
      "<re.Match object; span=(27, 28), match='A'>\n",
      "<re.Match object; span=(28, 29), match='B'>\n",
      "<re.Match object; span=(29, 30), match='C'>\n",
      "<re.Match object; span=(30, 31), match='D'>\n",
      "<re.Match object; span=(31, 32), match='E'>\n",
      "<re.Match object; span=(32, 33), match='F'>\n",
      "<re.Match object; span=(33, 34), match='G'>\n",
      "<re.Match object; span=(34, 35), match='H'>\n",
      "<re.Match object; span=(35, 36), match='I'>\n",
      "<re.Match object; span=(36, 37), match='J'>\n",
      "<re.Match object; span=(37, 38), match='K'>\n",
      "<re.Match object; span=(38, 39), match='L'>\n",
      "<re.Match object; span=(39, 40), match='M'>\n",
      "<re.Match object; span=(40, 41), match='N'>\n",
      "<re.Match object; span=(41, 42), match='O'>\n",
      "<re.Match object; span=(42, 43), match='P'>\n",
      "<re.Match object; span=(43, 44), match='Q'>\n",
      "<re.Match object; span=(44, 45), match='R'>\n",
      "<re.Match object; span=(45, 46), match='S'>\n",
      "<re.Match object; span=(46, 47), match='T'>\n",
      "<re.Match object; span=(47, 48), match='U'>\n",
      "<re.Match object; span=(48, 49), match='V'>\n",
      "<re.Match object; span=(49, 50), match='W'>\n",
      "<re.Match object; span=(50, 51), match='X'>\n",
      "<re.Match object; span=(51, 52), match='Y'>\n",
      "<re.Match object; span=(52, 53), match='Z'>\n",
      "<re.Match object; span=(54, 55), match='1'>\n",
      "<re.Match object; span=(55, 56), match='2'>\n",
      "<re.Match object; span=(56, 57), match='3'>\n",
      "<re.Match object; span=(57, 58), match='4'>\n",
      "<re.Match object; span=(58, 59), match='5'>\n",
      "<re.Match object; span=(59, 60), match='6'>\n",
      "<re.Match object; span=(60, 61), match='7'>\n",
      "<re.Match object; span=(61, 62), match='8'>\n",
      "<re.Match object; span=(62, 63), match='9'>\n",
      "<re.Match object; span=(63, 64), match='0'>\n",
      "<re.Match object; span=(64, 65), match='1'>\n",
      "<re.Match object; span=(65, 66), match='0'>\n",
      "<re.Match object; span=(67, 68), match='H'>\n",
      "<re.Match object; span=(68, 69), match='a'>\n",
      "<re.Match object; span=(70, 71), match='H'>\n",
      "<re.Match object; span=(71, 72), match='a'>\n",
      "<re.Match object; span=(72, 73), match='H'>\n",
      "<re.Match object; span=(73, 74), match='a'>\n",
      "<re.Match object; span=(75, 76), match='M'>\n",
      "<re.Match object; span=(76, 77), match='e'>\n",
      "<re.Match object; span=(77, 78), match='t'>\n",
      "<re.Match object; span=(78, 79), match='a'>\n",
      "<re.Match object; span=(79, 80), match='C'>\n",
      "<re.Match object; span=(80, 81), match='h'>\n",
      "<re.Match object; span=(81, 82), match='a'>\n",
      "<re.Match object; span=(82, 83), match='r'>\n",
      "<re.Match object; span=(83, 84), match='a'>\n",
      "<re.Match object; span=(84, 85), match='c'>\n",
      "<re.Match object; span=(85, 86), match='t'>\n",
      "<re.Match object; span=(86, 87), match='e'>\n",
      "<re.Match object; span=(87, 88), match='r'>\n",
      "<re.Match object; span=(88, 89), match='s'>\n",
      "<re.Match object; span=(91, 92), match='N'>\n",
      "<re.Match object; span=(92, 93), match='e'>\n",
      "<re.Match object; span=(93, 94), match='e'>\n",
      "<re.Match object; span=(94, 95), match='d'>\n",
      "<re.Match object; span=(96, 97), match='t'>\n",
      "<re.Match object; span=(97, 98), match='o'>\n",
      "<re.Match object; span=(99, 100), match='b'>\n",
      "<re.Match object; span=(100, 101), match='e'>\n",
      "<re.Match object; span=(102, 103), match='e'>\n",
      "<re.Match object; span=(103, 104), match='s'>\n",
      "<re.Match object; span=(104, 105), match='c'>\n",
      "<re.Match object; span=(105, 106), match='a'>\n",
      "<re.Match object; span=(106, 107), match='p'>\n",
      "<re.Match object; span=(107, 108), match='e'>\n",
      "<re.Match object; span=(108, 109), match='d'>\n",
      "<re.Match object; span=(140, 141), match='a'>\n",
      "<re.Match object; span=(141, 142), match='b'>\n",
      "<re.Match object; span=(142, 143), match='c'>\n",
      "<re.Match object; span=(144, 145), match='c'>\n",
      "<re.Match object; span=(145, 146), match='a'>\n",
      "<re.Match object; span=(146, 147), match='t'>\n",
      "<re.Match object; span=(148, 149), match='m'>\n",
      "<re.Match object; span=(149, 150), match='a'>\n",
      "<re.Match object; span=(150, 151), match='t'>\n",
      "<re.Match object; span=(153, 154), match='h'>\n",
      "<re.Match object; span=(154, 155), match='a'>\n",
      "<re.Match object; span=(155, 156), match='t'>\n",
      "<re.Match object; span=(157, 158), match='b'>\n",
      "<re.Match object; span=(158, 159), match='a'>\n",
      "<re.Match object; span=(159, 160), match='t'>\n",
      "<re.Match object; span=(161, 162), match='f'>\n",
      "<re.Match object; span=(162, 163), match='a'>\n",
      "<re.Match object; span=(163, 164), match='t'>\n",
      "<re.Match object; span=(165, 166), match='s'>\n",
      "<re.Match object; span=(166, 167), match='a'>\n",
      "<re.Match object; span=(167, 168), match='t'>\n",
      "<re.Match object; span=(169, 170), match='0'>\n",
      "<re.Match object; span=(170, 171), match='1'>\n",
      "<re.Match object; span=(171, 172), match='0'>\n",
      "<re.Match object; span=(172, 173), match='9'>\n",
      "<re.Match object; span=(173, 174), match='2'>\n",
      "<re.Match object; span=(174, 175), match='3'>\n",
      "<re.Match object; span=(175, 176), match='2'>\n",
      "<re.Match object; span=(176, 177), match='9'>\n",
      "<re.Match object; span=(177, 178), match='3'>\n",
      "<re.Match object; span=(178, 179), match='4'>\n",
      "<re.Match object; span=(179, 180), match='0'>\n",
      "<re.Match object; span=(181, 182), match='0'>\n",
      "<re.Match object; span=(182, 183), match='1'>\n",
      "<re.Match object; span=(183, 184), match='1'>\n",
      "<re.Match object; span=(184, 185), match='2'>\n",
      "<re.Match object; span=(185, 186), match='3'>\n",
      "<re.Match object; span=(186, 187), match='2'>\n",
      "<re.Match object; span=(187, 188), match='3'>\n",
      "<re.Match object; span=(188, 189), match='4'>\n",
      "<re.Match object; span=(189, 190), match='3'>\n",
      "<re.Match object; span=(190, 191), match='5'>\n",
      "<re.Match object; span=(191, 192), match='5'>\n",
      "<re.Match object; span=(193, 194), match='0'>\n",
      "<re.Match object; span=(194, 195), match='1'>\n",
      "<re.Match object; span=(195, 196), match='0'>\n",
      "<re.Match object; span=(196, 197), match='2'>\n",
      "<re.Match object; span=(197, 198), match='3'>\n",
      "<re.Match object; span=(198, 199), match='4'>\n",
      "<re.Match object; span=(199, 200), match='5'>\n",
      "<re.Match object; span=(200, 201), match='5'>\n",
      "<re.Match object; span=(201, 202), match='4'>\n",
      "<re.Match object; span=(202, 203), match='1'>\n",
      "<re.Match object; span=(203, 204), match='1'>\n",
      "<re.Match object; span=(205, 206), match='0'>\n",
      "<re.Match object; span=(206, 207), match='1'>\n",
      "<re.Match object; span=(207, 208), match='2'>\n",
      "<re.Match object; span=(208, 209), match='3'>\n",
      "<re.Match object; span=(209, 210), match='4'>\n",
      "<re.Match object; span=(210, 211), match='5'>\n",
      "<re.Match object; span=(211, 212), match='6'>\n",
      "<re.Match object; span=(212, 213), match='7'>\n",
      "<re.Match object; span=(213, 214), match='8'>\n",
      "<re.Match object; span=(214, 215), match='7'>\n",
      "<re.Match object; span=(215, 216), match='5'>\n",
      "<re.Match object; span=(217, 218), match='0'>\n",
      "<re.Match object; span=(218, 219), match='1'>\n",
      "<re.Match object; span=(219, 220), match='5'>\n",
      "<re.Match object; span=(220, 221), match='3'>\n",
      "<re.Match object; span=(221, 222), match='4'>\n",
      "<re.Match object; span=(222, 223), match='5'>\n",
      "<re.Match object; span=(223, 224), match='6'>\n",
      "<re.Match object; span=(224, 225), match='7'>\n",
      "<re.Match object; span=(225, 226), match='4'>\n",
      "<re.Match object; span=(226, 227), match='5'>\n",
      "<re.Match object; span=(227, 228), match='6'>\n",
      "<re.Match object; span=(229, 230), match='0'>\n",
      "<re.Match object; span=(230, 231), match='1'>\n",
      "<re.Match object; span=(231, 232), match='1'>\n",
      "<re.Match object; span=(232, 233), match='3'>\n",
      "<re.Match object; span=(233, 234), match='4'>\n",
      "<re.Match object; span=(234, 235), match='5'>\n",
      "<re.Match object; span=(235, 236), match='6'>\n",
      "<re.Match object; span=(236, 237), match='7'>\n",
      "<re.Match object; span=(237, 238), match='8'>\n",
      "<re.Match object; span=(238, 239), match='5'>\n",
      "<re.Match object; span=(239, 240), match='6'>\n",
      "<re.Match object; span=(241, 242), match='c'>\n",
      "<re.Match object; span=(242, 243), match='o'>\n",
      "<re.Match object; span=(243, 244), match='r'>\n",
      "<re.Match object; span=(244, 245), match='e'>\n",
      "<re.Match object; span=(245, 246), match='y'>\n",
      "<re.Match object; span=(246, 247), match='m'>\n",
      "<re.Match object; span=(247, 248), match='s'>\n",
      "<re.Match object; span=(249, 250), match='c'>\n",
      "<re.Match object; span=(250, 251), match='o'>\n",
      "<re.Match object; span=(251, 252), match='m'>\n",
      "<re.Match object; span=(253, 254), match='3'>\n",
      "<re.Match object; span=(254, 255), match='2'>\n",
      "<re.Match object; span=(255, 256), match='1'>\n",
      "<re.Match object; span=(257, 258), match='5'>\n",
      "<re.Match object; span=(258, 259), match='5'>\n",
      "<re.Match object; span=(259, 260), match='5'>\n",
      "<re.Match object; span=(261, 262), match='4'>\n",
      "<re.Match object; span=(262, 263), match='3'>\n",
      "<re.Match object; span=(263, 264), match='2'>\n",
      "<re.Match object; span=(264, 265), match='1'>\n",
      "<re.Match object; span=(266, 267), match='1'>\n",
      "<re.Match object; span=(267, 268), match='2'>\n",
      "<re.Match object; span=(268, 269), match='3'>\n",
      "<re.Match object; span=(270, 271), match='5'>\n",
      "<re.Match object; span=(271, 272), match='5'>\n",
      "<re.Match object; span=(272, 273), match='5'>\n",
      "<re.Match object; span=(274, 275), match='1'>\n",
      "<re.Match object; span=(275, 276), match='2'>\n",
      "<re.Match object; span=(276, 277), match='3'>\n",
      "<re.Match object; span=(277, 278), match='4'>\n",
      "<re.Match object; span=(279, 280), match='1'>\n",
      "<re.Match object; span=(280, 281), match='2'>\n",
      "<re.Match object; span=(281, 282), match='3'>\n",
      "<re.Match object; span=(283, 284), match='5'>\n",
      "<re.Match object; span=(284, 285), match='5'>\n",
      "<re.Match object; span=(285, 286), match='5'>\n",
      "<re.Match object; span=(287, 288), match='1'>\n",
      "<re.Match object; span=(288, 289), match='2'>\n",
      "<re.Match object; span=(289, 290), match='3'>\n",
      "<re.Match object; span=(290, 291), match='4'>\n",
      "<re.Match object; span=(292, 293), match='8'>\n",
      "<re.Match object; span=(293, 294), match='0'>\n",
      "<re.Match object; span=(294, 295), match='0'>\n",
      "<re.Match object; span=(296, 297), match='5'>\n",
      "<re.Match object; span=(297, 298), match='5'>\n",
      "<re.Match object; span=(298, 299), match='5'>\n",
      "<re.Match object; span=(300, 301), match='1'>\n",
      "<re.Match object; span=(301, 302), match='2'>\n",
      "<re.Match object; span=(302, 303), match='3'>\n",
      "<re.Match object; span=(303, 304), match='4'>\n",
      "<re.Match object; span=(305, 306), match='9'>\n",
      "<re.Match object; span=(306, 307), match='0'>\n",
      "<re.Match object; span=(307, 308), match='0'>\n",
      "<re.Match object; span=(309, 310), match='5'>\n",
      "<re.Match object; span=(310, 311), match='5'>\n",
      "<re.Match object; span=(311, 312), match='5'>\n",
      "<re.Match object; span=(313, 314), match='1'>\n",
      "<re.Match object; span=(314, 315), match='2'>\n",
      "<re.Match object; span=(315, 316), match='3'>\n",
      "<re.Match object; span=(316, 317), match='4'>\n",
      "<re.Match object; span=(318, 319), match='1'>\n",
      "<re.Match object; span=(319, 320), match='0'>\n",
      "<re.Match object; span=(320, 321), match='0'>\n",
      "<re.Match object; span=(321, 322), match='a'>\n",
      "<re.Match object; span=(322, 323), match='1'>\n",
      "<re.Match object; span=(323, 324), match='2'>\n",
      "<re.Match object; span=(324, 325), match='1'>\n",
      "<re.Match object; span=(325, 326), match='C'>\n",
      "<re.Match object; span=(326, 327), match='4'>\n",
      "<re.Match object; span=(327, 328), match='5'>\n",
      "<re.Match object; span=(328, 329), match='4'>\n",
      "<re.Match object; span=(329, 330), match='3'>\n",
      "<re.Match object; span=(331, 332), match='M'>\n",
      "<re.Match object; span=(332, 333), match='r'>\n",
      "<re.Match object; span=(335, 336), match='S'>\n",
      "<re.Match object; span=(336, 337), match='c'>\n",
      "<re.Match object; span=(337, 338), match='h'>\n",
      "<re.Match object; span=(338, 339), match='a'>\n",
      "<re.Match object; span=(339, 340), match='f'>\n",
      "<re.Match object; span=(340, 341), match='e'>\n",
      "<re.Match object; span=(341, 342), match='r'>\n",
      "<re.Match object; span=(343, 344), match='M'>\n",
      "<re.Match object; span=(344, 345), match='r'>\n",
      "<re.Match object; span=(346, 347), match='S'>\n",
      "<re.Match object; span=(347, 348), match='m'>\n",
      "<re.Match object; span=(348, 349), match='i'>\n",
      "<re.Match object; span=(349, 350), match='t'>\n",
      "<re.Match object; span=(350, 351), match='h'>\n",
      "<re.Match object; span=(352, 353), match='M'>\n",
      "<re.Match object; span=(353, 354), match='s'>\n",
      "<re.Match object; span=(355, 356), match='D'>\n",
      "<re.Match object; span=(356, 357), match='a'>\n",
      "<re.Match object; span=(357, 358), match='v'>\n",
      "<re.Match object; span=(358, 359), match='i'>\n",
      "<re.Match object; span=(359, 360), match='s'>\n",
      "<re.Match object; span=(361, 362), match='M'>\n",
      "<re.Match object; span=(362, 363), match='r'>\n",
      "<re.Match object; span=(363, 364), match='s'>\n",
      "<re.Match object; span=(366, 367), match='R'>\n",
      "<re.Match object; span=(367, 368), match='o'>\n",
      "<re.Match object; span=(368, 369), match='b'>\n",
      "<re.Match object; span=(369, 370), match='i'>\n",
      "<re.Match object; span=(370, 371), match='n'>\n",
      "<re.Match object; span=(371, 372), match='s'>\n",
      "<re.Match object; span=(372, 373), match='o'>\n",
      "<re.Match object; span=(373, 374), match='n'>\n",
      "<re.Match object; span=(375, 376), match='M'>\n",
      "<re.Match object; span=(376, 377), match='r'>\n",
      "<re.Match object; span=(379, 380), match='T'>\n"
     ]
    }
   ],
   "source": [
    "pattern = re.compile(r\"\\w\") #matches only lower, uppercase, digits, underscore  \n",
    "matches = pattern.finditer(text_to_search)\n",
    "for match in matches:\n",
    "    print(match)"
   ]
  },
  {
   "cell_type": "code",
   "execution_count": 23,
   "metadata": {
    "ExecuteTime": {
     "end_time": "2022-08-30T17:58:42.019550Z",
     "start_time": "2022-08-30T17:58:42.016551Z"
    }
   },
   "outputs": [
    {
     "data": {
      "text/plain": [
       "381"
      ]
     },
     "execution_count": 23,
     "metadata": {},
     "output_type": "execute_result"
    }
   ],
   "source": [
    "len(text_to_search)"
   ]
  },
  {
   "cell_type": "code",
   "execution_count": 4,
   "metadata": {
    "ExecuteTime": {
     "end_time": "2022-04-06T20:39:37.292321Z",
     "start_time": "2022-04-06T20:39:37.281323Z"
    }
   },
   "outputs": [
    {
     "name": "stdout",
     "output_type": "stream",
     "text": [
      "Start a sentence and then bring it to an end\n"
     ]
    }
   ],
   "source": [
    "print(sentence)"
   ]
  },
  {
   "cell_type": "code",
   "execution_count": 13,
   "metadata": {
    "ExecuteTime": {
     "end_time": "2022-05-09T19:51:27.764980Z",
     "start_time": "2022-05-09T19:51:27.758982Z"
    },
    "scrolled": true
   },
   "outputs": [
    {
     "name": "stdout",
     "output_type": "stream",
     "text": [
      "<re.Match object; span=(38, 44), match='an end'>\n",
      "wrong email address\n"
     ]
    }
   ],
   "source": [
    "\n",
    "pattern = re.compile(r\"an end$\")   # if the word (end) is at the end of the sentence ( string ) \n",
    "matches = pattern.finditer(sentence)\n",
    "\n",
    "for match in matches:\n",
    "    print(match)\n",
    "\n",
    "def getIterLength(iterator):\n",
    "    temp = list(iterator)\n",
    "    result = len(temp)\n",
    "    return result\n",
    "\n",
    "if  (getIterLength(matches) == 0) :\n",
    "    print (\"wrong email address\")\n",
    "else:\n",
    "    print ('zy el fol')\n"
   ]
  },
  {
   "cell_type": "code",
   "execution_count": 28,
   "metadata": {
    "ExecuteTime": {
     "end_time": "2021-12-11T17:02:21.562290Z",
     "start_time": "2021-12-11T17:02:21.545293Z"
    }
   },
   "outputs": [
    {
     "name": "stdout",
     "output_type": "stream",
     "text": [
      "Start a sentence and then bring it to an end\n"
     ]
    }
   ],
   "source": [
    "print(sentence)"
   ]
  },
  {
   "cell_type": "code",
   "execution_count": 24,
   "metadata": {
    "ExecuteTime": {
     "end_time": "2022-08-30T17:58:54.618550Z",
     "start_time": "2022-08-30T17:58:54.614548Z"
    }
   },
   "outputs": [
    {
     "name": "stdout",
     "output_type": "stream",
     "text": [
      "<re.Match object; span=(54, 57), match='123'>\n",
      "<re.Match object; span=(57, 60), match='456'>\n",
      "<re.Match object; span=(60, 63), match='789'>\n",
      "<re.Match object; span=(63, 66), match='010'>\n",
      "<re.Match object; span=(169, 172), match='010'>\n",
      "<re.Match object; span=(172, 175), match='923'>\n",
      "<re.Match object; span=(175, 178), match='293'>\n",
      "<re.Match object; span=(181, 184), match='011'>\n",
      "<re.Match object; span=(184, 187), match='232'>\n",
      "<re.Match object; span=(187, 190), match='343'>\n",
      "<re.Match object; span=(193, 196), match='010'>\n",
      "<re.Match object; span=(196, 199), match='234'>\n",
      "<re.Match object; span=(199, 202), match='554'>\n",
      "<re.Match object; span=(205, 208), match='012'>\n",
      "<re.Match object; span=(208, 211), match='345'>\n",
      "<re.Match object; span=(211, 214), match='678'>\n",
      "<re.Match object; span=(217, 220), match='015'>\n",
      "<re.Match object; span=(220, 223), match='345'>\n",
      "<re.Match object; span=(223, 226), match='674'>\n",
      "<re.Match object; span=(229, 232), match='011'>\n",
      "<re.Match object; span=(232, 235), match='345'>\n",
      "<re.Match object; span=(235, 238), match='678'>\n",
      "<re.Match object; span=(253, 256), match='321'>\n",
      "<re.Match object; span=(257, 260), match='555'>\n",
      "<re.Match object; span=(261, 264), match='432'>\n",
      "<re.Match object; span=(266, 269), match='123'>\n",
      "<re.Match object; span=(270, 273), match='555'>\n",
      "<re.Match object; span=(274, 277), match='123'>\n",
      "<re.Match object; span=(279, 282), match='123'>\n",
      "<re.Match object; span=(283, 286), match='555'>\n",
      "<re.Match object; span=(287, 290), match='123'>\n",
      "<re.Match object; span=(292, 295), match='800'>\n",
      "<re.Match object; span=(296, 299), match='555'>\n",
      "<re.Match object; span=(300, 303), match='123'>\n",
      "<re.Match object; span=(305, 308), match='900'>\n",
      "<re.Match object; span=(309, 312), match='555'>\n",
      "<re.Match object; span=(313, 316), match='123'>\n",
      "<re.Match object; span=(318, 321), match='100'>\n",
      "<re.Match object; span=(322, 325), match='121'>\n",
      "<re.Match object; span=(326, 329), match='454'>\n"
     ]
    }
   ],
   "source": [
    "#match line numbers \n",
    "pattern = re.compile(\"\\d\\d\\d\")\n",
    "matches = pattern.finditer(text_to_search)\n",
    "for match in matches:\n",
    "    print(match)"
   ]
  },
  {
   "cell_type": "code",
   "execution_count": 26,
   "metadata": {
    "ExecuteTime": {
     "end_time": "2022-08-30T17:59:35.199548Z",
     "start_time": "2022-08-30T17:59:35.196548Z"
    }
   },
   "outputs": [
    {
     "name": "stdout",
     "output_type": "stream",
     "text": [
      "<re.Match object; span=(54, 66), match='123456789010'>\n",
      "<re.Match object; span=(253, 265), match='321-555-4321'>\n",
      "<re.Match object; span=(266, 278), match='123.555.1234'>\n",
      "<re.Match object; span=(279, 291), match='123*555*1234'>\n",
      "<re.Match object; span=(292, 304), match='800-555-1234'>\n",
      "<re.Match object; span=(305, 317), match='900-555-1234'>\n",
      "<re.Match object; span=(318, 330), match='100a121C4543'>\n"
     ]
    }
   ],
   "source": [
    "pattern = re.compile(r\"\\d\\d\\d.\\d\\d\\d.\\d\\d\\d\\d\")\n",
    "matches = pattern.finditer(text_to_search)\n",
    "for match in matches:\n",
    "    print(match)    "
   ]
  },
  {
   "cell_type": "code",
   "execution_count": 27,
   "metadata": {
    "ExecuteTime": {
     "end_time": "2022-08-30T18:00:27.180548Z",
     "start_time": "2022-08-30T18:00:27.177549Z"
    }
   },
   "outputs": [
    {
     "name": "stdout",
     "output_type": "stream",
     "text": [
      "<re.Match object; span=(253, 265), match='321-555-4321'>\n",
      "<re.Match object; span=(266, 278), match='123.555.1234'>\n",
      "<re.Match object; span=(292, 304), match='800-555-1234'>\n",
      "<re.Match object; span=(305, 317), match='900-555-1234'>\n"
     ]
    }
   ],
   "source": [
    "#character set \n",
    "pattern = re.compile(r\"\\d\\d\\d[-.]\\d\\d\\d[-.]\\d\\d\\d\\d\")\n",
    "matches = pattern.finditer(text_to_search)\n",
    "for match in matches:\n",
    "    print(match)"
   ]
  },
  {
   "cell_type": "code",
   "execution_count": 28,
   "metadata": {
    "ExecuteTime": {
     "end_time": "2022-08-30T18:01:07.398550Z",
     "start_time": "2022-08-30T18:01:07.395548Z"
    }
   },
   "outputs": [
    {
     "name": "stdout",
     "output_type": "stream",
     "text": [
      "<re.Match object; span=(292, 304), match='800-555-1234'>\n",
      "<re.Match object; span=(305, 317), match='900-555-1234'>\n"
     ]
    }
   ],
   "source": [
    "#character set \n",
    "pattern = re.compile(r\"[89]00[-.]\\d\\d\\d[-.]\\d\\d\\d\\d\")\n",
    "matches = pattern.finditer(text_to_search)\n",
    "for match in matches:\n",
    "    print(match)"
   ]
  },
  {
   "cell_type": "code",
   "execution_count": 29,
   "metadata": {
    "ExecuteTime": {
     "end_time": "2022-08-30T18:01:29.825548Z",
     "start_time": "2022-08-30T18:01:29.822548Z"
    }
   },
   "outputs": [
    {
     "name": "stdout",
     "output_type": "stream",
     "text": [
      "<re.Match object; span=(253, 265), match='321-555-4321'>\n",
      "<re.Match object; span=(266, 278), match='123.555.1234'>\n",
      "<re.Match object; span=(279, 291), match='123*555*1234'>\n",
      "<re.Match object; span=(292, 304), match='800-555-1234'>\n",
      "<re.Match object; span=(305, 317), match='900-555-1234'>\n"
     ]
    }
   ],
   "source": [
    "#character set \n",
    "pattern = re.compile(r\"\\d\\d\\d[-.*]555[-.*]\\d\\d\\d\\d\")\n",
    "matches = pattern.finditer(text_to_search)\n",
    "for match in matches:\n",
    "    print(match)"
   ]
  },
  {
   "cell_type": "code",
   "execution_count": 31,
   "metadata": {
    "ExecuteTime": {
     "end_time": "2022-08-19T11:11:48.797901Z",
     "start_time": "2022-08-19T11:11:48.795901Z"
    }
   },
   "outputs": [
    {
     "name": "stdout",
     "output_type": "stream",
     "text": [
      "<re.Match object; span=(169, 173), match='0109'>\n"
     ]
    }
   ],
   "source": [
    "#character set \n",
    "pattern = re.compile(r\"0109\")\n",
    "matches = pattern.finditer(text_to_search)\n",
    "for match in matches:\n",
    "    print(match)"
   ]
  },
  {
   "cell_type": "code",
   "execution_count": 30,
   "metadata": {
    "ExecuteTime": {
     "end_time": "2022-08-30T18:01:52.184548Z",
     "start_time": "2022-08-30T18:01:52.181548Z"
    }
   },
   "outputs": [
    {
     "name": "stdout",
     "output_type": "stream",
     "text": [
      "<re.Match object; span=(169, 180), match='01092329340'>\n",
      "<re.Match object; span=(193, 204), match='01023455411'>\n"
     ]
    }
   ],
   "source": [
    "#character set \n",
    "pattern = re.compile(r\"010\\d\\d\\d\\d\\d\\d\\d\\d\")\n",
    "matches = pattern.finditer(text_to_search)\n",
    "for match in matches:\n",
    "    print(match)"
   ]
  },
  {
   "cell_type": "code",
   "execution_count": 33,
   "metadata": {
    "ExecuteTime": {
     "end_time": "2022-08-19T11:12:12.947026Z",
     "start_time": "2022-08-19T11:12:12.944025Z"
    }
   },
   "outputs": [
    {
     "name": "stdout",
     "output_type": "stream",
     "text": [
      "<re.Match object; span=(181, 192), match='01123234355'>\n",
      "<re.Match object; span=(229, 240), match='01134567856'>\n"
     ]
    }
   ],
   "source": [
    "#character set \n",
    "pattern = re.compile(r\"011\\d\\d\\d\\d\\d\\d\\d\\d\")\n",
    "matches = pattern.finditer(text_to_search)\n",
    "for match in matches:\n",
    "    print(match)"
   ]
  },
  {
   "cell_type": "code",
   "execution_count": 34,
   "metadata": {
    "ExecuteTime": {
     "end_time": "2022-08-19T11:12:16.154222Z",
     "start_time": "2022-08-19T11:12:16.151221Z"
    },
    "scrolled": true
   },
   "outputs": [
    {
     "name": "stdout",
     "output_type": "stream",
     "text": [
      "<re.Match object; span=(205, 216), match='01234567875'>\n"
     ]
    }
   ],
   "source": [
    "#character set \n",
    "pattern = re.compile(r\"012\\d\\d\\d\\d\\d\\d\\d\\d\")\n",
    "matches = pattern.finditer(text_to_search)\n",
    "for match in matches:\n",
    "    print(match)"
   ]
  },
  {
   "cell_type": "code",
   "execution_count": 23,
   "metadata": {
    "ExecuteTime": {
     "end_time": "2022-05-09T19:57:32.907944Z",
     "start_time": "2022-05-09T19:57:32.903943Z"
    }
   },
   "outputs": [
    {
     "name": "stdout",
     "output_type": "stream",
     "text": [
      "<re.Match object; span=(217, 228), match='01534567456'>\n"
     ]
    }
   ],
   "source": [
    "#character set \n",
    "pattern = re.compile(r\"015\\d\\d\\d\\d\\d\\d\\d\\d\")\n",
    "matches = pattern.finditer(text_to_search)\n",
    "for match in matches:\n",
    "    print(match)"
   ]
  },
  {
   "cell_type": "code",
   "execution_count": 24,
   "metadata": {
    "ExecuteTime": {
     "end_time": "2022-05-09T19:58:48.803131Z",
     "start_time": "2022-05-09T19:58:48.793134Z"
    },
    "scrolled": true
   },
   "outputs": [
    {
     "name": "stdout",
     "output_type": "stream",
     "text": [
      "<re.Match object; span=(6, 17), match='01023456745'>\n",
      "Ahmed\n"
     ]
    }
   ],
   "source": [
    "contact = \"Ahmed:01023456745 , Ali:01134456784\"\n",
    "#character set \n",
    "pattern = re.compile(r\"010\\d\\d\\d\\d\\d\\d\\d\\d\")\n",
    "matches = pattern.finditer(contact)\n",
    "newstring = \" \"\n",
    "for match in matches:\n",
    "    \n",
    "    newstring = contact[int(match.span()[0])-6 : int(match.span()[0])-1]\n",
    "    print(match)\n",
    "    \n",
    "print(newstring)"
   ]
  },
  {
   "cell_type": "code",
   "execution_count": 31,
   "metadata": {
    "ExecuteTime": {
     "end_time": "2022-08-30T18:03:31.079550Z",
     "start_time": "2022-08-30T18:03:31.073550Z"
    }
   },
   "outputs": [
    {
     "data": {
      "text/plain": [
       "['01092329340', '01023455411']"
      ]
     },
     "execution_count": 31,
     "metadata": {},
     "output_type": "execute_result"
    }
   ],
   "source": [
    "pattern = re.compile(r\"010\\d\\d\\d\\d\\d\\d\\d\\d\")\n",
    "matches = pattern.finditer(text_to_search)\n",
    "\n",
    "vodafoneNumbers = [ ]\n",
    "for match in matches: \n",
    "    vodafoneNumbers.append(text_to_search[ match.span()[0]   : match.span()[1] ])\n",
    "vodafoneNumbers"
   ]
  },
  {
   "cell_type": "code",
   "execution_count": 44,
   "metadata": {
    "ExecuteTime": {
     "end_time": "2022-04-16T12:06:08.497604Z",
     "start_time": "2022-04-16T12:06:08.492601Z"
    }
   },
   "outputs": [
    {
     "data": {
      "text/plain": [
       "['01123234355', '01134567856']"
      ]
     },
     "execution_count": 44,
     "metadata": {},
     "output_type": "execute_result"
    }
   ],
   "source": [
    "pattern = re.compile(r\"011\\d\\d\\d\\d\\d\\d\\d\\d\")\n",
    "matches = pattern.finditer(text_to_search)\n",
    "\n",
    "EtisisalatNumbers = [ ]\n",
    "for match in matches: \n",
    "    EtisisalatNumbers.append(text_to_search[match.span()[0]   : match.span()[1]])\n",
    "EtisisalatNumbers"
   ]
  },
  {
   "cell_type": "code",
   "execution_count": 32,
   "metadata": {
    "ExecuteTime": {
     "end_time": "2022-08-30T18:04:07.319549Z",
     "start_time": "2022-08-30T18:04:07.314548Z"
    }
   },
   "outputs": [
    {
     "name": "stdout",
     "output_type": "stream",
     "text": [
      "<re.Match object; span=(54, 55), match='1'>\n",
      "<re.Match object; span=(55, 56), match='2'>\n",
      "<re.Match object; span=(56, 57), match='3'>\n",
      "<re.Match object; span=(57, 58), match='4'>\n",
      "<re.Match object; span=(58, 59), match='5'>\n",
      "<re.Match object; span=(64, 65), match='1'>\n",
      "<re.Match object; span=(170, 171), match='1'>\n",
      "<re.Match object; span=(173, 174), match='2'>\n",
      "<re.Match object; span=(174, 175), match='3'>\n",
      "<re.Match object; span=(175, 176), match='2'>\n",
      "<re.Match object; span=(177, 178), match='3'>\n",
      "<re.Match object; span=(178, 179), match='4'>\n",
      "<re.Match object; span=(182, 183), match='1'>\n",
      "<re.Match object; span=(183, 184), match='1'>\n",
      "<re.Match object; span=(184, 185), match='2'>\n",
      "<re.Match object; span=(185, 186), match='3'>\n",
      "<re.Match object; span=(186, 187), match='2'>\n",
      "<re.Match object; span=(187, 188), match='3'>\n",
      "<re.Match object; span=(188, 189), match='4'>\n",
      "<re.Match object; span=(189, 190), match='3'>\n",
      "<re.Match object; span=(190, 191), match='5'>\n",
      "<re.Match object; span=(191, 192), match='5'>\n",
      "<re.Match object; span=(194, 195), match='1'>\n",
      "<re.Match object; span=(196, 197), match='2'>\n",
      "<re.Match object; span=(197, 198), match='3'>\n",
      "<re.Match object; span=(198, 199), match='4'>\n",
      "<re.Match object; span=(199, 200), match='5'>\n",
      "<re.Match object; span=(200, 201), match='5'>\n",
      "<re.Match object; span=(201, 202), match='4'>\n",
      "<re.Match object; span=(202, 203), match='1'>\n",
      "<re.Match object; span=(203, 204), match='1'>\n",
      "<re.Match object; span=(206, 207), match='1'>\n",
      "<re.Match object; span=(207, 208), match='2'>\n",
      "<re.Match object; span=(208, 209), match='3'>\n",
      "<re.Match object; span=(209, 210), match='4'>\n",
      "<re.Match object; span=(210, 211), match='5'>\n",
      "<re.Match object; span=(215, 216), match='5'>\n",
      "<re.Match object; span=(218, 219), match='1'>\n",
      "<re.Match object; span=(219, 220), match='5'>\n",
      "<re.Match object; span=(220, 221), match='3'>\n",
      "<re.Match object; span=(221, 222), match='4'>\n",
      "<re.Match object; span=(222, 223), match='5'>\n",
      "<re.Match object; span=(225, 226), match='4'>\n",
      "<re.Match object; span=(226, 227), match='5'>\n",
      "<re.Match object; span=(230, 231), match='1'>\n",
      "<re.Match object; span=(231, 232), match='1'>\n",
      "<re.Match object; span=(232, 233), match='3'>\n",
      "<re.Match object; span=(233, 234), match='4'>\n",
      "<re.Match object; span=(234, 235), match='5'>\n",
      "<re.Match object; span=(238, 239), match='5'>\n",
      "<re.Match object; span=(253, 254), match='3'>\n",
      "<re.Match object; span=(254, 255), match='2'>\n",
      "<re.Match object; span=(255, 256), match='1'>\n",
      "<re.Match object; span=(257, 258), match='5'>\n",
      "<re.Match object; span=(258, 259), match='5'>\n",
      "<re.Match object; span=(259, 260), match='5'>\n",
      "<re.Match object; span=(261, 262), match='4'>\n",
      "<re.Match object; span=(262, 263), match='3'>\n",
      "<re.Match object; span=(263, 264), match='2'>\n",
      "<re.Match object; span=(264, 265), match='1'>\n",
      "<re.Match object; span=(266, 267), match='1'>\n",
      "<re.Match object; span=(267, 268), match='2'>\n",
      "<re.Match object; span=(268, 269), match='3'>\n",
      "<re.Match object; span=(270, 271), match='5'>\n",
      "<re.Match object; span=(271, 272), match='5'>\n",
      "<re.Match object; span=(272, 273), match='5'>\n",
      "<re.Match object; span=(274, 275), match='1'>\n",
      "<re.Match object; span=(275, 276), match='2'>\n",
      "<re.Match object; span=(276, 277), match='3'>\n",
      "<re.Match object; span=(277, 278), match='4'>\n",
      "<re.Match object; span=(279, 280), match='1'>\n",
      "<re.Match object; span=(280, 281), match='2'>\n",
      "<re.Match object; span=(281, 282), match='3'>\n",
      "<re.Match object; span=(283, 284), match='5'>\n",
      "<re.Match object; span=(284, 285), match='5'>\n",
      "<re.Match object; span=(285, 286), match='5'>\n",
      "<re.Match object; span=(287, 288), match='1'>\n",
      "<re.Match object; span=(288, 289), match='2'>\n",
      "<re.Match object; span=(289, 290), match='3'>\n",
      "<re.Match object; span=(290, 291), match='4'>\n",
      "<re.Match object; span=(296, 297), match='5'>\n",
      "<re.Match object; span=(297, 298), match='5'>\n",
      "<re.Match object; span=(298, 299), match='5'>\n",
      "<re.Match object; span=(300, 301), match='1'>\n",
      "<re.Match object; span=(301, 302), match='2'>\n",
      "<re.Match object; span=(302, 303), match='3'>\n",
      "<re.Match object; span=(303, 304), match='4'>\n",
      "<re.Match object; span=(309, 310), match='5'>\n",
      "<re.Match object; span=(310, 311), match='5'>\n",
      "<re.Match object; span=(311, 312), match='5'>\n",
      "<re.Match object; span=(313, 314), match='1'>\n",
      "<re.Match object; span=(314, 315), match='2'>\n",
      "<re.Match object; span=(315, 316), match='3'>\n",
      "<re.Match object; span=(316, 317), match='4'>\n",
      "<re.Match object; span=(318, 319), match='1'>\n",
      "<re.Match object; span=(322, 323), match='1'>\n",
      "<re.Match object; span=(323, 324), match='2'>\n",
      "<re.Match object; span=(324, 325), match='1'>\n",
      "<re.Match object; span=(326, 327), match='4'>\n",
      "<re.Match object; span=(327, 328), match='5'>\n",
      "<re.Match object; span=(328, 329), match='4'>\n",
      "<re.Match object; span=(329, 330), match='3'>\n"
     ]
    }
   ],
   "source": [
    "#character set \n",
    "pattern = re.compile(r\"[1-5]\")\n",
    "matches = pattern.finditer(text_to_search)\n",
    "for match in matches:\n",
    "    print(match)"
   ]
  },
  {
   "cell_type": "code",
   "execution_count": 33,
   "metadata": {
    "ExecuteTime": {
     "end_time": "2022-08-30T18:04:48.146549Z",
     "start_time": "2022-08-30T18:04:48.142548Z"
    }
   },
   "outputs": [
    {
     "name": "stdout",
     "output_type": "stream",
     "text": [
      "<re.Match object; span=(54, 55), match='1'>\n",
      "<re.Match object; span=(58, 59), match='5'>\n",
      "<re.Match object; span=(64, 65), match='1'>\n",
      "<re.Match object; span=(170, 171), match='1'>\n",
      "<re.Match object; span=(182, 183), match='1'>\n",
      "<re.Match object; span=(183, 184), match='1'>\n",
      "<re.Match object; span=(190, 191), match='5'>\n",
      "<re.Match object; span=(191, 192), match='5'>\n",
      "<re.Match object; span=(194, 195), match='1'>\n",
      "<re.Match object; span=(199, 200), match='5'>\n",
      "<re.Match object; span=(200, 201), match='5'>\n",
      "<re.Match object; span=(202, 203), match='1'>\n",
      "<re.Match object; span=(203, 204), match='1'>\n",
      "<re.Match object; span=(206, 207), match='1'>\n",
      "<re.Match object; span=(210, 211), match='5'>\n",
      "<re.Match object; span=(215, 216), match='5'>\n",
      "<re.Match object; span=(218, 219), match='1'>\n",
      "<re.Match object; span=(219, 220), match='5'>\n",
      "<re.Match object; span=(222, 223), match='5'>\n",
      "<re.Match object; span=(226, 227), match='5'>\n",
      "<re.Match object; span=(230, 231), match='1'>\n",
      "<re.Match object; span=(231, 232), match='1'>\n",
      "<re.Match object; span=(234, 235), match='5'>\n",
      "<re.Match object; span=(238, 239), match='5'>\n",
      "<re.Match object; span=(248, 249), match='-'>\n",
      "<re.Match object; span=(255, 256), match='1'>\n",
      "<re.Match object; span=(256, 257), match='-'>\n",
      "<re.Match object; span=(257, 258), match='5'>\n",
      "<re.Match object; span=(258, 259), match='5'>\n",
      "<re.Match object; span=(259, 260), match='5'>\n",
      "<re.Match object; span=(260, 261), match='-'>\n",
      "<re.Match object; span=(264, 265), match='1'>\n",
      "<re.Match object; span=(266, 267), match='1'>\n",
      "<re.Match object; span=(270, 271), match='5'>\n",
      "<re.Match object; span=(271, 272), match='5'>\n",
      "<re.Match object; span=(272, 273), match='5'>\n",
      "<re.Match object; span=(274, 275), match='1'>\n",
      "<re.Match object; span=(279, 280), match='1'>\n",
      "<re.Match object; span=(283, 284), match='5'>\n",
      "<re.Match object; span=(284, 285), match='5'>\n",
      "<re.Match object; span=(285, 286), match='5'>\n",
      "<re.Match object; span=(287, 288), match='1'>\n",
      "<re.Match object; span=(295, 296), match='-'>\n",
      "<re.Match object; span=(296, 297), match='5'>\n",
      "<re.Match object; span=(297, 298), match='5'>\n",
      "<re.Match object; span=(298, 299), match='5'>\n",
      "<re.Match object; span=(299, 300), match='-'>\n",
      "<re.Match object; span=(300, 301), match='1'>\n",
      "<re.Match object; span=(308, 309), match='-'>\n",
      "<re.Match object; span=(309, 310), match='5'>\n",
      "<re.Match object; span=(310, 311), match='5'>\n",
      "<re.Match object; span=(311, 312), match='5'>\n",
      "<re.Match object; span=(312, 313), match='-'>\n",
      "<re.Match object; span=(313, 314), match='1'>\n",
      "<re.Match object; span=(318, 319), match='1'>\n",
      "<re.Match object; span=(322, 323), match='1'>\n",
      "<re.Match object; span=(324, 325), match='1'>\n",
      "<re.Match object; span=(327, 328), match='5'>\n"
     ]
    }
   ],
   "source": [
    "#character set \n",
    "pattern = re.compile(r\"[-15]\")\n",
    "matches = pattern.finditer(text_to_search)\n",
    "for match in matches:\n",
    "    print(match)\n"
   ]
  },
  {
   "cell_type": "code",
   "execution_count": 34,
   "metadata": {
    "ExecuteTime": {
     "end_time": "2022-08-30T18:05:22.701548Z",
     "start_time": "2022-08-30T18:05:22.695548Z"
    },
    "scrolled": false
   },
   "outputs": [
    {
     "name": "stdout",
     "output_type": "stream",
     "text": [
      "<re.Match object; span=(54, 55), match='1'>\n",
      "<re.Match object; span=(55, 56), match='2'>\n",
      "<re.Match object; span=(56, 57), match='3'>\n",
      "<re.Match object; span=(57, 58), match='4'>\n",
      "<re.Match object; span=(58, 59), match='5'>\n",
      "<re.Match object; span=(64, 65), match='1'>\n",
      "<re.Match object; span=(170, 171), match='1'>\n",
      "<re.Match object; span=(173, 174), match='2'>\n",
      "<re.Match object; span=(174, 175), match='3'>\n",
      "<re.Match object; span=(175, 176), match='2'>\n",
      "<re.Match object; span=(177, 178), match='3'>\n",
      "<re.Match object; span=(178, 179), match='4'>\n",
      "<re.Match object; span=(182, 183), match='1'>\n",
      "<re.Match object; span=(183, 184), match='1'>\n",
      "<re.Match object; span=(184, 185), match='2'>\n",
      "<re.Match object; span=(185, 186), match='3'>\n",
      "<re.Match object; span=(186, 187), match='2'>\n",
      "<re.Match object; span=(187, 188), match='3'>\n",
      "<re.Match object; span=(188, 189), match='4'>\n",
      "<re.Match object; span=(189, 190), match='3'>\n",
      "<re.Match object; span=(190, 191), match='5'>\n",
      "<re.Match object; span=(191, 192), match='5'>\n",
      "<re.Match object; span=(194, 195), match='1'>\n",
      "<re.Match object; span=(196, 197), match='2'>\n",
      "<re.Match object; span=(197, 198), match='3'>\n",
      "<re.Match object; span=(198, 199), match='4'>\n",
      "<re.Match object; span=(199, 200), match='5'>\n",
      "<re.Match object; span=(200, 201), match='5'>\n",
      "<re.Match object; span=(201, 202), match='4'>\n",
      "<re.Match object; span=(202, 203), match='1'>\n",
      "<re.Match object; span=(203, 204), match='1'>\n",
      "<re.Match object; span=(206, 207), match='1'>\n",
      "<re.Match object; span=(207, 208), match='2'>\n",
      "<re.Match object; span=(208, 209), match='3'>\n",
      "<re.Match object; span=(209, 210), match='4'>\n",
      "<re.Match object; span=(210, 211), match='5'>\n",
      "<re.Match object; span=(215, 216), match='5'>\n",
      "<re.Match object; span=(218, 219), match='1'>\n",
      "<re.Match object; span=(219, 220), match='5'>\n",
      "<re.Match object; span=(220, 221), match='3'>\n",
      "<re.Match object; span=(221, 222), match='4'>\n",
      "<re.Match object; span=(222, 223), match='5'>\n",
      "<re.Match object; span=(225, 226), match='4'>\n",
      "<re.Match object; span=(226, 227), match='5'>\n",
      "<re.Match object; span=(230, 231), match='1'>\n",
      "<re.Match object; span=(231, 232), match='1'>\n",
      "<re.Match object; span=(232, 233), match='3'>\n",
      "<re.Match object; span=(233, 234), match='4'>\n",
      "<re.Match object; span=(234, 235), match='5'>\n",
      "<re.Match object; span=(238, 239), match='5'>\n",
      "<re.Match object; span=(248, 249), match='-'>\n",
      "<re.Match object; span=(253, 254), match='3'>\n",
      "<re.Match object; span=(254, 255), match='2'>\n",
      "<re.Match object; span=(255, 256), match='1'>\n",
      "<re.Match object; span=(256, 257), match='-'>\n",
      "<re.Match object; span=(257, 258), match='5'>\n",
      "<re.Match object; span=(258, 259), match='5'>\n",
      "<re.Match object; span=(259, 260), match='5'>\n",
      "<re.Match object; span=(260, 261), match='-'>\n",
      "<re.Match object; span=(261, 262), match='4'>\n",
      "<re.Match object; span=(262, 263), match='3'>\n",
      "<re.Match object; span=(263, 264), match='2'>\n",
      "<re.Match object; span=(264, 265), match='1'>\n",
      "<re.Match object; span=(266, 267), match='1'>\n",
      "<re.Match object; span=(267, 268), match='2'>\n",
      "<re.Match object; span=(268, 269), match='3'>\n",
      "<re.Match object; span=(270, 271), match='5'>\n",
      "<re.Match object; span=(271, 272), match='5'>\n",
      "<re.Match object; span=(272, 273), match='5'>\n",
      "<re.Match object; span=(274, 275), match='1'>\n",
      "<re.Match object; span=(275, 276), match='2'>\n",
      "<re.Match object; span=(276, 277), match='3'>\n",
      "<re.Match object; span=(277, 278), match='4'>\n",
      "<re.Match object; span=(279, 280), match='1'>\n",
      "<re.Match object; span=(280, 281), match='2'>\n",
      "<re.Match object; span=(281, 282), match='3'>\n",
      "<re.Match object; span=(283, 284), match='5'>\n",
      "<re.Match object; span=(284, 285), match='5'>\n",
      "<re.Match object; span=(285, 286), match='5'>\n",
      "<re.Match object; span=(287, 288), match='1'>\n",
      "<re.Match object; span=(288, 289), match='2'>\n",
      "<re.Match object; span=(289, 290), match='3'>\n",
      "<re.Match object; span=(290, 291), match='4'>\n",
      "<re.Match object; span=(295, 296), match='-'>\n",
      "<re.Match object; span=(296, 297), match='5'>\n",
      "<re.Match object; span=(297, 298), match='5'>\n",
      "<re.Match object; span=(298, 299), match='5'>\n",
      "<re.Match object; span=(299, 300), match='-'>\n",
      "<re.Match object; span=(300, 301), match='1'>\n",
      "<re.Match object; span=(301, 302), match='2'>\n",
      "<re.Match object; span=(302, 303), match='3'>\n",
      "<re.Match object; span=(303, 304), match='4'>\n",
      "<re.Match object; span=(308, 309), match='-'>\n",
      "<re.Match object; span=(309, 310), match='5'>\n",
      "<re.Match object; span=(310, 311), match='5'>\n",
      "<re.Match object; span=(311, 312), match='5'>\n",
      "<re.Match object; span=(312, 313), match='-'>\n",
      "<re.Match object; span=(313, 314), match='1'>\n",
      "<re.Match object; span=(314, 315), match='2'>\n",
      "<re.Match object; span=(315, 316), match='3'>\n",
      "<re.Match object; span=(316, 317), match='4'>\n",
      "<re.Match object; span=(318, 319), match='1'>\n",
      "<re.Match object; span=(322, 323), match='1'>\n",
      "<re.Match object; span=(323, 324), match='2'>\n",
      "<re.Match object; span=(324, 325), match='1'>\n",
      "<re.Match object; span=(326, 327), match='4'>\n",
      "<re.Match object; span=(327, 328), match='5'>\n",
      "<re.Match object; span=(328, 329), match='4'>\n",
      "<re.Match object; span=(329, 330), match='3'>\n"
     ]
    }
   ],
   "source": [
    "#character set \n",
    "pattern = re.compile(r\"[1-5-]\")\n",
    "matches = pattern.finditer(text_to_search)\n",
    "for match in matches:\n",
    "    print(match)"
   ]
  },
  {
   "cell_type": "code",
   "execution_count": 35,
   "metadata": {
    "ExecuteTime": {
     "end_time": "2022-08-30T18:05:46.071550Z",
     "start_time": "2022-08-30T18:05:46.068548Z"
    }
   },
   "outputs": [
    {
     "name": "stdout",
     "output_type": "stream",
     "text": [
      "<re.Match object; span=(0, 1), match='a'>\n",
      "<re.Match object; span=(25, 26), match='z'>\n",
      "<re.Match object; span=(68, 69), match='a'>\n",
      "<re.Match object; span=(71, 72), match='a'>\n",
      "<re.Match object; span=(73, 74), match='a'>\n",
      "<re.Match object; span=(78, 79), match='a'>\n",
      "<re.Match object; span=(81, 82), match='a'>\n",
      "<re.Match object; span=(83, 84), match='a'>\n",
      "<re.Match object; span=(105, 106), match='a'>\n",
      "<re.Match object; span=(140, 141), match='a'>\n",
      "<re.Match object; span=(145, 146), match='a'>\n",
      "<re.Match object; span=(149, 150), match='a'>\n",
      "<re.Match object; span=(154, 155), match='a'>\n",
      "<re.Match object; span=(158, 159), match='a'>\n",
      "<re.Match object; span=(162, 163), match='a'>\n",
      "<re.Match object; span=(166, 167), match='a'>\n",
      "<re.Match object; span=(248, 249), match='-'>\n",
      "<re.Match object; span=(256, 257), match='-'>\n",
      "<re.Match object; span=(260, 261), match='-'>\n",
      "<re.Match object; span=(295, 296), match='-'>\n",
      "<re.Match object; span=(299, 300), match='-'>\n",
      "<re.Match object; span=(308, 309), match='-'>\n",
      "<re.Match object; span=(312, 313), match='-'>\n",
      "<re.Match object; span=(321, 322), match='a'>\n",
      "<re.Match object; span=(338, 339), match='a'>\n",
      "<re.Match object; span=(356, 357), match='a'>\n"
     ]
    }
   ],
   "source": [
    "#character set \n",
    "pattern = re.compile(r\"[az-]\")\n",
    "matches = pattern.finditer(text_to_search)\n",
    "for match in matches:\n",
    "    print(match)"
   ]
  },
  {
   "cell_type": "code",
   "execution_count": 37,
   "metadata": {
    "ExecuteTime": {
     "end_time": "2022-08-30T18:06:10.118551Z",
     "start_time": "2022-08-30T18:06:10.113548Z"
    },
    "scrolled": false
   },
   "outputs": [
    {
     "name": "stdout",
     "output_type": "stream",
     "text": [
      "<re.Match object; span=(0, 1), match='a'>\n",
      "<re.Match object; span=(1, 2), match='b'>\n",
      "<re.Match object; span=(2, 3), match='c'>\n",
      "<re.Match object; span=(3, 4), match='d'>\n",
      "<re.Match object; span=(4, 5), match='e'>\n",
      "<re.Match object; span=(5, 6), match='f'>\n",
      "<re.Match object; span=(6, 7), match='g'>\n",
      "<re.Match object; span=(7, 8), match='h'>\n",
      "<re.Match object; span=(8, 9), match='i'>\n",
      "<re.Match object; span=(9, 10), match='j'>\n",
      "<re.Match object; span=(10, 11), match='k'>\n",
      "<re.Match object; span=(11, 12), match='l'>\n",
      "<re.Match object; span=(12, 13), match='m'>\n",
      "<re.Match object; span=(13, 14), match='n'>\n",
      "<re.Match object; span=(14, 15), match='o'>\n",
      "<re.Match object; span=(15, 16), match='p'>\n",
      "<re.Match object; span=(16, 17), match='q'>\n",
      "<re.Match object; span=(17, 18), match='u'>\n",
      "<re.Match object; span=(18, 19), match='r'>\n",
      "<re.Match object; span=(19, 20), match='t'>\n",
      "<re.Match object; span=(20, 21), match='u'>\n",
      "<re.Match object; span=(21, 22), match='v'>\n",
      "<re.Match object; span=(22, 23), match='w'>\n",
      "<re.Match object; span=(23, 24), match='x'>\n",
      "<re.Match object; span=(24, 25), match='y'>\n",
      "<re.Match object; span=(25, 26), match='z'>\n",
      "<re.Match object; span=(68, 69), match='a'>\n",
      "<re.Match object; span=(71, 72), match='a'>\n",
      "<re.Match object; span=(73, 74), match='a'>\n",
      "<re.Match object; span=(76, 77), match='e'>\n",
      "<re.Match object; span=(77, 78), match='t'>\n",
      "<re.Match object; span=(78, 79), match='a'>\n",
      "<re.Match object; span=(80, 81), match='h'>\n",
      "<re.Match object; span=(81, 82), match='a'>\n",
      "<re.Match object; span=(82, 83), match='r'>\n",
      "<re.Match object; span=(83, 84), match='a'>\n",
      "<re.Match object; span=(84, 85), match='c'>\n",
      "<re.Match object; span=(85, 86), match='t'>\n",
      "<re.Match object; span=(86, 87), match='e'>\n",
      "<re.Match object; span=(87, 88), match='r'>\n",
      "<re.Match object; span=(88, 89), match='s'>\n",
      "<re.Match object; span=(92, 93), match='e'>\n",
      "<re.Match object; span=(93, 94), match='e'>\n",
      "<re.Match object; span=(94, 95), match='d'>\n",
      "<re.Match object; span=(96, 97), match='t'>\n",
      "<re.Match object; span=(97, 98), match='o'>\n",
      "<re.Match object; span=(99, 100), match='b'>\n",
      "<re.Match object; span=(100, 101), match='e'>\n",
      "<re.Match object; span=(102, 103), match='e'>\n",
      "<re.Match object; span=(103, 104), match='s'>\n",
      "<re.Match object; span=(104, 105), match='c'>\n",
      "<re.Match object; span=(105, 106), match='a'>\n",
      "<re.Match object; span=(106, 107), match='p'>\n",
      "<re.Match object; span=(107, 108), match='e'>\n",
      "<re.Match object; span=(108, 109), match='d'>\n",
      "<re.Match object; span=(140, 141), match='a'>\n",
      "<re.Match object; span=(141, 142), match='b'>\n",
      "<re.Match object; span=(142, 143), match='c'>\n",
      "<re.Match object; span=(144, 145), match='c'>\n",
      "<re.Match object; span=(145, 146), match='a'>\n",
      "<re.Match object; span=(146, 147), match='t'>\n",
      "<re.Match object; span=(148, 149), match='m'>\n",
      "<re.Match object; span=(149, 150), match='a'>\n",
      "<re.Match object; span=(150, 151), match='t'>\n",
      "<re.Match object; span=(153, 154), match='h'>\n",
      "<re.Match object; span=(154, 155), match='a'>\n",
      "<re.Match object; span=(155, 156), match='t'>\n",
      "<re.Match object; span=(157, 158), match='b'>\n",
      "<re.Match object; span=(158, 159), match='a'>\n",
      "<re.Match object; span=(159, 160), match='t'>\n",
      "<re.Match object; span=(161, 162), match='f'>\n",
      "<re.Match object; span=(162, 163), match='a'>\n",
      "<re.Match object; span=(163, 164), match='t'>\n",
      "<re.Match object; span=(165, 166), match='s'>\n",
      "<re.Match object; span=(166, 167), match='a'>\n",
      "<re.Match object; span=(167, 168), match='t'>\n",
      "<re.Match object; span=(241, 242), match='c'>\n",
      "<re.Match object; span=(242, 243), match='o'>\n",
      "<re.Match object; span=(243, 244), match='r'>\n",
      "<re.Match object; span=(244, 245), match='e'>\n",
      "<re.Match object; span=(245, 246), match='y'>\n",
      "<re.Match object; span=(246, 247), match='m'>\n",
      "<re.Match object; span=(247, 248), match='s'>\n",
      "<re.Match object; span=(249, 250), match='c'>\n",
      "<re.Match object; span=(250, 251), match='o'>\n",
      "<re.Match object; span=(251, 252), match='m'>\n",
      "<re.Match object; span=(321, 322), match='a'>\n",
      "<re.Match object; span=(332, 333), match='r'>\n",
      "<re.Match object; span=(336, 337), match='c'>\n",
      "<re.Match object; span=(337, 338), match='h'>\n",
      "<re.Match object; span=(338, 339), match='a'>\n",
      "<re.Match object; span=(339, 340), match='f'>\n",
      "<re.Match object; span=(340, 341), match='e'>\n",
      "<re.Match object; span=(341, 342), match='r'>\n",
      "<re.Match object; span=(344, 345), match='r'>\n",
      "<re.Match object; span=(347, 348), match='m'>\n",
      "<re.Match object; span=(348, 349), match='i'>\n",
      "<re.Match object; span=(349, 350), match='t'>\n",
      "<re.Match object; span=(350, 351), match='h'>\n",
      "<re.Match object; span=(353, 354), match='s'>\n",
      "<re.Match object; span=(356, 357), match='a'>\n",
      "<re.Match object; span=(357, 358), match='v'>\n",
      "<re.Match object; span=(358, 359), match='i'>\n",
      "<re.Match object; span=(359, 360), match='s'>\n",
      "<re.Match object; span=(362, 363), match='r'>\n",
      "<re.Match object; span=(363, 364), match='s'>\n",
      "<re.Match object; span=(367, 368), match='o'>\n",
      "<re.Match object; span=(368, 369), match='b'>\n",
      "<re.Match object; span=(369, 370), match='i'>\n",
      "<re.Match object; span=(370, 371), match='n'>\n",
      "<re.Match object; span=(371, 372), match='s'>\n",
      "<re.Match object; span=(372, 373), match='o'>\n",
      "<re.Match object; span=(373, 374), match='n'>\n",
      "<re.Match object; span=(376, 377), match='r'>\n"
     ]
    }
   ],
   "source": [
    "#character set \n",
    "pattern = re.compile(\"[a-z]\")\n",
    "matches = pattern.finditer(text_to_search)\n",
    "for match in matches:\n",
    "    print(match)"
   ]
  },
  {
   "cell_type": "code",
   "execution_count": 38,
   "metadata": {
    "ExecuteTime": {
     "end_time": "2022-08-30T18:06:52.016548Z",
     "start_time": "2022-08-30T18:06:52.010548Z"
    },
    "scrolled": true
   },
   "outputs": [
    {
     "name": "stdout",
     "output_type": "stream",
     "text": [
      "<re.Match object; span=(0, 1), match='a'>\n",
      "<re.Match object; span=(1, 2), match='b'>\n",
      "<re.Match object; span=(2, 3), match='c'>\n",
      "<re.Match object; span=(3, 4), match='d'>\n",
      "<re.Match object; span=(4, 5), match='e'>\n",
      "<re.Match object; span=(5, 6), match='f'>\n",
      "<re.Match object; span=(6, 7), match='g'>\n",
      "<re.Match object; span=(7, 8), match='h'>\n",
      "<re.Match object; span=(8, 9), match='i'>\n",
      "<re.Match object; span=(9, 10), match='j'>\n",
      "<re.Match object; span=(10, 11), match='k'>\n",
      "<re.Match object; span=(11, 12), match='l'>\n",
      "<re.Match object; span=(12, 13), match='m'>\n",
      "<re.Match object; span=(13, 14), match='n'>\n",
      "<re.Match object; span=(14, 15), match='o'>\n",
      "<re.Match object; span=(15, 16), match='p'>\n",
      "<re.Match object; span=(16, 17), match='q'>\n",
      "<re.Match object; span=(17, 18), match='u'>\n",
      "<re.Match object; span=(18, 19), match='r'>\n",
      "<re.Match object; span=(19, 20), match='t'>\n",
      "<re.Match object; span=(20, 21), match='u'>\n",
      "<re.Match object; span=(21, 22), match='v'>\n",
      "<re.Match object; span=(22, 23), match='w'>\n",
      "<re.Match object; span=(23, 24), match='x'>\n",
      "<re.Match object; span=(24, 25), match='y'>\n",
      "<re.Match object; span=(25, 26), match='z'>\n",
      "<re.Match object; span=(27, 28), match='A'>\n",
      "<re.Match object; span=(28, 29), match='B'>\n",
      "<re.Match object; span=(29, 30), match='C'>\n",
      "<re.Match object; span=(30, 31), match='D'>\n",
      "<re.Match object; span=(31, 32), match='E'>\n",
      "<re.Match object; span=(32, 33), match='F'>\n",
      "<re.Match object; span=(33, 34), match='G'>\n",
      "<re.Match object; span=(34, 35), match='H'>\n",
      "<re.Match object; span=(35, 36), match='I'>\n",
      "<re.Match object; span=(36, 37), match='J'>\n",
      "<re.Match object; span=(37, 38), match='K'>\n",
      "<re.Match object; span=(38, 39), match='L'>\n",
      "<re.Match object; span=(39, 40), match='M'>\n",
      "<re.Match object; span=(40, 41), match='N'>\n",
      "<re.Match object; span=(41, 42), match='O'>\n",
      "<re.Match object; span=(42, 43), match='P'>\n",
      "<re.Match object; span=(43, 44), match='Q'>\n",
      "<re.Match object; span=(44, 45), match='R'>\n",
      "<re.Match object; span=(45, 46), match='S'>\n",
      "<re.Match object; span=(46, 47), match='T'>\n",
      "<re.Match object; span=(47, 48), match='U'>\n",
      "<re.Match object; span=(48, 49), match='V'>\n",
      "<re.Match object; span=(49, 50), match='W'>\n",
      "<re.Match object; span=(50, 51), match='X'>\n",
      "<re.Match object; span=(51, 52), match='Y'>\n",
      "<re.Match object; span=(52, 53), match='Z'>\n",
      "<re.Match object; span=(67, 68), match='H'>\n",
      "<re.Match object; span=(68, 69), match='a'>\n",
      "<re.Match object; span=(70, 71), match='H'>\n",
      "<re.Match object; span=(71, 72), match='a'>\n",
      "<re.Match object; span=(72, 73), match='H'>\n",
      "<re.Match object; span=(73, 74), match='a'>\n",
      "<re.Match object; span=(75, 76), match='M'>\n",
      "<re.Match object; span=(76, 77), match='e'>\n",
      "<re.Match object; span=(77, 78), match='t'>\n",
      "<re.Match object; span=(78, 79), match='a'>\n",
      "<re.Match object; span=(79, 80), match='C'>\n",
      "<re.Match object; span=(80, 81), match='h'>\n",
      "<re.Match object; span=(81, 82), match='a'>\n",
      "<re.Match object; span=(82, 83), match='r'>\n",
      "<re.Match object; span=(83, 84), match='a'>\n",
      "<re.Match object; span=(84, 85), match='c'>\n",
      "<re.Match object; span=(85, 86), match='t'>\n",
      "<re.Match object; span=(86, 87), match='e'>\n",
      "<re.Match object; span=(87, 88), match='r'>\n",
      "<re.Match object; span=(88, 89), match='s'>\n",
      "<re.Match object; span=(91, 92), match='N'>\n",
      "<re.Match object; span=(92, 93), match='e'>\n",
      "<re.Match object; span=(93, 94), match='e'>\n",
      "<re.Match object; span=(94, 95), match='d'>\n",
      "<re.Match object; span=(96, 97), match='t'>\n",
      "<re.Match object; span=(97, 98), match='o'>\n",
      "<re.Match object; span=(99, 100), match='b'>\n",
      "<re.Match object; span=(100, 101), match='e'>\n",
      "<re.Match object; span=(102, 103), match='e'>\n",
      "<re.Match object; span=(103, 104), match='s'>\n",
      "<re.Match object; span=(104, 105), match='c'>\n",
      "<re.Match object; span=(105, 106), match='a'>\n",
      "<re.Match object; span=(106, 107), match='p'>\n",
      "<re.Match object; span=(107, 108), match='e'>\n",
      "<re.Match object; span=(108, 109), match='d'>\n",
      "<re.Match object; span=(114, 115), match='^'>\n",
      "<re.Match object; span=(128, 129), match='['>\n",
      "<re.Match object; span=(130, 131), match=']'>\n",
      "<re.Match object; span=(132, 133), match='\\\\'>\n",
      "<re.Match object; span=(140, 141), match='a'>\n",
      "<re.Match object; span=(141, 142), match='b'>\n",
      "<re.Match object; span=(142, 143), match='c'>\n",
      "<re.Match object; span=(144, 145), match='c'>\n",
      "<re.Match object; span=(145, 146), match='a'>\n",
      "<re.Match object; span=(146, 147), match='t'>\n",
      "<re.Match object; span=(148, 149), match='m'>\n",
      "<re.Match object; span=(149, 150), match='a'>\n",
      "<re.Match object; span=(150, 151), match='t'>\n",
      "<re.Match object; span=(153, 154), match='h'>\n",
      "<re.Match object; span=(154, 155), match='a'>\n",
      "<re.Match object; span=(155, 156), match='t'>\n",
      "<re.Match object; span=(157, 158), match='b'>\n",
      "<re.Match object; span=(158, 159), match='a'>\n",
      "<re.Match object; span=(159, 160), match='t'>\n",
      "<re.Match object; span=(161, 162), match='f'>\n",
      "<re.Match object; span=(162, 163), match='a'>\n",
      "<re.Match object; span=(163, 164), match='t'>\n",
      "<re.Match object; span=(165, 166), match='s'>\n",
      "<re.Match object; span=(166, 167), match='a'>\n",
      "<re.Match object; span=(167, 168), match='t'>\n",
      "<re.Match object; span=(241, 242), match='c'>\n",
      "<re.Match object; span=(242, 243), match='o'>\n",
      "<re.Match object; span=(243, 244), match='r'>\n",
      "<re.Match object; span=(244, 245), match='e'>\n",
      "<re.Match object; span=(245, 246), match='y'>\n",
      "<re.Match object; span=(246, 247), match='m'>\n",
      "<re.Match object; span=(247, 248), match='s'>\n",
      "<re.Match object; span=(249, 250), match='c'>\n",
      "<re.Match object; span=(250, 251), match='o'>\n",
      "<re.Match object; span=(251, 252), match='m'>\n",
      "<re.Match object; span=(321, 322), match='a'>\n",
      "<re.Match object; span=(325, 326), match='C'>\n",
      "<re.Match object; span=(331, 332), match='M'>\n",
      "<re.Match object; span=(332, 333), match='r'>\n",
      "<re.Match object; span=(335, 336), match='S'>\n",
      "<re.Match object; span=(336, 337), match='c'>\n",
      "<re.Match object; span=(337, 338), match='h'>\n",
      "<re.Match object; span=(338, 339), match='a'>\n",
      "<re.Match object; span=(339, 340), match='f'>\n",
      "<re.Match object; span=(340, 341), match='e'>\n",
      "<re.Match object; span=(341, 342), match='r'>\n",
      "<re.Match object; span=(343, 344), match='M'>\n",
      "<re.Match object; span=(344, 345), match='r'>\n",
      "<re.Match object; span=(346, 347), match='S'>\n",
      "<re.Match object; span=(347, 348), match='m'>\n",
      "<re.Match object; span=(348, 349), match='i'>\n",
      "<re.Match object; span=(349, 350), match='t'>\n",
      "<re.Match object; span=(350, 351), match='h'>\n",
      "<re.Match object; span=(352, 353), match='M'>\n",
      "<re.Match object; span=(353, 354), match='s'>\n",
      "<re.Match object; span=(355, 356), match='D'>\n",
      "<re.Match object; span=(356, 357), match='a'>\n",
      "<re.Match object; span=(357, 358), match='v'>\n",
      "<re.Match object; span=(358, 359), match='i'>\n",
      "<re.Match object; span=(359, 360), match='s'>\n",
      "<re.Match object; span=(361, 362), match='M'>\n",
      "<re.Match object; span=(362, 363), match='r'>\n",
      "<re.Match object; span=(363, 364), match='s'>\n",
      "<re.Match object; span=(366, 367), match='R'>\n",
      "<re.Match object; span=(367, 368), match='o'>\n",
      "<re.Match object; span=(368, 369), match='b'>\n",
      "<re.Match object; span=(369, 370), match='i'>\n",
      "<re.Match object; span=(370, 371), match='n'>\n",
      "<re.Match object; span=(371, 372), match='s'>\n",
      "<re.Match object; span=(372, 373), match='o'>\n",
      "<re.Match object; span=(373, 374), match='n'>\n",
      "<re.Match object; span=(375, 376), match='M'>\n",
      "<re.Match object; span=(376, 377), match='r'>\n",
      "<re.Match object; span=(379, 380), match='T'>\n"
     ]
    }
   ],
   "source": [
    "#character set \n",
    "pattern = re.compile(r\"[A-z]\")\n",
    "matches = pattern.finditer(text_to_search)\n",
    "for match in matches:\n",
    "    print(match)"
   ]
  },
  {
   "cell_type": "code",
   "execution_count": 49,
   "metadata": {
    "ExecuteTime": {
     "end_time": "2021-09-11T15:05:42.832293Z",
     "start_time": "2021-09-11T15:05:42.826309Z"
    }
   },
   "outputs": [
    {
     "name": "stdout",
     "output_type": "stream",
     "text": [
      "5 11\n"
     ]
    }
   ],
   "source": [
    "c = \"    Ahmed     :     01092329340\"\n",
    "name = c.split(\":\")[0].strip()\n",
    "number = c.split(\":\")[1].strip()\n",
    "print(len(name), len(number))"
   ]
  },
  {
   "cell_type": "code",
   "execution_count": 27,
   "metadata": {
    "ExecuteTime": {
     "end_time": "2021-12-24T09:24:58.516150Z",
     "start_time": "2021-12-24T09:24:58.504150Z"
    }
   },
   "outputs": [
    {
     "name": "stdout",
     "output_type": "stream",
     "text": [
      "this is my number: 01092329340\n",
      "<re.Match object; span=(19, 30), match='01092329340'>\n"
     ]
    }
   ],
   "source": [
    "with open (\"testing.txt\" , \"r\" ) as file:\n",
    "    x = file.readline().strip()\n",
    "print(x)\n",
    "pattern = re.compile(r\"\\d+\")\n",
    "matches = pattern.finditer(x)\n",
    "for match in matches:\n",
    "    print(match)"
   ]
  },
  {
   "cell_type": "code",
   "execution_count": 57,
   "metadata": {
    "ExecuteTime": {
     "end_time": "2021-09-11T15:14:00.710801Z",
     "start_time": "2021-09-11T15:14:00.702849Z"
    },
    "scrolled": true
   },
   "outputs": [
    {
     "name": "stdout",
     "output_type": "stream",
     "text": [
      "{\"jsonKey\": null}\n",
      "<class 'str'>\n",
      "{'jsonKey': None}\n",
      "<class 'dict'>\n"
     ]
    }
   ],
   "source": [
    "import json\n",
    "data = {'jsonKey': None}\n",
    "print(json.dumps(data)) # filename\n",
    "print(type(json.dumps(data)))\n",
    "print(json.loads(json.dumps(data)))\n",
    "print(type(json.loads(json.dumps(data))))"
   ]
  },
  {
   "cell_type": "code",
   "execution_count": 62,
   "metadata": {
    "ExecuteTime": {
     "end_time": "2021-09-11T15:17:21.327606Z",
     "start_time": "2021-09-11T15:17:21.321622Z"
    }
   },
   "outputs": [
    {
     "name": "stdout",
     "output_type": "stream",
     "text": [
      "{\"Name\": \"Ahmed\", \"rating\": 3.5}\n",
      "<class 'str'>\n"
     ]
    },
    {
     "data": {
      "text/plain": [
       "dict"
      ]
     },
     "execution_count": 62,
     "metadata": {},
     "output_type": "execute_result"
    }
   ],
   "source": [
    "import json\n",
    "\n",
    "r = {'Name': 'Ahmed', 'rating': 3.5}\n",
    "r = json.dumps(r)\n",
    "print(r)\n",
    "print(type(r))\n",
    "loaded_r = json.loads(r)\n",
    "loaded_r['rating'] #Output 3.5\n",
    "type(r) #Output str\n",
    "type(loaded_r) #Output dict"
   ]
  },
  {
   "cell_type": "code",
   "execution_count": 64,
   "metadata": {
    "ExecuteTime": {
     "end_time": "2021-09-11T15:19:16.777598Z",
     "start_time": "2021-09-11T15:19:16.758648Z"
    }
   },
   "outputs": [],
   "source": [
    "import json\n",
    "\n",
    "# Data to be written\n",
    "dictionary ={\n",
    "\"name\" : \"Ahmed\",\n",
    "\"id\" : 56,\n",
    "\"cgpa\" : 8.6,\n",
    "\"phonenumber\" : \"01092329340\"\n",
    "}\n",
    "\n",
    "with open(\"sample.json\", \"w\") as outfile:\n",
    "    json.dump(dictionary, outfile)\n"
   ]
  },
  {
   "cell_type": "code",
   "execution_count": 67,
   "metadata": {
    "ExecuteTime": {
     "end_time": "2021-09-11T15:20:27.298291Z",
     "start_time": "2021-09-11T15:20:27.292307Z"
    }
   },
   "outputs": [],
   "source": [
    "with open(\"sample.json\" , \"r\") as xfile: \n",
    "    x = xfile.read()"
   ]
  },
  {
   "cell_type": "code",
   "execution_count": 69,
   "metadata": {
    "ExecuteTime": {
     "end_time": "2021-09-11T15:20:35.065627Z",
     "start_time": "2021-09-11T15:20:35.060641Z"
    },
    "collapsed": true
   },
   "outputs": [
    {
     "data": {
      "text/plain": [
       "str"
      ]
     },
     "execution_count": 69,
     "metadata": {},
     "output_type": "execute_result"
    }
   ],
   "source": [
    "type(x)"
   ]
  },
  {
   "cell_type": "code",
   "execution_count": 70,
   "metadata": {
    "ExecuteTime": {
     "end_time": "2021-09-11T15:20:52.136216Z",
     "start_time": "2021-09-11T15:20:52.127241Z"
    }
   },
   "outputs": [
    {
     "data": {
      "text/plain": [
       "'{\"name\": \"Ahmed\", \"id\": 56, \"cgpa\": 8.6, \"phonenumber\": \"01092329340\"}'"
      ]
     },
     "execution_count": 70,
     "metadata": {},
     "output_type": "execute_result"
    }
   ],
   "source": [
    "x"
   ]
  },
  {
   "cell_type": "code",
   "execution_count": 76,
   "metadata": {
    "ExecuteTime": {
     "end_time": "2021-09-11T15:22:30.238037Z",
     "start_time": "2021-09-11T15:22:30.232053Z"
    },
    "scrolled": true
   },
   "outputs": [
    {
     "name": "stdout",
     "output_type": "stream",
     "text": [
      "Ahmed\n",
      "56\n",
      "8.6\n",
      "01092329340\n"
     ]
    }
   ],
   "source": [
    "file = json.loads(x)\n",
    "for i in file.keys():\n",
    "    print(file[i])"
   ]
  },
  {
   "cell_type": "code",
   "execution_count": 79,
   "metadata": {
    "ExecuteTime": {
     "end_time": "2021-09-11T15:25:46.110792Z",
     "start_time": "2021-09-11T15:25:46.093837Z"
    }
   },
   "outputs": [
    {
     "name": "stdout",
     "output_type": "stream",
     "text": [
      "name Ahmed\n",
      "id 56\n",
      "cgpa 8.6\n",
      "phonenumber 01092329340\n"
     ]
    }
   ],
   "source": [
    "import json\n",
    "\n",
    "# Opening JSON file\n",
    "f = open('sample.json',)\n",
    "\n",
    "# returns JSON object as\n",
    "# a dictionary\n",
    "data = json.load(f)\n",
    "#print(type(data))\n",
    "\n",
    "# Iterating through the json\n",
    "# list\n",
    "for i in data:\n",
    "    print(i , data[i])\n",
    "\n",
    "# Closing file\n",
    "f.close()\n"
   ]
  },
  {
   "cell_type": "code",
   "execution_count": 39,
   "metadata": {
    "ExecuteTime": {
     "end_time": "2022-08-30T18:07:42.247547Z",
     "start_time": "2022-08-30T18:07:42.240548Z"
    }
   },
   "outputs": [
    {
     "name": "stdout",
     "output_type": "stream",
     "text": [
      "<re.Match object; span=(0, 1), match='a'>\n",
      "<re.Match object; span=(1, 2), match='b'>\n",
      "<re.Match object; span=(2, 3), match='c'>\n",
      "<re.Match object; span=(3, 4), match='d'>\n",
      "<re.Match object; span=(4, 5), match='e'>\n",
      "<re.Match object; span=(5, 6), match='f'>\n",
      "<re.Match object; span=(6, 7), match='g'>\n",
      "<re.Match object; span=(7, 8), match='h'>\n",
      "<re.Match object; span=(8, 9), match='i'>\n",
      "<re.Match object; span=(9, 10), match='j'>\n",
      "<re.Match object; span=(10, 11), match='k'>\n",
      "<re.Match object; span=(11, 12), match='l'>\n",
      "<re.Match object; span=(12, 13), match='m'>\n",
      "<re.Match object; span=(13, 14), match='n'>\n",
      "<re.Match object; span=(14, 15), match='o'>\n",
      "<re.Match object; span=(15, 16), match='p'>\n",
      "<re.Match object; span=(16, 17), match='q'>\n",
      "<re.Match object; span=(17, 18), match='u'>\n",
      "<re.Match object; span=(18, 19), match='r'>\n",
      "<re.Match object; span=(19, 20), match='t'>\n",
      "<re.Match object; span=(20, 21), match='u'>\n",
      "<re.Match object; span=(21, 22), match='v'>\n",
      "<re.Match object; span=(22, 23), match='w'>\n",
      "<re.Match object; span=(23, 24), match='x'>\n",
      "<re.Match object; span=(24, 25), match='y'>\n",
      "<re.Match object; span=(25, 26), match='z'>\n",
      "<re.Match object; span=(27, 28), match='A'>\n",
      "<re.Match object; span=(28, 29), match='B'>\n",
      "<re.Match object; span=(29, 30), match='C'>\n",
      "<re.Match object; span=(30, 31), match='D'>\n",
      "<re.Match object; span=(31, 32), match='E'>\n",
      "<re.Match object; span=(32, 33), match='F'>\n",
      "<re.Match object; span=(33, 34), match='G'>\n",
      "<re.Match object; span=(34, 35), match='H'>\n",
      "<re.Match object; span=(35, 36), match='I'>\n",
      "<re.Match object; span=(36, 37), match='J'>\n",
      "<re.Match object; span=(37, 38), match='K'>\n",
      "<re.Match object; span=(38, 39), match='L'>\n",
      "<re.Match object; span=(39, 40), match='M'>\n",
      "<re.Match object; span=(40, 41), match='N'>\n",
      "<re.Match object; span=(41, 42), match='O'>\n",
      "<re.Match object; span=(42, 43), match='P'>\n",
      "<re.Match object; span=(43, 44), match='Q'>\n",
      "<re.Match object; span=(44, 45), match='R'>\n",
      "<re.Match object; span=(45, 46), match='S'>\n",
      "<re.Match object; span=(46, 47), match='T'>\n",
      "<re.Match object; span=(47, 48), match='U'>\n",
      "<re.Match object; span=(48, 49), match='V'>\n",
      "<re.Match object; span=(49, 50), match='W'>\n",
      "<re.Match object; span=(50, 51), match='X'>\n",
      "<re.Match object; span=(51, 52), match='Y'>\n",
      "<re.Match object; span=(52, 53), match='Z'>\n",
      "<re.Match object; span=(67, 68), match='H'>\n",
      "<re.Match object; span=(68, 69), match='a'>\n",
      "<re.Match object; span=(70, 71), match='H'>\n",
      "<re.Match object; span=(71, 72), match='a'>\n",
      "<re.Match object; span=(72, 73), match='H'>\n",
      "<re.Match object; span=(73, 74), match='a'>\n",
      "<re.Match object; span=(75, 76), match='M'>\n",
      "<re.Match object; span=(76, 77), match='e'>\n",
      "<re.Match object; span=(77, 78), match='t'>\n",
      "<re.Match object; span=(78, 79), match='a'>\n",
      "<re.Match object; span=(79, 80), match='C'>\n",
      "<re.Match object; span=(80, 81), match='h'>\n",
      "<re.Match object; span=(81, 82), match='a'>\n",
      "<re.Match object; span=(82, 83), match='r'>\n",
      "<re.Match object; span=(83, 84), match='a'>\n",
      "<re.Match object; span=(84, 85), match='c'>\n",
      "<re.Match object; span=(85, 86), match='t'>\n",
      "<re.Match object; span=(86, 87), match='e'>\n",
      "<re.Match object; span=(87, 88), match='r'>\n",
      "<re.Match object; span=(88, 89), match='s'>\n",
      "<re.Match object; span=(91, 92), match='N'>\n",
      "<re.Match object; span=(92, 93), match='e'>\n",
      "<re.Match object; span=(93, 94), match='e'>\n",
      "<re.Match object; span=(94, 95), match='d'>\n",
      "<re.Match object; span=(96, 97), match='t'>\n",
      "<re.Match object; span=(97, 98), match='o'>\n",
      "<re.Match object; span=(99, 100), match='b'>\n",
      "<re.Match object; span=(100, 101), match='e'>\n",
      "<re.Match object; span=(102, 103), match='e'>\n",
      "<re.Match object; span=(103, 104), match='s'>\n",
      "<re.Match object; span=(104, 105), match='c'>\n",
      "<re.Match object; span=(105, 106), match='a'>\n",
      "<re.Match object; span=(106, 107), match='p'>\n",
      "<re.Match object; span=(107, 108), match='e'>\n",
      "<re.Match object; span=(108, 109), match='d'>\n",
      "<re.Match object; span=(140, 141), match='a'>\n",
      "<re.Match object; span=(141, 142), match='b'>\n",
      "<re.Match object; span=(142, 143), match='c'>\n",
      "<re.Match object; span=(144, 145), match='c'>\n",
      "<re.Match object; span=(145, 146), match='a'>\n",
      "<re.Match object; span=(146, 147), match='t'>\n",
      "<re.Match object; span=(148, 149), match='m'>\n",
      "<re.Match object; span=(149, 150), match='a'>\n",
      "<re.Match object; span=(150, 151), match='t'>\n",
      "<re.Match object; span=(153, 154), match='h'>\n",
      "<re.Match object; span=(154, 155), match='a'>\n",
      "<re.Match object; span=(155, 156), match='t'>\n",
      "<re.Match object; span=(157, 158), match='b'>\n",
      "<re.Match object; span=(158, 159), match='a'>\n",
      "<re.Match object; span=(159, 160), match='t'>\n",
      "<re.Match object; span=(161, 162), match='f'>\n",
      "<re.Match object; span=(162, 163), match='a'>\n",
      "<re.Match object; span=(163, 164), match='t'>\n",
      "<re.Match object; span=(165, 166), match='s'>\n",
      "<re.Match object; span=(166, 167), match='a'>\n",
      "<re.Match object; span=(167, 168), match='t'>\n",
      "<re.Match object; span=(241, 242), match='c'>\n",
      "<re.Match object; span=(242, 243), match='o'>\n",
      "<re.Match object; span=(243, 244), match='r'>\n",
      "<re.Match object; span=(244, 245), match='e'>\n",
      "<re.Match object; span=(245, 246), match='y'>\n",
      "<re.Match object; span=(246, 247), match='m'>\n",
      "<re.Match object; span=(247, 248), match='s'>\n",
      "<re.Match object; span=(249, 250), match='c'>\n",
      "<re.Match object; span=(250, 251), match='o'>\n",
      "<re.Match object; span=(251, 252), match='m'>\n",
      "<re.Match object; span=(321, 322), match='a'>\n",
      "<re.Match object; span=(325, 326), match='C'>\n",
      "<re.Match object; span=(331, 332), match='M'>\n",
      "<re.Match object; span=(332, 333), match='r'>\n",
      "<re.Match object; span=(335, 336), match='S'>\n",
      "<re.Match object; span=(336, 337), match='c'>\n",
      "<re.Match object; span=(337, 338), match='h'>\n",
      "<re.Match object; span=(338, 339), match='a'>\n",
      "<re.Match object; span=(339, 340), match='f'>\n",
      "<re.Match object; span=(340, 341), match='e'>\n",
      "<re.Match object; span=(341, 342), match='r'>\n",
      "<re.Match object; span=(343, 344), match='M'>\n",
      "<re.Match object; span=(344, 345), match='r'>\n",
      "<re.Match object; span=(346, 347), match='S'>\n",
      "<re.Match object; span=(347, 348), match='m'>\n",
      "<re.Match object; span=(348, 349), match='i'>\n",
      "<re.Match object; span=(349, 350), match='t'>\n",
      "<re.Match object; span=(350, 351), match='h'>\n",
      "<re.Match object; span=(352, 353), match='M'>\n",
      "<re.Match object; span=(353, 354), match='s'>\n",
      "<re.Match object; span=(355, 356), match='D'>\n",
      "<re.Match object; span=(356, 357), match='a'>\n",
      "<re.Match object; span=(357, 358), match='v'>\n",
      "<re.Match object; span=(358, 359), match='i'>\n",
      "<re.Match object; span=(359, 360), match='s'>\n",
      "<re.Match object; span=(361, 362), match='M'>\n",
      "<re.Match object; span=(362, 363), match='r'>\n",
      "<re.Match object; span=(363, 364), match='s'>\n",
      "<re.Match object; span=(366, 367), match='R'>\n",
      "<re.Match object; span=(367, 368), match='o'>\n",
      "<re.Match object; span=(368, 369), match='b'>\n",
      "<re.Match object; span=(369, 370), match='i'>\n",
      "<re.Match object; span=(370, 371), match='n'>\n",
      "<re.Match object; span=(371, 372), match='s'>\n",
      "<re.Match object; span=(372, 373), match='o'>\n",
      "<re.Match object; span=(373, 374), match='n'>\n",
      "<re.Match object; span=(375, 376), match='M'>\n",
      "<re.Match object; span=(376, 377), match='r'>\n",
      "<re.Match object; span=(379, 380), match='T'>\n"
     ]
    }
   ],
   "source": [
    "#character set \n",
    "pattern = re.compile(r\"[a-zA-Z]\")\n",
    "matches = pattern.finditer(text_to_search)\n",
    "for match in matches:\n",
    "    print(match)"
   ]
  },
  {
   "cell_type": "code",
   "execution_count": 45,
   "metadata": {
    "ExecuteTime": {
     "end_time": "2022-08-19T11:16:36.605608Z",
     "start_time": "2022-08-19T11:16:36.598609Z"
    },
    "scrolled": false
   },
   "outputs": [
    {
     "name": "stdout",
     "output_type": "stream",
     "text": [
      "<re.Match object; span=(26, 27), match='\\n'>\n",
      "<re.Match object; span=(53, 54), match='\\n'>\n",
      "<re.Match object; span=(54, 55), match='1'>\n",
      "<re.Match object; span=(55, 56), match='2'>\n",
      "<re.Match object; span=(56, 57), match='3'>\n",
      "<re.Match object; span=(57, 58), match='4'>\n",
      "<re.Match object; span=(58, 59), match='5'>\n",
      "<re.Match object; span=(59, 60), match='6'>\n",
      "<re.Match object; span=(60, 61), match='7'>\n",
      "<re.Match object; span=(61, 62), match='8'>\n",
      "<re.Match object; span=(62, 63), match='9'>\n",
      "<re.Match object; span=(63, 64), match='0'>\n",
      "<re.Match object; span=(64, 65), match='1'>\n",
      "<re.Match object; span=(65, 66), match='0'>\n",
      "<re.Match object; span=(66, 67), match='\\n'>\n",
      "<re.Match object; span=(69, 70), match=' '>\n",
      "<re.Match object; span=(74, 75), match='\\n'>\n",
      "<re.Match object; span=(89, 90), match=' '>\n",
      "<re.Match object; span=(90, 91), match='('>\n",
      "<re.Match object; span=(95, 96), match=' '>\n",
      "<re.Match object; span=(98, 99), match=' '>\n",
      "<re.Match object; span=(101, 102), match=' '>\n",
      "<re.Match object; span=(109, 110), match=')'>\n",
      "<re.Match object; span=(110, 111), match=':'>\n",
      "<re.Match object; span=(111, 112), match='\\n'>\n",
      "<re.Match object; span=(112, 113), match='.'>\n",
      "<re.Match object; span=(113, 114), match=' '>\n",
      "<re.Match object; span=(114, 115), match='^'>\n",
      "<re.Match object; span=(115, 116), match=' '>\n",
      "<re.Match object; span=(116, 117), match='$'>\n",
      "<re.Match object; span=(117, 118), match=' '>\n",
      "<re.Match object; span=(118, 119), match='*'>\n",
      "<re.Match object; span=(119, 120), match=' '>\n",
      "<re.Match object; span=(120, 121), match='+'>\n",
      "<re.Match object; span=(121, 122), match=' '>\n",
      "<re.Match object; span=(122, 123), match='?'>\n",
      "<re.Match object; span=(123, 124), match=' '>\n",
      "<re.Match object; span=(124, 125), match='{'>\n",
      "<re.Match object; span=(125, 126), match=' '>\n",
      "<re.Match object; span=(126, 127), match='}'>\n",
      "<re.Match object; span=(127, 128), match=' '>\n",
      "<re.Match object; span=(128, 129), match='['>\n",
      "<re.Match object; span=(129, 130), match=' '>\n",
      "<re.Match object; span=(130, 131), match=']'>\n",
      "<re.Match object; span=(131, 132), match=' '>\n",
      "<re.Match object; span=(132, 133), match='\\\\'>\n",
      "<re.Match object; span=(133, 134), match=' '>\n",
      "<re.Match object; span=(134, 135), match='|'>\n",
      "<re.Match object; span=(135, 136), match=' '>\n",
      "<re.Match object; span=(136, 137), match='('>\n",
      "<re.Match object; span=(137, 138), match=' '>\n",
      "<re.Match object; span=(138, 139), match=')'>\n",
      "<re.Match object; span=(139, 140), match='\\n'>\n",
      "<re.Match object; span=(143, 144), match='\\n'>\n",
      "<re.Match object; span=(147, 148), match='\\n'>\n",
      "<re.Match object; span=(151, 152), match=' '>\n",
      "<re.Match object; span=(152, 153), match='\\n'>\n",
      "<re.Match object; span=(156, 157), match='\\n'>\n",
      "<re.Match object; span=(160, 161), match='\\n'>\n",
      "<re.Match object; span=(164, 165), match='\\n'>\n",
      "<re.Match object; span=(168, 169), match='\\n'>\n",
      "<re.Match object; span=(169, 170), match='0'>\n",
      "<re.Match object; span=(170, 171), match='1'>\n",
      "<re.Match object; span=(171, 172), match='0'>\n",
      "<re.Match object; span=(172, 173), match='9'>\n",
      "<re.Match object; span=(173, 174), match='2'>\n",
      "<re.Match object; span=(174, 175), match='3'>\n",
      "<re.Match object; span=(175, 176), match='2'>\n",
      "<re.Match object; span=(176, 177), match='9'>\n",
      "<re.Match object; span=(177, 178), match='3'>\n",
      "<re.Match object; span=(178, 179), match='4'>\n",
      "<re.Match object; span=(179, 180), match='0'>\n",
      "<re.Match object; span=(180, 181), match='\\n'>\n",
      "<re.Match object; span=(181, 182), match='0'>\n",
      "<re.Match object; span=(182, 183), match='1'>\n",
      "<re.Match object; span=(183, 184), match='1'>\n",
      "<re.Match object; span=(184, 185), match='2'>\n",
      "<re.Match object; span=(185, 186), match='3'>\n",
      "<re.Match object; span=(186, 187), match='2'>\n",
      "<re.Match object; span=(187, 188), match='3'>\n",
      "<re.Match object; span=(188, 189), match='4'>\n",
      "<re.Match object; span=(189, 190), match='3'>\n",
      "<re.Match object; span=(190, 191), match='5'>\n",
      "<re.Match object; span=(191, 192), match='5'>\n",
      "<re.Match object; span=(192, 193), match='\\n'>\n",
      "<re.Match object; span=(193, 194), match='0'>\n",
      "<re.Match object; span=(194, 195), match='1'>\n",
      "<re.Match object; span=(195, 196), match='0'>\n",
      "<re.Match object; span=(196, 197), match='2'>\n",
      "<re.Match object; span=(197, 198), match='3'>\n",
      "<re.Match object; span=(198, 199), match='4'>\n",
      "<re.Match object; span=(199, 200), match='5'>\n",
      "<re.Match object; span=(200, 201), match='5'>\n",
      "<re.Match object; span=(201, 202), match='4'>\n",
      "<re.Match object; span=(202, 203), match='1'>\n",
      "<re.Match object; span=(203, 204), match='1'>\n",
      "<re.Match object; span=(204, 205), match='\\n'>\n",
      "<re.Match object; span=(205, 206), match='0'>\n",
      "<re.Match object; span=(206, 207), match='1'>\n",
      "<re.Match object; span=(207, 208), match='2'>\n",
      "<re.Match object; span=(208, 209), match='3'>\n",
      "<re.Match object; span=(209, 210), match='4'>\n",
      "<re.Match object; span=(210, 211), match='5'>\n",
      "<re.Match object; span=(211, 212), match='6'>\n",
      "<re.Match object; span=(212, 213), match='7'>\n",
      "<re.Match object; span=(213, 214), match='8'>\n",
      "<re.Match object; span=(214, 215), match='7'>\n",
      "<re.Match object; span=(215, 216), match='5'>\n",
      "<re.Match object; span=(216, 217), match='\\n'>\n",
      "<re.Match object; span=(217, 218), match='0'>\n",
      "<re.Match object; span=(218, 219), match='1'>\n",
      "<re.Match object; span=(219, 220), match='5'>\n",
      "<re.Match object; span=(220, 221), match='3'>\n",
      "<re.Match object; span=(221, 222), match='4'>\n",
      "<re.Match object; span=(222, 223), match='5'>\n",
      "<re.Match object; span=(223, 224), match='6'>\n",
      "<re.Match object; span=(224, 225), match='7'>\n",
      "<re.Match object; span=(225, 226), match='4'>\n",
      "<re.Match object; span=(226, 227), match='5'>\n",
      "<re.Match object; span=(227, 228), match='6'>\n",
      "<re.Match object; span=(228, 229), match='\\n'>\n",
      "<re.Match object; span=(229, 230), match='0'>\n",
      "<re.Match object; span=(230, 231), match='1'>\n",
      "<re.Match object; span=(231, 232), match='1'>\n",
      "<re.Match object; span=(232, 233), match='3'>\n",
      "<re.Match object; span=(233, 234), match='4'>\n",
      "<re.Match object; span=(234, 235), match='5'>\n",
      "<re.Match object; span=(235, 236), match='6'>\n",
      "<re.Match object; span=(236, 237), match='7'>\n",
      "<re.Match object; span=(237, 238), match='8'>\n",
      "<re.Match object; span=(238, 239), match='5'>\n",
      "<re.Match object; span=(239, 240), match='6'>\n",
      "<re.Match object; span=(240, 241), match='\\n'>\n",
      "<re.Match object; span=(248, 249), match='-'>\n",
      "<re.Match object; span=(252, 253), match='\\n'>\n",
      "<re.Match object; span=(253, 254), match='3'>\n",
      "<re.Match object; span=(254, 255), match='2'>\n",
      "<re.Match object; span=(255, 256), match='1'>\n",
      "<re.Match object; span=(256, 257), match='-'>\n",
      "<re.Match object; span=(257, 258), match='5'>\n",
      "<re.Match object; span=(258, 259), match='5'>\n",
      "<re.Match object; span=(259, 260), match='5'>\n",
      "<re.Match object; span=(260, 261), match='-'>\n",
      "<re.Match object; span=(261, 262), match='4'>\n",
      "<re.Match object; span=(262, 263), match='3'>\n",
      "<re.Match object; span=(263, 264), match='2'>\n",
      "<re.Match object; span=(264, 265), match='1'>\n",
      "<re.Match object; span=(265, 266), match='\\n'>\n",
      "<re.Match object; span=(266, 267), match='1'>\n",
      "<re.Match object; span=(267, 268), match='2'>\n",
      "<re.Match object; span=(268, 269), match='3'>\n",
      "<re.Match object; span=(269, 270), match='.'>\n",
      "<re.Match object; span=(270, 271), match='5'>\n",
      "<re.Match object; span=(271, 272), match='5'>\n",
      "<re.Match object; span=(272, 273), match='5'>\n",
      "<re.Match object; span=(273, 274), match='.'>\n",
      "<re.Match object; span=(274, 275), match='1'>\n",
      "<re.Match object; span=(275, 276), match='2'>\n",
      "<re.Match object; span=(276, 277), match='3'>\n",
      "<re.Match object; span=(277, 278), match='4'>\n",
      "<re.Match object; span=(278, 279), match='\\n'>\n",
      "<re.Match object; span=(279, 280), match='1'>\n",
      "<re.Match object; span=(280, 281), match='2'>\n",
      "<re.Match object; span=(281, 282), match='3'>\n",
      "<re.Match object; span=(282, 283), match='*'>\n",
      "<re.Match object; span=(283, 284), match='5'>\n",
      "<re.Match object; span=(284, 285), match='5'>\n",
      "<re.Match object; span=(285, 286), match='5'>\n",
      "<re.Match object; span=(286, 287), match='*'>\n",
      "<re.Match object; span=(287, 288), match='1'>\n",
      "<re.Match object; span=(288, 289), match='2'>\n",
      "<re.Match object; span=(289, 290), match='3'>\n",
      "<re.Match object; span=(290, 291), match='4'>\n",
      "<re.Match object; span=(291, 292), match='\\n'>\n",
      "<re.Match object; span=(292, 293), match='8'>\n",
      "<re.Match object; span=(293, 294), match='0'>\n",
      "<re.Match object; span=(294, 295), match='0'>\n",
      "<re.Match object; span=(295, 296), match='-'>\n",
      "<re.Match object; span=(296, 297), match='5'>\n",
      "<re.Match object; span=(297, 298), match='5'>\n",
      "<re.Match object; span=(298, 299), match='5'>\n",
      "<re.Match object; span=(299, 300), match='-'>\n",
      "<re.Match object; span=(300, 301), match='1'>\n",
      "<re.Match object; span=(301, 302), match='2'>\n",
      "<re.Match object; span=(302, 303), match='3'>\n",
      "<re.Match object; span=(303, 304), match='4'>\n",
      "<re.Match object; span=(304, 305), match='\\n'>\n",
      "<re.Match object; span=(305, 306), match='9'>\n",
      "<re.Match object; span=(306, 307), match='0'>\n",
      "<re.Match object; span=(307, 308), match='0'>\n",
      "<re.Match object; span=(308, 309), match='-'>\n",
      "<re.Match object; span=(309, 310), match='5'>\n",
      "<re.Match object; span=(310, 311), match='5'>\n",
      "<re.Match object; span=(311, 312), match='5'>\n",
      "<re.Match object; span=(312, 313), match='-'>\n",
      "<re.Match object; span=(313, 314), match='1'>\n",
      "<re.Match object; span=(314, 315), match='2'>\n",
      "<re.Match object; span=(315, 316), match='3'>\n",
      "<re.Match object; span=(316, 317), match='4'>\n",
      "<re.Match object; span=(317, 318), match='\\n'>\n",
      "<re.Match object; span=(318, 319), match='1'>\n",
      "<re.Match object; span=(319, 320), match='0'>\n",
      "<re.Match object; span=(320, 321), match='0'>\n",
      "<re.Match object; span=(322, 323), match='1'>\n",
      "<re.Match object; span=(323, 324), match='2'>\n",
      "<re.Match object; span=(324, 325), match='1'>\n",
      "<re.Match object; span=(326, 327), match='4'>\n",
      "<re.Match object; span=(327, 328), match='5'>\n",
      "<re.Match object; span=(328, 329), match='4'>\n",
      "<re.Match object; span=(329, 330), match='3'>\n",
      "<re.Match object; span=(330, 331), match='\\n'>\n",
      "<re.Match object; span=(333, 334), match='.'>\n",
      "<re.Match object; span=(334, 335), match=' '>\n",
      "<re.Match object; span=(342, 343), match='\\n'>\n",
      "<re.Match object; span=(345, 346), match=' '>\n",
      "<re.Match object; span=(351, 352), match='\\n'>\n",
      "<re.Match object; span=(354, 355), match=' '>\n",
      "<re.Match object; span=(360, 361), match='\\n'>\n",
      "<re.Match object; span=(364, 365), match='.'>\n",
      "<re.Match object; span=(365, 366), match=' '>\n",
      "<re.Match object; span=(374, 375), match='\\n'>\n",
      "<re.Match object; span=(377, 378), match='.'>\n",
      "<re.Match object; span=(378, 379), match=' '>\n",
      "<re.Match object; span=(380, 381), match='\\n'>\n"
     ]
    }
   ],
   "source": [
    "#character set \n",
    "pattern = re.compile(r\"[^a-zA-Z]\") # not a in a character set\n",
    "matches = pattern.finditer(text_to_search)\n",
    "for match in matches:\n",
    "    print(match)"
   ]
  },
  {
   "cell_type": "code",
   "execution_count": 40,
   "metadata": {
    "ExecuteTime": {
     "end_time": "2022-08-30T18:08:38.772548Z",
     "start_time": "2022-08-30T18:08:38.769549Z"
    }
   },
   "outputs": [
    {
     "name": "stdout",
     "output_type": "stream",
     "text": [
      "<re.Match object; span=(148, 151), match='mat'>\n",
      "<re.Match object; span=(153, 156), match='hat'>\n",
      "<re.Match object; span=(157, 160), match='bat'>\n",
      "<re.Match object; span=(161, 164), match='fat'>\n",
      "<re.Match object; span=(165, 168), match='sat'>\n"
     ]
    }
   ],
   "source": [
    "#character set \n",
    "pattern = re.compile(r\"[^c]at\")\n",
    "matches = pattern.finditer(text_to_search)\n",
    "for match in matches:\n",
    "    print(match)\n"
   ]
  },
  {
   "cell_type": "code",
   "execution_count": 41,
   "metadata": {
    "ExecuteTime": {
     "end_time": "2022-08-30T18:11:57.732550Z",
     "start_time": "2022-08-30T18:11:57.729548Z"
    },
    "scrolled": true
   },
   "outputs": [
    {
     "name": "stdout",
     "output_type": "stream",
     "text": [
      "<re.Match object; span=(253, 265), match='321-555-4321'>\n",
      "<re.Match object; span=(292, 304), match='800-555-1234'>\n",
      "<re.Match object; span=(305, 317), match='900-555-1234'>\n"
     ]
    }
   ],
   "source": [
    "#character set ( Quantifier )\n",
    "pattern = re.compile(r\"\\d{3}-\\d{3}-\\d{4}\")\n",
    "matches = pattern.finditer(text_to_search)\n",
    "for match in matches:\n",
    "    print(match)"
   ]
  },
  {
   "cell_type": "code",
   "execution_count": 42,
   "metadata": {
    "ExecuteTime": {
     "end_time": "2022-08-30T18:12:27.191550Z",
     "start_time": "2022-08-30T18:12:27.188551Z"
    }
   },
   "outputs": [
    {
     "name": "stdout",
     "output_type": "stream",
     "text": [
      "<re.Match object; span=(253, 265), match='321-555-4321'>\n",
      "<re.Match object; span=(279, 291), match='123*555*1234'>\n",
      "<re.Match object; span=(292, 304), match='800-555-1234'>\n",
      "<re.Match object; span=(305, 317), match='900-555-1234'>\n"
     ]
    }
   ],
   "source": [
    "#character set ( Quantifier )\n",
    "pattern = re.compile(r\"\\d{3}[-*]\\d{3}[*-]\\d{4}\")\n",
    "matches = pattern.finditer(text_to_search)\n",
    "for match in matches:\n",
    "    print(match)"
   ]
  },
  {
   "cell_type": "code",
   "execution_count": 45,
   "metadata": {
    "ExecuteTime": {
     "end_time": "2022-08-30T18:13:21.092548Z",
     "start_time": "2022-08-30T18:13:21.089549Z"
    }
   },
   "outputs": [
    {
     "name": "stdout",
     "output_type": "stream",
     "text": [
      "<re.Match object; span=(331, 334), match='Mr.'>\n",
      "<re.Match object; span=(343, 346), match='Mr '>\n",
      "<re.Match object; span=(361, 364), match='Mrs'>\n",
      "<re.Match object; span=(375, 378), match='Mr.'>\n"
     ]
    }
   ],
   "source": [
    "#character set ( Quantifier )\n",
    "pattern = re.compile(\"Mr.\")\n",
    "matches = pattern.finditer(text_to_search)\n",
    "for match in matches:\n",
    "    print(match)"
   ]
  },
  {
   "cell_type": "code",
   "execution_count": 46,
   "metadata": {
    "ExecuteTime": {
     "end_time": "2022-08-30T18:13:45.268548Z",
     "start_time": "2022-08-30T18:13:45.266548Z"
    }
   },
   "outputs": [
    {
     "name": "stdout",
     "output_type": "stream",
     "text": [
      "<re.Match object; span=(331, 334), match='Mr.'>\n",
      "<re.Match object; span=(375, 378), match='Mr.'>\n"
     ]
    }
   ],
   "source": [
    "#character set ( Quantifier )\n",
    "pattern = re.compile(r\"Mr\\.\")\n",
    "matches = pattern.finditer(text_to_search)\n",
    "for match in matches:\n",
    "    print(match)"
   ]
  },
  {
   "cell_type": "code",
   "execution_count": 48,
   "metadata": {
    "ExecuteTime": {
     "end_time": "2022-08-30T18:14:34.792548Z",
     "start_time": "2022-08-30T18:14:34.788548Z"
    }
   },
   "outputs": [
    {
     "name": "stdout",
     "output_type": "stream",
     "text": [
      "<re.Match object; span=(331, 334), match='Mr.'>\n",
      "<re.Match object; span=(343, 345), match='Mr'>\n",
      "<re.Match object; span=(361, 363), match='Mr'>\n",
      "<re.Match object; span=(375, 378), match='Mr.'>\n"
     ]
    }
   ],
   "source": [
    "#character set ( Quantifier )\n",
    "pattern = re.compile(r\"Mr\\.?\")  # one or zero \n",
    "matches = pattern.finditer(text_to_search)\n",
    "for match in matches:\n",
    "    print(match)"
   ]
  },
  {
   "cell_type": "code",
   "execution_count": null,
   "metadata": {},
   "outputs": [],
   "source": [
    "Eng. Ahmed Hafez\n",
    "Eng Ahmed Hafez "
   ]
  },
  {
   "cell_type": "code",
   "execution_count": 49,
   "metadata": {
    "ExecuteTime": {
     "end_time": "2022-08-30T18:19:21.252637Z",
     "start_time": "2022-08-30T18:19:21.249636Z"
    }
   },
   "outputs": [
    {
     "name": "stdout",
     "output_type": "stream",
     "text": [
      "<re.Match object; span=(331, 339), match='Mr. Scha'>\n",
      "<re.Match object; span=(343, 350), match='Mr Smit'>\n"
     ]
    }
   ],
   "source": [
    "#character set ( Quantifier )\n",
    "pattern = re.compile(r\"Mr\\.?\\s[A-Z]?\\w{3}\")\n",
    "matches = pattern.finditer(text_to_search)\n",
    "for match in matches:\n",
    "    print(match)\n",
    "# Mr[.]\" \"[A-Z]? (upper or lower or digits or underscore) (+ means : at least one )"
   ]
  },
  {
   "cell_type": "code",
   "execution_count": 52,
   "metadata": {
    "ExecuteTime": {
     "end_time": "2022-08-30T18:21:40.313638Z",
     "start_time": "2022-08-30T18:21:40.310636Z"
    },
    "scrolled": true
   },
   "outputs": [
    {
     "name": "stdout",
     "output_type": "stream",
     "text": [
      "<re.Match object; span=(331, 342), match='Mr. Schafer'>\n",
      "<re.Match object; span=(343, 351), match='Mr Smith'>\n",
      "<re.Match object; span=(375, 380), match='Mr. T'>\n"
     ]
    }
   ],
   "source": [
    "#character set ( Quantifier )\n",
    "pattern = re.compile(r\"Mr\\.?\\s[A-Z]?\\w+\")\n",
    "matches = pattern.finditer(text_to_search)\n",
    "for match in matches:\n",
    "    print(match)\n",
    "# Mr[.]\" \"[A-Z]? (upper or lower or digits or underscore) (+ means : at least one (one or more) )"
   ]
  },
  {
   "cell_type": "code",
   "execution_count": 32,
   "metadata": {
    "ExecuteTime": {
     "end_time": "2022-08-28T19:12:01.475768Z",
     "start_time": "2022-08-28T19:12:01.471770Z"
    }
   },
   "outputs": [
    {
     "name": "stdout",
     "output_type": "stream",
     "text": [
      "<re.Match object; span=(331, 342), match='Mr. Schafer'>\n",
      "<re.Match object; span=(343, 351), match='Mr Smith'>\n",
      "<re.Match object; span=(352, 360), match='Ms Davis'>\n",
      "<re.Match object; span=(361, 374), match='Mrs. Robinson'>\n",
      "<re.Match object; span=(375, 380), match='Mr. T'>\n"
     ]
    }
   ],
   "source": [
    "#character set ( Quantifier )\n",
    "pattern = re.compile(r\"M(r|s|rs)\\.?\\s[A-Z]?\\w+\")\n",
    "matches = pattern.finditer(text_to_search)\n",
    "for match in matches:\n",
    "    print(match)\n"
   ]
  },
  {
   "cell_type": "code",
   "execution_count": 56,
   "metadata": {
    "ExecuteTime": {
     "end_time": "2022-08-30T18:26:29.077637Z",
     "start_time": "2022-08-30T18:26:29.073638Z"
    }
   },
   "outputs": [
    {
     "name": "stdout",
     "output_type": "stream",
     "text": [
      "<re.Match object; span=(0, 19), match='Ahmed Essam Mohamed'>\n",
      "<re.Match object; span=(21, 38), match='Ahmed Ali Ebrahim'>\n"
     ]
    }
   ],
   "source": [
    "s = \"Ahmed Essam Mohamed, Ahmed Ali Ebrahim, Samy Ashraf \"\n",
    "pattern = re.compile(r\"\\w+\\s\\w+\\s\\w+\")\n",
    "matches = pattern.finditer(s)\n",
    "for match in matches:\n",
    "    print(match)"
   ]
  },
  {
   "cell_type": "code",
   "execution_count": 57,
   "metadata": {
    "ExecuteTime": {
     "end_time": "2022-08-30T18:27:51.911639Z",
     "start_time": "2022-08-30T18:27:51.907637Z"
    }
   },
   "outputs": [
    {
     "name": "stdout",
     "output_type": "stream",
     "text": [
      "<re.Match object; span=(1, 24), match='CoreyMSchafer@gmail.com'>\n"
     ]
    }
   ],
   "source": [
    "emails = '''\n",
    "CoreyMSchafer@gmail.com\n",
    "corey.schafer@university.edu\n",
    "corey-321-schafer@my-work.net\n",
    "'''\n",
    "\n",
    "pattern = re.compile(r'[a-zA-Z]+@[a-zA-Z]+\\.com')\n",
    "\n",
    "matches = pattern.finditer(emails)\n",
    "\n",
    "for match in matches:\n",
    "    print(match)"
   ]
  },
  {
   "cell_type": "code",
   "execution_count": 58,
   "metadata": {
    "ExecuteTime": {
     "end_time": "2022-08-30T18:28:58.930636Z",
     "start_time": "2022-08-30T18:28:58.927637Z"
    }
   },
   "outputs": [
    {
     "name": "stdout",
     "output_type": "stream",
     "text": [
      "<re.Match object; span=(1, 24), match='CoreyMSchafer@gmail.com'>\n",
      "<re.Match object; span=(25, 53), match='corey.schafer@university.edu'>\n",
      "<re.Match object; span=(63, 83), match='-schafer@my-work.net'>\n"
     ]
    }
   ],
   "source": [
    "emails = '''\n",
    "CoreyMSchafer@gmail.com\n",
    "corey.schafer@university.edu\n",
    "corey-321-schafer@my-work.net\n",
    "'''\n",
    "\n",
    "pattern = re.compile(r'[a-zA-Z.-]+@[a-zA-Z-]+\\.(com|edu|net)')\n",
    "\n",
    "matches = pattern.finditer(emails)\n",
    "\n",
    "for match in matches:\n",
    "    print(match)"
   ]
  },
  {
   "cell_type": "code",
   "execution_count": 59,
   "metadata": {
    "ExecuteTime": {
     "end_time": "2022-08-30T18:30:28.126636Z",
     "start_time": "2022-08-30T18:30:28.123637Z"
    }
   },
   "outputs": [
    {
     "name": "stdout",
     "output_type": "stream",
     "text": [
      "<re.Match object; span=(1, 24), match='CoreyMSchafer@gmail.com'>\n",
      "<re.Match object; span=(25, 53), match='corey.schafer@university.edu'>\n",
      "<re.Match object; span=(54, 83), match='corey-321-schafer@my-work.net'>\n",
      "<re.Match object; span=(84, 99), match='ahmed@gmail.myw'>\n"
     ]
    }
   ],
   "source": [
    "emails = '''\n",
    "CoreyMSchafer@gmail.com\n",
    "corey.schafer@university.edu\n",
    "corey-321-schafer@my-work.net\n",
    "ahmed@gmail.mywork\n",
    "'''\n",
    "\n",
    "pattern = re.compile(r'[a-zA-Z0-9-.]+@[a-zA-Z-]+\\.\\w{3}')\n",
    "\n",
    "matches = pattern.finditer(emails)\n",
    "\n",
    "for match in matches:\n",
    "    print(match)"
   ]
  },
  {
   "cell_type": "code",
   "execution_count": null,
   "metadata": {},
   "outputs": [],
   "source": []
  },
  {
   "cell_type": "code",
   "execution_count": null,
   "metadata": {},
   "outputs": [],
   "source": []
  },
  {
   "cell_type": "code",
   "execution_count": null,
   "metadata": {},
   "outputs": [],
   "source": []
  },
  {
   "cell_type": "code",
   "execution_count": 60,
   "metadata": {
    "ExecuteTime": {
     "end_time": "2022-08-30T18:31:53.886637Z",
     "start_time": "2022-08-30T18:31:53.882638Z"
    }
   },
   "outputs": [
    {
     "name": "stdout",
     "output_type": "stream",
     "text": [
      "<re.Match object; span=(1, 24), match='CoreyMSchafer@gmail.com'>\n",
      "<re.Match object; span=(25, 53), match='corey.schafer@university.edu'>\n",
      "<re.Match object; span=(54, 83), match='corey-321-schafer@my-work.net'>\n"
     ]
    }
   ],
   "source": [
    "emails = '''\n",
    "CoreyMSchafer@gmail.com\n",
    "corey.schafer@university.edu\n",
    "corey-321-schafer@my-work.net\n",
    "'''\n",
    "\n",
    "pattern = re.compile(r'[a-zA-Z0-9_.+-]+@[a-zA-Z0-9-]+\\.[a-zA-Z0-9-.]+')\n",
    "matches = pattern.finditer(emails)\n",
    "\n",
    "for match in matches:\n",
    "    print(match)"
   ]
  },
  {
   "cell_type": "code",
   "execution_count": 48,
   "metadata": {
    "ExecuteTime": {
     "end_time": "2022-05-09T20:46:32.743615Z",
     "start_time": "2022-05-09T20:46:32.729617Z"
    }
   },
   "outputs": [
    {
     "name": "stdout",
     "output_type": "stream",
     "text": [
      "3\n"
     ]
    }
   ],
   "source": [
    "emails = '''\n",
    "CoreyMSchafer@gmaail.co)m\n",
    "corey.schafer@university.ed)u\n",
    "corey-321-schafer@my-work.ne)t\n",
    "'''\n",
    "\n",
    "pattern = re.compile(r'[a-zA-Z0-9_.+-]+@[a-zA-Z0-9-]+\\.[a-zA-Z0-9-.]{2,}')\n",
    "matches = pattern.finditer(emails)\n",
    "\n",
    "length  = sum(1 for  i in matches)\n",
    "print(length)\n",
    "if (length < 1):\n",
    "    print(\"sorry, invalid email :(\")"
   ]
  },
  {
   "cell_type": "code",
   "execution_count": 60,
   "metadata": {
    "ExecuteTime": {
     "end_time": "2021-12-11T18:13:57.151046Z",
     "start_time": "2021-12-11T18:13:57.141046Z"
    }
   },
   "outputs": [
    {
     "name": "stdout",
     "output_type": "stream",
     "text": [
      "<re.Match object; span=(0, 3), match='123'>\n"
     ]
    }
   ],
   "source": [
    "sentence = '1234'\n",
    "pattern = re.compile(r'\\d\\d\\d')\n",
    "\n",
    "matches = pattern.finditer(sentence)\n",
    "\n",
    "for match in matches:\n",
    "    print(match)"
   ]
  },
  {
   "cell_type": "code",
   "execution_count": null,
   "metadata": {},
   "outputs": [],
   "source": []
  },
  {
   "cell_type": "code",
   "execution_count": null,
   "metadata": {},
   "outputs": [],
   "source": []
  },
  {
   "cell_type": "code",
   "execution_count": null,
   "metadata": {},
   "outputs": [],
   "source": []
  },
  {
   "cell_type": "code",
   "execution_count": 160,
   "metadata": {
    "ExecuteTime": {
     "end_time": "2021-04-14T22:05:34.485291Z",
     "start_time": "2021-04-14T22:05:34.469258Z"
    }
   },
   "outputs": [
    {
     "data": {
      "text/plain": [
       "str"
      ]
     },
     "execution_count": 160,
     "metadata": {},
     "output_type": "execute_result"
    }
   ],
   "source": [
    "type(text_to_search)"
   ]
  },
  {
   "cell_type": "code",
   "execution_count": 239,
   "metadata": {
    "ExecuteTime": {
     "end_time": "2021-04-14T22:48:43.759259Z",
     "start_time": "2021-04-14T22:48:43.740260Z"
    }
   },
   "outputs": [
    {
     "data": {
      "text/plain": [
       "'Ahmed'"
      ]
     },
     "execution_count": 239,
     "metadata": {},
     "output_type": "execute_result"
    }
   ],
   "source": [
    "\"Ahmed\""
   ]
  },
  {
   "cell_type": "code",
   "execution_count": 240,
   "metadata": {
    "ExecuteTime": {
     "end_time": "2021-04-14T22:48:48.232766Z",
     "start_time": "2021-04-14T22:48:48.228764Z"
    }
   },
   "outputs": [
    {
     "data": {
      "text/plain": [
       "'Ahmed'"
      ]
     },
     "execution_count": 240,
     "metadata": {},
     "output_type": "execute_result"
    }
   ],
   "source": [
    "'Ahmed'"
   ]
  },
  {
   "cell_type": "code",
   "execution_count": 241,
   "metadata": {
    "ExecuteTime": {
     "end_time": "2021-04-14T22:48:51.450186Z",
     "start_time": "2021-04-14T22:48:51.444186Z"
    }
   },
   "outputs": [
    {
     "data": {
      "text/plain": [
       "'Ahmed'"
      ]
     },
     "execution_count": 241,
     "metadata": {},
     "output_type": "execute_result"
    }
   ],
   "source": [
    "'''Ahmed'''"
   ]
  },
  {
   "cell_type": "code",
   "execution_count": 242,
   "metadata": {
    "ExecuteTime": {
     "end_time": "2021-04-14T22:49:04.315039Z",
     "start_time": "2021-04-14T22:49:04.312040Z"
    }
   },
   "outputs": [],
   "source": [
    "# Ahmed "
   ]
  },
  {
   "cell_type": "markdown",
   "metadata": {
    "ExecuteTime": {
     "end_time": "2021-04-14T22:51:07.010424Z",
     "start_time": "2021-04-14T22:51:07.002426Z"
    }
   },
   "source": []
  },
  {
   "cell_type": "code",
   "execution_count": 11,
   "metadata": {
    "ExecuteTime": {
     "end_time": "2021-04-14T23:37:19.808631Z",
     "start_time": "2021-04-14T23:37:19.795634Z"
    }
   },
   "outputs": [],
   "source": [
    "from Instant import NewPrint"
   ]
  },
  {
   "cell_type": "code",
   "execution_count": 10,
   "metadata": {
    "ExecuteTime": {
     "end_time": "2021-04-14T23:37:04.561225Z",
     "start_time": "2021-04-14T23:37:04.554226Z"
    }
   },
   "outputs": [
    {
     "name": "stdout",
     "output_type": "stream",
     "text": [
      "x = :  4\n"
     ]
    }
   ],
   "source": [
    "st.NewPrint(4)"
   ]
  },
  {
   "cell_type": "code",
   "execution_count": 70,
   "metadata": {
    "ExecuteTime": {
     "end_time": "2021-04-15T12:57:36.985793Z",
     "start_time": "2021-04-15T12:57:36.975794Z"
    }
   },
   "outputs": [],
   "source": [
    "\n",
    "    "
   ]
  },
  {
   "cell_type": "code",
   "execution_count": 71,
   "metadata": {
    "ExecuteTime": {
     "end_time": "2021-04-15T12:57:40.572055Z",
     "start_time": "2021-04-15T12:57:38.470691Z"
    }
   },
   "outputs": [
    {
     "name": "stdout",
     "output_type": "stream",
     "text": [
      "please enter your name: ahmed\n",
      "please enter your age: 23\n"
     ]
    }
   ],
   "source": []
  },
  {
   "cell_type": "code",
   "execution_count": 72,
   "metadata": {
    "ExecuteTime": {
     "end_time": "2021-04-15T12:58:04.008567Z",
     "start_time": "2021-04-15T12:57:42.219512Z"
    }
   },
   "outputs": [
    {
     "name": "stdout",
     "output_type": "stream",
     "text": [
      "please enter your name: ali\n"
     ]
    }
   ],
   "source": []
  },
  {
   "cell_type": "code",
   "execution_count": 20,
   "metadata": {
    "ExecuteTime": {
     "end_time": "2021-04-15T12:27:18.722860Z",
     "start_time": "2021-04-15T12:27:18.705860Z"
    }
   },
   "outputs": [
    {
     "data": {
      "text/plain": [
       "23"
      ]
     },
     "execution_count": 20,
     "metadata": {},
     "output_type": "execute_result"
    }
   ],
   "source": []
  },
  {
   "cell_type": "code",
   "execution_count": 26,
   "metadata": {
    "ExecuteTime": {
     "end_time": "2021-04-15T12:30:34.204467Z",
     "start_time": "2021-04-15T12:30:34.191467Z"
    }
   },
   "outputs": [
    {
     "name": "stdout",
     "output_type": "stream",
     "text": [
      "welcome  Ali\n"
     ]
    }
   ],
   "source": [
    "Ali = Human(\"Ali\")"
   ]
  },
  {
   "cell_type": "code",
   "execution_count": 168,
   "metadata": {
    "ExecuteTime": {
     "end_time": "2021-04-15T13:46:48.058137Z",
     "start_time": "2021-04-15T13:46:48.044138Z"
    }
   },
   "outputs": [],
   "source": [
    "class Human:\n",
    "    \n",
    "    def __init__(self):\n",
    "        self.__name = \"Ahmed\"\n",
    "    \n",
    "    def getname(self):\n",
    "        print (self.__name)\n",
    "    \n",
    "    def setname (self, newname ):\n",
    "        self.__name = newname"
   ]
  },
  {
   "cell_type": "code",
   "execution_count": 169,
   "metadata": {
    "ExecuteTime": {
     "end_time": "2021-04-15T13:47:10.157070Z",
     "start_time": "2021-04-15T13:47:10.139070Z"
    }
   },
   "outputs": [],
   "source": [
    "class Employee(Human):\n",
    "    def __init__(self):\n",
    "        Human.__init__(self)\n",
    "    \n",
    "    \n",
    "    def welcome(self):\n",
    "        print (\"Welcome emp \")\n",
    "    "
   ]
  },
  {
   "cell_type": "code",
   "execution_count": 170,
   "metadata": {
    "ExecuteTime": {
     "end_time": "2021-04-15T13:47:12.397882Z",
     "start_time": "2021-04-15T13:47:12.384854Z"
    }
   },
   "outputs": [],
   "source": [
    "e1 = Employee()\n"
   ]
  },
  {
   "cell_type": "code",
   "execution_count": 171,
   "metadata": {
    "ExecuteTime": {
     "end_time": "2021-04-15T13:47:16.794296Z",
     "start_time": "2021-04-15T13:47:16.777299Z"
    },
    "scrolled": true
   },
   "outputs": [
    {
     "data": {
      "text/plain": [
       "'Ahmed'"
      ]
     },
     "execution_count": 171,
     "metadata": {},
     "output_type": "execute_result"
    }
   ],
   "source": [
    "e1.name"
   ]
  },
  {
   "cell_type": "markdown",
   "metadata": {},
   "source": [
    "minimum requirments for AI Device: \n",
    "1. Graphics Card : Navidia\n",
    "2. RAM: 16GB\n",
    "3. processor :  >= 9th gen ( intel ) \n",
    "4. Nividia : RTX2060 ( 6GB ) or bigger "
   ]
  },
  {
   "cell_type": "markdown",
   "metadata": {},
   "source": [
    "Todays Tasks: \n",
    "\n",
    "1. make sure that we created : linkedin , colab , kaggle, github , twitter account \n",
    "2. send CV , if not create then send it\n",
    "\n",
    "sesstion related : \n",
    "1. answer notebook , upload it to github "
   ]
  },
  {
   "cell_type": "markdown",
   "metadata": {},
   "source": [
    "**web scrapping**"
   ]
  },
  {
   "cell_type": "code",
   "execution_count": null,
   "metadata": {},
   "outputs": [],
   "source": [
    "text file \n",
    "\n",
    "Ahmed 0102345678 ahmed@gmail.com\n",
    "\n",
    "\n",
    "\n",
    "read file \n",
    "3 list \n",
    "list names \n",
    "list numbers \n",
    "list mails "
   ]
  }
 ],
 "metadata": {
  "kernelspec": {
   "display_name": "Python 3",
   "language": "python",
   "name": "python3"
  },
  "language_info": {
   "codemirror_mode": {
    "name": "ipython",
    "version": 3
   },
   "file_extension": ".py",
   "mimetype": "text/x-python",
   "name": "python",
   "nbconvert_exporter": "python",
   "pygments_lexer": "ipython3",
   "version": "3.8.8"
  },
  "toc": {
   "base_numbering": 1,
   "nav_menu": {},
   "number_sections": false,
   "sideBar": true,
   "skip_h1_title": false,
   "title_cell": "Table of Contents",
   "title_sidebar": "Contents",
   "toc_cell": false,
   "toc_position": {},
   "toc_section_display": true,
   "toc_window_display": false
  },
  "varInspector": {
   "cols": {
    "lenName": 16,
    "lenType": 16,
    "lenVar": 40
   },
   "kernels_config": {
    "python": {
     "delete_cmd_postfix": "",
     "delete_cmd_prefix": "del ",
     "library": "var_list.py",
     "varRefreshCmd": "print(var_dic_list())"
    },
    "r": {
     "delete_cmd_postfix": ") ",
     "delete_cmd_prefix": "rm(",
     "library": "var_list.r",
     "varRefreshCmd": "cat(var_dic_list()) "
    }
   },
   "types_to_exclude": [
    "module",
    "function",
    "builtin_function_or_method",
    "instance",
    "_Feature"
   ],
   "window_display": false
  }
 },
 "nbformat": 4,
 "nbformat_minor": 4
}
